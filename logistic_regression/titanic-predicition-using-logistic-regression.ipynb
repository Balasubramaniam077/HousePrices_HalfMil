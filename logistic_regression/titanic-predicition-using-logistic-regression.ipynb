{
 "cells": [
  {
   "cell_type": "code",
   "execution_count": 1,
   "id": "promotional-arena",
   "metadata": {
    "_cell_guid": "b1076dfc-b9ad-4769-8c92-a6c4dae69d19",
    "_uuid": "8f2839f25d086af736a60e9eeb907d3b93b6e0e5",
    "execution": {
     "iopub.execute_input": "2021-06-12T14:51:21.893473Z",
     "iopub.status.busy": "2021-06-12T14:51:21.892613Z",
     "iopub.status.idle": "2021-06-12T14:51:21.899335Z",
     "shell.execute_reply": "2021-06-12T14:51:21.898561Z",
     "shell.execute_reply.started": "2021-06-12T13:34:30.606700Z"
    },
    "papermill": {
     "duration": 0.07856,
     "end_time": "2021-06-12T14:51:21.899504",
     "exception": false,
     "start_time": "2021-06-12T14:51:21.820944",
     "status": "completed"
    },
    "tags": []
   },
   "outputs": [
    {
     "name": "stdout",
     "output_type": "stream",
     "text": [
      "/kaggle/input/titanic/train.csv\n",
      "/kaggle/input/titanic/test.csv\n",
      "/kaggle/input/titanic/gender_submission.csv\n"
     ]
    }
   ],
   "source": [
    "# This Python 3 environment comes with many helpful analytics libraries installed\n",
    "# It is defined by the kaggle/python Docker image: https://github.com/kaggle/docker-python\n",
    "# For example, here's several helpful packages to load\n",
    "\n",
    "import numpy as np # linear algebra\n",
    "import pandas as pd # data processing, CSV file I/O (e.g. pd.read_csv)\n",
    "\n",
    "# Input data files are available in the read-only \"../input/\" directory\n",
    "# For example, running this (by clicking run or pressing Shift+Enter) will list all files under the input directory\n",
    "\n",
    "import os\n",
    "for dirname, _, filenames in os.walk('/kaggle/input'):\n",
    "    for filename in filenames:\n",
    "        print(os.path.join(dirname, filename))\n",
    "\n",
    "# You can write up to 20GB to the current directory (/kaggle/working/) that gets preserved as output when you create a version using \"Save & Run All\" \n",
    "# You can also write temporary files to /kaggle/temp/, but they won't be saved outside of the current session"
   ]
  },
  {
   "cell_type": "markdown",
   "id": "harmful-character",
   "metadata": {
    "papermill": {
     "duration": 0.063244,
     "end_time": "2021-06-12T14:51:22.019691",
     "exception": false,
     "start_time": "2021-06-12T14:51:21.956447",
     "status": "completed"
    },
    "tags": []
   },
   "source": [
    "**DATA CLEANING IN TRAIN DATA(CSV FILE)**"
   ]
  },
  {
   "cell_type": "code",
   "execution_count": 2,
   "id": "complicated-applicant",
   "metadata": {
    "execution": {
     "iopub.execute_input": "2021-06-12T14:51:22.161093Z",
     "iopub.status.busy": "2021-06-12T14:51:22.158543Z",
     "iopub.status.idle": "2021-06-12T14:51:22.223135Z",
     "shell.execute_reply": "2021-06-12T14:51:22.223693Z",
     "shell.execute_reply.started": "2021-06-12T13:38:15.613962Z"
    },
    "papermill": {
     "duration": 0.126242,
     "end_time": "2021-06-12T14:51:22.223877",
     "exception": false,
     "start_time": "2021-06-12T14:51:22.097635",
     "status": "completed"
    },
    "tags": []
   },
   "outputs": [
    {
     "data": {
      "text/html": [
       "<div>\n",
       "<style scoped>\n",
       "    .dataframe tbody tr th:only-of-type {\n",
       "        vertical-align: middle;\n",
       "    }\n",
       "\n",
       "    .dataframe tbody tr th {\n",
       "        vertical-align: top;\n",
       "    }\n",
       "\n",
       "    .dataframe thead th {\n",
       "        text-align: right;\n",
       "    }\n",
       "</style>\n",
       "<table border=\"1\" class=\"dataframe\">\n",
       "  <thead>\n",
       "    <tr style=\"text-align: right;\">\n",
       "      <th></th>\n",
       "      <th>PassengerId</th>\n",
       "      <th>Survived</th>\n",
       "      <th>Pclass</th>\n",
       "      <th>Name</th>\n",
       "      <th>Sex</th>\n",
       "      <th>Age</th>\n",
       "      <th>SibSp</th>\n",
       "      <th>Parch</th>\n",
       "      <th>Ticket</th>\n",
       "      <th>Fare</th>\n",
       "      <th>Cabin</th>\n",
       "      <th>Embarked</th>\n",
       "    </tr>\n",
       "  </thead>\n",
       "  <tbody>\n",
       "    <tr>\n",
       "      <th>0</th>\n",
       "      <td>1</td>\n",
       "      <td>0</td>\n",
       "      <td>3</td>\n",
       "      <td>Braund, Mr. Owen Harris</td>\n",
       "      <td>male</td>\n",
       "      <td>22.0</td>\n",
       "      <td>1</td>\n",
       "      <td>0</td>\n",
       "      <td>A/5 21171</td>\n",
       "      <td>7.2500</td>\n",
       "      <td>NaN</td>\n",
       "      <td>S</td>\n",
       "    </tr>\n",
       "    <tr>\n",
       "      <th>1</th>\n",
       "      <td>2</td>\n",
       "      <td>1</td>\n",
       "      <td>1</td>\n",
       "      <td>Cumings, Mrs. John Bradley (Florence Briggs Th...</td>\n",
       "      <td>female</td>\n",
       "      <td>38.0</td>\n",
       "      <td>1</td>\n",
       "      <td>0</td>\n",
       "      <td>PC 17599</td>\n",
       "      <td>71.2833</td>\n",
       "      <td>C85</td>\n",
       "      <td>C</td>\n",
       "    </tr>\n",
       "    <tr>\n",
       "      <th>2</th>\n",
       "      <td>3</td>\n",
       "      <td>1</td>\n",
       "      <td>3</td>\n",
       "      <td>Heikkinen, Miss. Laina</td>\n",
       "      <td>female</td>\n",
       "      <td>26.0</td>\n",
       "      <td>0</td>\n",
       "      <td>0</td>\n",
       "      <td>STON/O2. 3101282</td>\n",
       "      <td>7.9250</td>\n",
       "      <td>NaN</td>\n",
       "      <td>S</td>\n",
       "    </tr>\n",
       "    <tr>\n",
       "      <th>3</th>\n",
       "      <td>4</td>\n",
       "      <td>1</td>\n",
       "      <td>1</td>\n",
       "      <td>Futrelle, Mrs. Jacques Heath (Lily May Peel)</td>\n",
       "      <td>female</td>\n",
       "      <td>35.0</td>\n",
       "      <td>1</td>\n",
       "      <td>0</td>\n",
       "      <td>113803</td>\n",
       "      <td>53.1000</td>\n",
       "      <td>C123</td>\n",
       "      <td>S</td>\n",
       "    </tr>\n",
       "    <tr>\n",
       "      <th>4</th>\n",
       "      <td>5</td>\n",
       "      <td>0</td>\n",
       "      <td>3</td>\n",
       "      <td>Allen, Mr. William Henry</td>\n",
       "      <td>male</td>\n",
       "      <td>35.0</td>\n",
       "      <td>0</td>\n",
       "      <td>0</td>\n",
       "      <td>373450</td>\n",
       "      <td>8.0500</td>\n",
       "      <td>NaN</td>\n",
       "      <td>S</td>\n",
       "    </tr>\n",
       "    <tr>\n",
       "      <th>5</th>\n",
       "      <td>6</td>\n",
       "      <td>0</td>\n",
       "      <td>3</td>\n",
       "      <td>Moran, Mr. James</td>\n",
       "      <td>male</td>\n",
       "      <td>NaN</td>\n",
       "      <td>0</td>\n",
       "      <td>0</td>\n",
       "      <td>330877</td>\n",
       "      <td>8.4583</td>\n",
       "      <td>NaN</td>\n",
       "      <td>Q</td>\n",
       "    </tr>\n",
       "    <tr>\n",
       "      <th>6</th>\n",
       "      <td>7</td>\n",
       "      <td>0</td>\n",
       "      <td>1</td>\n",
       "      <td>McCarthy, Mr. Timothy J</td>\n",
       "      <td>male</td>\n",
       "      <td>54.0</td>\n",
       "      <td>0</td>\n",
       "      <td>0</td>\n",
       "      <td>17463</td>\n",
       "      <td>51.8625</td>\n",
       "      <td>E46</td>\n",
       "      <td>S</td>\n",
       "    </tr>\n",
       "    <tr>\n",
       "      <th>7</th>\n",
       "      <td>8</td>\n",
       "      <td>0</td>\n",
       "      <td>3</td>\n",
       "      <td>Palsson, Master. Gosta Leonard</td>\n",
       "      <td>male</td>\n",
       "      <td>2.0</td>\n",
       "      <td>3</td>\n",
       "      <td>1</td>\n",
       "      <td>349909</td>\n",
       "      <td>21.0750</td>\n",
       "      <td>NaN</td>\n",
       "      <td>S</td>\n",
       "    </tr>\n",
       "    <tr>\n",
       "      <th>8</th>\n",
       "      <td>9</td>\n",
       "      <td>1</td>\n",
       "      <td>3</td>\n",
       "      <td>Johnson, Mrs. Oscar W (Elisabeth Vilhelmina Berg)</td>\n",
       "      <td>female</td>\n",
       "      <td>27.0</td>\n",
       "      <td>0</td>\n",
       "      <td>2</td>\n",
       "      <td>347742</td>\n",
       "      <td>11.1333</td>\n",
       "      <td>NaN</td>\n",
       "      <td>S</td>\n",
       "    </tr>\n",
       "    <tr>\n",
       "      <th>9</th>\n",
       "      <td>10</td>\n",
       "      <td>1</td>\n",
       "      <td>2</td>\n",
       "      <td>Nasser, Mrs. Nicholas (Adele Achem)</td>\n",
       "      <td>female</td>\n",
       "      <td>14.0</td>\n",
       "      <td>1</td>\n",
       "      <td>0</td>\n",
       "      <td>237736</td>\n",
       "      <td>30.0708</td>\n",
       "      <td>NaN</td>\n",
       "      <td>C</td>\n",
       "    </tr>\n",
       "  </tbody>\n",
       "</table>\n",
       "</div>"
      ],
      "text/plain": [
       "   PassengerId  Survived  Pclass  \\\n",
       "0            1         0       3   \n",
       "1            2         1       1   \n",
       "2            3         1       3   \n",
       "3            4         1       1   \n",
       "4            5         0       3   \n",
       "5            6         0       3   \n",
       "6            7         0       1   \n",
       "7            8         0       3   \n",
       "8            9         1       3   \n",
       "9           10         1       2   \n",
       "\n",
       "                                                Name     Sex   Age  SibSp  \\\n",
       "0                            Braund, Mr. Owen Harris    male  22.0      1   \n",
       "1  Cumings, Mrs. John Bradley (Florence Briggs Th...  female  38.0      1   \n",
       "2                             Heikkinen, Miss. Laina  female  26.0      0   \n",
       "3       Futrelle, Mrs. Jacques Heath (Lily May Peel)  female  35.0      1   \n",
       "4                           Allen, Mr. William Henry    male  35.0      0   \n",
       "5                                   Moran, Mr. James    male   NaN      0   \n",
       "6                            McCarthy, Mr. Timothy J    male  54.0      0   \n",
       "7                     Palsson, Master. Gosta Leonard    male   2.0      3   \n",
       "8  Johnson, Mrs. Oscar W (Elisabeth Vilhelmina Berg)  female  27.0      0   \n",
       "9                Nasser, Mrs. Nicholas (Adele Achem)  female  14.0      1   \n",
       "\n",
       "   Parch            Ticket     Fare Cabin Embarked  \n",
       "0      0         A/5 21171   7.2500   NaN        S  \n",
       "1      0          PC 17599  71.2833   C85        C  \n",
       "2      0  STON/O2. 3101282   7.9250   NaN        S  \n",
       "3      0            113803  53.1000  C123        S  \n",
       "4      0            373450   8.0500   NaN        S  \n",
       "5      0            330877   8.4583   NaN        Q  \n",
       "6      0             17463  51.8625   E46        S  \n",
       "7      1            349909  21.0750   NaN        S  \n",
       "8      2            347742  11.1333   NaN        S  \n",
       "9      0            237736  30.0708   NaN        C  "
      ]
     },
     "execution_count": 2,
     "metadata": {},
     "output_type": "execute_result"
    }
   ],
   "source": [
    "train_data=pd.read_csv(\"../input/titanic/train.csv\") \n",
    "train_data.head(10)"
   ]
  },
  {
   "cell_type": "code",
   "execution_count": 3,
   "id": "premier-knowing",
   "metadata": {
    "execution": {
     "iopub.execute_input": "2021-06-12T14:51:22.343442Z",
     "iopub.status.busy": "2021-06-12T14:51:22.342447Z",
     "iopub.status.idle": "2021-06-12T14:51:22.384857Z",
     "shell.execute_reply": "2021-06-12T14:51:22.385478Z",
     "shell.execute_reply.started": "2021-06-12T13:38:32.570426Z"
    },
    "papermill": {
     "duration": 0.103201,
     "end_time": "2021-06-12T14:51:22.385705",
     "exception": false,
     "start_time": "2021-06-12T14:51:22.282504",
     "status": "completed"
    },
    "tags": []
   },
   "outputs": [
    {
     "data": {
      "text/html": [
       "<div>\n",
       "<style scoped>\n",
       "    .dataframe tbody tr th:only-of-type {\n",
       "        vertical-align: middle;\n",
       "    }\n",
       "\n",
       "    .dataframe tbody tr th {\n",
       "        vertical-align: top;\n",
       "    }\n",
       "\n",
       "    .dataframe thead th {\n",
       "        text-align: right;\n",
       "    }\n",
       "</style>\n",
       "<table border=\"1\" class=\"dataframe\">\n",
       "  <thead>\n",
       "    <tr style=\"text-align: right;\">\n",
       "      <th></th>\n",
       "      <th>PassengerId</th>\n",
       "      <th>Survived</th>\n",
       "      <th>Pclass</th>\n",
       "      <th>Age</th>\n",
       "      <th>SibSp</th>\n",
       "      <th>Parch</th>\n",
       "      <th>Fare</th>\n",
       "    </tr>\n",
       "  </thead>\n",
       "  <tbody>\n",
       "    <tr>\n",
       "      <th>count</th>\n",
       "      <td>891.000000</td>\n",
       "      <td>891.000000</td>\n",
       "      <td>891.000000</td>\n",
       "      <td>714.000000</td>\n",
       "      <td>891.000000</td>\n",
       "      <td>891.000000</td>\n",
       "      <td>891.000000</td>\n",
       "    </tr>\n",
       "    <tr>\n",
       "      <th>mean</th>\n",
       "      <td>446.000000</td>\n",
       "      <td>0.383838</td>\n",
       "      <td>2.308642</td>\n",
       "      <td>29.699118</td>\n",
       "      <td>0.523008</td>\n",
       "      <td>0.381594</td>\n",
       "      <td>32.204208</td>\n",
       "    </tr>\n",
       "    <tr>\n",
       "      <th>std</th>\n",
       "      <td>257.353842</td>\n",
       "      <td>0.486592</td>\n",
       "      <td>0.836071</td>\n",
       "      <td>14.526497</td>\n",
       "      <td>1.102743</td>\n",
       "      <td>0.806057</td>\n",
       "      <td>49.693429</td>\n",
       "    </tr>\n",
       "    <tr>\n",
       "      <th>min</th>\n",
       "      <td>1.000000</td>\n",
       "      <td>0.000000</td>\n",
       "      <td>1.000000</td>\n",
       "      <td>0.420000</td>\n",
       "      <td>0.000000</td>\n",
       "      <td>0.000000</td>\n",
       "      <td>0.000000</td>\n",
       "    </tr>\n",
       "    <tr>\n",
       "      <th>25%</th>\n",
       "      <td>223.500000</td>\n",
       "      <td>0.000000</td>\n",
       "      <td>2.000000</td>\n",
       "      <td>20.125000</td>\n",
       "      <td>0.000000</td>\n",
       "      <td>0.000000</td>\n",
       "      <td>7.910400</td>\n",
       "    </tr>\n",
       "    <tr>\n",
       "      <th>50%</th>\n",
       "      <td>446.000000</td>\n",
       "      <td>0.000000</td>\n",
       "      <td>3.000000</td>\n",
       "      <td>28.000000</td>\n",
       "      <td>0.000000</td>\n",
       "      <td>0.000000</td>\n",
       "      <td>14.454200</td>\n",
       "    </tr>\n",
       "    <tr>\n",
       "      <th>75%</th>\n",
       "      <td>668.500000</td>\n",
       "      <td>1.000000</td>\n",
       "      <td>3.000000</td>\n",
       "      <td>38.000000</td>\n",
       "      <td>1.000000</td>\n",
       "      <td>0.000000</td>\n",
       "      <td>31.000000</td>\n",
       "    </tr>\n",
       "    <tr>\n",
       "      <th>max</th>\n",
       "      <td>891.000000</td>\n",
       "      <td>1.000000</td>\n",
       "      <td>3.000000</td>\n",
       "      <td>80.000000</td>\n",
       "      <td>8.000000</td>\n",
       "      <td>6.000000</td>\n",
       "      <td>512.329200</td>\n",
       "    </tr>\n",
       "  </tbody>\n",
       "</table>\n",
       "</div>"
      ],
      "text/plain": [
       "       PassengerId    Survived      Pclass         Age       SibSp  \\\n",
       "count   891.000000  891.000000  891.000000  714.000000  891.000000   \n",
       "mean    446.000000    0.383838    2.308642   29.699118    0.523008   \n",
       "std     257.353842    0.486592    0.836071   14.526497    1.102743   \n",
       "min       1.000000    0.000000    1.000000    0.420000    0.000000   \n",
       "25%     223.500000    0.000000    2.000000   20.125000    0.000000   \n",
       "50%     446.000000    0.000000    3.000000   28.000000    0.000000   \n",
       "75%     668.500000    1.000000    3.000000   38.000000    1.000000   \n",
       "max     891.000000    1.000000    3.000000   80.000000    8.000000   \n",
       "\n",
       "            Parch        Fare  \n",
       "count  891.000000  891.000000  \n",
       "mean     0.381594   32.204208  \n",
       "std      0.806057   49.693429  \n",
       "min      0.000000    0.000000  \n",
       "25%      0.000000    7.910400  \n",
       "50%      0.000000   14.454200  \n",
       "75%      0.000000   31.000000  \n",
       "max      6.000000  512.329200  "
      ]
     },
     "execution_count": 3,
     "metadata": {},
     "output_type": "execute_result"
    }
   ],
   "source": [
    "train_data.describe()"
   ]
  },
  {
   "cell_type": "code",
   "execution_count": 4,
   "id": "conservative-cloud",
   "metadata": {
    "execution": {
     "iopub.execute_input": "2021-06-12T14:51:22.508804Z",
     "iopub.status.busy": "2021-06-12T14:51:22.507823Z",
     "iopub.status.idle": "2021-06-12T14:51:22.517589Z",
     "shell.execute_reply": "2021-06-12T14:51:22.518447Z",
     "shell.execute_reply.started": "2021-06-12T13:38:56.370990Z"
    },
    "papermill": {
     "duration": 0.07204,
     "end_time": "2021-06-12T14:51:22.518731",
     "exception": false,
     "start_time": "2021-06-12T14:51:22.446691",
     "status": "completed"
    },
    "tags": []
   },
   "outputs": [
    {
     "data": {
      "text/plain": [
       "PassengerId    66231.000000\n",
       "Survived           0.236772\n",
       "Pclass             0.699015\n",
       "Age              211.019125\n",
       "SibSp              1.216043\n",
       "Parch              0.649728\n",
       "Fare            2469.436846\n",
       "dtype: float64"
      ]
     },
     "execution_count": 4,
     "metadata": {},
     "output_type": "execute_result"
    }
   ],
   "source": [
    "train_data.var()"
   ]
  },
  {
   "cell_type": "code",
   "execution_count": 5,
   "id": "rural-trash",
   "metadata": {
    "execution": {
     "iopub.execute_input": "2021-06-12T14:51:22.643316Z",
     "iopub.status.busy": "2021-06-12T14:51:22.642347Z",
     "iopub.status.idle": "2021-06-12T14:51:22.660669Z",
     "shell.execute_reply": "2021-06-12T14:51:22.661512Z",
     "shell.execute_reply.started": "2021-06-12T13:39:16.983920Z"
    },
    "papermill": {
     "duration": 0.079331,
     "end_time": "2021-06-12T14:51:22.661771",
     "exception": false,
     "start_time": "2021-06-12T14:51:22.582440",
     "status": "completed"
    },
    "tags": []
   },
   "outputs": [
    {
     "name": "stdout",
     "output_type": "stream",
     "text": [
      "<class 'pandas.core.frame.DataFrame'>\n",
      "RangeIndex: 891 entries, 0 to 890\n",
      "Data columns (total 12 columns):\n",
      " #   Column       Non-Null Count  Dtype  \n",
      "---  ------       --------------  -----  \n",
      " 0   PassengerId  891 non-null    int64  \n",
      " 1   Survived     891 non-null    int64  \n",
      " 2   Pclass       891 non-null    int64  \n",
      " 3   Name         891 non-null    object \n",
      " 4   Sex          891 non-null    object \n",
      " 5   Age          714 non-null    float64\n",
      " 6   SibSp        891 non-null    int64  \n",
      " 7   Parch        891 non-null    int64  \n",
      " 8   Ticket       891 non-null    object \n",
      " 9   Fare         891 non-null    float64\n",
      " 10  Cabin        204 non-null    object \n",
      " 11  Embarked     889 non-null    object \n",
      "dtypes: float64(2), int64(5), object(5)\n",
      "memory usage: 83.7+ KB\n"
     ]
    }
   ],
   "source": [
    "train_data.info()"
   ]
  },
  {
   "cell_type": "code",
   "execution_count": 6,
   "id": "manual-modeling",
   "metadata": {
    "execution": {
     "iopub.execute_input": "2021-06-12T14:51:22.786942Z",
     "iopub.status.busy": "2021-06-12T14:51:22.786252Z",
     "iopub.status.idle": "2021-06-12T14:51:22.794238Z",
     "shell.execute_reply": "2021-06-12T14:51:22.794763Z",
     "shell.execute_reply.started": "2021-06-12T13:39:35.663271Z"
    },
    "papermill": {
     "duration": 0.069318,
     "end_time": "2021-06-12T14:51:22.794937",
     "exception": false,
     "start_time": "2021-06-12T14:51:22.725619",
     "status": "completed"
    },
    "tags": []
   },
   "outputs": [
    {
     "data": {
      "text/plain": [
       "PassengerId      0\n",
       "Survived         0\n",
       "Pclass           0\n",
       "Name             0\n",
       "Sex              0\n",
       "Age            177\n",
       "SibSp            0\n",
       "Parch            0\n",
       "Ticket           0\n",
       "Fare             0\n",
       "Cabin          687\n",
       "Embarked         2\n",
       "dtype: int64"
      ]
     },
     "execution_count": 6,
     "metadata": {},
     "output_type": "execute_result"
    }
   ],
   "source": [
    "train_data.isna().sum()"
   ]
  },
  {
   "cell_type": "code",
   "execution_count": 7,
   "id": "different-trace",
   "metadata": {
    "execution": {
     "iopub.execute_input": "2021-06-12T14:51:22.915349Z",
     "iopub.status.busy": "2021-06-12T14:51:22.914674Z",
     "iopub.status.idle": "2021-06-12T14:51:23.355120Z",
     "shell.execute_reply": "2021-06-12T14:51:23.354388Z",
     "shell.execute_reply.started": "2021-06-12T13:40:32.483825Z"
    },
    "papermill": {
     "duration": 0.501834,
     "end_time": "2021-06-12T14:51:23.355266",
     "exception": false,
     "start_time": "2021-06-12T14:51:22.853432",
     "status": "completed"
    },
    "tags": []
   },
   "outputs": [
    {
     "data": {
      "text/plain": [
       "<AxesSubplot:ylabel='Frequency'>"
      ]
     },
     "execution_count": 7,
     "metadata": {},
     "output_type": "execute_result"
    },
    {
     "data": {
      "image/png": "[encoded data removed]",
      "text/plain": [
       "<Figure size 432x288 with 1 Axes>"
      ]
     },
     "metadata": {
      "needs_background": "light"
     },
     "output_type": "display_data"
    }
   ],
   "source": [
    "train_data.plot.hist()"
   ]
  },
  {
   "cell_type": "markdown",
   "id": "assisted-animation",
   "metadata": {
    "papermill": {
     "duration": 0.0581,
     "end_time": "2021-06-12T14:51:23.472427",
     "exception": false,
     "start_time": "2021-06-12T14:51:23.414327",
     "status": "completed"
    },
    "tags": []
   },
   "source": [
    "**DATA VISUALIZATION**"
   ]
  },
  {
   "cell_type": "code",
   "execution_count": 8,
   "id": "biological-religious",
   "metadata": {
    "execution": {
     "iopub.execute_input": "2021-06-12T14:51:23.597614Z",
     "iopub.status.busy": "2021-06-12T14:51:23.596797Z",
     "iopub.status.idle": "2021-06-12T14:51:24.572160Z",
     "shell.execute_reply": "2021-06-12T14:51:24.571462Z",
     "shell.execute_reply.started": "2021-06-12T13:44:33.443313Z"
    },
    "papermill": {
     "duration": 1.040225,
     "end_time": "2021-06-12T14:51:24.572328",
     "exception": false,
     "start_time": "2021-06-12T14:51:23.532103",
     "status": "completed"
    },
    "tags": []
   },
   "outputs": [],
   "source": [
    "import seaborn as sns\n",
    "import matplotlib.pyplot as plt\n",
    "import missingno as msno"
   ]
  },
  {
   "cell_type": "code",
   "execution_count": 9,
   "id": "fitted-wiring",
   "metadata": {
    "execution": {
     "iopub.execute_input": "2021-06-12T14:51:24.698734Z",
     "iopub.status.busy": "2021-06-12T14:51:24.697910Z",
     "iopub.status.idle": "2021-06-12T14:51:25.766079Z",
     "shell.execute_reply": "2021-06-12T14:51:25.766569Z",
     "shell.execute_reply.started": "2021-06-12T13:45:03.932873Z"
    },
    "papermill": {
     "duration": 1.134339,
     "end_time": "2021-06-12T14:51:25.766752",
     "exception": false,
     "start_time": "2021-06-12T14:51:24.632413",
     "status": "completed"
    },
    "tags": []
   },
   "outputs": [
    {
     "data": {
      "image/png": "[encoded data removed]",
      "text/plain": [
       "<Figure size 1728x720 with 3 Axes>"
      ]
     },
     "metadata": {
      "needs_background": "light"
     },
     "output_type": "display_data"
    }
   ],
   "source": [
    "msno.bar(train_data)\n",
    "plt.show()"
   ]
  },
  {
   "cell_type": "code",
   "execution_count": 10,
   "id": "favorite-method",
   "metadata": {
    "execution": {
     "iopub.execute_input": "2021-06-12T14:51:25.891043Z",
     "iopub.status.busy": "2021-06-12T14:51:25.890058Z",
     "iopub.status.idle": "2021-06-12T14:51:25.969685Z",
     "shell.execute_reply": "2021-06-12T14:51:25.968910Z",
     "shell.execute_reply.started": "2021-06-12T13:45:38.323956Z"
    },
    "papermill": {
     "duration": 0.14293,
     "end_time": "2021-06-12T14:51:25.969897",
     "exception": false,
     "start_time": "2021-06-12T14:51:25.826967",
     "status": "completed"
    },
    "tags": []
   },
   "outputs": [
    {
     "ename": "NameError",
     "evalue": "name 'df' is not defined",
     "output_type": "error",
     "traceback": [
      "\u001b[0;31m---------------------------------------------------------------------------\u001b[0m",
      "\u001b[0;31mNameError\u001b[0m                                 Traceback (most recent call last)",
      "\u001b[0;32m<ipython-input-10-0730ecf8cecb>\u001b[0m in \u001b[0;36m<module>\u001b[0;34m\u001b[0m\n\u001b[0;32m----> 1\u001b[0;31m \u001b[0mcorrmat\u001b[0m \u001b[0;34m=\u001b[0m \u001b[0mdf\u001b[0m\u001b[0;34m.\u001b[0m\u001b[0mcorr\u001b[0m\u001b[0;34m(\u001b[0m\u001b[0;34m)\u001b[0m\u001b[0;34m\u001b[0m\u001b[0;34m\u001b[0m\u001b[0m\n\u001b[0m\u001b[1;32m      2\u001b[0m \u001b[0;34m\u001b[0m\u001b[0m\n\u001b[1;32m      3\u001b[0m \u001b[0mtop_corr_features\u001b[0m \u001b[0;34m=\u001b[0m \u001b[0mcorrmat\u001b[0m\u001b[0;34m.\u001b[0m\u001b[0mindex\u001b[0m\u001b[0;34m\u001b[0m\u001b[0;34m\u001b[0m\u001b[0m\n\u001b[1;32m      4\u001b[0m \u001b[0;34m\u001b[0m\u001b[0m\n\u001b[1;32m      5\u001b[0m \u001b[0mplt\u001b[0m\u001b[0;34m.\u001b[0m\u001b[0mfigure\u001b[0m\u001b[0;34m(\u001b[0m\u001b[0mfigsize\u001b[0m\u001b[0;34m=\u001b[0m\u001b[0;34m(\u001b[0m\u001b[0;36m20\u001b[0m\u001b[0;34m,\u001b[0m\u001b[0;36m20\u001b[0m\u001b[0;34m)\u001b[0m\u001b[0;34m)\u001b[0m\u001b[0;34m\u001b[0m\u001b[0;34m\u001b[0m\u001b[0m\n",
      "\u001b[0;31mNameError\u001b[0m: name 'df' is not defined"
     ]
    }
   ],
   "source": [
    "corrmat = df.corr()\n",
    "\n",
    "top_corr_features = corrmat.index\n",
    "\n",
    "plt.figure(figsize=(20,20))\n",
    "\n",
    "g=sns.heatmap(df[top_corr_features].corr(),annot=True,cmap=\"RdYlGn\")"
   ]
  },
  {
   "cell_type": "code",
   "execution_count": 11,
   "id": "rapid-difficulty",
   "metadata": {
    "execution": {
     "iopub.execute_input": "2021-06-12T14:51:26.095644Z",
     "iopub.status.busy": "2021-06-12T14:51:26.094944Z",
     "iopub.status.idle": "2021-06-12T14:51:37.202144Z",
     "shell.execute_reply": "2021-06-12T14:51:37.201603Z",
     "shell.execute_reply.started": "2021-06-12T13:46:56.992902Z"
    },
    "papermill": {
     "duration": 11.171845,
     "end_time": "2021-06-12T14:51:37.202300",
     "exception": false,
     "start_time": "2021-06-12T14:51:26.030455",
     "status": "completed"
    },
    "tags": []
   },
   "outputs": [
    {
     "name": "stderr",
     "output_type": "stream",
     "text": [
      "/opt/conda/lib/python3.7/site-packages/seaborn/_decorators.py:43: FutureWarning: Pass the following variable as a keyword arg: x. From version 0.12, the only valid positional argument will be `data`, and passing other arguments without an explicit keyword will result in an error or misinterpretation.\n",
      "  FutureWarning\n"
     ]
    },
    {
     "data": {
      "image/png": "[encoded data removed]",
      "text/plain": [
       "<Figure size 432x288 with 1 Axes>"
      ]
     },
     "metadata": {
      "needs_background": "light"
     },
     "output_type": "display_data"
    }
   ],
   "source": [
    "sns.countplot(train_data.PassengerId)\n",
    "plt.show()"
   ]
  },
  {
   "cell_type": "code",
   "execution_count": 12,
   "id": "focal-marathon",
   "metadata": {
    "execution": {
     "iopub.execute_input": "2021-06-12T14:51:37.331314Z",
     "iopub.status.busy": "2021-06-12T14:51:37.330455Z",
     "iopub.status.idle": "2021-06-12T14:51:37.444176Z",
     "shell.execute_reply": "2021-06-12T14:51:37.444681Z",
     "shell.execute_reply.started": "2021-06-12T13:47:32.953471Z"
    },
    "papermill": {
     "duration": 0.180651,
     "end_time": "2021-06-12T14:51:37.444864",
     "exception": false,
     "start_time": "2021-06-12T14:51:37.264213",
     "status": "completed"
    },
    "tags": []
   },
   "outputs": [
    {
     "name": "stderr",
     "output_type": "stream",
     "text": [
      "/opt/conda/lib/python3.7/site-packages/seaborn/_decorators.py:43: FutureWarning: Pass the following variable as a keyword arg: x. From version 0.12, the only valid positional argument will be `data`, and passing other arguments without an explicit keyword will result in an error or misinterpretation.\n",
      "  FutureWarning\n"
     ]
    },
    {
     "data": {
      "image/png": "[encoded data removed]",
      "text/plain": [
       "<Figure size 432x288 with 1 Axes>"
      ]
     },
     "metadata": {
      "needs_background": "light"
     },
     "output_type": "display_data"
    }
   ],
   "source": [
    "sns.countplot(train_data.Survived)\n",
    "plt.show()"
   ]
  },
  {
   "cell_type": "code",
   "execution_count": 13,
   "id": "premium-plant",
   "metadata": {
    "execution": {
     "iopub.execute_input": "2021-06-12T14:51:37.576088Z",
     "iopub.status.busy": "2021-06-12T14:51:37.575090Z",
     "iopub.status.idle": "2021-06-12T14:51:37.696673Z",
     "shell.execute_reply": "2021-06-12T14:51:37.697133Z",
     "shell.execute_reply.started": "2021-06-12T13:48:26.303981Z"
    },
    "papermill": {
     "duration": 0.189988,
     "end_time": "2021-06-12T14:51:37.697328",
     "exception": false,
     "start_time": "2021-06-12T14:51:37.507340",
     "status": "completed"
    },
    "tags": []
   },
   "outputs": [
    {
     "name": "stderr",
     "output_type": "stream",
     "text": [
      "/opt/conda/lib/python3.7/site-packages/seaborn/_decorators.py:43: FutureWarning: Pass the following variable as a keyword arg: x. From version 0.12, the only valid positional argument will be `data`, and passing other arguments without an explicit keyword will result in an error or misinterpretation.\n",
      "  FutureWarning\n"
     ]
    },
    {
     "data": {
      "image/png": "[encoded data removed]",
      "text/plain": [
       "<Figure size 432x288 with 1 Axes>"
      ]
     },
     "metadata": {
      "needs_background": "light"
     },
     "output_type": "display_data"
    }
   ],
   "source": [
    "sns.countplot(train_data.Pclass)\n",
    "plt.show()"
   ]
  },
  {
   "cell_type": "code",
   "execution_count": 14,
   "id": "demanding-government",
   "metadata": {
    "execution": {
     "iopub.execute_input": "2021-06-12T14:51:37.834714Z",
     "iopub.status.busy": "2021-06-12T14:51:37.833596Z",
     "iopub.status.idle": "2021-06-12T14:51:39.070808Z",
     "shell.execute_reply": "2021-06-12T14:51:39.070123Z",
     "shell.execute_reply.started": "2021-06-12T13:48:47.123002Z"
    },
    "papermill": {
     "duration": 1.310076,
     "end_time": "2021-06-12T14:51:39.070951",
     "exception": false,
     "start_time": "2021-06-12T14:51:37.760875",
     "status": "completed"
    },
    "tags": []
   },
   "outputs": [
    {
     "name": "stderr",
     "output_type": "stream",
     "text": [
      "/opt/conda/lib/python3.7/site-packages/seaborn/_decorators.py:43: FutureWarning: Pass the following variable as a keyword arg: x. From version 0.12, the only valid positional argument will be `data`, and passing other arguments without an explicit keyword will result in an error or misinterpretation.\n",
      "  FutureWarning\n"
     ]
    },
    {
     "data": {
      "image/png": "[encoded data removed]",
      "text/plain": [
       "<Figure size 432x288 with 1 Axes>"
      ]
     },
     "metadata": {
      "needs_background": "light"
     },
     "output_type": "display_data"
    }
   ],
   "source": [
    "sns.countplot(train_data.Age)\n",
    "plt.show()"
   ]
  },
  {
   "cell_type": "code",
   "execution_count": 15,
   "id": "parallel-genetics",
   "metadata": {
    "execution": {
     "iopub.execute_input": "2021-06-12T14:51:39.233032Z",
     "iopub.status.busy": "2021-06-12T14:51:39.211176Z",
     "iopub.status.idle": "2021-06-12T14:51:39.371584Z",
     "shell.execute_reply": "2021-06-12T14:51:39.372084Z",
     "shell.execute_reply.started": "2021-06-12T13:49:13.843413Z"
    },
    "papermill": {
     "duration": 0.23637,
     "end_time": "2021-06-12T14:51:39.372255",
     "exception": false,
     "start_time": "2021-06-12T14:51:39.135885",
     "status": "completed"
    },
    "tags": []
   },
   "outputs": [
    {
     "name": "stderr",
     "output_type": "stream",
     "text": [
      "/opt/conda/lib/python3.7/site-packages/seaborn/_decorators.py:43: FutureWarning: Pass the following variable as a keyword arg: x. From version 0.12, the only valid positional argument will be `data`, and passing other arguments without an explicit keyword will result in an error or misinterpretation.\n",
      "  FutureWarning\n"
     ]
    },
    {
     "data": {
      "image/png": "[encoded data removed]",
      "text/plain": [
       "<Figure size 432x288 with 1 Axes>"
      ]
     },
     "metadata": {
      "needs_background": "light"
     },
     "output_type": "display_data"
    }
   ],
   "source": [
    "sns.countplot(train_data.SibSp)\n",
    "plt.show()"
   ]
  },
  {
   "cell_type": "code",
   "execution_count": 16,
   "id": "domestic-attribute",
   "metadata": {
    "execution": {
     "iopub.execute_input": "2021-06-12T14:51:39.510871Z",
     "iopub.status.busy": "2021-06-12T14:51:39.509862Z",
     "iopub.status.idle": "2021-06-12T14:51:39.668580Z",
     "shell.execute_reply": "2021-06-12T14:51:39.669085Z",
     "shell.execute_reply.started": "2021-06-12T13:50:33.277993Z"
    },
    "papermill": {
     "duration": 0.231809,
     "end_time": "2021-06-12T14:51:39.669292",
     "exception": false,
     "start_time": "2021-06-12T14:51:39.437483",
     "status": "completed"
    },
    "tags": []
   },
   "outputs": [
    {
     "name": "stderr",
     "output_type": "stream",
     "text": [
      "/opt/conda/lib/python3.7/site-packages/seaborn/_decorators.py:43: FutureWarning: Pass the following variable as a keyword arg: x. From version 0.12, the only valid positional argument will be `data`, and passing other arguments without an explicit keyword will result in an error or misinterpretation.\n",
      "  FutureWarning\n"
     ]
    },
    {
     "data": {
      "image/png": "[encoded data removed]",
      "text/plain": [
       "<Figure size 432x288 with 1 Axes>"
      ]
     },
     "metadata": {
      "needs_background": "light"
     },
     "output_type": "display_data"
    }
   ],
   "source": [
    "sns.countplot(train_data.Parch)\n",
    "plt.show()"
   ]
  },
  {
   "cell_type": "code",
   "execution_count": 17,
   "id": "soviet-canberra",
   "metadata": {
    "execution": {
     "iopub.execute_input": "2021-06-12T14:51:39.810976Z",
     "iopub.status.busy": "2021-06-12T14:51:39.809118Z",
     "iopub.status.idle": "2021-06-12T14:51:43.448232Z",
     "shell.execute_reply": "2021-06-12T14:51:43.447625Z",
     "shell.execute_reply.started": "2021-06-12T13:51:01.234445Z"
    },
    "papermill": {
     "duration": 3.712768,
     "end_time": "2021-06-12T14:51:43.448386",
     "exception": false,
     "start_time": "2021-06-12T14:51:39.735618",
     "status": "completed"
    },
    "tags": []
   },
   "outputs": [
    {
     "name": "stderr",
     "output_type": "stream",
     "text": [
      "/opt/conda/lib/python3.7/site-packages/seaborn/_decorators.py:43: FutureWarning: Pass the following variable as a keyword arg: x. From version 0.12, the only valid positional argument will be `data`, and passing other arguments without an explicit keyword will result in an error or misinterpretation.\n",
      "  FutureWarning\n"
     ]
    },
    {
     "data": {
      "image/png": "[encoded data removed]",
      "text/plain": [
       "<Figure size 432x288 with 1 Axes>"
      ]
     },
     "metadata": {
      "needs_background": "light"
     },
     "output_type": "display_data"
    }
   ],
   "source": [
    "sns.countplot(train_data.Fare)\n",
    "plt.show()"
   ]
  },
  {
   "cell_type": "code",
   "execution_count": 18,
   "id": "legitimate-vacation",
   "metadata": {
    "execution": {
     "iopub.execute_input": "2021-06-12T14:51:43.607714Z",
     "iopub.status.busy": "2021-06-12T14:51:43.606959Z",
     "iopub.status.idle": "2021-06-12T14:51:43.724272Z",
     "shell.execute_reply": "2021-06-12T14:51:43.723506Z",
     "shell.execute_reply.started": "2021-06-12T13:51:46.979580Z"
    },
    "papermill": {
     "duration": 0.208843,
     "end_time": "2021-06-12T14:51:43.724433",
     "exception": false,
     "start_time": "2021-06-12T14:51:43.515590",
     "status": "completed"
    },
    "tags": []
   },
   "outputs": [
    {
     "data": {
      "image/png": "[encoded data removed]",
      "text/plain": [
       "<Figure size 500x500 with 1 Axes>"
      ]
     },
     "metadata": {},
     "output_type": "display_data"
    }
   ],
   "source": [
    "values = train_data['Survived'].value_counts()\n",
    "labels = ['Not Survived', 'Survived']\n",
    "\n",
    "fig, ax = plt.subplots(figsize = (5, 5), dpi = 100)\n",
    "explode = (0, 0.06)\n",
    "\n",
    "patches, texts, autotexts = ax.pie(values, labels = labels, autopct = '%1.2f%%', shadow = True,\n",
    "                                   startangle = 90, explode = explode)\n",
    "\n",
    "plt.setp(texts, color = 'grey')\n",
    "plt.setp(autotexts, size = 12, color = 'white')\n",
    "autotexts[1].set_color('black')\n",
    "plt.show()"
   ]
  },
  {
   "cell_type": "code",
   "execution_count": 19,
   "id": "center-broadcasting",
   "metadata": {
    "execution": {
     "iopub.execute_input": "2021-06-12T14:51:43.869114Z",
     "iopub.status.busy": "2021-06-12T14:51:43.868234Z",
     "iopub.status.idle": "2021-06-12T14:51:43.872434Z",
     "shell.execute_reply": "2021-06-12T14:51:43.871815Z",
     "shell.execute_reply.started": "2021-06-12T13:53:59.076099Z"
    },
    "papermill": {
     "duration": 0.079623,
     "end_time": "2021-06-12T14:51:43.872580",
     "exception": false,
     "start_time": "2021-06-12T14:51:43.792957",
     "status": "completed"
    },
    "tags": []
   },
   "outputs": [
    {
     "data": {
      "text/plain": [
       "3    491\n",
       "1    216\n",
       "2    184\n",
       "Name: Pclass, dtype: int64"
      ]
     },
     "execution_count": 19,
     "metadata": {},
     "output_type": "execute_result"
    }
   ],
   "source": [
    "train_data.Pclass.value_counts()"
   ]
  },
  {
   "cell_type": "code",
   "execution_count": 20,
   "id": "decimal-fashion",
   "metadata": {
    "execution": {
     "iopub.execute_input": "2021-06-12T14:51:44.017889Z",
     "iopub.status.busy": "2021-06-12T14:51:44.016735Z",
     "iopub.status.idle": "2021-06-12T14:51:44.025377Z",
     "shell.execute_reply": "2021-06-12T14:51:44.025939Z",
     "shell.execute_reply.started": "2021-06-12T13:54:14.107494Z"
    },
    "papermill": {
     "duration": 0.084811,
     "end_time": "2021-06-12T14:51:44.026120",
     "exception": false,
     "start_time": "2021-06-12T14:51:43.941309",
     "status": "completed"
    },
    "tags": []
   },
   "outputs": [
    {
     "data": {
      "text/plain": [
       "Pclass  Survived\n",
       "1       0            80\n",
       "        1           136\n",
       "2       0            97\n",
       "        1            87\n",
       "3       0           372\n",
       "        1           119\n",
       "Name: Survived, dtype: int64"
      ]
     },
     "execution_count": 20,
     "metadata": {},
     "output_type": "execute_result"
    }
   ],
   "source": [
    "train_data.groupby(['Pclass', 'Survived'])['Survived'].count()"
   ]
  },
  {
   "cell_type": "code",
   "execution_count": 21,
   "id": "pleased-desktop",
   "metadata": {
    "execution": {
     "iopub.execute_input": "2021-06-12T14:51:44.173364Z",
     "iopub.status.busy": "2021-06-12T14:51:44.172608Z",
     "iopub.status.idle": "2021-06-12T14:51:44.180830Z",
     "shell.execute_reply": "2021-06-12T14:51:44.181400Z",
     "shell.execute_reply.started": "2021-06-12T13:54:34.568899Z"
    },
    "papermill": {
     "duration": 0.082274,
     "end_time": "2021-06-12T14:51:44.181583",
     "exception": false,
     "start_time": "2021-06-12T14:51:44.099309",
     "status": "completed"
    },
    "tags": []
   },
   "outputs": [
    {
     "data": {
      "text/plain": [
       "Mineff, Mr. Ivan                                   1\n",
       "Mellinger, Miss. Madeleine Violet                  1\n",
       "Davison, Mrs. Thomas Henry (Mary E Finck)          1\n",
       "McCormack, Mr. Thomas Joseph                       1\n",
       "Carter, Mrs. Ernest Courtenay (Lilian Hughes)      1\n",
       "                                                  ..\n",
       "Klasen, Mr. Klas Albin                             1\n",
       "Lobb, Mrs. William Arthur (Cordelia K Stanlick)    1\n",
       "Becker, Miss. Marion Louise                        1\n",
       "Kalvik, Mr. Johannes Halvorsen                     1\n",
       "Willey, Mr. Edward                                 1\n",
       "Name: Name, Length: 891, dtype: int64"
      ]
     },
     "execution_count": 21,
     "metadata": {},
     "output_type": "execute_result"
    }
   ],
   "source": [
    "train_data.Name.value_counts()"
   ]
  },
  {
   "cell_type": "code",
   "execution_count": 22,
   "id": "conventional-remove",
   "metadata": {
    "execution": {
     "iopub.execute_input": "2021-06-12T14:51:44.325324Z",
     "iopub.status.busy": "2021-06-12T14:51:44.324656Z",
     "iopub.status.idle": "2021-06-12T14:51:44.330126Z",
     "shell.execute_reply": "2021-06-12T14:51:44.330681Z",
     "shell.execute_reply.started": "2021-06-12T13:55:10.959441Z"
    },
    "papermill": {
     "duration": 0.079093,
     "end_time": "2021-06-12T14:51:44.330852",
     "exception": false,
     "start_time": "2021-06-12T14:51:44.251759",
     "status": "completed"
    },
    "tags": []
   },
   "outputs": [
    {
     "data": {
      "text/plain": [
       "(891, (891, 12))"
      ]
     },
     "execution_count": 22,
     "metadata": {},
     "output_type": "execute_result"
    }
   ],
   "source": [
    "len(train_data.Name.unique()), train_data.shape"
   ]
  },
  {
   "cell_type": "code",
   "execution_count": 23,
   "id": "crazy-indicator",
   "metadata": {
    "execution": {
     "iopub.execute_input": "2021-06-12T14:51:44.474324Z",
     "iopub.status.busy": "2021-06-12T14:51:44.473721Z",
     "iopub.status.idle": "2021-06-12T14:51:44.480696Z",
     "shell.execute_reply": "2021-06-12T14:51:44.481229Z",
     "shell.execute_reply.started": "2021-06-12T13:55:33.128518Z"
    },
    "papermill": {
     "duration": 0.079711,
     "end_time": "2021-06-12T14:51:44.481421",
     "exception": false,
     "start_time": "2021-06-12T14:51:44.401710",
     "status": "completed"
    },
    "tags": []
   },
   "outputs": [
    {
     "data": {
      "text/plain": [
       "male      577\n",
       "female    314\n",
       "Name: Sex, dtype: int64"
      ]
     },
     "execution_count": 23,
     "metadata": {},
     "output_type": "execute_result"
    }
   ],
   "source": [
    "train_data.Sex.value_counts()"
   ]
  },
  {
   "cell_type": "code",
   "execution_count": 24,
   "id": "prerequisite-rendering",
   "metadata": {
    "execution": {
     "iopub.execute_input": "2021-06-12T14:51:44.625701Z",
     "iopub.status.busy": "2021-06-12T14:51:44.625040Z",
     "iopub.status.idle": "2021-06-12T14:51:44.634173Z",
     "shell.execute_reply": "2021-06-12T14:51:44.633537Z",
     "shell.execute_reply.started": "2021-06-12T13:55:50.473284Z"
    },
    "papermill": {
     "duration": 0.082259,
     "end_time": "2021-06-12T14:51:44.634330",
     "exception": false,
     "start_time": "2021-06-12T14:51:44.552071",
     "status": "completed"
    },
    "tags": []
   },
   "outputs": [
    {
     "data": {
      "text/plain": [
       "Sex     Survived\n",
       "female  0            81\n",
       "        1           233\n",
       "male    0           468\n",
       "        1           109\n",
       "Name: Survived, dtype: int64"
      ]
     },
     "execution_count": 24,
     "metadata": {},
     "output_type": "execute_result"
    }
   ],
   "source": [
    "train_data.groupby(['Sex', 'Survived'])['Survived'].count()"
   ]
  },
  {
   "cell_type": "code",
   "execution_count": 25,
   "id": "velvet-science",
   "metadata": {
    "execution": {
     "iopub.execute_input": "2021-06-12T14:51:44.779054Z",
     "iopub.status.busy": "2021-06-12T14:51:44.778424Z",
     "iopub.status.idle": "2021-06-12T14:51:44.784927Z",
     "shell.execute_reply": "2021-06-12T14:51:44.785442Z",
     "shell.execute_reply.started": "2021-06-12T13:56:22.729880Z"
    },
    "papermill": {
     "duration": 0.080578,
     "end_time": "2021-06-12T14:51:44.785614",
     "exception": false,
     "start_time": "2021-06-12T14:51:44.705036",
     "status": "completed"
    },
    "tags": []
   },
   "outputs": [
    {
     "data": {
      "text/plain": [
       "0    608\n",
       "1    209\n",
       "2     28\n",
       "4     18\n",
       "3     16\n",
       "8      7\n",
       "5      5\n",
       "Name: SibSp, dtype: int64"
      ]
     },
     "execution_count": 25,
     "metadata": {},
     "output_type": "execute_result"
    }
   ],
   "source": [
    "train_data['SibSp'].value_counts()"
   ]
  },
  {
   "cell_type": "code",
   "execution_count": 26,
   "id": "solved-johns",
   "metadata": {
    "execution": {
     "iopub.execute_input": "2021-06-12T14:51:44.930717Z",
     "iopub.status.busy": "2021-06-12T14:51:44.930086Z",
     "iopub.status.idle": "2021-06-12T14:51:44.936641Z",
     "shell.execute_reply": "2021-06-12T14:51:44.937148Z",
     "shell.execute_reply.started": "2021-06-12T13:56:45.754893Z"
    },
    "papermill": {
     "duration": 0.08093,
     "end_time": "2021-06-12T14:51:44.937355",
     "exception": false,
     "start_time": "2021-06-12T14:51:44.856425",
     "status": "completed"
    },
    "tags": []
   },
   "outputs": [
    {
     "data": {
      "text/plain": [
       "0    678\n",
       "1    118\n",
       "2     80\n",
       "3      5\n",
       "5      5\n",
       "4      4\n",
       "6      1\n",
       "Name: Parch, dtype: int64"
      ]
     },
     "execution_count": 26,
     "metadata": {},
     "output_type": "execute_result"
    }
   ],
   "source": [
    "train_data.Parch.value_counts()"
   ]
  },
  {
   "cell_type": "code",
   "execution_count": 27,
   "id": "experimental-field",
   "metadata": {
    "execution": {
     "iopub.execute_input": "2021-06-12T14:51:45.086256Z",
     "iopub.status.busy": "2021-06-12T14:51:45.085584Z",
     "iopub.status.idle": "2021-06-12T14:51:45.094527Z",
     "shell.execute_reply": "2021-06-12T14:51:45.093886Z",
     "shell.execute_reply.started": "2021-06-12T13:57:08.114675Z"
    },
    "papermill": {
     "duration": 0.085878,
     "end_time": "2021-06-12T14:51:45.094685",
     "exception": false,
     "start_time": "2021-06-12T14:51:45.008807",
     "status": "completed"
    },
    "tags": []
   },
   "outputs": [
    {
     "data": {
      "text/plain": [
       "1601         7\n",
       "347082       7\n",
       "CA. 2343     7\n",
       "347088       6\n",
       "CA 2144      6\n",
       "            ..\n",
       "113050       1\n",
       "C.A. 5547    1\n",
       "237668       1\n",
       "330923       1\n",
       "65304        1\n",
       "Name: Ticket, Length: 681, dtype: int64"
      ]
     },
     "execution_count": 27,
     "metadata": {},
     "output_type": "execute_result"
    }
   ],
   "source": [
    "train_data.Ticket.value_counts()"
   ]
  },
  {
   "cell_type": "code",
   "execution_count": 28,
   "id": "chubby-wagner",
   "metadata": {
    "execution": {
     "iopub.execute_input": "2021-06-12T14:51:45.241469Z",
     "iopub.status.busy": "2021-06-12T14:51:45.240778Z",
     "iopub.status.idle": "2021-06-12T14:51:45.245870Z",
     "shell.execute_reply": "2021-06-12T14:51:45.246383Z",
     "shell.execute_reply.started": "2021-06-12T13:57:30.808269Z"
    },
    "papermill": {
     "duration": 0.080528,
     "end_time": "2021-06-12T14:51:45.246556",
     "exception": false,
     "start_time": "2021-06-12T14:51:45.166028",
     "status": "completed"
    },
    "tags": []
   },
   "outputs": [
    {
     "data": {
      "text/plain": [
       "681"
      ]
     },
     "execution_count": 28,
     "metadata": {},
     "output_type": "execute_result"
    }
   ],
   "source": [
    "len(train_data.Ticket.unique())"
   ]
  },
  {
   "cell_type": "code",
   "execution_count": 29,
   "id": "careful-coverage",
   "metadata": {
    "execution": {
     "iopub.execute_input": "2021-06-12T14:51:45.396212Z",
     "iopub.status.busy": "2021-06-12T14:51:45.395524Z",
     "iopub.status.idle": "2021-06-12T14:51:45.401950Z",
     "shell.execute_reply": "2021-06-12T14:51:45.402449Z",
     "shell.execute_reply.started": "2021-06-12T13:57:56.987158Z"
    },
    "papermill": {
     "duration": 0.083709,
     "end_time": "2021-06-12T14:51:45.402619",
     "exception": false,
     "start_time": "2021-06-12T14:51:45.318910",
     "status": "completed"
    },
    "tags": []
   },
   "outputs": [
    {
     "data": {
      "text/plain": [
       "S    644\n",
       "C    168\n",
       "Q     77\n",
       "Name: Embarked, dtype: int64"
      ]
     },
     "execution_count": 29,
     "metadata": {},
     "output_type": "execute_result"
    }
   ],
   "source": [
    "train_data['Embarked'].value_counts()"
   ]
  },
  {
   "cell_type": "markdown",
   "id": "level-trail",
   "metadata": {
    "papermill": {
     "duration": 0.072259,
     "end_time": "2021-06-12T14:51:45.547102",
     "exception": false,
     "start_time": "2021-06-12T14:51:45.474843",
     "status": "completed"
    },
    "tags": []
   },
   "source": [
    "**DATA PRE-PROCESSING**"
   ]
  },
  {
   "cell_type": "code",
   "execution_count": 30,
   "id": "threaded-macintosh",
   "metadata": {
    "execution": {
     "iopub.execute_input": "2021-06-12T14:51:45.694767Z",
     "iopub.status.busy": "2021-06-12T14:51:45.694098Z",
     "iopub.status.idle": "2021-06-12T14:51:45.699734Z",
     "shell.execute_reply": "2021-06-12T14:51:45.700242Z",
     "shell.execute_reply.started": "2021-06-12T14:00:25.968540Z"
    },
    "papermill": {
     "duration": 0.081096,
     "end_time": "2021-06-12T14:51:45.700432",
     "exception": false,
     "start_time": "2021-06-12T14:51:45.619336",
     "status": "completed"
    },
    "tags": []
   },
   "outputs": [],
   "source": [
    "train_data.drop(['PassengerId', 'Name', 'Ticket', 'Cabin'], axis = 1, inplace = True)"
   ]
  },
  {
   "cell_type": "code",
   "execution_count": 31,
   "id": "objective-border",
   "metadata": {
    "execution": {
     "iopub.execute_input": "2021-06-12T14:51:45.848563Z",
     "iopub.status.busy": "2021-06-12T14:51:45.847840Z",
     "iopub.status.idle": "2021-06-12T14:51:45.862387Z",
     "shell.execute_reply": "2021-06-12T14:51:45.861875Z",
     "shell.execute_reply.started": "2021-06-12T14:00:56.307078Z"
    },
    "papermill": {
     "duration": 0.089586,
     "end_time": "2021-06-12T14:51:45.862527",
     "exception": false,
     "start_time": "2021-06-12T14:51:45.772941",
     "status": "completed"
    },
    "tags": []
   },
   "outputs": [
    {
     "data": {
      "text/html": [
       "<div>\n",
       "<style scoped>\n",
       "    .dataframe tbody tr th:only-of-type {\n",
       "        vertical-align: middle;\n",
       "    }\n",
       "\n",
       "    .dataframe tbody tr th {\n",
       "        vertical-align: top;\n",
       "    }\n",
       "\n",
       "    .dataframe thead th {\n",
       "        text-align: right;\n",
       "    }\n",
       "</style>\n",
       "<table border=\"1\" class=\"dataframe\">\n",
       "  <thead>\n",
       "    <tr style=\"text-align: right;\">\n",
       "      <th></th>\n",
       "      <th>Survived</th>\n",
       "      <th>Pclass</th>\n",
       "      <th>Sex</th>\n",
       "      <th>Age</th>\n",
       "      <th>SibSp</th>\n",
       "      <th>Parch</th>\n",
       "      <th>Fare</th>\n",
       "      <th>Embarked</th>\n",
       "    </tr>\n",
       "  </thead>\n",
       "  <tbody>\n",
       "    <tr>\n",
       "      <th>0</th>\n",
       "      <td>0</td>\n",
       "      <td>3</td>\n",
       "      <td>male</td>\n",
       "      <td>22.0</td>\n",
       "      <td>1</td>\n",
       "      <td>0</td>\n",
       "      <td>7.2500</td>\n",
       "      <td>S</td>\n",
       "    </tr>\n",
       "    <tr>\n",
       "      <th>1</th>\n",
       "      <td>1</td>\n",
       "      <td>1</td>\n",
       "      <td>female</td>\n",
       "      <td>38.0</td>\n",
       "      <td>1</td>\n",
       "      <td>0</td>\n",
       "      <td>71.2833</td>\n",
       "      <td>C</td>\n",
       "    </tr>\n",
       "    <tr>\n",
       "      <th>2</th>\n",
       "      <td>1</td>\n",
       "      <td>3</td>\n",
       "      <td>female</td>\n",
       "      <td>26.0</td>\n",
       "      <td>0</td>\n",
       "      <td>0</td>\n",
       "      <td>7.9250</td>\n",
       "      <td>S</td>\n",
       "    </tr>\n",
       "    <tr>\n",
       "      <th>3</th>\n",
       "      <td>1</td>\n",
       "      <td>1</td>\n",
       "      <td>female</td>\n",
       "      <td>35.0</td>\n",
       "      <td>1</td>\n",
       "      <td>0</td>\n",
       "      <td>53.1000</td>\n",
       "      <td>S</td>\n",
       "    </tr>\n",
       "    <tr>\n",
       "      <th>4</th>\n",
       "      <td>0</td>\n",
       "      <td>3</td>\n",
       "      <td>male</td>\n",
       "      <td>35.0</td>\n",
       "      <td>0</td>\n",
       "      <td>0</td>\n",
       "      <td>8.0500</td>\n",
       "      <td>S</td>\n",
       "    </tr>\n",
       "  </tbody>\n",
       "</table>\n",
       "</div>"
      ],
      "text/plain": [
       "   Survived  Pclass     Sex   Age  SibSp  Parch     Fare Embarked\n",
       "0         0       3    male  22.0      1      0   7.2500        S\n",
       "1         1       1  female  38.0      1      0  71.2833        C\n",
       "2         1       3  female  26.0      0      0   7.9250        S\n",
       "3         1       1  female  35.0      1      0  53.1000        S\n",
       "4         0       3    male  35.0      0      0   8.0500        S"
      ]
     },
     "execution_count": 31,
     "metadata": {},
     "output_type": "execute_result"
    }
   ],
   "source": [
    "train_data.head()"
   ]
  },
  {
   "cell_type": "code",
   "execution_count": 32,
   "id": "younger-advance",
   "metadata": {
    "execution": {
     "iopub.execute_input": "2021-06-12T14:51:46.012232Z",
     "iopub.status.busy": "2021-06-12T14:51:46.011593Z",
     "iopub.status.idle": "2021-06-12T14:51:46.020230Z",
     "shell.execute_reply": "2021-06-12T14:51:46.020742Z",
     "shell.execute_reply.started": "2021-06-12T14:01:20.873121Z"
    },
    "papermill": {
     "duration": 0.085314,
     "end_time": "2021-06-12T14:51:46.020940",
     "exception": false,
     "start_time": "2021-06-12T14:51:45.935626",
     "status": "completed"
    },
    "tags": []
   },
   "outputs": [
    {
     "data": {
      "text/plain": [
       "Survived      0\n",
       "Pclass        0\n",
       "Sex           0\n",
       "Age         177\n",
       "SibSp         0\n",
       "Parch         0\n",
       "Fare          0\n",
       "Embarked      2\n",
       "dtype: int64"
      ]
     },
     "execution_count": 32,
     "metadata": {},
     "output_type": "execute_result"
    }
   ],
   "source": [
    "train_data.isnull().sum()"
   ]
  },
  {
   "cell_type": "code",
   "execution_count": 33,
   "id": "complete-roots",
   "metadata": {
    "execution": {
     "iopub.execute_input": "2021-06-12T14:51:46.174206Z",
     "iopub.status.busy": "2021-06-12T14:51:46.173560Z",
     "iopub.status.idle": "2021-06-12T14:51:46.176823Z",
     "shell.execute_reply": "2021-06-12T14:51:46.176079Z",
     "shell.execute_reply.started": "2021-06-12T14:03:29.972407Z"
    },
    "papermill": {
     "duration": 0.082975,
     "end_time": "2021-06-12T14:51:46.176975",
     "exception": false,
     "start_time": "2021-06-12T14:51:46.094000",
     "status": "completed"
    },
    "tags": []
   },
   "outputs": [],
   "source": [
    "# replacing Zero values of \"fare\" column with mean of column\n",
    "\n",
    "train_data['Fare'] = train_data['Fare'].replace(0, train_data['Fare'].mean())"
   ]
  },
  {
   "cell_type": "code",
   "execution_count": 34,
   "id": "excellent-impression",
   "metadata": {
    "execution": {
     "iopub.execute_input": "2021-06-12T14:51:46.331968Z",
     "iopub.status.busy": "2021-06-12T14:51:46.331263Z",
     "iopub.status.idle": "2021-06-12T14:51:46.334693Z",
     "shell.execute_reply": "2021-06-12T14:51:46.334138Z",
     "shell.execute_reply.started": "2021-06-12T14:07:22.710647Z"
    },
    "papermill": {
     "duration": 0.082048,
     "end_time": "2021-06-12T14:51:46.334846",
     "exception": false,
     "start_time": "2021-06-12T14:51:46.252798",
     "status": "completed"
    },
    "tags": []
   },
   "outputs": [],
   "source": [
    "#replacing Age value of \"Age\" column with mean of column\n",
    "\n",
    "train_data['Age'].fillna(train_data['Age'].mean(), inplace = True)"
   ]
  },
  {
   "cell_type": "code",
   "execution_count": 35,
   "id": "concrete-syntax",
   "metadata": {
    "execution": {
     "iopub.execute_input": "2021-06-12T14:51:46.492833Z",
     "iopub.status.busy": "2021-06-12T14:51:46.491992Z",
     "iopub.status.idle": "2021-06-12T14:51:46.495037Z",
     "shell.execute_reply": "2021-06-12T14:51:46.494524Z",
     "shell.execute_reply.started": "2021-06-12T14:09:28.472192Z"
    },
    "papermill": {
     "duration": 0.084185,
     "end_time": "2021-06-12T14:51:46.495179",
     "exception": false,
     "start_time": "2021-06-12T14:51:46.410994",
     "status": "completed"
    },
    "tags": []
   },
   "outputs": [],
   "source": [
    "# filling null values of \"Embarked\" column with mode value of the column\n",
    "\n",
    "train_data['Embarked'].fillna(train_data['Embarked'].mode()[0], inplace = True)"
   ]
  },
  {
   "cell_type": "code",
   "execution_count": 36,
   "id": "revolutionary-outreach",
   "metadata": {
    "execution": {
     "iopub.execute_input": "2021-06-12T14:51:46.650355Z",
     "iopub.status.busy": "2021-06-12T14:51:46.649290Z",
     "iopub.status.idle": "2021-06-12T14:51:46.653178Z",
     "shell.execute_reply": "2021-06-12T14:51:46.652659Z",
     "shell.execute_reply.started": "2021-06-12T14:09:56.862653Z"
    },
    "papermill": {
     "duration": 0.084625,
     "end_time": "2021-06-12T14:51:46.653345",
     "exception": false,
     "start_time": "2021-06-12T14:51:46.568720",
     "status": "completed"
    },
    "tags": []
   },
   "outputs": [
    {
     "data": {
      "text/plain": [
       "Survived    0\n",
       "Pclass      0\n",
       "Sex         0\n",
       "Age         0\n",
       "SibSp       0\n",
       "Parch       0\n",
       "Fare        0\n",
       "Embarked    0\n",
       "dtype: int64"
      ]
     },
     "execution_count": 36,
     "metadata": {},
     "output_type": "execute_result"
    }
   ],
   "source": [
    "# checking for null values after filling null values\n",
    "\n",
    "train_data.isna().sum()"
   ]
  },
  {
   "cell_type": "code",
   "execution_count": 37,
   "id": "metallic-preserve",
   "metadata": {
    "execution": {
     "iopub.execute_input": "2021-06-12T14:51:46.816102Z",
     "iopub.status.busy": "2021-06-12T14:51:46.814937Z",
     "iopub.status.idle": "2021-06-12T14:51:46.819760Z",
     "shell.execute_reply": "2021-06-12T14:51:46.819204Z",
     "shell.execute_reply.started": "2021-06-12T14:10:21.952434Z"
    },
    "papermill": {
     "duration": 0.093072,
     "end_time": "2021-06-12T14:51:46.819913",
     "exception": false,
     "start_time": "2021-06-12T14:51:46.726841",
     "status": "completed"
    },
    "tags": []
   },
   "outputs": [
    {
     "data": {
      "text/html": [
       "<div>\n",
       "<style scoped>\n",
       "    .dataframe tbody tr th:only-of-type {\n",
       "        vertical-align: middle;\n",
       "    }\n",
       "\n",
       "    .dataframe tbody tr th {\n",
       "        vertical-align: top;\n",
       "    }\n",
       "\n",
       "    .dataframe thead th {\n",
       "        text-align: right;\n",
       "    }\n",
       "</style>\n",
       "<table border=\"1\" class=\"dataframe\">\n",
       "  <thead>\n",
       "    <tr style=\"text-align: right;\">\n",
       "      <th></th>\n",
       "      <th>Survived</th>\n",
       "      <th>Pclass</th>\n",
       "      <th>Sex</th>\n",
       "      <th>Age</th>\n",
       "      <th>SibSp</th>\n",
       "      <th>Parch</th>\n",
       "      <th>Fare</th>\n",
       "      <th>Embarked</th>\n",
       "    </tr>\n",
       "  </thead>\n",
       "  <tbody>\n",
       "    <tr>\n",
       "      <th>0</th>\n",
       "      <td>0</td>\n",
       "      <td>3</td>\n",
       "      <td>male</td>\n",
       "      <td>22.0</td>\n",
       "      <td>1</td>\n",
       "      <td>0</td>\n",
       "      <td>7.2500</td>\n",
       "      <td>S</td>\n",
       "    </tr>\n",
       "    <tr>\n",
       "      <th>1</th>\n",
       "      <td>1</td>\n",
       "      <td>1</td>\n",
       "      <td>female</td>\n",
       "      <td>38.0</td>\n",
       "      <td>1</td>\n",
       "      <td>0</td>\n",
       "      <td>71.2833</td>\n",
       "      <td>C</td>\n",
       "    </tr>\n",
       "    <tr>\n",
       "      <th>2</th>\n",
       "      <td>1</td>\n",
       "      <td>3</td>\n",
       "      <td>female</td>\n",
       "      <td>26.0</td>\n",
       "      <td>0</td>\n",
       "      <td>0</td>\n",
       "      <td>7.9250</td>\n",
       "      <td>S</td>\n",
       "    </tr>\n",
       "    <tr>\n",
       "      <th>3</th>\n",
       "      <td>1</td>\n",
       "      <td>1</td>\n",
       "      <td>female</td>\n",
       "      <td>35.0</td>\n",
       "      <td>1</td>\n",
       "      <td>0</td>\n",
       "      <td>53.1000</td>\n",
       "      <td>S</td>\n",
       "    </tr>\n",
       "    <tr>\n",
       "      <th>4</th>\n",
       "      <td>0</td>\n",
       "      <td>3</td>\n",
       "      <td>male</td>\n",
       "      <td>35.0</td>\n",
       "      <td>0</td>\n",
       "      <td>0</td>\n",
       "      <td>8.0500</td>\n",
       "      <td>S</td>\n",
       "    </tr>\n",
       "  </tbody>\n",
       "</table>\n",
       "</div>"
      ],
      "text/plain": [
       "   Survived  Pclass     Sex   Age  SibSp  Parch     Fare Embarked\n",
       "0         0       3    male  22.0      1      0   7.2500        S\n",
       "1         1       1  female  38.0      1      0  71.2833        C\n",
       "2         1       3  female  26.0      0      0   7.9250        S\n",
       "3         1       1  female  35.0      1      0  53.1000        S\n",
       "4         0       3    male  35.0      0      0   8.0500        S"
      ]
     },
     "execution_count": 37,
     "metadata": {},
     "output_type": "execute_result"
    }
   ],
   "source": [
    "train_data.head()"
   ]
  },
  {
   "cell_type": "code",
   "execution_count": 38,
   "id": "signal-dynamics",
   "metadata": {
    "execution": {
     "iopub.execute_input": "2021-06-12T14:51:46.975765Z",
     "iopub.status.busy": "2021-06-12T14:51:46.975089Z",
     "iopub.status.idle": "2021-06-12T14:51:46.977804Z",
     "shell.execute_reply": "2021-06-12T14:51:46.978242Z",
     "shell.execute_reply.started": "2021-06-12T14:10:54.687587Z"
    },
    "papermill": {
     "duration": 0.08351,
     "end_time": "2021-06-12T14:51:46.978429",
     "exception": false,
     "start_time": "2021-06-12T14:51:46.894919",
     "status": "completed"
    },
    "tags": []
   },
   "outputs": [],
   "source": [
    "train_data['Sex'] = train_data['Sex'].apply(lambda val: 1 if val == 'male' else 0)"
   ]
  },
  {
   "cell_type": "code",
   "execution_count": 39,
   "id": "chicken-easter",
   "metadata": {
    "execution": {
     "iopub.execute_input": "2021-06-12T14:51:47.133008Z",
     "iopub.status.busy": "2021-06-12T14:51:47.132237Z",
     "iopub.status.idle": "2021-06-12T14:51:47.135531Z",
     "shell.execute_reply": "2021-06-12T14:51:47.134896Z",
     "shell.execute_reply.started": "2021-06-12T14:11:17.792751Z"
    },
    "papermill": {
     "duration": 0.083603,
     "end_time": "2021-06-12T14:51:47.135692",
     "exception": false,
     "start_time": "2021-06-12T14:51:47.052089",
     "status": "completed"
    },
    "tags": []
   },
   "outputs": [],
   "source": [
    "train_data['Embarked'] = train_data['Embarked'].map({'S' : 0, 'C': 1, 'Q': 2})"
   ]
  },
  {
   "cell_type": "code",
   "execution_count": 40,
   "id": "confidential-carter",
   "metadata": {
    "execution": {
     "iopub.execute_input": "2021-06-12T14:51:47.328130Z",
     "iopub.status.busy": "2021-06-12T14:51:47.327131Z",
     "iopub.status.idle": "2021-06-12T14:51:47.331834Z",
     "shell.execute_reply": "2021-06-12T14:51:47.331193Z",
     "shell.execute_reply.started": "2021-06-12T14:11:37.325887Z"
    },
    "papermill": {
     "duration": 0.119163,
     "end_time": "2021-06-12T14:51:47.331975",
     "exception": false,
     "start_time": "2021-06-12T14:51:47.212812",
     "status": "completed"
    },
    "tags": []
   },
   "outputs": [
    {
     "data": {
      "text/html": [
       "<div>\n",
       "<style scoped>\n",
       "    .dataframe tbody tr th:only-of-type {\n",
       "        vertical-align: middle;\n",
       "    }\n",
       "\n",
       "    .dataframe tbody tr th {\n",
       "        vertical-align: top;\n",
       "    }\n",
       "\n",
       "    .dataframe thead th {\n",
       "        text-align: right;\n",
       "    }\n",
       "</style>\n",
       "<table border=\"1\" class=\"dataframe\">\n",
       "  <thead>\n",
       "    <tr style=\"text-align: right;\">\n",
       "      <th></th>\n",
       "      <th>Survived</th>\n",
       "      <th>Pclass</th>\n",
       "      <th>Sex</th>\n",
       "      <th>Age</th>\n",
       "      <th>SibSp</th>\n",
       "      <th>Parch</th>\n",
       "      <th>Fare</th>\n",
       "      <th>Embarked</th>\n",
       "    </tr>\n",
       "  </thead>\n",
       "  <tbody>\n",
       "    <tr>\n",
       "      <th>0</th>\n",
       "      <td>0</td>\n",
       "      <td>3</td>\n",
       "      <td>1</td>\n",
       "      <td>22.0</td>\n",
       "      <td>1</td>\n",
       "      <td>0</td>\n",
       "      <td>7.2500</td>\n",
       "      <td>0</td>\n",
       "    </tr>\n",
       "    <tr>\n",
       "      <th>1</th>\n",
       "      <td>1</td>\n",
       "      <td>1</td>\n",
       "      <td>0</td>\n",
       "      <td>38.0</td>\n",
       "      <td>1</td>\n",
       "      <td>0</td>\n",
       "      <td>71.2833</td>\n",
       "      <td>1</td>\n",
       "    </tr>\n",
       "    <tr>\n",
       "      <th>2</th>\n",
       "      <td>1</td>\n",
       "      <td>3</td>\n",
       "      <td>0</td>\n",
       "      <td>26.0</td>\n",
       "      <td>0</td>\n",
       "      <td>0</td>\n",
       "      <td>7.9250</td>\n",
       "      <td>0</td>\n",
       "    </tr>\n",
       "    <tr>\n",
       "      <th>3</th>\n",
       "      <td>1</td>\n",
       "      <td>1</td>\n",
       "      <td>0</td>\n",
       "      <td>35.0</td>\n",
       "      <td>1</td>\n",
       "      <td>0</td>\n",
       "      <td>53.1000</td>\n",
       "      <td>0</td>\n",
       "    </tr>\n",
       "    <tr>\n",
       "      <th>4</th>\n",
       "      <td>0</td>\n",
       "      <td>3</td>\n",
       "      <td>1</td>\n",
       "      <td>35.0</td>\n",
       "      <td>0</td>\n",
       "      <td>0</td>\n",
       "      <td>8.0500</td>\n",
       "      <td>0</td>\n",
       "    </tr>\n",
       "  </tbody>\n",
       "</table>\n",
       "</div>"
      ],
      "text/plain": [
       "   Survived  Pclass  Sex   Age  SibSp  Parch     Fare  Embarked\n",
       "0         0       3    1  22.0      1      0   7.2500         0\n",
       "1         1       1    0  38.0      1      0  71.2833         1\n",
       "2         1       3    0  26.0      0      0   7.9250         0\n",
       "3         1       1    0  35.0      1      0  53.1000         0\n",
       "4         0       3    1  35.0      0      0   8.0500         0"
      ]
     },
     "execution_count": 40,
     "metadata": {},
     "output_type": "execute_result"
    }
   ],
   "source": [
    "train_data.head()"
   ]
  },
  {
   "cell_type": "code",
   "execution_count": 41,
   "id": "statutory-split",
   "metadata": {
    "execution": {
     "iopub.execute_input": "2021-06-12T14:51:47.494984Z",
     "iopub.status.busy": "2021-06-12T14:51:47.491490Z",
     "iopub.status.idle": "2021-06-12T14:51:47.524877Z",
     "shell.execute_reply": "2021-06-12T14:51:47.524188Z",
     "shell.execute_reply.started": "2021-06-12T14:11:56.323156Z"
    },
    "papermill": {
     "duration": 0.116646,
     "end_time": "2021-06-12T14:51:47.525020",
     "exception": false,
     "start_time": "2021-06-12T14:51:47.408374",
     "status": "completed"
    },
    "tags": []
   },
   "outputs": [
    {
     "data": {
      "text/html": [
       "<div>\n",
       "<style scoped>\n",
       "    .dataframe tbody tr th:only-of-type {\n",
       "        vertical-align: middle;\n",
       "    }\n",
       "\n",
       "    .dataframe tbody tr th {\n",
       "        vertical-align: top;\n",
       "    }\n",
       "\n",
       "    .dataframe thead th {\n",
       "        text-align: right;\n",
       "    }\n",
       "</style>\n",
       "<table border=\"1\" class=\"dataframe\">\n",
       "  <thead>\n",
       "    <tr style=\"text-align: right;\">\n",
       "      <th></th>\n",
       "      <th>Survived</th>\n",
       "      <th>Pclass</th>\n",
       "      <th>Sex</th>\n",
       "      <th>Age</th>\n",
       "      <th>SibSp</th>\n",
       "      <th>Parch</th>\n",
       "      <th>Fare</th>\n",
       "      <th>Embarked</th>\n",
       "    </tr>\n",
       "  </thead>\n",
       "  <tbody>\n",
       "    <tr>\n",
       "      <th>count</th>\n",
       "      <td>891.000000</td>\n",
       "      <td>891.000000</td>\n",
       "      <td>891.000000</td>\n",
       "      <td>891.000000</td>\n",
       "      <td>891.000000</td>\n",
       "      <td>891.000000</td>\n",
       "      <td>891.000000</td>\n",
       "      <td>891.000000</td>\n",
       "    </tr>\n",
       "    <tr>\n",
       "      <th>mean</th>\n",
       "      <td>0.383838</td>\n",
       "      <td>2.308642</td>\n",
       "      <td>0.647587</td>\n",
       "      <td>29.699118</td>\n",
       "      <td>0.523008</td>\n",
       "      <td>0.381594</td>\n",
       "      <td>32.746366</td>\n",
       "      <td>0.361392</td>\n",
       "    </tr>\n",
       "    <tr>\n",
       "      <th>std</th>\n",
       "      <td>0.486592</td>\n",
       "      <td>0.836071</td>\n",
       "      <td>0.477990</td>\n",
       "      <td>13.002015</td>\n",
       "      <td>1.102743</td>\n",
       "      <td>0.806057</td>\n",
       "      <td>49.514272</td>\n",
       "      <td>0.635673</td>\n",
       "    </tr>\n",
       "    <tr>\n",
       "      <th>min</th>\n",
       "      <td>0.000000</td>\n",
       "      <td>1.000000</td>\n",
       "      <td>0.000000</td>\n",
       "      <td>0.420000</td>\n",
       "      <td>0.000000</td>\n",
       "      <td>0.000000</td>\n",
       "      <td>4.012500</td>\n",
       "      <td>0.000000</td>\n",
       "    </tr>\n",
       "    <tr>\n",
       "      <th>25%</th>\n",
       "      <td>0.000000</td>\n",
       "      <td>2.000000</td>\n",
       "      <td>0.000000</td>\n",
       "      <td>22.000000</td>\n",
       "      <td>0.000000</td>\n",
       "      <td>0.000000</td>\n",
       "      <td>7.925000</td>\n",
       "      <td>0.000000</td>\n",
       "    </tr>\n",
       "    <tr>\n",
       "      <th>50%</th>\n",
       "      <td>0.000000</td>\n",
       "      <td>3.000000</td>\n",
       "      <td>1.000000</td>\n",
       "      <td>29.699118</td>\n",
       "      <td>0.000000</td>\n",
       "      <td>0.000000</td>\n",
       "      <td>15.100000</td>\n",
       "      <td>0.000000</td>\n",
       "    </tr>\n",
       "    <tr>\n",
       "      <th>75%</th>\n",
       "      <td>1.000000</td>\n",
       "      <td>3.000000</td>\n",
       "      <td>1.000000</td>\n",
       "      <td>35.000000</td>\n",
       "      <td>1.000000</td>\n",
       "      <td>0.000000</td>\n",
       "      <td>32.204208</td>\n",
       "      <td>1.000000</td>\n",
       "    </tr>\n",
       "    <tr>\n",
       "      <th>max</th>\n",
       "      <td>1.000000</td>\n",
       "      <td>3.000000</td>\n",
       "      <td>1.000000</td>\n",
       "      <td>80.000000</td>\n",
       "      <td>8.000000</td>\n",
       "      <td>6.000000</td>\n",
       "      <td>512.329200</td>\n",
       "      <td>2.000000</td>\n",
       "    </tr>\n",
       "  </tbody>\n",
       "</table>\n",
       "</div>"
      ],
      "text/plain": [
       "         Survived      Pclass         Sex         Age       SibSp       Parch  \\\n",
       "count  891.000000  891.000000  891.000000  891.000000  891.000000  891.000000   \n",
       "mean     0.383838    2.308642    0.647587   29.699118    0.523008    0.381594   \n",
       "std      0.486592    0.836071    0.477990   13.002015    1.102743    0.806057   \n",
       "min      0.000000    1.000000    0.000000    0.420000    0.000000    0.000000   \n",
       "25%      0.000000    2.000000    0.000000   22.000000    0.000000    0.000000   \n",
       "50%      0.000000    3.000000    1.000000   29.699118    0.000000    0.000000   \n",
       "75%      1.000000    3.000000    1.000000   35.000000    1.000000    0.000000   \n",
       "max      1.000000    3.000000    1.000000   80.000000    8.000000    6.000000   \n",
       "\n",
       "             Fare    Embarked  \n",
       "count  891.000000  891.000000  \n",
       "mean    32.746366    0.361392  \n",
       "std     49.514272    0.635673  \n",
       "min      4.012500    0.000000  \n",
       "25%      7.925000    0.000000  \n",
       "50%     15.100000    0.000000  \n",
       "75%     32.204208    1.000000  \n",
       "max    512.329200    2.000000  "
      ]
     },
     "execution_count": 41,
     "metadata": {},
     "output_type": "execute_result"
    }
   ],
   "source": [
    "train_data.describe()"
   ]
  },
  {
   "cell_type": "code",
   "execution_count": 42,
   "id": "unusual-coordination",
   "metadata": {
    "execution": {
     "iopub.execute_input": "2021-06-12T14:51:47.684244Z",
     "iopub.status.busy": "2021-06-12T14:51:47.683296Z",
     "iopub.status.idle": "2021-06-12T14:51:47.687103Z",
     "shell.execute_reply": "2021-06-12T14:51:47.687560Z",
     "shell.execute_reply.started": "2021-06-12T14:12:17.542042Z"
    },
    "papermill": {
     "duration": 0.086559,
     "end_time": "2021-06-12T14:51:47.687739",
     "exception": false,
     "start_time": "2021-06-12T14:51:47.601180",
     "status": "completed"
    },
    "tags": []
   },
   "outputs": [
    {
     "data": {
      "text/plain": [
       "Survived       0.236772\n",
       "Pclass         0.699015\n",
       "Sex            0.228475\n",
       "Age          169.052400\n",
       "SibSp          1.216043\n",
       "Parch          0.649728\n",
       "Fare        2451.663181\n",
       "Embarked       0.404081\n",
       "dtype: float64"
      ]
     },
     "execution_count": 42,
     "metadata": {},
     "output_type": "execute_result"
    }
   ],
   "source": [
    "train_data.var()"
   ]
  },
  {
   "cell_type": "markdown",
   "id": "metropolitan-needle",
   "metadata": {
    "papermill": {
     "duration": 0.075205,
     "end_time": "2021-06-12T14:51:47.838033",
     "exception": false,
     "start_time": "2021-06-12T14:51:47.762828",
     "status": "completed"
    },
    "tags": []
   },
   "source": [
    "**Variance in \"Fare\" column is very high so we have to normalize these columns.**"
   ]
  },
  {
   "cell_type": "code",
   "execution_count": 43,
   "id": "sacred-electron",
   "metadata": {
    "execution": {
     "iopub.execute_input": "2021-06-12T14:51:47.994371Z",
     "iopub.status.busy": "2021-06-12T14:51:47.993330Z",
     "iopub.status.idle": "2021-06-12T14:51:47.998882Z",
     "shell.execute_reply": "2021-06-12T14:51:47.999364Z",
     "shell.execute_reply.started": "2021-06-12T14:14:02.021825Z"
    },
    "papermill": {
     "duration": 0.085416,
     "end_time": "2021-06-12T14:51:47.999542",
     "exception": false,
     "start_time": "2021-06-12T14:51:47.914126",
     "status": "completed"
    },
    "tags": []
   },
   "outputs": [],
   "source": [
    "train_data['Age'] = np.log(train_data['Age'])\n",
    "train_data['Fare'] = np.log(train_data['Fare'])"
   ]
  },
  {
   "cell_type": "code",
   "execution_count": 44,
   "id": "existing-cover",
   "metadata": {
    "execution": {
     "iopub.execute_input": "2021-06-12T14:51:48.154757Z",
     "iopub.status.busy": "2021-06-12T14:51:48.153772Z",
     "iopub.status.idle": "2021-06-12T14:51:48.168396Z",
     "shell.execute_reply": "2021-06-12T14:51:48.167658Z",
     "shell.execute_reply.started": "2021-06-12T14:14:24.032301Z"
    },
    "papermill": {
     "duration": 0.093859,
     "end_time": "2021-06-12T14:51:48.168564",
     "exception": false,
     "start_time": "2021-06-12T14:51:48.074705",
     "status": "completed"
    },
    "tags": []
   },
   "outputs": [
    {
     "data": {
      "text/html": [
       "<div>\n",
       "<style scoped>\n",
       "    .dataframe tbody tr th:only-of-type {\n",
       "        vertical-align: middle;\n",
       "    }\n",
       "\n",
       "    .dataframe tbody tr th {\n",
       "        vertical-align: top;\n",
       "    }\n",
       "\n",
       "    .dataframe thead th {\n",
       "        text-align: right;\n",
       "    }\n",
       "</style>\n",
       "<table border=\"1\" class=\"dataframe\">\n",
       "  <thead>\n",
       "    <tr style=\"text-align: right;\">\n",
       "      <th></th>\n",
       "      <th>Survived</th>\n",
       "      <th>Pclass</th>\n",
       "      <th>Sex</th>\n",
       "      <th>Age</th>\n",
       "      <th>SibSp</th>\n",
       "      <th>Parch</th>\n",
       "      <th>Fare</th>\n",
       "      <th>Embarked</th>\n",
       "    </tr>\n",
       "  </thead>\n",
       "  <tbody>\n",
       "    <tr>\n",
       "      <th>0</th>\n",
       "      <td>0</td>\n",
       "      <td>3</td>\n",
       "      <td>1</td>\n",
       "      <td>3.091042</td>\n",
       "      <td>1</td>\n",
       "      <td>0</td>\n",
       "      <td>1.981001</td>\n",
       "      <td>0</td>\n",
       "    </tr>\n",
       "    <tr>\n",
       "      <th>1</th>\n",
       "      <td>1</td>\n",
       "      <td>1</td>\n",
       "      <td>0</td>\n",
       "      <td>3.637586</td>\n",
       "      <td>1</td>\n",
       "      <td>0</td>\n",
       "      <td>4.266662</td>\n",
       "      <td>1</td>\n",
       "    </tr>\n",
       "    <tr>\n",
       "      <th>2</th>\n",
       "      <td>1</td>\n",
       "      <td>3</td>\n",
       "      <td>0</td>\n",
       "      <td>3.258097</td>\n",
       "      <td>0</td>\n",
       "      <td>0</td>\n",
       "      <td>2.070022</td>\n",
       "      <td>0</td>\n",
       "    </tr>\n",
       "    <tr>\n",
       "      <th>3</th>\n",
       "      <td>1</td>\n",
       "      <td>1</td>\n",
       "      <td>0</td>\n",
       "      <td>3.555348</td>\n",
       "      <td>1</td>\n",
       "      <td>0</td>\n",
       "      <td>3.972177</td>\n",
       "      <td>0</td>\n",
       "    </tr>\n",
       "    <tr>\n",
       "      <th>4</th>\n",
       "      <td>0</td>\n",
       "      <td>3</td>\n",
       "      <td>1</td>\n",
       "      <td>3.555348</td>\n",
       "      <td>0</td>\n",
       "      <td>0</td>\n",
       "      <td>2.085672</td>\n",
       "      <td>0</td>\n",
       "    </tr>\n",
       "  </tbody>\n",
       "</table>\n",
       "</div>"
      ],
      "text/plain": [
       "   Survived  Pclass  Sex       Age  SibSp  Parch      Fare  Embarked\n",
       "0         0       3    1  3.091042      1      0  1.981001         0\n",
       "1         1       1    0  3.637586      1      0  4.266662         1\n",
       "2         1       3    0  3.258097      0      0  2.070022         0\n",
       "3         1       1    0  3.555348      1      0  3.972177         0\n",
       "4         0       3    1  3.555348      0      0  2.085672         0"
      ]
     },
     "execution_count": 44,
     "metadata": {},
     "output_type": "execute_result"
    }
   ],
   "source": [
    "train_data.head()"
   ]
  },
  {
   "cell_type": "markdown",
   "id": "interstate-polymer",
   "metadata": {
    "papermill": {
     "duration": 0.075658,
     "end_time": "2021-06-12T14:51:48.321496",
     "exception": false,
     "start_time": "2021-06-12T14:51:48.245838",
     "status": "completed"
    },
    "tags": []
   },
   "source": [
    "**Titanic Test data**"
   ]
  },
  {
   "cell_type": "code",
   "execution_count": 45,
   "id": "proof-bidder",
   "metadata": {
    "execution": {
     "iopub.execute_input": "2021-06-12T14:51:48.478931Z",
     "iopub.status.busy": "2021-06-12T14:51:48.478251Z",
     "iopub.status.idle": "2021-06-12T14:51:48.504131Z",
     "shell.execute_reply": "2021-06-12T14:51:48.504706Z",
     "shell.execute_reply.started": "2021-06-12T14:38:19.946611Z"
    },
    "papermill": {
     "duration": 0.10669,
     "end_time": "2021-06-12T14:51:48.504919",
     "exception": false,
     "start_time": "2021-06-12T14:51:48.398229",
     "status": "completed"
    },
    "tags": []
   },
   "outputs": [
    {
     "data": {
      "text/html": [
       "<div>\n",
       "<style scoped>\n",
       "    .dataframe tbody tr th:only-of-type {\n",
       "        vertical-align: middle;\n",
       "    }\n",
       "\n",
       "    .dataframe tbody tr th {\n",
       "        vertical-align: top;\n",
       "    }\n",
       "\n",
       "    .dataframe thead th {\n",
       "        text-align: right;\n",
       "    }\n",
       "</style>\n",
       "<table border=\"1\" class=\"dataframe\">\n",
       "  <thead>\n",
       "    <tr style=\"text-align: right;\">\n",
       "      <th></th>\n",
       "      <th>PassengerId</th>\n",
       "      <th>Pclass</th>\n",
       "      <th>Name</th>\n",
       "      <th>Sex</th>\n",
       "      <th>Age</th>\n",
       "      <th>SibSp</th>\n",
       "      <th>Parch</th>\n",
       "      <th>Ticket</th>\n",
       "      <th>Fare</th>\n",
       "      <th>Cabin</th>\n",
       "      <th>Embarked</th>\n",
       "    </tr>\n",
       "  </thead>\n",
       "  <tbody>\n",
       "    <tr>\n",
       "      <th>0</th>\n",
       "      <td>892</td>\n",
       "      <td>3</td>\n",
       "      <td>Kelly, Mr. James</td>\n",
       "      <td>male</td>\n",
       "      <td>34.5</td>\n",
       "      <td>0</td>\n",
       "      <td>0</td>\n",
       "      <td>330911</td>\n",
       "      <td>7.8292</td>\n",
       "      <td>NaN</td>\n",
       "      <td>Q</td>\n",
       "    </tr>\n",
       "    <tr>\n",
       "      <th>1</th>\n",
       "      <td>893</td>\n",
       "      <td>3</td>\n",
       "      <td>Wilkes, Mrs. James (Ellen Needs)</td>\n",
       "      <td>female</td>\n",
       "      <td>47.0</td>\n",
       "      <td>1</td>\n",
       "      <td>0</td>\n",
       "      <td>363272</td>\n",
       "      <td>7.0000</td>\n",
       "      <td>NaN</td>\n",
       "      <td>S</td>\n",
       "    </tr>\n",
       "    <tr>\n",
       "      <th>2</th>\n",
       "      <td>894</td>\n",
       "      <td>2</td>\n",
       "      <td>Myles, Mr. Thomas Francis</td>\n",
       "      <td>male</td>\n",
       "      <td>62.0</td>\n",
       "      <td>0</td>\n",
       "      <td>0</td>\n",
       "      <td>240276</td>\n",
       "      <td>9.6875</td>\n",
       "      <td>NaN</td>\n",
       "      <td>Q</td>\n",
       "    </tr>\n",
       "    <tr>\n",
       "      <th>3</th>\n",
       "      <td>895</td>\n",
       "      <td>3</td>\n",
       "      <td>Wirz, Mr. Albert</td>\n",
       "      <td>male</td>\n",
       "      <td>27.0</td>\n",
       "      <td>0</td>\n",
       "      <td>0</td>\n",
       "      <td>315154</td>\n",
       "      <td>8.6625</td>\n",
       "      <td>NaN</td>\n",
       "      <td>S</td>\n",
       "    </tr>\n",
       "    <tr>\n",
       "      <th>4</th>\n",
       "      <td>896</td>\n",
       "      <td>3</td>\n",
       "      <td>Hirvonen, Mrs. Alexander (Helga E Lindqvist)</td>\n",
       "      <td>female</td>\n",
       "      <td>22.0</td>\n",
       "      <td>1</td>\n",
       "      <td>1</td>\n",
       "      <td>3101298</td>\n",
       "      <td>12.2875</td>\n",
       "      <td>NaN</td>\n",
       "      <td>S</td>\n",
       "    </tr>\n",
       "  </tbody>\n",
       "</table>\n",
       "</div>"
      ],
      "text/plain": [
       "   PassengerId  Pclass                                          Name     Sex  \\\n",
       "0          892       3                              Kelly, Mr. James    male   \n",
       "1          893       3              Wilkes, Mrs. James (Ellen Needs)  female   \n",
       "2          894       2                     Myles, Mr. Thomas Francis    male   \n",
       "3          895       3                              Wirz, Mr. Albert    male   \n",
       "4          896       3  Hirvonen, Mrs. Alexander (Helga E Lindqvist)  female   \n",
       "\n",
       "    Age  SibSp  Parch   Ticket     Fare Cabin Embarked  \n",
       "0  34.5      0      0   330911   7.8292   NaN        Q  \n",
       "1  47.0      1      0   363272   7.0000   NaN        S  \n",
       "2  62.0      0      0   240276   9.6875   NaN        Q  \n",
       "3  27.0      0      0   315154   8.6625   NaN        S  \n",
       "4  22.0      1      1  3101298  12.2875   NaN        S  "
      ]
     },
     "execution_count": 45,
     "metadata": {},
     "output_type": "execute_result"
    }
   ],
   "source": [
    "test_data = pd.read_csv(\"../input/titanic/test.csv\")\n",
    "test_data.head()"
   ]
  },
  {
   "cell_type": "markdown",
   "id": "intelligent-miracle",
   "metadata": {
    "papermill": {
     "duration": 0.07934,
     "end_time": "2021-06-12T14:51:48.661829",
     "exception": false,
     "start_time": "2021-06-12T14:51:48.582489",
     "status": "completed"
    },
    "tags": []
   },
   "source": [
    "**To cleaning the test data**"
   ]
  },
  {
   "cell_type": "code",
   "execution_count": 46,
   "id": "promotional-mexican",
   "metadata": {
    "execution": {
     "iopub.execute_input": "2021-06-12T14:51:48.816656Z",
     "iopub.status.busy": "2021-06-12T14:51:48.815884Z",
     "iopub.status.idle": "2021-06-12T14:51:48.820935Z",
     "shell.execute_reply": "2021-06-12T14:51:48.821490Z",
     "shell.execute_reply.started": "2021-06-12T14:39:42.205959Z"
    },
    "papermill": {
     "duration": 0.084097,
     "end_time": "2021-06-12T14:51:48.821673",
     "exception": false,
     "start_time": "2021-06-12T14:51:48.737576",
     "status": "completed"
    },
    "tags": []
   },
   "outputs": [],
   "source": [
    "test_data.drop(['PassengerId', 'Name', 'Ticket', 'Cabin'], axis = 1, inplace = True)"
   ]
  },
  {
   "cell_type": "code",
   "execution_count": 47,
   "id": "ethical-prototype",
   "metadata": {
    "execution": {
     "iopub.execute_input": "2021-06-12T14:51:48.976705Z",
     "iopub.status.busy": "2021-06-12T14:51:48.976002Z",
     "iopub.status.idle": "2021-06-12T14:51:48.981122Z",
     "shell.execute_reply": "2021-06-12T14:51:48.981709Z",
     "shell.execute_reply.started": "2021-06-12T14:40:27.229942Z"
    },
    "papermill": {
     "duration": 0.084173,
     "end_time": "2021-06-12T14:51:48.981879",
     "exception": false,
     "start_time": "2021-06-12T14:51:48.897706",
     "status": "completed"
    },
    "tags": []
   },
   "outputs": [],
   "source": [
    "test_data['Fare'] = test_data['Fare'].replace(0, test_data['Fare'].mean())"
   ]
  },
  {
   "cell_type": "code",
   "execution_count": 48,
   "id": "dried-group",
   "metadata": {
    "execution": {
     "iopub.execute_input": "2021-06-12T14:51:49.142991Z",
     "iopub.status.busy": "2021-06-12T14:51:49.142012Z",
     "iopub.status.idle": "2021-06-12T14:51:49.145251Z",
     "shell.execute_reply": "2021-06-12T14:51:49.144613Z",
     "shell.execute_reply.started": "2021-06-12T14:40:51.389706Z"
    },
    "papermill": {
     "duration": 0.086361,
     "end_time": "2021-06-12T14:51:49.145416",
     "exception": false,
     "start_time": "2021-06-12T14:51:49.059055",
     "status": "completed"
    },
    "tags": []
   },
   "outputs": [],
   "source": [
    "test_data['Age'].fillna(test_data['Age'].mean(), inplace = True)"
   ]
  },
  {
   "cell_type": "code",
   "execution_count": 49,
   "id": "reverse-pattern",
   "metadata": {
    "execution": {
     "iopub.execute_input": "2021-06-12T14:51:49.304472Z",
     "iopub.status.busy": "2021-06-12T14:51:49.303741Z",
     "iopub.status.idle": "2021-06-12T14:51:49.306508Z",
     "shell.execute_reply": "2021-06-12T14:51:49.306965Z",
     "shell.execute_reply.started": "2021-06-12T14:41:49.705702Z"
    },
    "papermill": {
     "duration": 0.084915,
     "end_time": "2021-06-12T14:51:49.307146",
     "exception": false,
     "start_time": "2021-06-12T14:51:49.222231",
     "status": "completed"
    },
    "tags": []
   },
   "outputs": [],
   "source": [
    "test_data['Embarked'].fillna(test_data['Embarked'].mode()[0], inplace = True)"
   ]
  },
  {
   "cell_type": "code",
   "execution_count": 50,
   "id": "ceramic-logging",
   "metadata": {
    "execution": {
     "iopub.execute_input": "2021-06-12T14:51:49.469246Z",
     "iopub.status.busy": "2021-06-12T14:51:49.468133Z",
     "iopub.status.idle": "2021-06-12T14:51:49.472514Z",
     "shell.execute_reply": "2021-06-12T14:51:49.471928Z",
     "shell.execute_reply.started": "2021-06-12T14:42:06.483254Z"
    },
    "papermill": {
     "duration": 0.089654,
     "end_time": "2021-06-12T14:51:49.472667",
     "exception": false,
     "start_time": "2021-06-12T14:51:49.383013",
     "status": "completed"
    },
    "tags": []
   },
   "outputs": [
    {
     "data": {
      "text/plain": [
       "Pclass      0\n",
       "Sex         0\n",
       "Age         0\n",
       "SibSp       0\n",
       "Parch       0\n",
       "Fare        1\n",
       "Embarked    0\n",
       "dtype: int64"
      ]
     },
     "execution_count": 50,
     "metadata": {},
     "output_type": "execute_result"
    }
   ],
   "source": [
    "test_data.isna().sum()"
   ]
  },
  {
   "cell_type": "code",
   "execution_count": 51,
   "id": "flush-saver",
   "metadata": {
    "execution": {
     "iopub.execute_input": "2021-06-12T14:51:49.629272Z",
     "iopub.status.busy": "2021-06-12T14:51:49.628559Z",
     "iopub.status.idle": "2021-06-12T14:51:49.633335Z",
     "shell.execute_reply": "2021-06-12T14:51:49.633895Z",
     "shell.execute_reply.started": "2021-06-12T14:42:39.175856Z"
    },
    "papermill": {
     "duration": 0.085107,
     "end_time": "2021-06-12T14:51:49.634089",
     "exception": false,
     "start_time": "2021-06-12T14:51:49.548982",
     "status": "completed"
    },
    "tags": []
   },
   "outputs": [],
   "source": [
    "test_data['Fare'].fillna(test_data['Fare'].mean(), inplace = True)"
   ]
  },
  {
   "cell_type": "code",
   "execution_count": 52,
   "id": "developed-decision",
   "metadata": {
    "execution": {
     "iopub.execute_input": "2021-06-12T14:51:49.790701Z",
     "iopub.status.busy": "2021-06-12T14:51:49.790017Z",
     "iopub.status.idle": "2021-06-12T14:51:49.795648Z",
     "shell.execute_reply": "2021-06-12T14:51:49.796162Z",
     "shell.execute_reply.started": "2021-06-12T14:43:02.426992Z"
    },
    "papermill": {
     "duration": 0.085217,
     "end_time": "2021-06-12T14:51:49.796350",
     "exception": false,
     "start_time": "2021-06-12T14:51:49.711133",
     "status": "completed"
    },
    "tags": []
   },
   "outputs": [],
   "source": [
    "test_data['Sex'] = test_data['Sex'].apply(lambda val: 1 if val == 'male' else 0)"
   ]
  },
  {
   "cell_type": "code",
   "execution_count": 53,
   "id": "stuck-execution",
   "metadata": {
    "execution": {
     "iopub.execute_input": "2021-06-12T14:51:49.952861Z",
     "iopub.status.busy": "2021-06-12T14:51:49.952154Z",
     "iopub.status.idle": "2021-06-12T14:51:49.957695Z",
     "shell.execute_reply": "2021-06-12T14:51:49.958253Z",
     "shell.execute_reply.started": "2021-06-12T14:43:23.210586Z"
    },
    "papermill": {
     "duration": 0.085827,
     "end_time": "2021-06-12T14:51:49.958462",
     "exception": false,
     "start_time": "2021-06-12T14:51:49.872635",
     "status": "completed"
    },
    "tags": []
   },
   "outputs": [],
   "source": [
    "test_data['Embarked'] = test_data['Embarked'].map({'S' : 0, 'C': 1, 'Q': 2})"
   ]
  },
  {
   "cell_type": "code",
   "execution_count": 54,
   "id": "happy-bridal",
   "metadata": {
    "execution": {
     "iopub.execute_input": "2021-06-12T14:51:50.116473Z",
     "iopub.status.busy": "2021-06-12T14:51:50.115737Z",
     "iopub.status.idle": "2021-06-12T14:51:50.129759Z",
     "shell.execute_reply": "2021-06-12T14:51:50.129180Z",
     "shell.execute_reply.started": "2021-06-12T14:43:36.068130Z"
    },
    "papermill": {
     "duration": 0.092992,
     "end_time": "2021-06-12T14:51:50.129911",
     "exception": false,
     "start_time": "2021-06-12T14:51:50.036919",
     "status": "completed"
    },
    "tags": []
   },
   "outputs": [
    {
     "data": {
      "text/html": [
       "<div>\n",
       "<style scoped>\n",
       "    .dataframe tbody tr th:only-of-type {\n",
       "        vertical-align: middle;\n",
       "    }\n",
       "\n",
       "    .dataframe tbody tr th {\n",
       "        vertical-align: top;\n",
       "    }\n",
       "\n",
       "    .dataframe thead th {\n",
       "        text-align: right;\n",
       "    }\n",
       "</style>\n",
       "<table border=\"1\" class=\"dataframe\">\n",
       "  <thead>\n",
       "    <tr style=\"text-align: right;\">\n",
       "      <th></th>\n",
       "      <th>Pclass</th>\n",
       "      <th>Sex</th>\n",
       "      <th>Age</th>\n",
       "      <th>SibSp</th>\n",
       "      <th>Parch</th>\n",
       "      <th>Fare</th>\n",
       "      <th>Embarked</th>\n",
       "    </tr>\n",
       "  </thead>\n",
       "  <tbody>\n",
       "    <tr>\n",
       "      <th>0</th>\n",
       "      <td>3</td>\n",
       "      <td>1</td>\n",
       "      <td>34.5</td>\n",
       "      <td>0</td>\n",
       "      <td>0</td>\n",
       "      <td>7.8292</td>\n",
       "      <td>2</td>\n",
       "    </tr>\n",
       "    <tr>\n",
       "      <th>1</th>\n",
       "      <td>3</td>\n",
       "      <td>0</td>\n",
       "      <td>47.0</td>\n",
       "      <td>1</td>\n",
       "      <td>0</td>\n",
       "      <td>7.0000</td>\n",
       "      <td>0</td>\n",
       "    </tr>\n",
       "    <tr>\n",
       "      <th>2</th>\n",
       "      <td>2</td>\n",
       "      <td>1</td>\n",
       "      <td>62.0</td>\n",
       "      <td>0</td>\n",
       "      <td>0</td>\n",
       "      <td>9.6875</td>\n",
       "      <td>2</td>\n",
       "    </tr>\n",
       "    <tr>\n",
       "      <th>3</th>\n",
       "      <td>3</td>\n",
       "      <td>1</td>\n",
       "      <td>27.0</td>\n",
       "      <td>0</td>\n",
       "      <td>0</td>\n",
       "      <td>8.6625</td>\n",
       "      <td>0</td>\n",
       "    </tr>\n",
       "    <tr>\n",
       "      <th>4</th>\n",
       "      <td>3</td>\n",
       "      <td>0</td>\n",
       "      <td>22.0</td>\n",
       "      <td>1</td>\n",
       "      <td>1</td>\n",
       "      <td>12.2875</td>\n",
       "      <td>0</td>\n",
       "    </tr>\n",
       "  </tbody>\n",
       "</table>\n",
       "</div>"
      ],
      "text/plain": [
       "   Pclass  Sex   Age  SibSp  Parch     Fare  Embarked\n",
       "0       3    1  34.5      0      0   7.8292         2\n",
       "1       3    0  47.0      1      0   7.0000         0\n",
       "2       2    1  62.0      0      0   9.6875         2\n",
       "3       3    1  27.0      0      0   8.6625         0\n",
       "4       3    0  22.0      1      1  12.2875         0"
      ]
     },
     "execution_count": 54,
     "metadata": {},
     "output_type": "execute_result"
    }
   ],
   "source": [
    "test_data.head()"
   ]
  },
  {
   "cell_type": "code",
   "execution_count": 55,
   "id": "regional-warrior",
   "metadata": {
    "execution": {
     "iopub.execute_input": "2021-06-12T14:51:50.291616Z",
     "iopub.status.busy": "2021-06-12T14:51:50.290926Z",
     "iopub.status.idle": "2021-06-12T14:51:50.293329Z",
     "shell.execute_reply": "2021-06-12T14:51:50.293885Z",
     "shell.execute_reply.started": "2021-06-12T14:44:06.988178Z"
    },
    "papermill": {
     "duration": 0.086382,
     "end_time": "2021-06-12T14:51:50.294075",
     "exception": false,
     "start_time": "2021-06-12T14:51:50.207693",
     "status": "completed"
    },
    "tags": []
   },
   "outputs": [],
   "source": [
    "test_data['Age'] = np.log(test_data['Age'])\n",
    "test_data['Fare'] = np.log(test_data['Fare'])"
   ]
  },
  {
   "cell_type": "code",
   "execution_count": 56,
   "id": "brutal-frontier",
   "metadata": {
    "execution": {
     "iopub.execute_input": "2021-06-12T14:51:50.452908Z",
     "iopub.status.busy": "2021-06-12T14:51:50.452290Z",
     "iopub.status.idle": "2021-06-12T14:51:50.459526Z",
     "shell.execute_reply": "2021-06-12T14:51:50.460013Z",
     "shell.execute_reply.started": "2021-06-12T14:44:25.093194Z"
    },
    "papermill": {
     "duration": 0.088837,
     "end_time": "2021-06-12T14:51:50.460192",
     "exception": false,
     "start_time": "2021-06-12T14:51:50.371355",
     "status": "completed"
    },
    "tags": []
   },
   "outputs": [
    {
     "data": {
      "text/plain": [
       "Pclass      0.708690\n",
       "Sex         0.231960\n",
       "Age         0.482596\n",
       "SibSp       0.804178\n",
       "Parch       0.963203\n",
       "Fare        0.973274\n",
       "Embarked    0.469932\n",
       "dtype: float64"
      ]
     },
     "execution_count": 56,
     "metadata": {},
     "output_type": "execute_result"
    }
   ],
   "source": [
    "test_data.var()"
   ]
  },
  {
   "cell_type": "code",
   "execution_count": 57,
   "id": "cathedral-terrain",
   "metadata": {
    "execution": {
     "iopub.execute_input": "2021-06-12T14:51:50.616925Z",
     "iopub.status.busy": "2021-06-12T14:51:50.616259Z",
     "iopub.status.idle": "2021-06-12T14:51:50.624407Z",
     "shell.execute_reply": "2021-06-12T14:51:50.623865Z",
     "shell.execute_reply.started": "2021-06-12T14:44:39.173095Z"
    },
    "papermill": {
     "duration": 0.087536,
     "end_time": "2021-06-12T14:51:50.624545",
     "exception": false,
     "start_time": "2021-06-12T14:51:50.537009",
     "status": "completed"
    },
    "tags": []
   },
   "outputs": [
    {
     "data": {
      "text/plain": [
       "Pclass      False\n",
       "Sex         False\n",
       "Age         False\n",
       "SibSp       False\n",
       "Parch       False\n",
       "Fare        False\n",
       "Embarked    False\n",
       "dtype: bool"
      ]
     },
     "execution_count": 57,
     "metadata": {},
     "output_type": "execute_result"
    }
   ],
   "source": [
    "test_data.isna().any()"
   ]
  },
  {
   "cell_type": "code",
   "execution_count": 58,
   "id": "closing-alert",
   "metadata": {
    "execution": {
     "iopub.execute_input": "2021-06-12T14:51:50.791983Z",
     "iopub.status.busy": "2021-06-12T14:51:50.791030Z",
     "iopub.status.idle": "2021-06-12T14:51:50.794984Z",
     "shell.execute_reply": "2021-06-12T14:51:50.795443Z",
     "shell.execute_reply.started": "2021-06-12T14:44:54.886181Z"
    },
    "papermill": {
     "duration": 0.093724,
     "end_time": "2021-06-12T14:51:50.795633",
     "exception": false,
     "start_time": "2021-06-12T14:51:50.701909",
     "status": "completed"
    },
    "tags": []
   },
   "outputs": [
    {
     "data": {
      "text/html": [
       "<div>\n",
       "<style scoped>\n",
       "    .dataframe tbody tr th:only-of-type {\n",
       "        vertical-align: middle;\n",
       "    }\n",
       "\n",
       "    .dataframe tbody tr th {\n",
       "        vertical-align: top;\n",
       "    }\n",
       "\n",
       "    .dataframe thead th {\n",
       "        text-align: right;\n",
       "    }\n",
       "</style>\n",
       "<table border=\"1\" class=\"dataframe\">\n",
       "  <thead>\n",
       "    <tr style=\"text-align: right;\">\n",
       "      <th></th>\n",
       "      <th>Pclass</th>\n",
       "      <th>Sex</th>\n",
       "      <th>Age</th>\n",
       "      <th>SibSp</th>\n",
       "      <th>Parch</th>\n",
       "      <th>Fare</th>\n",
       "      <th>Embarked</th>\n",
       "    </tr>\n",
       "  </thead>\n",
       "  <tbody>\n",
       "    <tr>\n",
       "      <th>0</th>\n",
       "      <td>3</td>\n",
       "      <td>1</td>\n",
       "      <td>3.540959</td>\n",
       "      <td>0</td>\n",
       "      <td>0</td>\n",
       "      <td>2.057860</td>\n",
       "      <td>2</td>\n",
       "    </tr>\n",
       "    <tr>\n",
       "      <th>1</th>\n",
       "      <td>3</td>\n",
       "      <td>0</td>\n",
       "      <td>3.850148</td>\n",
       "      <td>1</td>\n",
       "      <td>0</td>\n",
       "      <td>1.945910</td>\n",
       "      <td>0</td>\n",
       "    </tr>\n",
       "    <tr>\n",
       "      <th>2</th>\n",
       "      <td>2</td>\n",
       "      <td>1</td>\n",
       "      <td>4.127134</td>\n",
       "      <td>0</td>\n",
       "      <td>0</td>\n",
       "      <td>2.270836</td>\n",
       "      <td>2</td>\n",
       "    </tr>\n",
       "    <tr>\n",
       "      <th>3</th>\n",
       "      <td>3</td>\n",
       "      <td>1</td>\n",
       "      <td>3.295837</td>\n",
       "      <td>0</td>\n",
       "      <td>0</td>\n",
       "      <td>2.159003</td>\n",
       "      <td>0</td>\n",
       "    </tr>\n",
       "    <tr>\n",
       "      <th>4</th>\n",
       "      <td>3</td>\n",
       "      <td>0</td>\n",
       "      <td>3.091042</td>\n",
       "      <td>1</td>\n",
       "      <td>1</td>\n",
       "      <td>2.508582</td>\n",
       "      <td>0</td>\n",
       "    </tr>\n",
       "  </tbody>\n",
       "</table>\n",
       "</div>"
      ],
      "text/plain": [
       "   Pclass  Sex       Age  SibSp  Parch      Fare  Embarked\n",
       "0       3    1  3.540959      0      0  2.057860         2\n",
       "1       3    0  3.850148      1      0  1.945910         0\n",
       "2       2    1  4.127134      0      0  2.270836         2\n",
       "3       3    1  3.295837      0      0  2.159003         0\n",
       "4       3    0  3.091042      1      1  2.508582         0"
      ]
     },
     "execution_count": 58,
     "metadata": {},
     "output_type": "execute_result"
    }
   ],
   "source": [
    "test_data.head()"
   ]
  },
  {
   "cell_type": "code",
   "execution_count": 59,
   "id": "apparent-cream",
   "metadata": {
    "execution": {
     "iopub.execute_input": "2021-06-12T14:51:50.956317Z",
     "iopub.status.busy": "2021-06-12T14:51:50.955312Z",
     "iopub.status.idle": "2021-06-12T14:51:50.962031Z",
     "shell.execute_reply": "2021-06-12T14:51:50.961452Z",
     "shell.execute_reply.started": "2021-06-12T14:45:24.748974Z"
    },
    "papermill": {
     "duration": 0.088281,
     "end_time": "2021-06-12T14:51:50.962173",
     "exception": false,
     "start_time": "2021-06-12T14:51:50.873892",
     "status": "completed"
    },
    "tags": []
   },
   "outputs": [],
   "source": [
    "X = train_data.drop('Survived', axis = 1)\n",
    "y = train_data['Survived']"
   ]
  },
  {
   "cell_type": "code",
   "execution_count": 60,
   "id": "flying-librarian",
   "metadata": {
    "execution": {
     "iopub.execute_input": "2021-06-12T14:51:51.127499Z",
     "iopub.status.busy": "2021-06-12T14:51:51.126549Z",
     "iopub.status.idle": "2021-06-12T14:51:51.356935Z",
     "shell.execute_reply": "2021-06-12T14:51:51.356182Z",
     "shell.execute_reply.started": "2021-06-12T14:45:37.283216Z"
    },
    "papermill": {
     "duration": 0.315596,
     "end_time": "2021-06-12T14:51:51.357091",
     "exception": false,
     "start_time": "2021-06-12T14:51:51.041495",
     "status": "completed"
    },
    "tags": []
   },
   "outputs": [],
   "source": [
    "from sklearn.model_selection import train_test_split\n",
    "\n",
    "X_train, X_test, y_train, y_test = train_test_split(X, y, test_size = 0.30, random_state = 0)"
   ]
  },
  {
   "cell_type": "markdown",
   "id": "separated-chassis",
   "metadata": {
    "papermill": {
     "duration": 0.077286,
     "end_time": "2021-06-12T14:51:51.513844",
     "exception": false,
     "start_time": "2021-06-12T14:51:51.436558",
     "status": "completed"
    },
    "tags": []
   },
   "source": [
    "**TO PERFORM THE MACHINE LEARNING MODELS**"
   ]
  },
  {
   "cell_type": "markdown",
   "id": "consolidated-remains",
   "metadata": {
    "papermill": {
     "duration": 0.080188,
     "end_time": "2021-06-12T14:51:51.673841",
     "exception": false,
     "start_time": "2021-06-12T14:51:51.593653",
     "status": "completed"
    },
    "tags": []
   },
   "source": [
    "**LOGISTIC REGRESSION**"
   ]
  },
  {
   "cell_type": "code",
   "execution_count": 61,
   "id": "minor-comfort",
   "metadata": {
    "execution": {
     "iopub.execute_input": "2021-06-12T14:51:51.835712Z",
     "iopub.status.busy": "2021-06-12T14:51:51.834940Z",
     "iopub.status.idle": "2021-06-12T14:51:51.933169Z",
     "shell.execute_reply": "2021-06-12T14:51:51.932536Z",
     "shell.execute_reply.started": "2021-06-12T14:47:31.001994Z"
    },
    "papermill": {
     "duration": 0.181165,
     "end_time": "2021-06-12T14:51:51.933328",
     "exception": false,
     "start_time": "2021-06-12T14:51:51.752163",
     "status": "completed"
    },
    "tags": []
   },
   "outputs": [],
   "source": [
    "from sklearn.linear_model import LogisticRegression"
   ]
  },
  {
   "cell_type": "code",
   "execution_count": 62,
   "id": "clear-elizabeth",
   "metadata": {
    "execution": {
     "iopub.execute_input": "2021-06-12T14:51:52.093502Z",
     "iopub.status.busy": "2021-06-12T14:51:52.092830Z",
     "iopub.status.idle": "2021-06-12T14:51:52.116933Z",
     "shell.execute_reply": "2021-06-12T14:51:52.117524Z",
     "shell.execute_reply.started": "2021-06-12T14:47:47.393813Z"
    },
    "papermill": {
     "duration": 0.106201,
     "end_time": "2021-06-12T14:51:52.117711",
     "exception": false,
     "start_time": "2021-06-12T14:51:52.011510",
     "status": "completed"
    },
    "tags": []
   },
   "outputs": [
    {
     "data": {
      "text/plain": [
       "LogisticRegression()"
      ]
     },
     "execution_count": 62,
     "metadata": {},
     "output_type": "execute_result"
    }
   ],
   "source": [
    "lr = LogisticRegression()\n",
    "lr.fit(X_train, y_train)"
   ]
  },
  {
   "cell_type": "code",
   "execution_count": 63,
   "id": "primary-galaxy",
   "metadata": {
    "execution": {
     "iopub.execute_input": "2021-06-12T14:51:52.278914Z",
     "iopub.status.busy": "2021-06-12T14:51:52.278245Z",
     "iopub.status.idle": "2021-06-12T14:51:52.303042Z",
     "shell.execute_reply": "2021-06-12T14:51:52.303582Z",
     "shell.execute_reply.started": "2021-06-12T14:48:15.209384Z"
    },
    "papermill": {
     "duration": 0.106835,
     "end_time": "2021-06-12T14:51:52.303767",
     "exception": false,
     "start_time": "2021-06-12T14:51:52.196932",
     "status": "completed"
    },
    "tags": []
   },
   "outputs": [
    {
     "name": "stdout",
     "output_type": "stream",
     "text": [
      "Training Accuracy of Logistic Regression is 0.8105939004815409\n",
      "Test Accuracy of Logistic Regression is 0.8134328358208955\n",
      "Confusion Matrix :- \n",
      " [[145  23]\n",
      " [ 27  73]]\n",
      "Classofocation Report : -\n",
      "               precision    recall  f1-score   support\n",
      "\n",
      "           0       0.84      0.86      0.85       168\n",
      "           1       0.76      0.73      0.74       100\n",
      "\n",
      "    accuracy                           0.81       268\n",
      "   macro avg       0.80      0.80      0.80       268\n",
      "weighted avg       0.81      0.81      0.81       268\n",
      "\n"
     ]
    }
   ],
   "source": [
    "from sklearn.metrics import accuracy_score, confusion_matrix, classification_report\n",
    "\n",
    "lr_acc = accuracy_score(y_test, lr.predict(X_test))\n",
    "\n",
    "print(f\"Training Accuracy of Logistic Regression is {accuracy_score(y_train, lr.predict(X_train))}\")\n",
    "print(f\"Test Accuracy of Logistic Regression is {lr_acc}\")\n",
    "\n",
    "print(f\"Confusion Matrix :- \\n {confusion_matrix(y_test, lr.predict(X_test))}\")\n",
    "print(f\"Classofocation Report : -\\n {classification_report(y_test, lr.predict(X_test))}\")"
   ]
  },
  {
   "cell_type": "code",
   "execution_count": 64,
   "id": "alleged-twenty",
   "metadata": {
    "execution": {
     "iopub.execute_input": "2021-06-12T14:51:52.470513Z",
     "iopub.status.busy": "2021-06-12T14:51:52.469801Z",
     "iopub.status.idle": "2021-06-12T14:51:55.254156Z",
     "shell.execute_reply": "2021-06-12T14:51:55.254711Z",
     "shell.execute_reply.started": "2021-06-12T14:49:32.500321Z"
    },
    "papermill": {
     "duration": 2.87228,
     "end_time": "2021-06-12T14:51:55.254894",
     "exception": false,
     "start_time": "2021-06-12T14:51:52.382614",
     "status": "completed"
    },
    "tags": []
   },
   "outputs": [
    {
     "name": "stdout",
     "output_type": "stream",
     "text": [
      "Fitting 5 folds for each of 14 candidates, totalling 70 fits\n"
     ]
    },
    {
     "name": "stderr",
     "output_type": "stream",
     "text": [
      "/opt/conda/lib/python3.7/site-packages/sklearn/model_selection/_search.py:921: UserWarning: One or more of the test scores are non-finite: [       nan 0.61156129        nan 0.72548387        nan 0.81384516\n",
      "        nan 0.70461935        nan 0.80743226        nan 0.80421935\n",
      "        nan 0.80263226]\n",
      "  category=UserWarning\n"
     ]
    },
    {
     "data": {
      "text/plain": [
       "GridSearchCV(cv=5, estimator=LogisticRegression(), n_jobs=-1,\n",
       "             param_grid={'C': [0.001, 0.01, 0.1, 0.005, 0.5, 1, 10],\n",
       "                         'penalty': ['l1', 'l2']},\n",
       "             verbose=1)"
      ]
     },
     "execution_count": 64,
     "metadata": {},
     "output_type": "execute_result"
    }
   ],
   "source": [
    "#hyper parameter tuning \n",
    "\n",
    "from sklearn.model_selection import GridSearchCV\n",
    "\n",
    "grid_param = {\n",
    "    'penalty': ['l1', 'l2'],\n",
    "    'C' : [0.001, 0.01, 0.1, 0.005, 0.5, 1, 10]\n",
    "}\n",
    "\n",
    "grid_search_lr = GridSearchCV(lr, grid_param, cv = 5, n_jobs = -1, verbose = 1)\n",
    "grid_search_lr.fit(X_train, y_train)"
   ]
  },
  {
   "cell_type": "code",
   "execution_count": 65,
   "id": "armed-eating",
   "metadata": {
    "execution": {
     "iopub.execute_input": "2021-06-12T14:51:55.421691Z",
     "iopub.status.busy": "2021-06-12T14:51:55.421063Z",
     "iopub.status.idle": "2021-06-12T14:51:55.427938Z",
     "shell.execute_reply": "2021-06-12T14:51:55.428865Z",
     "shell.execute_reply.started": "2021-06-12T14:49:55.444527Z"
    },
    "papermill": {
     "duration": 0.092488,
     "end_time": "2021-06-12T14:51:55.429125",
     "exception": false,
     "start_time": "2021-06-12T14:51:55.336637",
     "status": "completed"
    },
    "tags": []
   },
   "outputs": [
    {
     "name": "stdout",
     "output_type": "stream",
     "text": [
      "{'C': 0.1, 'penalty': 'l2'}\n",
      "0.8138451612903227\n"
     ]
    }
   ],
   "source": [
    "print(grid_search_lr.best_params_)\n",
    "print(grid_search_lr.best_score_)"
   ]
  },
  {
   "cell_type": "code",
   "execution_count": 66,
   "id": "careful-fountain",
   "metadata": {
    "execution": {
     "iopub.execute_input": "2021-06-12T14:51:55.600302Z",
     "iopub.status.busy": "2021-06-12T14:51:55.597388Z",
     "iopub.status.idle": "2021-06-12T14:51:55.618616Z",
     "shell.execute_reply": "2021-06-12T14:51:55.617925Z",
     "shell.execute_reply.started": "2021-06-12T14:50:17.496023Z"
    },
    "papermill": {
     "duration": 0.109348,
     "end_time": "2021-06-12T14:51:55.618763",
     "exception": false,
     "start_time": "2021-06-12T14:51:55.509415",
     "status": "completed"
    },
    "tags": []
   },
   "outputs": [
    {
     "name": "stdout",
     "output_type": "stream",
     "text": [
      "Training Accuracy of Logistic Regression is 0.8105939004815409\n",
      "Test Accuracy of Logistic Regression is 0.8171641791044776\n",
      "Confusion Matrix :- \n",
      " [[149  19]\n",
      " [ 30  70]]\n",
      "Classofocation Report : -\n",
      "               precision    recall  f1-score   support\n",
      "\n",
      "           0       0.83      0.89      0.86       168\n",
      "           1       0.79      0.70      0.74       100\n",
      "\n",
      "    accuracy                           0.82       268\n",
      "   macro avg       0.81      0.79      0.80       268\n",
      "weighted avg       0.82      0.82      0.81       268\n",
      "\n"
     ]
    }
   ],
   "source": [
    "lr = grid_search_lr.best_estimator_\n",
    "\n",
    "# accuracy score, confusion matrix and classification report of logistic regression\n",
    "\n",
    "lr_acc = accuracy_score(y_test, lr.predict(X_test))\n",
    "\n",
    "print(f\"Training Accuracy of Logistic Regression is {accuracy_score(y_train, lr.predict(X_train))}\")\n",
    "print(f\"Test Accuracy of Logistic Regression is {lr_acc}\")\n",
    "\n",
    "print(f\"Confusion Matrix :- \\n {confusion_matrix(y_test, lr.predict(X_test))}\")\n",
    "print(f\"Classofocation Report : -\\n {classification_report(y_test, lr.predict(X_test))}\")"
   ]
  }
 ],
 "metadata": {
  "kernelspec": {
   "display_name": "Python 3",
   "language": "python",
   "name": "python3"
  },
  "language_info": {
   "codemirror_mode": {
    "name": "ipython",
    "version": 3
   },
   "file_extension": ".py",
   "mimetype": "text/x-python",
   "name": "python",
   "nbconvert_exporter": "python",
   "pygments_lexer": "ipython3",
   "version": "3.7.9"
  },
  "papermill": {
   "default_parameters": {},
   "duration": 41.147386,
   "end_time": "2021-06-12T14:51:56.610746",
   "environment_variables": {},
   "exception": null,
   "input_path": "__notebook__.ipynb",
   "output_path": "__notebook__.ipynb",
   "parameters": {},
   "start_time": "2021-06-12T14:51:15.463360",
   "version": "2.3.2"
  }
 },
 "nbformat": 4,
 "nbformat_minor": 5
}
