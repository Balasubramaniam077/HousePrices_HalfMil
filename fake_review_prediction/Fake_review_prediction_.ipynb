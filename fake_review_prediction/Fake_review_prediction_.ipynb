{
  "nbformat": 4,
  "nbformat_minor": 0,
  "metadata": {
    "colab": {
      "private_outputs": true,
      "provenance": []
    },
    "kernelspec": {
      "name": "python3",
      "display_name": "Python 3"
    },
    "language_info": {
      "name": "python"
    }
  },
  "cells": [
    {
      "cell_type": "markdown",
      "source": [
        "Importing the Clean Dataset"
      ],
      "metadata": {
        "id": "g1Oz832SLlU0"
      }
    },
    {
      "cell_type": "code",
      "execution_count": null,
      "metadata": {
        "id": "tAi5wjwuKs5D"
      },
      "outputs": [],
      "source": [
        "!cp \"/content/drive/MyDrive/rajeshkumar/cleaned_data.csv\" \"/content/\""
      ]
    },
    {
      "cell_type": "markdown",
      "source": [
        "importing library "
      ],
      "metadata": {
        "id": "LmyyigR8Lsoz"
      }
    },
    {
      "cell_type": "code",
      "source": [
        "import numpy as np\n",
        "import pandas as pd"
      ],
      "metadata": {
        "id": "pBQggP7zLkLs"
      },
      "execution_count": null,
      "outputs": []
    },
    {
      "cell_type": "code",
      "source": [
        "df = pd.read_csv(\"/content/cleaned_data.csv\", index_col=None, header=0, sep=',')  \n",
        "df.head()"
      ],
      "metadata": {
        "id": "MNGHLTRgL4Fs"
      },
      "execution_count": null,
      "outputs": []
    },
    {
      "cell_type": "code",
      "source": [
        "df.isnull().sum()"
      ],
      "metadata": {
        "id": "07qwki1sMBnt"
      },
      "execution_count": null,
      "outputs": []
    },
    {
      "cell_type": "code",
      "source": [
        "df.info()"
      ],
      "metadata": {
        "id": "kqVOQaEIMGN7"
      },
      "execution_count": null,
      "outputs": []
    },
    {
      "cell_type": "code",
      "source": [
        "import seaborn as sns\n",
        "import matplotlib.pyplot as plt"
      ],
      "metadata": {
        "id": "XpI8x-NmMSla"
      },
      "execution_count": null,
      "outputs": []
    },
    {
      "cell_type": "code",
      "source": [
        "import nltk\n",
        "from nltk.corpus import stopwords\n",
        "from sklearn.feature_extraction.text import CountVectorizer, TfidfTransformer"
      ],
      "metadata": {
        "id": "qumdqIcCMLBj"
      },
      "execution_count": null,
      "outputs": []
    },
    {
      "cell_type": "code",
      "source": [
        "df = df.dropna(how='any',axis=0) "
      ],
      "metadata": {
        "id": "zdttPQIFNoCj"
      },
      "execution_count": null,
      "outputs": []
    },
    {
      "cell_type": "code",
      "source": [
        "df[\"verified_purchase\"].value_counts(normalize=True)"
      ],
      "metadata": {
        "id": "m1ND6vzENu3j"
      },
      "execution_count": null,
      "outputs": []
    },
    {
      "cell_type": "code",
      "source": [
        "df.head(5)"
      ],
      "metadata": {
        "id": "EL3C401WNwND"
      },
      "execution_count": null,
      "outputs": []
    },
    {
      "cell_type": "code",
      "source": [
        "X = df['review_text'] \n",
        "y = df['verified_purchase']"
      ],
      "metadata": {
        "id": "7zvLZ-9WNzxD"
      },
      "execution_count": null,
      "outputs": []
    },
    {
      "cell_type": "code",
      "source": [
        "import sklearn\n",
        "from sklearn.model_selection import train_test_split"
      ],
      "metadata": {
        "id": "x5W5Vv4VOEGb"
      },
      "execution_count": null,
      "outputs": []
    },
    {
      "cell_type": "code",
      "source": [
        "X_train, X_test, y_train, y_test = train_test_split(\n",
        "    df['review_text'], df['verified_purchase'],test_size=0.2, random_state=42) #40% gives best results, 42 is no of life...\n",
        "\n",
        "entiredf = format(df.shape[0])\n",
        "traindf = format(X_train.shape[0])\n",
        "testdf = format(X_test.shape[0])"
      ],
      "metadata": {
        "id": "LEsQxPALN_fj"
      },
      "execution_count": null,
      "outputs": []
    },
    {
      "cell_type": "code",
      "source": [
        "from sklearn.feature_extraction.text import CountVectorizer, TfidfVectorizer"
      ],
      "metadata": {
        "id": "qkjqLL0dOQLz"
      },
      "execution_count": null,
      "outputs": []
    },
    {
      "cell_type": "code",
      "source": [
        "TFIDF_vectorizer  = TfidfVectorizer(stop_words='english')\n",
        "\n",
        "TFIDF_vectorizer.fit(X_train)\n",
        "print('\\nVocabulary: \\n', TFIDF_vectorizer.vocabulary_)\n",
        "\n",
        "train_tf = TFIDF_vectorizer.fit_transform(X_train)\n",
        "test_tf = TFIDF_vectorizer.transform(X_test)"
      ],
      "metadata": {
        "id": "kXV3mxrKNPOj"
      },
      "execution_count": null,
      "outputs": []
    },
    {
      "cell_type": "code",
      "source": [
        "import missingno as msno"
      ],
      "metadata": {
        "id": "1y0sn4AjOvKC"
      },
      "execution_count": null,
      "outputs": []
    },
    {
      "cell_type": "code",
      "source": [
        "msno.bar(df)\n",
        "plt.show()"
      ],
      "metadata": {
        "id": "BoeNSk8bOTJD"
      },
      "execution_count": null,
      "outputs": []
    },
    {
      "cell_type": "code",
      "source": [
        "corrmat = df.corr()\n",
        "\n",
        "top_corr_features = corrmat.index\n",
        "\n",
        "plt.figure(figsize=(20,20))\n",
        "\n",
        "g=sns.heatmap(df[top_corr_features].corr(),annot=True,cmap=\"RdYlGn\")"
      ],
      "metadata": {
        "id": "D_dv3YRTO2Zy"
      },
      "execution_count": null,
      "outputs": []
    },
    {
      "cell_type": "code",
      "source": [
        "df.head(1)"
      ],
      "metadata": {
        "id": "xdfToLSNPMxK"
      },
      "execution_count": null,
      "outputs": []
    },
    {
      "cell_type": "code",
      "source": [
        "values = df['verified_purchase'].value_counts()\n",
        "labels = ['review_text', 'verified_purchase']\n",
        "\n",
        "fig, ax = plt.subplots(figsize = (5, 5), dpi = 100)\n",
        "explode = (0, 0.06)\n",
        "\n",
        "patches, texts, autotexts = ax.pie(values, labels = labels, autopct = '%1.2f%%', shadow = True,\n",
        "                                   startangle = 90, explode = explode)\n",
        "\n",
        "plt.setp(texts, color = 'grey')\n",
        "plt.setp(autotexts, size = 12, color = 'white')\n",
        "autotexts[1].set_color('black')\n",
        "plt.show()"
      ],
      "metadata": {
        "id": "m91wq60CPHvb"
      },
      "execution_count": null,
      "outputs": []
    },
    {
      "cell_type": "markdown",
      "source": [
        "**Logistic Regression**"
      ],
      "metadata": {
        "id": "452urcGJPodr"
      }
    },
    {
      "cell_type": "code",
      "source": [
        "from sklearn.linear_model import LogisticRegression"
      ],
      "metadata": {
        "id": "oIP6V6BzPtO7"
      },
      "execution_count": null,
      "outputs": []
    },
    {
      "cell_type": "markdown",
      "source": [
        "**Note : X_train convent into train_tf in vector**"
      ],
      "metadata": {
        "id": "OdCgRUjrQEfL"
      }
    },
    {
      "cell_type": "code",
      "source": [
        "lr = LogisticRegression()\n",
        "lr.fit(train_tf, y_train)\n",
        "prediction = lr.predict(test_tf)"
      ],
      "metadata": {
        "id": "KsTNhLqOP87L"
      },
      "execution_count": null,
      "outputs": []
    },
    {
      "cell_type": "code",
      "source": [
        "from sklearn.metrics import accuracy_score, precision_score, recall_score, f1_score\n",
        "from sklearn.metrics import confusion_matrix, ConfusionMatrixDisplay, plot_confusion_matrix"
      ],
      "metadata": {
        "id": "lsaz_qkxQh9V"
      },
      "execution_count": null,
      "outputs": []
    },
    {
      "cell_type": "code",
      "source": [
        "lr_a2 = accuracy_score(y_test, prediction)*100\n",
        "lr_p2 = precision_score(y_test, prediction)* 100\n",
        "lr_r2 = recall_score(y_test, prediction)*100\n",
        "lr_f12 = f1_score(y_test, prediction)*100"
      ],
      "metadata": {
        "id": "z1zgm2p7QaYz"
      },
      "execution_count": null,
      "outputs": []
    },
    {
      "cell_type": "code",
      "source": [
        "print(f\"Training Accuracy of Logistic Regression is {accuracy_score(y_train, lr.predict(train_tf))}\")"
      ],
      "metadata": {
        "id": "Kbkx8kWRRb6k"
      },
      "execution_count": null,
      "outputs": []
    },
    {
      "cell_type": "code",
      "source": [
        "# testing acc \n",
        "lr_a2"
      ],
      "metadata": {
        "id": "ReeGdRtWQsD7"
      },
      "execution_count": null,
      "outputs": []
    },
    {
      "cell_type": "code",
      "source": [
        "print(f\"Confusion Matrix :- \\n {confusion_matrix(y_test, lr.predict(test_tf))}\")"
      ],
      "metadata": {
        "id": "OSVWDsSjR1CR"
      },
      "execution_count": null,
      "outputs": []
    },
    {
      "cell_type": "code",
      "source": [
        "from sklearn.model_selection import GridSearchCV\n",
        "\n",
        "grid_param = {\n",
        "    'penalty': ['l1', 'l2'],\n",
        "    'C' : [0.001, 0.01, 0.1, 0.005, 0.5, 1, 10]\n",
        "}\n",
        "\n",
        "grid_search_lr = GridSearchCV(lr, grid_param, cv = 5, n_jobs = -1, verbose = 1)\n",
        "grid_search_lr.fit(train_tf, y_train)"
      ],
      "metadata": {
        "id": "cnu8oRKBSgBW"
      },
      "execution_count": null,
      "outputs": []
    },
    {
      "cell_type": "markdown",
      "source": [
        "**SVM** "
      ],
      "metadata": {
        "id": "1dRYkA07SUSD"
      }
    },
    {
      "cell_type": "code",
      "source": [
        "from sklearn.svm import SVC"
      ],
      "metadata": {
        "id": "yqhDConDS1Ey"
      },
      "execution_count": null,
      "outputs": []
    },
    {
      "cell_type": "code",
      "source": [
        "#linear Kernal\n",
        "svm1 = SVC(kernel='linear')\n",
        "svm1.fit(train_tf, y_train)\n",
        "prediction2 = svm1.predict(test_tf)"
      ],
      "metadata": {
        "id": "A68BnHRHTPZ6"
      },
      "execution_count": null,
      "outputs": []
    },
    {
      "cell_type": "code",
      "source": [
        "svm_a2 = accuracy_score(y_test, prediction2)*100\n",
        "svm_p2 = precision_score(y_test, prediction2)* 100\n",
        "svm_r2 = recall_score(y_test, prediction2)*100\n",
        "svm_f12 = f1_score(y_test, prediction2)*100"
      ],
      "metadata": {
        "id": "hc1iqjLeT0KE"
      },
      "execution_count": null,
      "outputs": []
    },
    {
      "cell_type": "code",
      "source": [
        "print(f\"Training Accuracy of Logistic Regression is {accuracy_score(y_train, svm1.predict(train_tf))}\")"
      ],
      "metadata": {
        "id": "qjBbnz3GT7SM"
      },
      "execution_count": null,
      "outputs": []
    },
    {
      "cell_type": "code",
      "source": [
        "svm_a2"
      ],
      "metadata": {
        "id": "FhDpNZXDT9bE"
      },
      "execution_count": null,
      "outputs": []
    },
    {
      "cell_type": "code",
      "source": [
        "print(f\"Confusion Matrix :- \\n {confusion_matrix(y_test, svm1.predict(test_tf))}\")"
      ],
      "metadata": {
        "id": "MK-HhdkbUIFv"
      },
      "execution_count": null,
      "outputs": []
    },
    {
      "cell_type": "code",
      "source": [
        "#linear Kernal\n",
        "svm2 = SVC(kernel='precomputed')\n",
        "svm2.fit(train_tf, y_train)\n",
        "prediction = svm1.predict(test_tf)"
      ],
      "metadata": {
        "id": "qAFgxX-DUWq8"
      },
      "execution_count": null,
      "outputs": []
    },
    {
      "cell_type": "markdown",
      "source": [
        "**Random Forest**"
      ],
      "metadata": {
        "id": "DF1eBNBNVKjV"
      }
    },
    {
      "cell_type": "code",
      "source": [
        "from sklearn.model_selection import train_test_split\n",
        "from sklearn.preprocessing import LabelEncoder\n",
        "from sklearn.ensemble import RandomForestClassifier\n",
        "from sklearn.metrics import accuracy_score, classification_report,mean_absolute_error,mean_squared_error"
      ],
      "metadata": {
        "id": "_b2xYykPVV-L"
      },
      "execution_count": null,
      "outputs": []
    },
    {
      "cell_type": "code",
      "source": [
        "clf = RandomForestClassifier(n_estimators=10, random_state=0)\n",
        "clf.fit(train_tf, y_train)"
      ],
      "metadata": {
        "id": "S3y_GGylVnWL"
      },
      "execution_count": null,
      "outputs": []
    },
    {
      "cell_type": "code",
      "source": [
        "y_pred = clf.predict(test_tf)\n",
        "y_pred"
      ],
      "metadata": {
        "id": "P-MXgKx2Vtxv"
      },
      "execution_count": null,
      "outputs": []
    },
    {
      "cell_type": "code",
      "source": [
        "rf_a = accuracy_score(y_test, prediction)*100\n",
        "rf_b = precision_score(y_test, prediction)* 100\n",
        "rf_c = recall_score(y_test, prediction)*100\n",
        "rf_d = f1_score(y_test, prediction)*100"
      ],
      "metadata": {
        "id": "WgYga7-4V30G"
      },
      "execution_count": null,
      "outputs": []
    },
    {
      "cell_type": "code",
      "source": [
        "print(f\"Training Accuracy of Logistic Regression is {accuracy_score(y_train, clf.predict(train_tf))}\")"
      ],
      "metadata": {
        "id": "pIvvUL0oV_qD"
      },
      "execution_count": null,
      "outputs": []
    },
    {
      "cell_type": "code",
      "source": [
        "rf_a"
      ],
      "metadata": {
        "id": "gwI454muWD_7"
      },
      "execution_count": null,
      "outputs": []
    },
    {
      "cell_type": "code",
      "source": [
        "plt.plot(y_pred)"
      ],
      "metadata": {
        "id": "oKJMsYyBWOWD"
      },
      "execution_count": null,
      "outputs": []
    },
    {
      "cell_type": "markdown",
      "source": [
        "kneigborsclassification\n"
      ],
      "metadata": {
        "id": "OA0lUgGZWlGM"
      }
    },
    {
      "cell_type": "code",
      "source": [
        "from sklearn.neighbors import KNeighborsClassifier"
      ],
      "metadata": {
        "id": "mitn3NGVWwEL"
      },
      "execution_count": null,
      "outputs": []
    },
    {
      "cell_type": "code",
      "source": [
        "kn=KNeighborsClassifier(n_neighbors=2)\n",
        "kn.fit(train_tf, y_train)"
      ],
      "metadata": {
        "id": "-2PRHOjmW0Qb"
      },
      "execution_count": null,
      "outputs": []
    },
    {
      "cell_type": "code",
      "source": [
        "kn_a = accuracy_score(y_test, prediction)*100\n",
        "kn_b = precision_score(y_test, prediction)* 100\n",
        "kn_c = recall_score(y_test, prediction)*100\n",
        "rf_d = f1_score(y_test, prediction)*100"
      ],
      "metadata": {
        "id": "aV_HujjtXJnV"
      },
      "execution_count": null,
      "outputs": []
    },
    {
      "cell_type": "code",
      "source": [
        "print(f\"Training Accuracy of Logistic Regression is {accuracy_score(y_train, kn.predict(train_tf))}\")"
      ],
      "metadata": {
        "id": "ZJSgmhkNXUfL"
      },
      "execution_count": null,
      "outputs": []
    },
    {
      "cell_type": "code",
      "source": [
        "kn_a"
      ],
      "metadata": {
        "id": "C-2XbO7xX4_7"
      },
      "execution_count": null,
      "outputs": []
    },
    {
      "cell_type": "code",
      "source": [
        "print(f\"Confusion Matrix :- \\n {confusion_matrix(y_test, kn.predict(test_tf))}\")"
      ],
      "metadata": {
        "id": "8ckXHz5gYXdk"
      },
      "execution_count": null,
      "outputs": []
    }
  ]
}