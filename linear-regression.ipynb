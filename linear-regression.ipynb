{
 "cells": [
  {
   "cell_type": "code",
   "execution_count": 1,
   "id": "suitable-weekly",
   "metadata": {
    "_cell_guid": "b1076dfc-b9ad-4769-8c92-a6c4dae69d19",
    "_uuid": "8f2839f25d086af736a60e9eeb907d3b93b6e0e5",
    "execution": {
     "iopub.execute_input": "2021-06-11T08:00:59.458322Z",
     "iopub.status.busy": "2021-06-11T08:00:59.457154Z",
     "iopub.status.idle": "2021-06-11T08:00:59.481169Z",
     "shell.execute_reply": "2021-06-11T08:00:59.481724Z",
     "shell.execute_reply.started": "2021-06-11T07:35:29.305279Z"
    },
    "papermill": {
     "duration": 0.062712,
     "end_time": "2021-06-11T08:00:59.482056",
     "exception": false,
     "start_time": "2021-06-11T08:00:59.419344",
     "status": "completed"
    },
    "tags": []
   },
   "outputs": [
    {
     "name": "stdout",
     "output_type": "stream",
     "text": [
      "/kaggle/input/housepricing/HousePrices_HalfMil.csv\n"
     ]
    }
   ],
   "source": [
    "# This Python 3 environment comes with many helpful analytics libraries installed\n",
    "# It is defined by the kaggle/python Docker image: https://github.com/kaggle/docker-python\n",
    "# For example, here's several helpful packages to load\n",
    "\n",
    "import numpy as np # linear algebra\n",
    "import pandas as pd # data processing, CSV file I/O (e.g. pd.read_csv)\n",
    "\n",
    "# Input data files are available in the read-only \"../input/\" directory\n",
    "# For example, running this (by clicking run or pressing Shift+Enter) will list all files under the input directory\n",
    "\n",
    "import os\n",
    "for dirname, _, filenames in os.walk('/kaggle/input'):\n",
    "    for filename in filenames:\n",
    "        print(os.path.join(dirname, filename))\n",
    "\n",
    "# You can write up to 20GB to the current directory (/kaggle/working/) that gets preserved as output when you create a version using \"Save & Run All\" \n",
    "# You can also write temporary files to /kaggle/temp/, but they won't be saved outside of the current session"
   ]
  },
  {
   "cell_type": "markdown",
   "id": "spanish-might",
   "metadata": {
    "papermill": {
     "duration": 0.033035,
     "end_time": "2021-06-11T08:00:59.550362",
     "exception": false,
     "start_time": "2021-06-11T08:00:59.517327",
     "status": "completed"
    },
    "tags": []
   },
   "source": [
    "**Reading the Dataset**"
   ]
  },
  {
   "cell_type": "code",
   "execution_count": 2,
   "id": "entertaining-sodium",
   "metadata": {
    "execution": {
     "iopub.execute_input": "2021-06-11T08:00:59.619941Z",
     "iopub.status.busy": "2021-06-11T08:00:59.619292Z",
     "iopub.status.idle": "2021-06-11T08:01:00.453321Z",
     "shell.execute_reply": "2021-06-11T08:01:00.452619Z",
     "shell.execute_reply.started": "2021-06-11T07:36:06.744062Z"
    },
    "papermill": {
     "duration": 0.870104,
     "end_time": "2021-06-11T08:01:00.453511",
     "exception": false,
     "start_time": "2021-06-11T08:00:59.583407",
     "status": "completed"
    },
    "tags": []
   },
   "outputs": [
    {
     "data": {
      "text/html": [
       "<div>\n",
       "<style scoped>\n",
       "    .dataframe tbody tr th:only-of-type {\n",
       "        vertical-align: middle;\n",
       "    }\n",
       "\n",
       "    .dataframe tbody tr th {\n",
       "        vertical-align: top;\n",
       "    }\n",
       "\n",
       "    .dataframe thead th {\n",
       "        text-align: right;\n",
       "    }\n",
       "</style>\n",
       "<table border=\"1\" class=\"dataframe\">\n",
       "  <thead>\n",
       "    <tr style=\"text-align: right;\">\n",
       "      <th></th>\n",
       "      <th>Area</th>\n",
       "      <th>Garage</th>\n",
       "      <th>FirePlace</th>\n",
       "      <th>Baths</th>\n",
       "      <th>White Marble</th>\n",
       "      <th>Black Marble</th>\n",
       "      <th>Indian Marble</th>\n",
       "      <th>Floors</th>\n",
       "      <th>City</th>\n",
       "      <th>Solar</th>\n",
       "      <th>Electric</th>\n",
       "      <th>Fiber</th>\n",
       "      <th>Glass Doors</th>\n",
       "      <th>Swiming Pool</th>\n",
       "      <th>Garden</th>\n",
       "      <th>Prices</th>\n",
       "    </tr>\n",
       "  </thead>\n",
       "  <tbody>\n",
       "    <tr>\n",
       "      <th>0</th>\n",
       "      <td>164</td>\n",
       "      <td>2</td>\n",
       "      <td>0</td>\n",
       "      <td>2</td>\n",
       "      <td>0</td>\n",
       "      <td>1</td>\n",
       "      <td>0</td>\n",
       "      <td>0</td>\n",
       "      <td>3</td>\n",
       "      <td>1</td>\n",
       "      <td>1</td>\n",
       "      <td>1</td>\n",
       "      <td>1</td>\n",
       "      <td>0</td>\n",
       "      <td>0</td>\n",
       "      <td>43800</td>\n",
       "    </tr>\n",
       "    <tr>\n",
       "      <th>1</th>\n",
       "      <td>84</td>\n",
       "      <td>2</td>\n",
       "      <td>0</td>\n",
       "      <td>4</td>\n",
       "      <td>0</td>\n",
       "      <td>0</td>\n",
       "      <td>1</td>\n",
       "      <td>1</td>\n",
       "      <td>2</td>\n",
       "      <td>0</td>\n",
       "      <td>0</td>\n",
       "      <td>0</td>\n",
       "      <td>1</td>\n",
       "      <td>1</td>\n",
       "      <td>1</td>\n",
       "      <td>37550</td>\n",
       "    </tr>\n",
       "    <tr>\n",
       "      <th>2</th>\n",
       "      <td>190</td>\n",
       "      <td>2</td>\n",
       "      <td>4</td>\n",
       "      <td>4</td>\n",
       "      <td>1</td>\n",
       "      <td>0</td>\n",
       "      <td>0</td>\n",
       "      <td>0</td>\n",
       "      <td>2</td>\n",
       "      <td>0</td>\n",
       "      <td>0</td>\n",
       "      <td>1</td>\n",
       "      <td>0</td>\n",
       "      <td>0</td>\n",
       "      <td>0</td>\n",
       "      <td>49500</td>\n",
       "    </tr>\n",
       "    <tr>\n",
       "      <th>3</th>\n",
       "      <td>75</td>\n",
       "      <td>2</td>\n",
       "      <td>4</td>\n",
       "      <td>4</td>\n",
       "      <td>0</td>\n",
       "      <td>0</td>\n",
       "      <td>1</td>\n",
       "      <td>1</td>\n",
       "      <td>1</td>\n",
       "      <td>1</td>\n",
       "      <td>1</td>\n",
       "      <td>1</td>\n",
       "      <td>1</td>\n",
       "      <td>1</td>\n",
       "      <td>1</td>\n",
       "      <td>50075</td>\n",
       "    </tr>\n",
       "    <tr>\n",
       "      <th>4</th>\n",
       "      <td>148</td>\n",
       "      <td>1</td>\n",
       "      <td>4</td>\n",
       "      <td>2</td>\n",
       "      <td>1</td>\n",
       "      <td>0</td>\n",
       "      <td>0</td>\n",
       "      <td>1</td>\n",
       "      <td>2</td>\n",
       "      <td>1</td>\n",
       "      <td>0</td>\n",
       "      <td>0</td>\n",
       "      <td>1</td>\n",
       "      <td>1</td>\n",
       "      <td>1</td>\n",
       "      <td>52400</td>\n",
       "    </tr>\n",
       "    <tr>\n",
       "      <th>5</th>\n",
       "      <td>124</td>\n",
       "      <td>3</td>\n",
       "      <td>3</td>\n",
       "      <td>3</td>\n",
       "      <td>0</td>\n",
       "      <td>1</td>\n",
       "      <td>0</td>\n",
       "      <td>1</td>\n",
       "      <td>1</td>\n",
       "      <td>0</td>\n",
       "      <td>0</td>\n",
       "      <td>1</td>\n",
       "      <td>1</td>\n",
       "      <td>1</td>\n",
       "      <td>1</td>\n",
       "      <td>54300</td>\n",
       "    </tr>\n",
       "    <tr>\n",
       "      <th>6</th>\n",
       "      <td>58</td>\n",
       "      <td>1</td>\n",
       "      <td>0</td>\n",
       "      <td>2</td>\n",
       "      <td>0</td>\n",
       "      <td>0</td>\n",
       "      <td>1</td>\n",
       "      <td>0</td>\n",
       "      <td>3</td>\n",
       "      <td>0</td>\n",
       "      <td>1</td>\n",
       "      <td>1</td>\n",
       "      <td>1</td>\n",
       "      <td>0</td>\n",
       "      <td>1</td>\n",
       "      <td>34400</td>\n",
       "    </tr>\n",
       "    <tr>\n",
       "      <th>7</th>\n",
       "      <td>249</td>\n",
       "      <td>2</td>\n",
       "      <td>1</td>\n",
       "      <td>1</td>\n",
       "      <td>1</td>\n",
       "      <td>0</td>\n",
       "      <td>0</td>\n",
       "      <td>1</td>\n",
       "      <td>1</td>\n",
       "      <td>0</td>\n",
       "      <td>1</td>\n",
       "      <td>0</td>\n",
       "      <td>1</td>\n",
       "      <td>1</td>\n",
       "      <td>0</td>\n",
       "      <td>50425</td>\n",
       "    </tr>\n",
       "    <tr>\n",
       "      <th>8</th>\n",
       "      <td>243</td>\n",
       "      <td>1</td>\n",
       "      <td>0</td>\n",
       "      <td>2</td>\n",
       "      <td>0</td>\n",
       "      <td>0</td>\n",
       "      <td>1</td>\n",
       "      <td>1</td>\n",
       "      <td>1</td>\n",
       "      <td>0</td>\n",
       "      <td>0</td>\n",
       "      <td>0</td>\n",
       "      <td>0</td>\n",
       "      <td>1</td>\n",
       "      <td>0</td>\n",
       "      <td>29575</td>\n",
       "    </tr>\n",
       "    <tr>\n",
       "      <th>9</th>\n",
       "      <td>242</td>\n",
       "      <td>1</td>\n",
       "      <td>2</td>\n",
       "      <td>4</td>\n",
       "      <td>0</td>\n",
       "      <td>0</td>\n",
       "      <td>1</td>\n",
       "      <td>0</td>\n",
       "      <td>2</td>\n",
       "      <td>1</td>\n",
       "      <td>0</td>\n",
       "      <td>0</td>\n",
       "      <td>0</td>\n",
       "      <td>1</td>\n",
       "      <td>0</td>\n",
       "      <td>22300</td>\n",
       "    </tr>\n",
       "  </tbody>\n",
       "</table>\n",
       "</div>"
      ],
      "text/plain": [
       "   Area  Garage  FirePlace  Baths  White Marble  Black Marble  Indian Marble  \\\n",
       "0   164       2          0      2             0             1              0   \n",
       "1    84       2          0      4             0             0              1   \n",
       "2   190       2          4      4             1             0              0   \n",
       "3    75       2          4      4             0             0              1   \n",
       "4   148       1          4      2             1             0              0   \n",
       "5   124       3          3      3             0             1              0   \n",
       "6    58       1          0      2             0             0              1   \n",
       "7   249       2          1      1             1             0              0   \n",
       "8   243       1          0      2             0             0              1   \n",
       "9   242       1          2      4             0             0              1   \n",
       "\n",
       "   Floors  City  Solar  Electric  Fiber  Glass Doors  Swiming Pool  Garden  \\\n",
       "0       0     3      1         1      1            1             0       0   \n",
       "1       1     2      0         0      0            1             1       1   \n",
       "2       0     2      0         0      1            0             0       0   \n",
       "3       1     1      1         1      1            1             1       1   \n",
       "4       1     2      1         0      0            1             1       1   \n",
       "5       1     1      0         0      1            1             1       1   \n",
       "6       0     3      0         1      1            1             0       1   \n",
       "7       1     1      0         1      0            1             1       0   \n",
       "8       1     1      0         0      0            0             1       0   \n",
       "9       0     2      1         0      0            0             1       0   \n",
       "\n",
       "   Prices  \n",
       "0   43800  \n",
       "1   37550  \n",
       "2   49500  \n",
       "3   50075  \n",
       "4   52400  \n",
       "5   54300  \n",
       "6   34400  \n",
       "7   50425  \n",
       "8   29575  \n",
       "9   22300  "
      ]
     },
     "execution_count": 2,
     "metadata": {},
     "output_type": "execute_result"
    }
   ],
   "source": [
    "df=pd.read_csv(\"../input/housepricing/HousePrices_HalfMil.csv\")\n",
    "df.head(10)"
   ]
  },
  {
   "cell_type": "code",
   "execution_count": 3,
   "id": "structural-issue",
   "metadata": {
    "execution": {
     "iopub.execute_input": "2021-06-11T08:01:00.536907Z",
     "iopub.status.busy": "2021-06-11T08:01:00.536168Z",
     "iopub.status.idle": "2021-06-11T08:01:00.539213Z",
     "shell.execute_reply": "2021-06-11T08:01:00.539686Z",
     "shell.execute_reply.started": "2021-06-11T07:37:15.877395Z"
    },
    "papermill": {
     "duration": 0.051419,
     "end_time": "2021-06-11T08:01:00.539865",
     "exception": false,
     "start_time": "2021-06-11T08:01:00.488446",
     "status": "completed"
    },
    "tags": []
   },
   "outputs": [
    {
     "data": {
      "text/plain": [
       "<bound method DataFrame.info of         Area  Garage  FirePlace  Baths  White Marble  Black Marble  \\\n",
       "0        164       2          0      2             0             1   \n",
       "1         84       2          0      4             0             0   \n",
       "2        190       2          4      4             1             0   \n",
       "3         75       2          4      4             0             0   \n",
       "4        148       1          4      2             1             0   \n",
       "...      ...     ...        ...    ...           ...           ...   \n",
       "499995   128       3          4      2             1             0   \n",
       "499996    30       2          4      5             0             0   \n",
       "499997   174       3          3      2             0             1   \n",
       "499998   121       1          4      5             0             1   \n",
       "499999    46       2          4      4             1             0   \n",
       "\n",
       "        Indian Marble  Floors  City  Solar  Electric  Fiber  Glass Doors  \\\n",
       "0                   0       0     3      1         1      1            1   \n",
       "1                   1       1     2      0         0      0            1   \n",
       "2                   0       0     2      0         0      1            0   \n",
       "3                   1       1     1      1         1      1            1   \n",
       "4                   0       1     2      1         0      0            1   \n",
       "...               ...     ...   ...    ...       ...    ...          ...   \n",
       "499995              0       1     2      0         1      0            1   \n",
       "499996              1       0     1      0         0      1            0   \n",
       "499997              0       1     1      1         1      1            0   \n",
       "499998              0       1     3      0         1      1            1   \n",
       "499999              0       0     1      1         1      0            0   \n",
       "\n",
       "        Swiming Pool  Garden  Prices  \n",
       "0                  0       0   43800  \n",
       "1                  1       1   37550  \n",
       "2                  0       0   49500  \n",
       "3                  1       1   50075  \n",
       "4                  1       1   52400  \n",
       "...              ...     ...     ...  \n",
       "499995             1       1   55900  \n",
       "499996             0       1   29250  \n",
       "499997             1       0   51350  \n",
       "499998             0       0   62725  \n",
       "499999             0       0   32150  \n",
       "\n",
       "[500000 rows x 16 columns]>"
      ]
     },
     "execution_count": 3,
     "metadata": {},
     "output_type": "execute_result"
    }
   ],
   "source": [
    "df.info"
   ]
  },
  {
   "cell_type": "code",
   "execution_count": 4,
   "id": "nearby-result",
   "metadata": {
    "execution": {
     "iopub.execute_input": "2021-06-11T08:01:00.611402Z",
     "iopub.status.busy": "2021-06-11T08:01:00.610759Z",
     "iopub.status.idle": "2021-06-11T08:01:00.629471Z",
     "shell.execute_reply": "2021-06-11T08:01:00.628667Z",
     "shell.execute_reply.started": "2021-06-11T07:37:30.794717Z"
    },
    "papermill": {
     "duration": 0.055485,
     "end_time": "2021-06-11T08:01:00.629634",
     "exception": false,
     "start_time": "2021-06-11T08:01:00.574149",
     "status": "completed"
    },
    "tags": []
   },
   "outputs": [
    {
     "data": {
      "text/plain": [
       "Area             0\n",
       "Garage           0\n",
       "FirePlace        0\n",
       "Baths            0\n",
       "White Marble     0\n",
       "Black Marble     0\n",
       "Indian Marble    0\n",
       "Floors           0\n",
       "City             0\n",
       "Solar            0\n",
       "Electric         0\n",
       "Fiber            0\n",
       "Glass Doors      0\n",
       "Swiming Pool     0\n",
       "Garden           0\n",
       "Prices           0\n",
       "dtype: int64"
      ]
     },
     "execution_count": 4,
     "metadata": {},
     "output_type": "execute_result"
    }
   ],
   "source": [
    "df.isnull().sum()"
   ]
  },
  {
   "cell_type": "markdown",
   "id": "worse-stuart",
   "metadata": {
    "papermill": {
     "duration": 0.034523,
     "end_time": "2021-06-11T08:01:00.698640",
     "exception": false,
     "start_time": "2021-06-11T08:01:00.664117",
     "status": "completed"
    },
    "tags": []
   },
   "source": [
    "**DATA VISUALIZATION**"
   ]
  },
  {
   "cell_type": "code",
   "execution_count": 5,
   "id": "pleasant-monte",
   "metadata": {
    "execution": {
     "iopub.execute_input": "2021-06-11T08:01:00.772167Z",
     "iopub.status.busy": "2021-06-11T08:01:00.771471Z",
     "iopub.status.idle": "2021-06-11T08:01:00.773813Z",
     "shell.execute_reply": "2021-06-11T08:01:00.774282Z",
     "shell.execute_reply.started": "2021-06-11T07:45:16.833856Z"
    },
    "papermill": {
     "duration": 0.041298,
     "end_time": "2021-06-11T08:01:00.774444",
     "exception": false,
     "start_time": "2021-06-11T08:01:00.733146",
     "status": "completed"
    },
    "tags": []
   },
   "outputs": [],
   "source": [
    "import matplotlib.pyplot as plot"
   ]
  },
  {
   "cell_type": "code",
   "execution_count": 6,
   "id": "subtle-treasure",
   "metadata": {
    "execution": {
     "iopub.execute_input": "2021-06-11T08:01:00.846889Z",
     "iopub.status.busy": "2021-06-11T08:01:00.846258Z",
     "iopub.status.idle": "2021-06-11T08:01:02.103236Z",
     "shell.execute_reply": "2021-06-11T08:01:02.103782Z",
     "shell.execute_reply.started": "2021-06-11T07:39:13.978171Z"
    },
    "papermill": {
     "duration": 1.295104,
     "end_time": "2021-06-11T08:01:02.103959",
     "exception": false,
     "start_time": "2021-06-11T08:01:00.808855",
     "status": "completed"
    },
    "tags": []
   },
   "outputs": [
    {
     "data": {
      "text/plain": [
       "<AxesSubplot:ylabel='Frequency'>"
      ]
     },
     "execution_count": 6,
     "metadata": {},
     "output_type": "execute_result"
    },
    {
     "data": {
      "image/png": "[encoded data removed]",
      "text/plain": [
       "<Figure size 432x288 with 1 Axes>"
      ]
     },
     "metadata": {
      "needs_background": "light"
     },
     "output_type": "display_data"
    }
   ],
   "source": [
    "df.plot.hist()"
   ]
  },
  {
   "cell_type": "code",
   "execution_count": 7,
   "id": "sudden-child",
   "metadata": {
    "execution": {
     "iopub.execute_input": "2021-06-11T08:01:02.210337Z",
     "iopub.status.busy": "2021-06-11T08:01:02.208722Z",
     "iopub.status.idle": "2021-06-11T08:01:03.631719Z",
     "shell.execute_reply": "2021-06-11T08:01:03.631090Z",
     "shell.execute_reply.started": "2021-06-11T07:45:20.688524Z"
    },
    "papermill": {
     "duration": 1.491651,
     "end_time": "2021-06-11T08:01:03.631886",
     "exception": false,
     "start_time": "2021-06-11T08:01:02.140235",
     "status": "completed"
    },
    "tags": []
   },
   "outputs": [
    {
     "data": {
      "image/png": "[encoded data removed]",
      "text/plain": [
       "<Figure size 432x288 with 1 Axes>"
      ]
     },
     "metadata": {
      "needs_background": "light"
     },
     "output_type": "display_data"
    }
   ],
   "source": [
    "X = df['Area']\n",
    "y = df['Prices']\n",
    "plot.scatter(X,y,c='purple', edgecolor='Black', s=70)\n",
    "plot.xlabel('AREA')\n",
    "plot.ylabel('DATA VISIBLE')\n",
    "plot.title('HOUSE PREDICT')\n",
    "plot.show()"
   ]
  },
  {
   "cell_type": "code",
   "execution_count": 8,
   "id": "fleet-grocery",
   "metadata": {
    "execution": {
     "iopub.execute_input": "2021-06-11T08:01:03.714349Z",
     "iopub.status.busy": "2021-06-11T08:01:03.713598Z",
     "iopub.status.idle": "2021-06-11T08:01:04.625209Z",
     "shell.execute_reply": "2021-06-11T08:01:04.625696Z",
     "shell.execute_reply.started": "2021-06-11T07:45:46.766491Z"
    },
    "papermill": {
     "duration": 0.955145,
     "end_time": "2021-06-11T08:01:04.625909",
     "exception": false,
     "start_time": "2021-06-11T08:01:03.670764",
     "status": "completed"
    },
    "tags": []
   },
   "outputs": [],
   "source": [
    "import seaborn as sns"
   ]
  },
  {
   "cell_type": "code",
   "execution_count": 9,
   "id": "unsigned-huntington",
   "metadata": {
    "execution": {
     "iopub.execute_input": "2021-06-11T08:01:04.707163Z",
     "iopub.status.busy": "2021-06-11T08:01:04.706510Z",
     "iopub.status.idle": "2021-06-11T08:01:05.204624Z",
     "shell.execute_reply": "2021-06-11T08:01:05.205224Z",
     "shell.execute_reply.started": "2021-06-11T07:46:01.044039Z"
    },
    "papermill": {
     "duration": 0.540185,
     "end_time": "2021-06-11T08:01:05.205489",
     "exception": false,
     "start_time": "2021-06-11T08:01:04.665304",
     "status": "completed"
    },
    "tags": []
   },
   "outputs": [
    {
     "ename": "NameError",
     "evalue": "name 'plt' is not defined",
     "output_type": "error",
     "traceback": [
      "\u001b[0;31m---------------------------------------------------------------------------\u001b[0m",
      "\u001b[0;31mNameError\u001b[0m                                 Traceback (most recent call last)",
      "\u001b[0;32m<ipython-input-9-0730ecf8cecb>\u001b[0m in \u001b[0;36m<module>\u001b[0;34m\u001b[0m\n\u001b[1;32m      3\u001b[0m \u001b[0mtop_corr_features\u001b[0m \u001b[0;34m=\u001b[0m \u001b[0mcorrmat\u001b[0m\u001b[0;34m.\u001b[0m\u001b[0mindex\u001b[0m\u001b[0;34m\u001b[0m\u001b[0;34m\u001b[0m\u001b[0m\n\u001b[1;32m      4\u001b[0m \u001b[0;34m\u001b[0m\u001b[0m\n\u001b[0;32m----> 5\u001b[0;31m \u001b[0mplt\u001b[0m\u001b[0;34m.\u001b[0m\u001b[0mfigure\u001b[0m\u001b[0;34m(\u001b[0m\u001b[0mfigsize\u001b[0m\u001b[0;34m=\u001b[0m\u001b[0;34m(\u001b[0m\u001b[0;36m20\u001b[0m\u001b[0;34m,\u001b[0m\u001b[0;36m20\u001b[0m\u001b[0;34m)\u001b[0m\u001b[0;34m)\u001b[0m\u001b[0;34m\u001b[0m\u001b[0;34m\u001b[0m\u001b[0m\n\u001b[0m\u001b[1;32m      6\u001b[0m \u001b[0;34m\u001b[0m\u001b[0m\n\u001b[1;32m      7\u001b[0m \u001b[0mg\u001b[0m\u001b[0;34m=\u001b[0m\u001b[0msns\u001b[0m\u001b[0;34m.\u001b[0m\u001b[0mheatmap\u001b[0m\u001b[0;34m(\u001b[0m\u001b[0mdf\u001b[0m\u001b[0;34m[\u001b[0m\u001b[0mtop_corr_features\u001b[0m\u001b[0;34m]\u001b[0m\u001b[0;34m.\u001b[0m\u001b[0mcorr\u001b[0m\u001b[0;34m(\u001b[0m\u001b[0;34m)\u001b[0m\u001b[0;34m,\u001b[0m\u001b[0mannot\u001b[0m\u001b[0;34m=\u001b[0m\u001b[0;32mTrue\u001b[0m\u001b[0;34m,\u001b[0m\u001b[0mcmap\u001b[0m\u001b[0;34m=\u001b[0m\u001b[0;34m\"RdYlGn\"\u001b[0m\u001b[0;34m)\u001b[0m\u001b[0;34m\u001b[0m\u001b[0;34m\u001b[0m\u001b[0m\n",
      "\u001b[0;31mNameError\u001b[0m: name 'plt' is not defined"
     ]
    }
   ],
   "source": [
    "corrmat = df.corr()\n",
    "\n",
    "top_corr_features = corrmat.index\n",
    "\n",
    "plt.figure(figsize=(20,20))\n",
    "\n",
    "g=sns.heatmap(df[top_corr_features].corr(),annot=True,cmap=\"RdYlGn\")"
   ]
  },
  {
   "cell_type": "code",
   "execution_count": 10,
   "id": "peripheral-navigation",
   "metadata": {
    "execution": {
     "iopub.execute_input": "2021-06-11T08:01:05.288078Z",
     "iopub.status.busy": "2021-06-11T08:01:05.287353Z",
     "iopub.status.idle": "2021-06-11T08:01:08.276234Z",
     "shell.execute_reply": "2021-06-11T08:01:08.276778Z",
     "shell.execute_reply.started": "2021-06-11T07:46:22.676795Z"
    },
    "papermill": {
     "duration": 3.031462,
     "end_time": "2021-06-11T08:01:08.276957",
     "exception": false,
     "start_time": "2021-06-11T08:01:05.245495",
     "status": "completed"
    },
    "tags": []
   },
   "outputs": [
    {
     "name": "stderr",
     "output_type": "stream",
     "text": [
      "/opt/conda/lib/python3.7/site-packages/seaborn/_decorators.py:43: FutureWarning: Pass the following variable as a keyword arg: x. From version 0.12, the only valid positional argument will be `data`, and passing other arguments without an explicit keyword will result in an error or misinterpretation.\n",
      "  FutureWarning\n"
     ]
    },
    {
     "data": {
      "image/png": "[encoded data removed]",
      "text/plain": [
       "<Figure size 432x288 with 1 Axes>"
      ]
     },
     "metadata": {
      "needs_background": "light"
     },
     "output_type": "display_data"
    }
   ],
   "source": [
    "sns.countplot(df.Area)\n",
    "plot.show()"
   ]
  },
  {
   "cell_type": "code",
   "execution_count": 11,
   "id": "urban-composer",
   "metadata": {
    "execution": {
     "iopub.execute_input": "2021-06-11T08:01:08.366322Z",
     "iopub.status.busy": "2021-06-11T08:01:08.365154Z",
     "iopub.status.idle": "2021-06-11T08:01:41.838647Z",
     "shell.execute_reply": "2021-06-11T08:01:41.839217Z",
     "shell.execute_reply.started": "2021-06-11T07:46:41.626769Z"
    },
    "papermill": {
     "duration": 33.521383,
     "end_time": "2021-06-11T08:01:41.839405",
     "exception": false,
     "start_time": "2021-06-11T08:01:08.318022",
     "status": "completed"
    },
    "tags": []
   },
   "outputs": [
    {
     "name": "stderr",
     "output_type": "stream",
     "text": [
      "/opt/conda/lib/python3.7/site-packages/seaborn/_decorators.py:43: FutureWarning: Pass the following variable as a keyword arg: x. From version 0.12, the only valid positional argument will be `data`, and passing other arguments without an explicit keyword will result in an error or misinterpretation.\n",
      "  FutureWarning\n"
     ]
    },
    {
     "data": {
      "image/png": "[encoded data removed]",
      "text/plain": [
       "<Figure size 432x288 with 1 Axes>"
      ]
     },
     "metadata": {
      "needs_background": "light"
     },
     "output_type": "display_data"
    }
   ],
   "source": [
    "sns.countplot(df.Prices)\n",
    "plot.show()"
   ]
  },
  {
   "cell_type": "code",
   "execution_count": 12,
   "id": "bottom-testing",
   "metadata": {
    "execution": {
     "iopub.execute_input": "2021-06-11T08:01:41.928613Z",
     "iopub.status.busy": "2021-06-11T08:01:41.927948Z",
     "iopub.status.idle": "2021-06-11T08:01:54.305055Z",
     "shell.execute_reply": "2021-06-11T08:01:54.305528Z",
     "shell.execute_reply.started": "2021-06-11T07:48:00.643876Z"
    },
    "papermill": {
     "duration": 12.425119,
     "end_time": "2021-06-11T08:01:54.305743",
     "exception": false,
     "start_time": "2021-06-11T08:01:41.880624",
     "status": "completed"
    },
    "tags": []
   },
   "outputs": [
    {
     "data": {
      "text/plain": [
       "<AxesSubplot:xlabel='Area', ylabel='Prices'>"
      ]
     },
     "execution_count": 12,
     "metadata": {},
     "output_type": "execute_result"
    },
    {
     "data": {
      "image/png": "[encoded data removed]",
      "text/plain": [
       "<Figure size 432x288 with 1 Axes>"
      ]
     },
     "metadata": {
      "needs_background": "light"
     },
     "output_type": "display_data"
    }
   ],
   "source": [
    "sns.lineplot(x = df[\"Area\"] , y = df[\"Prices\"])"
   ]
  },
  {
   "cell_type": "code",
   "execution_count": 13,
   "id": "optional-basic",
   "metadata": {
    "execution": {
     "iopub.execute_input": "2021-06-11T08:01:54.395848Z",
     "iopub.status.busy": "2021-06-11T08:01:54.395138Z",
     "iopub.status.idle": "2021-06-11T08:01:54.535149Z",
     "shell.execute_reply": "2021-06-11T08:01:54.534485Z",
     "shell.execute_reply.started": "2021-06-11T07:48:27.889767Z"
    },
    "papermill": {
     "duration": 0.186236,
     "end_time": "2021-06-11T08:01:54.535287",
     "exception": false,
     "start_time": "2021-06-11T08:01:54.349051",
     "status": "completed"
    },
    "tags": []
   },
   "outputs": [
    {
     "data": {
      "text/plain": [
       "<matplotlib.collections.PathCollection at 0x7f6f74381850>"
      ]
     },
     "execution_count": 13,
     "metadata": {},
     "output_type": "execute_result"
    },
    {
     "data": {
      "image/png": "[encoded data removed]",
      "text/plain": [
       "<Figure size 432x288 with 1 Axes>"
      ]
     },
     "metadata": {
      "needs_background": "light"
     },
     "output_type": "display_data"
    }
   ],
   "source": [
    "plot.scatter(df['Area'].head(40),df['Prices'].head(40))"
   ]
  },
  {
   "cell_type": "markdown",
   "id": "preliminary-letter",
   "metadata": {
    "papermill": {
     "duration": 0.043429,
     "end_time": "2021-06-11T08:01:54.622544",
     "exception": false,
     "start_time": "2021-06-11T08:01:54.579115",
     "status": "completed"
    },
    "tags": []
   },
   "source": [
    "**To Perform Linear regression**"
   ]
  },
  {
   "cell_type": "markdown",
   "id": "together-carpet",
   "metadata": {
    "papermill": {
     "duration": 0.043532,
     "end_time": "2021-06-11T08:01:54.709887",
     "exception": false,
     "start_time": "2021-06-11T08:01:54.666355",
     "status": "completed"
    },
    "tags": []
   },
   "source": [
    "I take two dataframes such as Price & Area"
   ]
  },
  {
   "cell_type": "code",
   "execution_count": 14,
   "id": "through-saturday",
   "metadata": {
    "execution": {
     "iopub.execute_input": "2021-06-11T08:01:54.802973Z",
     "iopub.status.busy": "2021-06-11T08:01:54.802112Z",
     "iopub.status.idle": "2021-06-11T08:01:55.103942Z",
     "shell.execute_reply": "2021-06-11T08:01:55.103373Z",
     "shell.execute_reply.started": "2021-06-11T07:50:17.934531Z"
    },
    "papermill": {
     "duration": 0.350476,
     "end_time": "2021-06-11T08:01:55.104097",
     "exception": false,
     "start_time": "2021-06-11T08:01:54.753621",
     "status": "completed"
    },
    "tags": []
   },
   "outputs": [],
   "source": [
    "from sklearn.linear_model import LinearRegression\n",
    "from sklearn.model_selection import train_test_split\n",
    "from sklearn.metrics import mean_absolute_error,median_absolute_error"
   ]
  },
  {
   "cell_type": "code",
   "execution_count": 15,
   "id": "natural-sheffield",
   "metadata": {
    "execution": {
     "iopub.execute_input": "2021-06-11T08:01:55.204704Z",
     "iopub.status.busy": "2021-06-11T08:01:55.204017Z",
     "iopub.status.idle": "2021-06-11T08:01:55.207635Z",
     "shell.execute_reply": "2021-06-11T08:01:55.207070Z",
     "shell.execute_reply.started": "2021-06-11T07:50:59.929103Z"
    },
    "papermill": {
     "duration": 0.059704,
     "end_time": "2021-06-11T08:01:55.207790",
     "exception": false,
     "start_time": "2021-06-11T08:01:55.148086",
     "status": "completed"
    },
    "tags": []
   },
   "outputs": [],
   "source": [
    "x=df[[\"Area\"]]\n",
    "y=df[[\"Prices\"]]"
   ]
  },
  {
   "cell_type": "code",
   "execution_count": 16,
   "id": "manual-delta",
   "metadata": {
    "execution": {
     "iopub.execute_input": "2021-06-11T08:01:55.306346Z",
     "iopub.status.busy": "2021-06-11T08:01:55.305410Z",
     "iopub.status.idle": "2021-06-11T08:01:55.310178Z",
     "shell.execute_reply": "2021-06-11T08:01:55.309656Z",
     "shell.execute_reply.started": "2021-06-11T07:51:05.468865Z"
    },
    "papermill": {
     "duration": 0.05836,
     "end_time": "2021-06-11T08:01:55.310323",
     "exception": false,
     "start_time": "2021-06-11T08:01:55.251963",
     "status": "completed"
    },
    "tags": []
   },
   "outputs": [
    {
     "data": {
      "text/html": [
       "<div>\n",
       "<style scoped>\n",
       "    .dataframe tbody tr th:only-of-type {\n",
       "        vertical-align: middle;\n",
       "    }\n",
       "\n",
       "    .dataframe tbody tr th {\n",
       "        vertical-align: top;\n",
       "    }\n",
       "\n",
       "    .dataframe thead th {\n",
       "        text-align: right;\n",
       "    }\n",
       "</style>\n",
       "<table border=\"1\" class=\"dataframe\">\n",
       "  <thead>\n",
       "    <tr style=\"text-align: right;\">\n",
       "      <th></th>\n",
       "      <th>Area</th>\n",
       "    </tr>\n",
       "  </thead>\n",
       "  <tbody>\n",
       "    <tr>\n",
       "      <th>0</th>\n",
       "      <td>164</td>\n",
       "    </tr>\n",
       "    <tr>\n",
       "      <th>1</th>\n",
       "      <td>84</td>\n",
       "    </tr>\n",
       "    <tr>\n",
       "      <th>2</th>\n",
       "      <td>190</td>\n",
       "    </tr>\n",
       "    <tr>\n",
       "      <th>3</th>\n",
       "      <td>75</td>\n",
       "    </tr>\n",
       "    <tr>\n",
       "      <th>4</th>\n",
       "      <td>148</td>\n",
       "    </tr>\n",
       "    <tr>\n",
       "      <th>...</th>\n",
       "      <td>...</td>\n",
       "    </tr>\n",
       "    <tr>\n",
       "      <th>499995</th>\n",
       "      <td>128</td>\n",
       "    </tr>\n",
       "    <tr>\n",
       "      <th>499996</th>\n",
       "      <td>30</td>\n",
       "    </tr>\n",
       "    <tr>\n",
       "      <th>499997</th>\n",
       "      <td>174</td>\n",
       "    </tr>\n",
       "    <tr>\n",
       "      <th>499998</th>\n",
       "      <td>121</td>\n",
       "    </tr>\n",
       "    <tr>\n",
       "      <th>499999</th>\n",
       "      <td>46</td>\n",
       "    </tr>\n",
       "  </tbody>\n",
       "</table>\n",
       "<p>500000 rows × 1 columns</p>\n",
       "</div>"
      ],
      "text/plain": [
       "        Area\n",
       "0        164\n",
       "1         84\n",
       "2        190\n",
       "3         75\n",
       "4        148\n",
       "...      ...\n",
       "499995   128\n",
       "499996    30\n",
       "499997   174\n",
       "499998   121\n",
       "499999    46\n",
       "\n",
       "[500000 rows x 1 columns]"
      ]
     },
     "execution_count": 16,
     "metadata": {},
     "output_type": "execute_result"
    }
   ],
   "source": [
    "x"
   ]
  },
  {
   "cell_type": "code",
   "execution_count": 17,
   "id": "hired-penetration",
   "metadata": {
    "execution": {
     "iopub.execute_input": "2021-06-11T08:01:55.760453Z",
     "iopub.status.busy": "2021-06-11T08:01:55.759640Z",
     "iopub.status.idle": "2021-06-11T08:01:55.763589Z",
     "shell.execute_reply": "2021-06-11T08:01:55.762974Z",
     "shell.execute_reply.started": "2021-06-11T07:51:11.119995Z"
    },
    "papermill": {
     "duration": 0.40886,
     "end_time": "2021-06-11T08:01:55.763745",
     "exception": false,
     "start_time": "2021-06-11T08:01:55.354885",
     "status": "completed"
    },
    "tags": []
   },
   "outputs": [
    {
     "data": {
      "text/html": [
       "<div>\n",
       "<style scoped>\n",
       "    .dataframe tbody tr th:only-of-type {\n",
       "        vertical-align: middle;\n",
       "    }\n",
       "\n",
       "    .dataframe tbody tr th {\n",
       "        vertical-align: top;\n",
       "    }\n",
       "\n",
       "    .dataframe thead th {\n",
       "        text-align: right;\n",
       "    }\n",
       "</style>\n",
       "<table border=\"1\" class=\"dataframe\">\n",
       "  <thead>\n",
       "    <tr style=\"text-align: right;\">\n",
       "      <th></th>\n",
       "      <th>Prices</th>\n",
       "    </tr>\n",
       "  </thead>\n",
       "  <tbody>\n",
       "    <tr>\n",
       "      <th>0</th>\n",
       "      <td>43800</td>\n",
       "    </tr>\n",
       "    <tr>\n",
       "      <th>1</th>\n",
       "      <td>37550</td>\n",
       "    </tr>\n",
       "    <tr>\n",
       "      <th>2</th>\n",
       "      <td>49500</td>\n",
       "    </tr>\n",
       "    <tr>\n",
       "      <th>3</th>\n",
       "      <td>50075</td>\n",
       "    </tr>\n",
       "    <tr>\n",
       "      <th>4</th>\n",
       "      <td>52400</td>\n",
       "    </tr>\n",
       "    <tr>\n",
       "      <th>...</th>\n",
       "      <td>...</td>\n",
       "    </tr>\n",
       "    <tr>\n",
       "      <th>499995</th>\n",
       "      <td>55900</td>\n",
       "    </tr>\n",
       "    <tr>\n",
       "      <th>499996</th>\n",
       "      <td>29250</td>\n",
       "    </tr>\n",
       "    <tr>\n",
       "      <th>499997</th>\n",
       "      <td>51350</td>\n",
       "    </tr>\n",
       "    <tr>\n",
       "      <th>499998</th>\n",
       "      <td>62725</td>\n",
       "    </tr>\n",
       "    <tr>\n",
       "      <th>499999</th>\n",
       "      <td>32150</td>\n",
       "    </tr>\n",
       "  </tbody>\n",
       "</table>\n",
       "<p>500000 rows × 1 columns</p>\n",
       "</div>"
      ],
      "text/plain": [
       "        Prices\n",
       "0        43800\n",
       "1        37550\n",
       "2        49500\n",
       "3        50075\n",
       "4        52400\n",
       "...        ...\n",
       "499995   55900\n",
       "499996   29250\n",
       "499997   51350\n",
       "499998   62725\n",
       "499999   32150\n",
       "\n",
       "[500000 rows x 1 columns]"
      ]
     },
     "execution_count": 17,
     "metadata": {},
     "output_type": "execute_result"
    }
   ],
   "source": [
    "y"
   ]
  },
  {
   "cell_type": "code",
   "execution_count": 18,
   "id": "removed-inquiry",
   "metadata": {
    "execution": {
     "iopub.execute_input": "2021-06-11T08:01:55.859843Z",
     "iopub.status.busy": "2021-06-11T08:01:55.859177Z",
     "iopub.status.idle": "2021-06-11T08:01:55.918640Z",
     "shell.execute_reply": "2021-06-11T08:01:55.918063Z",
     "shell.execute_reply.started": "2021-06-11T07:51:30.976637Z"
    },
    "papermill": {
     "duration": 0.109944,
     "end_time": "2021-06-11T08:01:55.918802",
     "exception": false,
     "start_time": "2021-06-11T08:01:55.808858",
     "status": "completed"
    },
    "tags": []
   },
   "outputs": [],
   "source": [
    "x_train,x_test,y_train,y_test=train_test_split(x,y,test_size=0.33,random_state=1)"
   ]
  },
  {
   "cell_type": "code",
   "execution_count": 19,
   "id": "unknown-collapse",
   "metadata": {
    "execution": {
     "iopub.execute_input": "2021-06-11T08:01:56.015098Z",
     "iopub.status.busy": "2021-06-11T08:01:56.014032Z",
     "iopub.status.idle": "2021-06-11T08:01:56.018826Z",
     "shell.execute_reply": "2021-06-11T08:01:56.017877Z",
     "shell.execute_reply.started": "2021-06-11T07:51:44.328425Z"
    },
    "papermill": {
     "duration": 0.05544,
     "end_time": "2021-06-11T08:01:56.019016",
     "exception": false,
     "start_time": "2021-06-11T08:01:55.963576",
     "status": "completed"
    },
    "tags": []
   },
   "outputs": [
    {
     "name": "stdout",
     "output_type": "stream",
     "text": [
      "(335000, 1) (165000, 1) (335000, 1) (165000, 1)\n"
     ]
    }
   ],
   "source": [
    "print(x_train.shape, x_test.shape, y_train.shape, y_test.shape)"
   ]
  },
  {
   "cell_type": "code",
   "execution_count": 20,
   "id": "organized-banks",
   "metadata": {
    "execution": {
     "iopub.execute_input": "2021-06-11T08:01:56.120647Z",
     "iopub.status.busy": "2021-06-11T08:01:56.119374Z",
     "iopub.status.idle": "2021-06-11T08:01:56.148886Z",
     "shell.execute_reply": "2021-06-11T08:01:56.149996Z",
     "shell.execute_reply.started": "2021-06-11T07:52:17.348721Z"
    },
    "papermill": {
     "duration": 0.084115,
     "end_time": "2021-06-11T08:01:56.150173",
     "exception": false,
     "start_time": "2021-06-11T08:01:56.066058",
     "status": "completed"
    },
    "tags": []
   },
   "outputs": [
    {
     "data": {
      "text/plain": [
       "LinearRegression(normalize=True)"
      ]
     },
     "execution_count": 20,
     "metadata": {},
     "output_type": "execute_result"
    }
   ],
   "source": [
    "regressor=LinearRegression(normalize=True)\n",
    "regressor.fit(x_train ,y_train)"
   ]
  },
  {
   "cell_type": "code",
   "execution_count": 21,
   "id": "greek-spiritual",
   "metadata": {
    "execution": {
     "iopub.execute_input": "2021-06-11T08:01:56.247517Z",
     "iopub.status.busy": "2021-06-11T08:01:56.246889Z",
     "iopub.status.idle": "2021-06-11T08:01:56.251182Z",
     "shell.execute_reply": "2021-06-11T08:01:56.250651Z",
     "shell.execute_reply.started": "2021-06-11T07:52:40.020106Z"
    },
    "papermill": {
     "duration": 0.055417,
     "end_time": "2021-06-11T08:01:56.251320",
     "exception": false,
     "start_time": "2021-06-11T08:01:56.195903",
     "status": "completed"
    },
    "tags": []
   },
   "outputs": [
    {
     "data": {
      "text/plain": [
       "array([[25.03576495]])"
      ]
     },
     "execution_count": 21,
     "metadata": {},
     "output_type": "execute_result"
    }
   ],
   "source": [
    "regressor.coef_"
   ]
  },
  {
   "cell_type": "code",
   "execution_count": 22,
   "id": "blond-arctic",
   "metadata": {
    "execution": {
     "iopub.execute_input": "2021-06-11T08:01:56.349305Z",
     "iopub.status.busy": "2021-06-11T08:01:56.348482Z",
     "iopub.status.idle": "2021-06-11T08:01:56.352698Z",
     "shell.execute_reply": "2021-06-11T08:01:56.352081Z",
     "shell.execute_reply.started": "2021-06-11T07:52:55.119388Z"
    },
    "papermill": {
     "duration": 0.055507,
     "end_time": "2021-06-11T08:01:56.352853",
     "exception": false,
     "start_time": "2021-06-11T08:01:56.297346",
     "status": "completed"
    },
    "tags": []
   },
   "outputs": [
    {
     "data": {
      "text/plain": [
       "array([38919.66725486])"
      ]
     },
     "execution_count": 22,
     "metadata": {},
     "output_type": "execute_result"
    }
   ],
   "source": [
    "regressor.intercept_"
   ]
  },
  {
   "cell_type": "code",
   "execution_count": 23,
   "id": "elementary-adoption",
   "metadata": {
    "execution": {
     "iopub.execute_input": "2021-06-11T08:01:56.453523Z",
     "iopub.status.busy": "2021-06-11T08:01:56.452500Z",
     "iopub.status.idle": "2021-06-11T08:01:56.458959Z",
     "shell.execute_reply": "2021-06-11T08:01:56.458411Z",
     "shell.execute_reply.started": "2021-06-11T07:53:07.999962Z"
    },
    "papermill": {
     "duration": 0.058328,
     "end_time": "2021-06-11T08:01:56.459096",
     "exception": false,
     "start_time": "2021-06-11T08:01:56.400768",
     "status": "completed"
    },
    "tags": []
   },
   "outputs": [
    {
     "data": {
      "text/plain": [
       "array([[42174.31669789],\n",
       "       [40221.52703207],\n",
       "       [39245.13219916],\n",
       "       ...,\n",
       "       [39069.88184454],\n",
       "       [44327.39248328],\n",
       "       [39345.27525895]])"
      ]
     },
     "execution_count": 23,
     "metadata": {},
     "output_type": "execute_result"
    }
   ],
   "source": [
    "y_pred=regressor.predict(x_test)\n",
    "y_pred"
   ]
  },
  {
   "cell_type": "code",
   "execution_count": 24,
   "id": "specified-collection",
   "metadata": {
    "execution": {
     "iopub.execute_input": "2021-06-11T08:01:56.556943Z",
     "iopub.status.busy": "2021-06-11T08:01:56.556277Z",
     "iopub.status.idle": "2021-06-11T08:01:56.565308Z",
     "shell.execute_reply": "2021-06-11T08:01:56.565769Z",
     "shell.execute_reply.started": "2021-06-11T07:53:19.468607Z"
    },
    "papermill": {
     "duration": 0.058936,
     "end_time": "2021-06-11T08:01:56.565941",
     "exception": false,
     "start_time": "2021-06-11T08:01:56.507005",
     "status": "completed"
    },
    "tags": []
   },
   "outputs": [
    {
     "data": {
      "text/html": [
       "<div>\n",
       "<style scoped>\n",
       "    .dataframe tbody tr th:only-of-type {\n",
       "        vertical-align: middle;\n",
       "    }\n",
       "\n",
       "    .dataframe tbody tr th {\n",
       "        vertical-align: top;\n",
       "    }\n",
       "\n",
       "    .dataframe thead th {\n",
       "        text-align: right;\n",
       "    }\n",
       "</style>\n",
       "<table border=\"1\" class=\"dataframe\">\n",
       "  <thead>\n",
       "    <tr style=\"text-align: right;\">\n",
       "      <th></th>\n",
       "      <th>Prices</th>\n",
       "    </tr>\n",
       "  </thead>\n",
       "  <tbody>\n",
       "    <tr>\n",
       "      <th>352806</th>\n",
       "      <td>38200</td>\n",
       "    </tr>\n",
       "    <tr>\n",
       "      <th>417824</th>\n",
       "      <td>16800</td>\n",
       "    </tr>\n",
       "    <tr>\n",
       "      <th>469847</th>\n",
       "      <td>54325</td>\n",
       "    </tr>\n",
       "    <tr>\n",
       "      <th>407746</th>\n",
       "      <td>48400</td>\n",
       "    </tr>\n",
       "    <tr>\n",
       "      <th>469848</th>\n",
       "      <td>38075</td>\n",
       "    </tr>\n",
       "    <tr>\n",
       "      <th>...</th>\n",
       "      <td>...</td>\n",
       "    </tr>\n",
       "    <tr>\n",
       "      <th>110594</th>\n",
       "      <td>21900</td>\n",
       "    </tr>\n",
       "    <tr>\n",
       "      <th>318477</th>\n",
       "      <td>40900</td>\n",
       "    </tr>\n",
       "    <tr>\n",
       "      <th>11964</th>\n",
       "      <td>27900</td>\n",
       "    </tr>\n",
       "    <tr>\n",
       "      <th>75386</th>\n",
       "      <td>17150</td>\n",
       "    </tr>\n",
       "    <tr>\n",
       "      <th>55046</th>\n",
       "      <td>46175</td>\n",
       "    </tr>\n",
       "  </tbody>\n",
       "</table>\n",
       "<p>165000 rows × 1 columns</p>\n",
       "</div>"
      ],
      "text/plain": [
       "        Prices\n",
       "352806   38200\n",
       "417824   16800\n",
       "469847   54325\n",
       "407746   48400\n",
       "469848   38075\n",
       "...        ...\n",
       "110594   21900\n",
       "318477   40900\n",
       "11964    27900\n",
       "75386    17150\n",
       "55046    46175\n",
       "\n",
       "[165000 rows x 1 columns]"
      ]
     },
     "execution_count": 24,
     "metadata": {},
     "output_type": "execute_result"
    }
   ],
   "source": [
    "y_test"
   ]
  },
  {
   "cell_type": "code",
   "execution_count": 25,
   "id": "mature-oklahoma",
   "metadata": {
    "execution": {
     "iopub.execute_input": "2021-06-11T08:01:56.662420Z",
     "iopub.status.busy": "2021-06-11T08:01:56.661806Z",
     "iopub.status.idle": "2021-06-11T08:01:56.669206Z",
     "shell.execute_reply": "2021-06-11T08:01:56.669698Z",
     "shell.execute_reply.started": "2021-06-11T07:53:38.509415Z"
    },
    "papermill": {
     "duration": 0.05747,
     "end_time": "2021-06-11T08:01:56.669878",
     "exception": false,
     "start_time": "2021-06-11T08:01:56.612408",
     "status": "completed"
    },
    "tags": []
   },
   "outputs": [
    {
     "name": "stdout",
     "output_type": "stream",
     "text": [
      "Prices    0\n",
      "dtype: int64\n"
     ]
    }
   ],
   "source": [
    "matches = (y_pred==y_test)\n",
    "print(matches.sum())"
   ]
  },
  {
   "cell_type": "code",
   "execution_count": 26,
   "id": "greater-cheese",
   "metadata": {
    "execution": {
     "iopub.execute_input": "2021-06-11T08:01:56.766389Z",
     "iopub.status.busy": "2021-06-11T08:01:56.765786Z",
     "iopub.status.idle": "2021-06-11T08:01:57.199502Z",
     "shell.execute_reply": "2021-06-11T08:01:57.199971Z",
     "shell.execute_reply.started": "2021-06-11T07:54:03.376547Z"
    },
    "papermill": {
     "duration": 0.483493,
     "end_time": "2021-06-11T08:01:57.200154",
     "exception": false,
     "start_time": "2021-06-11T08:01:56.716661",
     "status": "completed"
    },
    "tags": []
   },
   "outputs": [
    {
     "data": {
      "text/plain": [
       "<matplotlib.collections.PathCollection at 0x7f6f7513e850>"
      ]
     },
     "execution_count": 26,
     "metadata": {},
     "output_type": "execute_result"
    },
    {
     "data": {
      "image/png": "[encoded data removed]",
      "text/plain": [
       "<Figure size 432x288 with 1 Axes>"
      ]
     },
     "metadata": {
      "needs_background": "light"
     },
     "output_type": "display_data"
    }
   ],
   "source": [
    "plot.scatter(y_test,y_pred)"
   ]
  },
  {
   "cell_type": "markdown",
   "id": "unique-replication",
   "metadata": {
    "papermill": {
     "duration": 0.048385,
     "end_time": "2021-06-11T08:01:57.296977",
     "exception": false,
     "start_time": "2021-06-11T08:01:57.248592",
     "status": "completed"
    },
    "tags": []
   },
   "source": [
    "We perform Total dataframes in the linear regression model "
   ]
  },
  {
   "cell_type": "code",
   "execution_count": 27,
   "id": "sweet-validity",
   "metadata": {
    "execution": {
     "iopub.execute_input": "2021-06-11T08:01:57.396798Z",
     "iopub.status.busy": "2021-06-11T08:01:57.396116Z",
     "iopub.status.idle": "2021-06-11T08:01:57.423618Z",
     "shell.execute_reply": "2021-06-11T08:01:57.424219Z",
     "shell.execute_reply.started": "2021-06-11T07:56:36.954745Z"
    },
    "papermill": {
     "duration": 0.079223,
     "end_time": "2021-06-11T08:01:57.424431",
     "exception": false,
     "start_time": "2021-06-11T08:01:57.345208",
     "status": "completed"
    },
    "tags": []
   },
   "outputs": [],
   "source": [
    "x=df[[\"Area\",\"Garage\",\"FirePlace\",\"Baths\",\"White Marble\",\"Black Marble\",\"Indian Marble\",\"Floors\",\"City\",\"Solar\",\"Electric\",\"Fiber\",\"Glass Doors\",\"Swiming Pool\",\"Garden\"]]\n",
    "y=df[[\"Prices\"]]"
   ]
  },
  {
   "cell_type": "code",
   "execution_count": 28,
   "id": "joined-theater",
   "metadata": {
    "execution": {
     "iopub.execute_input": "2021-06-11T08:01:57.541623Z",
     "iopub.status.busy": "2021-06-11T08:01:57.540605Z",
     "iopub.status.idle": "2021-06-11T08:01:57.563110Z",
     "shell.execute_reply": "2021-06-11T08:01:57.564790Z",
     "shell.execute_reply.started": "2021-06-11T07:56:51.247343Z"
    },
    "papermill": {
     "duration": 0.092391,
     "end_time": "2021-06-11T08:01:57.564977",
     "exception": false,
     "start_time": "2021-06-11T08:01:57.472586",
     "status": "completed"
    },
    "tags": []
   },
   "outputs": [
    {
     "data": {
      "text/html": [
       "<div>\n",
       "<style scoped>\n",
       "    .dataframe tbody tr th:only-of-type {\n",
       "        vertical-align: middle;\n",
       "    }\n",
       "\n",
       "    .dataframe tbody tr th {\n",
       "        vertical-align: top;\n",
       "    }\n",
       "\n",
       "    .dataframe thead th {\n",
       "        text-align: right;\n",
       "    }\n",
       "</style>\n",
       "<table border=\"1\" class=\"dataframe\">\n",
       "  <thead>\n",
       "    <tr style=\"text-align: right;\">\n",
       "      <th></th>\n",
       "      <th>Area</th>\n",
       "      <th>Garage</th>\n",
       "      <th>FirePlace</th>\n",
       "      <th>Baths</th>\n",
       "      <th>White Marble</th>\n",
       "      <th>Black Marble</th>\n",
       "      <th>Indian Marble</th>\n",
       "      <th>Floors</th>\n",
       "      <th>City</th>\n",
       "      <th>Solar</th>\n",
       "      <th>Electric</th>\n",
       "      <th>Fiber</th>\n",
       "      <th>Glass Doors</th>\n",
       "      <th>Swiming Pool</th>\n",
       "      <th>Garden</th>\n",
       "    </tr>\n",
       "  </thead>\n",
       "  <tbody>\n",
       "    <tr>\n",
       "      <th>0</th>\n",
       "      <td>164</td>\n",
       "      <td>2</td>\n",
       "      <td>0</td>\n",
       "      <td>2</td>\n",
       "      <td>0</td>\n",
       "      <td>1</td>\n",
       "      <td>0</td>\n",
       "      <td>0</td>\n",
       "      <td>3</td>\n",
       "      <td>1</td>\n",
       "      <td>1</td>\n",
       "      <td>1</td>\n",
       "      <td>1</td>\n",
       "      <td>0</td>\n",
       "      <td>0</td>\n",
       "    </tr>\n",
       "    <tr>\n",
       "      <th>1</th>\n",
       "      <td>84</td>\n",
       "      <td>2</td>\n",
       "      <td>0</td>\n",
       "      <td>4</td>\n",
       "      <td>0</td>\n",
       "      <td>0</td>\n",
       "      <td>1</td>\n",
       "      <td>1</td>\n",
       "      <td>2</td>\n",
       "      <td>0</td>\n",
       "      <td>0</td>\n",
       "      <td>0</td>\n",
       "      <td>1</td>\n",
       "      <td>1</td>\n",
       "      <td>1</td>\n",
       "    </tr>\n",
       "    <tr>\n",
       "      <th>2</th>\n",
       "      <td>190</td>\n",
       "      <td>2</td>\n",
       "      <td>4</td>\n",
       "      <td>4</td>\n",
       "      <td>1</td>\n",
       "      <td>0</td>\n",
       "      <td>0</td>\n",
       "      <td>0</td>\n",
       "      <td>2</td>\n",
       "      <td>0</td>\n",
       "      <td>0</td>\n",
       "      <td>1</td>\n",
       "      <td>0</td>\n",
       "      <td>0</td>\n",
       "      <td>0</td>\n",
       "    </tr>\n",
       "    <tr>\n",
       "      <th>3</th>\n",
       "      <td>75</td>\n",
       "      <td>2</td>\n",
       "      <td>4</td>\n",
       "      <td>4</td>\n",
       "      <td>0</td>\n",
       "      <td>0</td>\n",
       "      <td>1</td>\n",
       "      <td>1</td>\n",
       "      <td>1</td>\n",
       "      <td>1</td>\n",
       "      <td>1</td>\n",
       "      <td>1</td>\n",
       "      <td>1</td>\n",
       "      <td>1</td>\n",
       "      <td>1</td>\n",
       "    </tr>\n",
       "    <tr>\n",
       "      <th>4</th>\n",
       "      <td>148</td>\n",
       "      <td>1</td>\n",
       "      <td>4</td>\n",
       "      <td>2</td>\n",
       "      <td>1</td>\n",
       "      <td>0</td>\n",
       "      <td>0</td>\n",
       "      <td>1</td>\n",
       "      <td>2</td>\n",
       "      <td>1</td>\n",
       "      <td>0</td>\n",
       "      <td>0</td>\n",
       "      <td>1</td>\n",
       "      <td>1</td>\n",
       "      <td>1</td>\n",
       "    </tr>\n",
       "    <tr>\n",
       "      <th>...</th>\n",
       "      <td>...</td>\n",
       "      <td>...</td>\n",
       "      <td>...</td>\n",
       "      <td>...</td>\n",
       "      <td>...</td>\n",
       "      <td>...</td>\n",
       "      <td>...</td>\n",
       "      <td>...</td>\n",
       "      <td>...</td>\n",
       "      <td>...</td>\n",
       "      <td>...</td>\n",
       "      <td>...</td>\n",
       "      <td>...</td>\n",
       "      <td>...</td>\n",
       "      <td>...</td>\n",
       "    </tr>\n",
       "    <tr>\n",
       "      <th>499995</th>\n",
       "      <td>128</td>\n",
       "      <td>3</td>\n",
       "      <td>4</td>\n",
       "      <td>2</td>\n",
       "      <td>1</td>\n",
       "      <td>0</td>\n",
       "      <td>0</td>\n",
       "      <td>1</td>\n",
       "      <td>2</td>\n",
       "      <td>0</td>\n",
       "      <td>1</td>\n",
       "      <td>0</td>\n",
       "      <td>1</td>\n",
       "      <td>1</td>\n",
       "      <td>1</td>\n",
       "    </tr>\n",
       "    <tr>\n",
       "      <th>499996</th>\n",
       "      <td>30</td>\n",
       "      <td>2</td>\n",
       "      <td>4</td>\n",
       "      <td>5</td>\n",
       "      <td>0</td>\n",
       "      <td>0</td>\n",
       "      <td>1</td>\n",
       "      <td>0</td>\n",
       "      <td>1</td>\n",
       "      <td>0</td>\n",
       "      <td>0</td>\n",
       "      <td>1</td>\n",
       "      <td>0</td>\n",
       "      <td>0</td>\n",
       "      <td>1</td>\n",
       "    </tr>\n",
       "    <tr>\n",
       "      <th>499997</th>\n",
       "      <td>174</td>\n",
       "      <td>3</td>\n",
       "      <td>3</td>\n",
       "      <td>2</td>\n",
       "      <td>0</td>\n",
       "      <td>1</td>\n",
       "      <td>0</td>\n",
       "      <td>1</td>\n",
       "      <td>1</td>\n",
       "      <td>1</td>\n",
       "      <td>1</td>\n",
       "      <td>1</td>\n",
       "      <td>0</td>\n",
       "      <td>1</td>\n",
       "      <td>0</td>\n",
       "    </tr>\n",
       "    <tr>\n",
       "      <th>499998</th>\n",
       "      <td>121</td>\n",
       "      <td>1</td>\n",
       "      <td>4</td>\n",
       "      <td>5</td>\n",
       "      <td>0</td>\n",
       "      <td>1</td>\n",
       "      <td>0</td>\n",
       "      <td>1</td>\n",
       "      <td>3</td>\n",
       "      <td>0</td>\n",
       "      <td>1</td>\n",
       "      <td>1</td>\n",
       "      <td>1</td>\n",
       "      <td>0</td>\n",
       "      <td>0</td>\n",
       "    </tr>\n",
       "    <tr>\n",
       "      <th>499999</th>\n",
       "      <td>46</td>\n",
       "      <td>2</td>\n",
       "      <td>4</td>\n",
       "      <td>4</td>\n",
       "      <td>1</td>\n",
       "      <td>0</td>\n",
       "      <td>0</td>\n",
       "      <td>0</td>\n",
       "      <td>1</td>\n",
       "      <td>1</td>\n",
       "      <td>1</td>\n",
       "      <td>0</td>\n",
       "      <td>0</td>\n",
       "      <td>0</td>\n",
       "      <td>0</td>\n",
       "    </tr>\n",
       "  </tbody>\n",
       "</table>\n",
       "<p>500000 rows × 15 columns</p>\n",
       "</div>"
      ],
      "text/plain": [
       "        Area  Garage  FirePlace  Baths  White Marble  Black Marble  \\\n",
       "0        164       2          0      2             0             1   \n",
       "1         84       2          0      4             0             0   \n",
       "2        190       2          4      4             1             0   \n",
       "3         75       2          4      4             0             0   \n",
       "4        148       1          4      2             1             0   \n",
       "...      ...     ...        ...    ...           ...           ...   \n",
       "499995   128       3          4      2             1             0   \n",
       "499996    30       2          4      5             0             0   \n",
       "499997   174       3          3      2             0             1   \n",
       "499998   121       1          4      5             0             1   \n",
       "499999    46       2          4      4             1             0   \n",
       "\n",
       "        Indian Marble  Floors  City  Solar  Electric  Fiber  Glass Doors  \\\n",
       "0                   0       0     3      1         1      1            1   \n",
       "1                   1       1     2      0         0      0            1   \n",
       "2                   0       0     2      0         0      1            0   \n",
       "3                   1       1     1      1         1      1            1   \n",
       "4                   0       1     2      1         0      0            1   \n",
       "...               ...     ...   ...    ...       ...    ...          ...   \n",
       "499995              0       1     2      0         1      0            1   \n",
       "499996              1       0     1      0         0      1            0   \n",
       "499997              0       1     1      1         1      1            0   \n",
       "499998              0       1     3      0         1      1            1   \n",
       "499999              0       0     1      1         1      0            0   \n",
       "\n",
       "        Swiming Pool  Garden  \n",
       "0                  0       0  \n",
       "1                  1       1  \n",
       "2                  0       0  \n",
       "3                  1       1  \n",
       "4                  1       1  \n",
       "...              ...     ...  \n",
       "499995             1       1  \n",
       "499996             0       1  \n",
       "499997             1       0  \n",
       "499998             0       0  \n",
       "499999             0       0  \n",
       "\n",
       "[500000 rows x 15 columns]"
      ]
     },
     "execution_count": 28,
     "metadata": {},
     "output_type": "execute_result"
    }
   ],
   "source": [
    "x"
   ]
  },
  {
   "cell_type": "code",
   "execution_count": 29,
   "id": "prime-crawford",
   "metadata": {
    "execution": {
     "iopub.execute_input": "2021-06-11T08:01:57.679807Z",
     "iopub.status.busy": "2021-06-11T08:01:57.679098Z",
     "iopub.status.idle": "2021-06-11T08:01:57.681747Z",
     "shell.execute_reply": "2021-06-11T08:01:57.682223Z",
     "shell.execute_reply.started": "2021-06-11T07:56:57.011013Z"
    },
    "papermill": {
     "duration": 0.061859,
     "end_time": "2021-06-11T08:01:57.682385",
     "exception": false,
     "start_time": "2021-06-11T08:01:57.620526",
     "status": "completed"
    },
    "tags": []
   },
   "outputs": [
    {
     "data": {
      "text/html": [
       "<div>\n",
       "<style scoped>\n",
       "    .dataframe tbody tr th:only-of-type {\n",
       "        vertical-align: middle;\n",
       "    }\n",
       "\n",
       "    .dataframe tbody tr th {\n",
       "        vertical-align: top;\n",
       "    }\n",
       "\n",
       "    .dataframe thead th {\n",
       "        text-align: right;\n",
       "    }\n",
       "</style>\n",
       "<table border=\"1\" class=\"dataframe\">\n",
       "  <thead>\n",
       "    <tr style=\"text-align: right;\">\n",
       "      <th></th>\n",
       "      <th>Prices</th>\n",
       "    </tr>\n",
       "  </thead>\n",
       "  <tbody>\n",
       "    <tr>\n",
       "      <th>0</th>\n",
       "      <td>43800</td>\n",
       "    </tr>\n",
       "    <tr>\n",
       "      <th>1</th>\n",
       "      <td>37550</td>\n",
       "    </tr>\n",
       "    <tr>\n",
       "      <th>2</th>\n",
       "      <td>49500</td>\n",
       "    </tr>\n",
       "    <tr>\n",
       "      <th>3</th>\n",
       "      <td>50075</td>\n",
       "    </tr>\n",
       "    <tr>\n",
       "      <th>4</th>\n",
       "      <td>52400</td>\n",
       "    </tr>\n",
       "    <tr>\n",
       "      <th>...</th>\n",
       "      <td>...</td>\n",
       "    </tr>\n",
       "    <tr>\n",
       "      <th>499995</th>\n",
       "      <td>55900</td>\n",
       "    </tr>\n",
       "    <tr>\n",
       "      <th>499996</th>\n",
       "      <td>29250</td>\n",
       "    </tr>\n",
       "    <tr>\n",
       "      <th>499997</th>\n",
       "      <td>51350</td>\n",
       "    </tr>\n",
       "    <tr>\n",
       "      <th>499998</th>\n",
       "      <td>62725</td>\n",
       "    </tr>\n",
       "    <tr>\n",
       "      <th>499999</th>\n",
       "      <td>32150</td>\n",
       "    </tr>\n",
       "  </tbody>\n",
       "</table>\n",
       "<p>500000 rows × 1 columns</p>\n",
       "</div>"
      ],
      "text/plain": [
       "        Prices\n",
       "0        43800\n",
       "1        37550\n",
       "2        49500\n",
       "3        50075\n",
       "4        52400\n",
       "...        ...\n",
       "499995   55900\n",
       "499996   29250\n",
       "499997   51350\n",
       "499998   62725\n",
       "499999   32150\n",
       "\n",
       "[500000 rows x 1 columns]"
      ]
     },
     "execution_count": 29,
     "metadata": {},
     "output_type": "execute_result"
    }
   ],
   "source": [
    "y"
   ]
  },
  {
   "cell_type": "code",
   "execution_count": 30,
   "id": "south-copper",
   "metadata": {
    "execution": {
     "iopub.execute_input": "2021-06-11T08:01:57.784035Z",
     "iopub.status.busy": "2021-06-11T08:01:57.783372Z",
     "iopub.status.idle": "2021-06-11T08:01:57.904348Z",
     "shell.execute_reply": "2021-06-11T08:01:57.904903Z",
     "shell.execute_reply.started": "2021-06-11T07:57:27.469197Z"
    },
    "papermill": {
     "duration": 0.173508,
     "end_time": "2021-06-11T08:01:57.905077",
     "exception": false,
     "start_time": "2021-06-11T08:01:57.731569",
     "status": "completed"
    },
    "tags": []
   },
   "outputs": [
    {
     "name": "stdout",
     "output_type": "stream",
     "text": [
      "(335000, 15) (165000, 15) (335000, 1) (165000, 1)\n"
     ]
    }
   ],
   "source": [
    "x_train,x_test,y_train,y_test=train_test_split(x,y,test_size=0.33,random_state=1)\n",
    "print(x_train.shape, x_test.shape, y_train.shape, y_test.shape)"
   ]
  },
  {
   "cell_type": "code",
   "execution_count": 31,
   "id": "meaning-revelation",
   "metadata": {
    "execution": {
     "iopub.execute_input": "2021-06-11T08:01:58.007824Z",
     "iopub.status.busy": "2021-06-11T08:01:58.007152Z",
     "iopub.status.idle": "2021-06-11T08:01:58.160782Z",
     "shell.execute_reply": "2021-06-11T08:01:58.159881Z",
     "shell.execute_reply.started": "2021-06-11T07:57:58.638539Z"
    },
    "papermill": {
     "duration": 0.206411,
     "end_time": "2021-06-11T08:01:58.161008",
     "exception": false,
     "start_time": "2021-06-11T08:01:57.954597",
     "status": "completed"
    },
    "tags": []
   },
   "outputs": [
    {
     "data": {
      "text/plain": [
       "LinearRegression(normalize=True)"
      ]
     },
     "execution_count": 31,
     "metadata": {},
     "output_type": "execute_result"
    }
   ],
   "source": [
    "regressor=LinearRegression(normalize=True)\n",
    "regressor.fit(x_train ,y_train)"
   ]
  },
  {
   "cell_type": "code",
   "execution_count": 32,
   "id": "strategic-negative",
   "metadata": {
    "execution": {
     "iopub.execute_input": "2021-06-11T08:01:58.303850Z",
     "iopub.status.busy": "2021-06-11T08:01:58.303217Z",
     "iopub.status.idle": "2021-06-11T08:01:58.306316Z",
     "shell.execute_reply": "2021-06-11T08:01:58.306819Z",
     "shell.execute_reply.started": "2021-06-11T07:58:09.827470Z"
    },
    "papermill": {
     "duration": 0.058101,
     "end_time": "2021-06-11T08:01:58.306986",
     "exception": false,
     "start_time": "2021-06-11T08:01:58.248885",
     "status": "completed"
    },
    "tags": []
   },
   "outputs": [
    {
     "data": {
      "text/plain": [
       "array([[ 2.50000000e+01,  1.50000000e+03,  7.50000000e+02,\n",
       "         1.25000000e+03,  7.67311067e+03, -1.32688933e+03,\n",
       "        -6.32688933e+03,  1.50000000e+04,  3.50000000e+03,\n",
       "         2.50000000e+02,  1.25000000e+03,  1.17500000e+04,\n",
       "         4.45000000e+03,  6.00891265e-12, -1.55880405e-12]])"
      ]
     },
     "execution_count": 32,
     "metadata": {},
     "output_type": "execute_result"
    }
   ],
   "source": [
    "regressor.coef_"
   ]
  },
  {
   "cell_type": "code",
   "execution_count": 33,
   "id": "colonial-majority",
   "metadata": {
    "execution": {
     "iopub.execute_input": "2021-06-11T08:01:58.411217Z",
     "iopub.status.busy": "2021-06-11T08:01:58.410482Z",
     "iopub.status.idle": "2021-06-11T08:01:58.416080Z",
     "shell.execute_reply": "2021-06-11T08:01:58.415558Z",
     "shell.execute_reply.started": "2021-06-11T07:58:23.197005Z"
    },
    "papermill": {
     "duration": 0.058923,
     "end_time": "2021-06-11T08:01:58.416246",
     "exception": false,
     "start_time": "2021-06-11T08:01:58.357323",
     "status": "completed"
    },
    "tags": []
   },
   "outputs": [
    {
     "data": {
      "text/plain": [
       "array([7326.88933177])"
      ]
     },
     "execution_count": 33,
     "metadata": {},
     "output_type": "execute_result"
    }
   ],
   "source": [
    "regressor.intercept_"
   ]
  },
  {
   "cell_type": "code",
   "execution_count": 34,
   "id": "affiliated-tooth",
   "metadata": {
    "execution": {
     "iopub.execute_input": "2021-06-11T08:01:58.524549Z",
     "iopub.status.busy": "2021-06-11T08:01:58.523913Z",
     "iopub.status.idle": "2021-06-11T08:01:58.542108Z",
     "shell.execute_reply": "2021-06-11T08:01:58.542891Z",
     "shell.execute_reply.started": "2021-06-11T07:58:40.737789Z"
    },
    "papermill": {
     "duration": 0.07619,
     "end_time": "2021-06-11T08:01:58.543160",
     "exception": false,
     "start_time": "2021-06-11T08:01:58.466970",
     "status": "completed"
    },
    "tags": []
   },
   "outputs": [
    {
     "data": {
      "text/plain": [
       "array([[38200.],\n",
       "       [16800.],\n",
       "       [54325.],\n",
       "       ...,\n",
       "       [27900.],\n",
       "       [17150.],\n",
       "       [46175.]])"
      ]
     },
     "execution_count": 34,
     "metadata": {},
     "output_type": "execute_result"
    }
   ],
   "source": [
    "y_pred=regressor.predict(x_test)\n",
    "y_pred"
   ]
  },
  {
   "cell_type": "code",
   "execution_count": 35,
   "id": "reduced-consultation",
   "metadata": {
    "execution": {
     "iopub.execute_input": "2021-06-11T08:01:58.704260Z",
     "iopub.status.busy": "2021-06-11T08:01:58.703186Z",
     "iopub.status.idle": "2021-06-11T08:01:58.707214Z",
     "shell.execute_reply": "2021-06-11T08:01:58.706628Z",
     "shell.execute_reply.started": "2021-06-11T07:58:59.802807Z"
    },
    "papermill": {
     "duration": 0.073561,
     "end_time": "2021-06-11T08:01:58.707367",
     "exception": false,
     "start_time": "2021-06-11T08:01:58.633806",
     "status": "completed"
    },
    "tags": []
   },
   "outputs": [
    {
     "data": {
      "text/html": [
       "<div>\n",
       "<style scoped>\n",
       "    .dataframe tbody tr th:only-of-type {\n",
       "        vertical-align: middle;\n",
       "    }\n",
       "\n",
       "    .dataframe tbody tr th {\n",
       "        vertical-align: top;\n",
       "    }\n",
       "\n",
       "    .dataframe thead th {\n",
       "        text-align: right;\n",
       "    }\n",
       "</style>\n",
       "<table border=\"1\" class=\"dataframe\">\n",
       "  <thead>\n",
       "    <tr style=\"text-align: right;\">\n",
       "      <th></th>\n",
       "      <th>Prices</th>\n",
       "    </tr>\n",
       "  </thead>\n",
       "  <tbody>\n",
       "    <tr>\n",
       "      <th>352806</th>\n",
       "      <td>38200</td>\n",
       "    </tr>\n",
       "    <tr>\n",
       "      <th>417824</th>\n",
       "      <td>16800</td>\n",
       "    </tr>\n",
       "    <tr>\n",
       "      <th>469847</th>\n",
       "      <td>54325</td>\n",
       "    </tr>\n",
       "    <tr>\n",
       "      <th>407746</th>\n",
       "      <td>48400</td>\n",
       "    </tr>\n",
       "    <tr>\n",
       "      <th>469848</th>\n",
       "      <td>38075</td>\n",
       "    </tr>\n",
       "    <tr>\n",
       "      <th>...</th>\n",
       "      <td>...</td>\n",
       "    </tr>\n",
       "    <tr>\n",
       "      <th>110594</th>\n",
       "      <td>21900</td>\n",
       "    </tr>\n",
       "    <tr>\n",
       "      <th>318477</th>\n",
       "      <td>40900</td>\n",
       "    </tr>\n",
       "    <tr>\n",
       "      <th>11964</th>\n",
       "      <td>27900</td>\n",
       "    </tr>\n",
       "    <tr>\n",
       "      <th>75386</th>\n",
       "      <td>17150</td>\n",
       "    </tr>\n",
       "    <tr>\n",
       "      <th>55046</th>\n",
       "      <td>46175</td>\n",
       "    </tr>\n",
       "  </tbody>\n",
       "</table>\n",
       "<p>165000 rows × 1 columns</p>\n",
       "</div>"
      ],
      "text/plain": [
       "        Prices\n",
       "352806   38200\n",
       "417824   16800\n",
       "469847   54325\n",
       "407746   48400\n",
       "469848   38075\n",
       "...        ...\n",
       "110594   21900\n",
       "318477   40900\n",
       "11964    27900\n",
       "75386    17150\n",
       "55046    46175\n",
       "\n",
       "[165000 rows x 1 columns]"
      ]
     },
     "execution_count": 35,
     "metadata": {},
     "output_type": "execute_result"
    }
   ],
   "source": [
    "y_test"
   ]
  },
  {
   "cell_type": "code",
   "execution_count": 36,
   "id": "discrete-console",
   "metadata": {
    "execution": {
     "iopub.execute_input": "2021-06-11T08:01:58.815417Z",
     "iopub.status.busy": "2021-06-11T08:01:58.814777Z",
     "iopub.status.idle": "2021-06-11T08:01:58.822048Z",
     "shell.execute_reply": "2021-06-11T08:01:58.821159Z",
     "shell.execute_reply.started": "2021-06-11T07:59:13.715727Z"
    },
    "papermill": {
     "duration": 0.063472,
     "end_time": "2021-06-11T08:01:58.822233",
     "exception": false,
     "start_time": "2021-06-11T08:01:58.758761",
     "status": "completed"
    },
    "tags": []
   },
   "outputs": [
    {
     "name": "stdout",
     "output_type": "stream",
     "text": [
      "Prices    37245\n",
      "dtype: int64\n"
     ]
    }
   ],
   "source": [
    "matches = (y_pred==y_test)\n",
    "print(matches.sum())"
   ]
  },
  {
   "cell_type": "code",
   "execution_count": 37,
   "id": "extraordinary-communications",
   "metadata": {
    "execution": {
     "iopub.execute_input": "2021-06-11T08:01:58.932600Z",
     "iopub.status.busy": "2021-06-11T08:01:58.931633Z",
     "iopub.status.idle": "2021-06-11T08:01:58.935071Z",
     "shell.execute_reply": "2021-06-11T08:01:58.935769Z",
     "shell.execute_reply.started": "2021-06-11T07:59:27.953330Z"
    },
    "papermill": {
     "duration": 0.061339,
     "end_time": "2021-06-11T08:01:58.935988",
     "exception": false,
     "start_time": "2021-06-11T08:01:58.874649",
     "status": "completed"
    },
    "tags": []
   },
   "outputs": [
    {
     "name": "stdout",
     "output_type": "stream",
     "text": [
      "165000\n"
     ]
    }
   ],
   "source": [
    "print(len(matches))"
   ]
  },
  {
   "cell_type": "code",
   "execution_count": 38,
   "id": "upset-market",
   "metadata": {
    "execution": {
     "iopub.execute_input": "2021-06-11T08:01:59.049958Z",
     "iopub.status.busy": "2021-06-11T08:01:59.049277Z",
     "iopub.status.idle": "2021-06-11T08:01:59.053137Z",
     "shell.execute_reply": "2021-06-11T08:01:59.052481Z",
     "shell.execute_reply.started": "2021-06-11T07:59:39.863147Z"
    },
    "papermill": {
     "duration": 0.063931,
     "end_time": "2021-06-11T08:01:59.053275",
     "exception": false,
     "start_time": "2021-06-11T08:01:58.989344",
     "status": "completed"
    },
    "tags": []
   },
   "outputs": [
    {
     "data": {
      "text/plain": [
       "Prices    0.225727\n",
       "dtype: float64"
      ]
     },
     "execution_count": 38,
     "metadata": {},
     "output_type": "execute_result"
    }
   ],
   "source": [
    "matches.sum() / float(len(matches))"
   ]
  },
  {
   "cell_type": "code",
   "execution_count": 39,
   "id": "electric-better",
   "metadata": {
    "execution": {
     "iopub.execute_input": "2021-06-11T08:01:59.162222Z",
     "iopub.status.busy": "2021-06-11T08:01:59.161515Z",
     "iopub.status.idle": "2021-06-11T08:01:59.596126Z",
     "shell.execute_reply": "2021-06-11T08:01:59.596756Z",
     "shell.execute_reply.started": "2021-06-11T07:59:53.073639Z"
    },
    "papermill": {
     "duration": 0.490593,
     "end_time": "2021-06-11T08:01:59.596952",
     "exception": false,
     "start_time": "2021-06-11T08:01:59.106359",
     "status": "completed"
    },
    "tags": []
   },
   "outputs": [
    {
     "data": {
      "text/plain": [
       "<matplotlib.collections.PathCollection at 0x7f6f74c38c50>"
      ]
     },
     "execution_count": 39,
     "metadata": {},
     "output_type": "execute_result"
    },
    {
     "data": {
      "image/png": "[encoded data removed]",
      "text/plain": [
       "<Figure size 432x288 with 1 Axes>"
      ]
     },
     "metadata": {
      "needs_background": "light"
     },
     "output_type": "display_data"
    }
   ],
   "source": [
    "plot.scatter(y_test,y_pred)"
   ]
  }
 ],
 "metadata": {
  "kernelspec": {
   "display_name": "Python 3",
   "language": "python",
   "name": "python3"
  },
  "language_info": {
   "codemirror_mode": {
    "name": "ipython",
    "version": 3
   },
   "file_extension": ".py",
   "mimetype": "text/x-python",
   "name": "python",
   "nbconvert_exporter": "python",
   "pygments_lexer": "ipython3",
   "version": "3.7.9"
  },
  "papermill": {
   "default_parameters": {},
   "duration": 67.009694,
   "end_time": "2021-06-11T08:02:00.361242",
   "environment_variables": {},
   "exception": null,
   "input_path": "__notebook__.ipynb",
   "output_path": "__notebook__.ipynb",
   "parameters": {},
   "start_time": "2021-06-11T08:00:53.351548",
   "version": "2.3.2"
  }
 },
 "nbformat": 4,
 "nbformat_minor": 5
}
