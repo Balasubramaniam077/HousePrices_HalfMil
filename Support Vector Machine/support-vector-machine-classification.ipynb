{
 "cells": [
  {
   "cell_type": "markdown",
   "id": "ff42fe3b",
   "metadata": {
    "papermill": {
     "duration": 0.015067,
     "end_time": "2022-01-27T11:30:40.810899",
     "exception": false,
     "start_time": "2022-01-27T11:30:40.795832",
     "status": "completed"
    },
    "tags": []
   },
   "source": [
    "**Support Vector Machine in Neural Network for Image Classification**\n",
    "\n",
    "![SVM](https://www.analyticssteps.com/backend/media/thumbnail/338466/8680904_1588569086_SVM.jpg)\n",
    "\n",
    "\n",
    "\n",
    "More formally, a support-vector machine constructs a hyperplane or set of hyperplanes in a high- or infinite-dimensional space, which can be used for classification, regression, or other tasks like outliers detection.Intuitively, a good separation is achieved by the hyperplane that has the largest distance to the nearest training-data point of any class (so-called functional margin), since in general the larger the margin, the lower the generalization error of the classifier"
   ]
  },
  {
   "cell_type": "markdown",
   "id": "59e96ee9",
   "metadata": {
    "papermill": {
     "duration": 0.013349,
     "end_time": "2022-01-27T11:30:40.838346",
     "exception": false,
     "start_time": "2022-01-27T11:30:40.824997",
     "status": "completed"
    },
    "tags": []
   },
   "source": [
    "In Generally Support Vector Machine is an **complex Algorithm** to spliting the margin amaong the Best Fit Line among from the both class side it make the Bounder Line which classiifer the Boundary of an classes it can spaced from the various distance from the Best Fit Line "
   ]
  },
  {
   "cell_type": "markdown",
   "id": "38517632",
   "metadata": {
    "papermill": {
     "duration": 0.013511,
     "end_time": "2022-01-27T11:30:40.865582",
     "exception": false,
     "start_time": "2022-01-27T11:30:40.852071",
     "status": "completed"
    },
    "tags": []
   },
   "source": [
    "Let I explain Clearly with an Example:\n",
    "\n",
    "\n",
    "We are know countiers are divided by the border and convert the boundies areas are called as Country from each side of the Line. That the boundary line is called **Line of Control(LOC)** in Army.At the Same way in AI Support Vector Machine Algorithm can divided the classes from the Center of an boundary line in Dataset \n",
    "\n",
    "\n",
    "![Border](https://i.insider.com/5d3b140e100a2446f022ca82?width=700)"
   ]
  },
  {
   "cell_type": "markdown",
   "id": "b3a5e282",
   "metadata": {
    "papermill": {
     "duration": 0.013576,
     "end_time": "2022-01-27T11:30:40.892877",
     "exception": false,
     "start_time": "2022-01-27T11:30:40.879301",
     "status": "completed"
    },
    "tags": []
   },
   "source": [
    "**Import the Requirement Lib**"
   ]
  },
  {
   "cell_type": "code",
   "execution_count": 1,
   "id": "7689e919",
   "metadata": {
    "execution": {
     "iopub.execute_input": "2022-01-27T11:30:40.931474Z",
     "iopub.status.busy": "2022-01-27T11:30:40.930782Z",
     "iopub.status.idle": "2022-01-27T11:30:45.450580Z",
     "shell.execute_reply": "2022-01-27T11:30:45.449607Z",
     "shell.execute_reply.started": "2022-01-27T11:06:15.496187Z"
    },
    "papermill": {
     "duration": 4.54414,
     "end_time": "2022-01-27T11:30:45.450734",
     "exception": false,
     "start_time": "2022-01-27T11:30:40.906594",
     "status": "completed"
    },
    "tags": []
   },
   "outputs": [],
   "source": [
    "import tensorflow as tf\n",
    "from tensorflow.keras.preprocessing.image import ImageDataGenerator\n",
    "from tensorflow.keras.layers import Conv2D\n",
    "from tensorflow.keras.layers import Dense\n",
    "from tensorflow.keras.regularizers import l2"
   ]
  },
  {
   "cell_type": "markdown",
   "id": "99c063ff",
   "metadata": {
    "papermill": {
     "duration": 0.014497,
     "end_time": "2022-01-27T11:30:45.479435",
     "exception": false,
     "start_time": "2022-01-27T11:30:45.464938",
     "status": "completed"
    },
    "tags": []
   },
   "source": [
    "**Auto Selection of Accelerator (CPU / GPU / TPU)**"
   ]
  },
  {
   "cell_type": "code",
   "execution_count": 2,
   "id": "4ec0fea0",
   "metadata": {
    "execution": {
     "iopub.execute_input": "2022-01-27T11:30:45.513410Z",
     "iopub.status.busy": "2022-01-27T11:30:45.512700Z",
     "iopub.status.idle": "2022-01-27T11:30:45.515883Z",
     "shell.execute_reply": "2022-01-27T11:30:45.514871Z",
     "shell.execute_reply.started": "2022-01-27T11:06:22.347814Z"
    },
    "papermill": {
     "duration": 0.023079,
     "end_time": "2022-01-27T11:30:45.516001",
     "exception": false,
     "start_time": "2022-01-27T11:30:45.492922",
     "status": "completed"
    },
    "tags": []
   },
   "outputs": [],
   "source": [
    "import os\n",
    "import numpy as np\n",
    "import pandas as pd\n",
    "import tensorflow as tf\n",
    "\n",
    "def auto_select_accelerator():\n",
    "    try:\n",
    "        tpu = tf.distribute.cluster_resolver.TPUClusterResolver()\n",
    "        tf.config.experimental_connect_to_cluster(tpu)\n",
    "        tf.tpu.experimental.initialize_tpu_system(tpu)\n",
    "        strategy = tf.distribute.experimental.TPUStrategy(tpu)\n",
    "        print(\"Running on TPU:\", tpu.master())\n",
    "    except ValueError:\n",
    "        strategy = tf.distribute.get_strategy()\n",
    "    print(f\"Running on {strategy.num_replicas_in_sync} replicas\")\n",
    "\n",
    "    return strategy"
   ]
  },
  {
   "cell_type": "code",
   "execution_count": 3,
   "id": "f58de61f",
   "metadata": {
    "execution": {
     "iopub.execute_input": "2022-01-27T11:30:45.546955Z",
     "iopub.status.busy": "2022-01-27T11:30:45.546446Z",
     "iopub.status.idle": "2022-01-27T11:30:46.240888Z",
     "shell.execute_reply": "2022-01-27T11:30:46.240356Z",
     "shell.execute_reply.started": "2022-01-27T11:07:23.544581Z"
    },
    "papermill": {
     "duration": 0.71156,
     "end_time": "2022-01-27T11:30:46.241015",
     "exception": false,
     "start_time": "2022-01-27T11:30:45.529455",
     "status": "completed"
    },
    "tags": []
   },
   "outputs": [
    {
     "name": "stdout",
     "output_type": "stream",
     "text": [
      "Thu Jan 27 11:30:46 2022       \r\n",
      "+-----------------------------------------------------------------------------+\r\n",
      "| NVIDIA-SMI 450.119.04   Driver Version: 450.119.04   CUDA Version: 11.0     |\r\n",
      "|-------------------------------+----------------------+----------------------+\r\n",
      "| GPU  Name        Persistence-M| Bus-Id        Disp.A | Volatile Uncorr. ECC |\r\n",
      "| Fan  Temp  Perf  Pwr:Usage/Cap|         Memory-Usage | GPU-Util  Compute M. |\r\n",
      "|                               |                      |               MIG M. |\r\n",
      "|===============================+======================+======================|\r\n",
      "|   0  Tesla P100-PCIE...  Off  | 00000000:00:04.0 Off |                    0 |\r\n",
      "| N/A   36C    P0    28W / 250W |      0MiB / 16280MiB |      0%      Default |\r\n",
      "|                               |                      |                  N/A |\r\n",
      "+-------------------------------+----------------------+----------------------+\r\n",
      "                                                                               \r\n",
      "+-----------------------------------------------------------------------------+\r\n",
      "| Processes:                                                                  |\r\n",
      "|  GPU   GI   CI        PID   Type   Process name                  GPU Memory |\r\n",
      "|        ID   ID                                                   Usage      |\r\n",
      "|=============================================================================|\r\n",
      "|  No running processes found                                                 |\r\n",
      "+-----------------------------------------------------------------------------+\r\n"
     ]
    },
    {
     "data": {
      "text/plain": [
       "'2.4.1'"
      ]
     },
     "execution_count": 3,
     "metadata": {},
     "output_type": "execute_result"
    }
   ],
   "source": [
    "#checking the GPU we got from the Kaggle Kernal\n",
    "!nvidia-smi\n",
    "\n",
    "\n",
    "\n",
    "#checking the Tensorflow Version\n",
    "tf.__version__"
   ]
  },
  {
   "cell_type": "markdown",
   "id": "030b5824",
   "metadata": {
    "papermill": {
     "duration": 0.013989,
     "end_time": "2022-01-27T11:30:46.269707",
     "exception": false,
     "start_time": "2022-01-27T11:30:46.255718",
     "status": "completed"
    },
    "tags": []
   },
   "source": [
    "**Pre-Processing the Data**"
   ]
  },
  {
   "cell_type": "code",
   "execution_count": 4,
   "id": "946094f7",
   "metadata": {
    "execution": {
     "iopub.execute_input": "2022-01-27T11:30:46.302573Z",
     "iopub.status.busy": "2022-01-27T11:30:46.301870Z",
     "iopub.status.idle": "2022-01-27T11:30:46.304674Z",
     "shell.execute_reply": "2022-01-27T11:30:46.304170Z",
     "shell.execute_reply.started": "2022-01-27T11:07:29.850792Z"
    },
    "papermill": {
     "duration": 0.02092,
     "end_time": "2022-01-27T11:30:46.304772",
     "exception": false,
     "start_time": "2022-01-27T11:30:46.283852",
     "status": "completed"
    },
    "tags": []
   },
   "outputs": [],
   "source": [
    "# Preprocessing the Training set\n",
    "train_datagen = ImageDataGenerator(rescale = 1./255,\n",
    "                                   shear_range = 0.2,\n",
    "                                   zoom_range = 0.2,\n",
    "                                   horizontal_flip = True)"
   ]
  },
  {
   "cell_type": "markdown",
   "id": "e31869c9",
   "metadata": {
    "papermill": {
     "duration": 0.013993,
     "end_time": "2022-01-27T11:30:46.333209",
     "exception": false,
     "start_time": "2022-01-27T11:30:46.319216",
     "status": "completed"
    },
    "tags": []
   },
   "source": [
    "**Hyper Paramters**"
   ]
  },
  {
   "cell_type": "code",
   "execution_count": 5,
   "id": "7fdb3d9c",
   "metadata": {
    "execution": {
     "iopub.execute_input": "2022-01-27T11:30:46.366217Z",
     "iopub.status.busy": "2022-01-27T11:30:46.365633Z",
     "iopub.status.idle": "2022-01-27T11:30:57.456429Z",
     "shell.execute_reply": "2022-01-27T11:30:57.456973Z",
     "shell.execute_reply.started": "2022-01-27T11:07:38.582086Z"
    },
    "papermill": {
     "duration": 11.109873,
     "end_time": "2022-01-27T11:30:57.457198",
     "exception": false,
     "start_time": "2022-01-27T11:30:46.347325",
     "status": "completed"
    },
    "tags": []
   },
   "outputs": [
    {
     "name": "stdout",
     "output_type": "stream",
     "text": [
      "Found 10000 images belonging to 10 classes.\n",
      "Found 1000 images belonging to 10 classes.\n"
     ]
    }
   ],
   "source": [
    "training_set = train_datagen.flow_from_directory('../input/tomatoleaf/tomato/train',\n",
    "                                                 target_size = (224, 224),\n",
    "                                                 batch_size = 32,\n",
    "                                                 class_mode = 'categorical')\n",
    "\n",
    "# Preprocessing the Test set\n",
    "test_datagen = ImageDataGenerator(rescale = 1./255)\n",
    "test_set = test_datagen.flow_from_directory('../input/tomatoleaf/tomato/val',\n",
    "                                            target_size = (224, 224),\n",
    "                                            batch_size = 32,\n",
    "                                            class_mode = 'categorical')"
   ]
  },
  {
   "cell_type": "markdown",
   "id": "6c28dc24",
   "metadata": {
    "papermill": {
     "duration": 0.014714,
     "end_time": "2022-01-27T11:30:57.488552",
     "exception": false,
     "start_time": "2022-01-27T11:30:57.473838",
     "status": "completed"
    },
    "tags": []
   },
   "source": [
    "**Creating the Support Vector Machine Network**"
   ]
  },
  {
   "cell_type": "markdown",
   "id": "a860fd88",
   "metadata": {
    "papermill": {
     "duration": 0.014705,
     "end_time": "2022-01-27T11:30:57.518072",
     "exception": false,
     "start_time": "2022-01-27T11:30:57.503367",
     "status": "completed"
    },
    "tags": []
   },
   "source": [
    "**Support Vector Machine Math Concept**\n",
    "\n",
    "In this Algorithm will divided the bounderies from the Realted Class Folders and it automatically created an Best fit Line Boundary with the 10 circle bounderies\n",
    "\n",
    "![Math_Concept](https://miro.medium.com/max/1838/1*6mcff3dEDuTFT21IvlL1_Q.jpeg)"
   ]
  },
  {
   "cell_type": "code",
   "execution_count": 6,
   "id": "94fed345",
   "metadata": {
    "execution": {
     "iopub.execute_input": "2022-01-27T11:30:57.556344Z",
     "iopub.status.busy": "2022-01-27T11:30:57.555634Z",
     "iopub.status.idle": "2022-01-27T11:30:59.551096Z",
     "shell.execute_reply": "2022-01-27T11:30:59.551538Z",
     "shell.execute_reply.started": "2022-01-27T11:08:05.935912Z"
    },
    "papermill": {
     "duration": 2.018624,
     "end_time": "2022-01-27T11:30:59.551694",
     "exception": false,
     "start_time": "2022-01-27T11:30:57.533070",
     "status": "completed"
    },
    "tags": []
   },
   "outputs": [
    {
     "name": "stdout",
     "output_type": "stream",
     "text": [
      "Model: \"sequential\"\n",
      "_________________________________________________________________\n",
      "Layer (type)                 Output Shape              Param #   \n",
      "=================================================================\n",
      "conv2d (Conv2D)              (None, 112, 112, 32)      896       \n",
      "_________________________________________________________________\n",
      "max_pooling2d (MaxPooling2D) (None, 56, 56, 32)        0         \n",
      "_________________________________________________________________\n",
      "conv2d_1 (Conv2D)            (None, 56, 56, 32)        9248      \n",
      "_________________________________________________________________\n",
      "max_pooling2d_1 (MaxPooling2 (None, 28, 28, 32)        0         \n",
      "_________________________________________________________________\n",
      "flatten (Flatten)            (None, 25088)             0         \n",
      "_________________________________________________________________\n",
      "dense (Dense)                (None, 128)               3211392   \n",
      "_________________________________________________________________\n",
      "dense_1 (Dense)              (None, 10)                1290      \n",
      "=================================================================\n",
      "Total params: 3,222,826\n",
      "Trainable params: 3,222,826\n",
      "Non-trainable params: 0\n",
      "_________________________________________________________________\n"
     ]
    }
   ],
   "source": [
    "svm = tf.keras.models.Sequential()\n",
    "\n",
    "# Step 1 - Convolution\n",
    "svm.add(tf.keras.layers.Conv2D(filters=32,padding=\"same\",kernel_size=3, activation='relu', strides=2, input_shape=[224, 224, 3]))\n",
    "\n",
    "# Step 2 - Pooling\n",
    "svm.add(tf.keras.layers.MaxPool2D(pool_size=2, strides=2))\n",
    "\n",
    "# Adding a second convolutional layer\n",
    "svm.add(tf.keras.layers.Conv2D(filters=32,padding='same',kernel_size=3, activation='relu'))\n",
    "svm.add(tf.keras.layers.MaxPool2D(pool_size=2, strides=2))\n",
    "\n",
    "# Step 3 - Flattening\n",
    "svm.add(tf.keras.layers.Flatten())\n",
    "\n",
    "# Step 4 - Full Connection\n",
    "svm.add(tf.keras.layers.Dense(units=128, activation='relu'))\n",
    "\n",
    "svm.add(Dense(10, kernel_regularizer=tf.keras.regularizers.l2(0.01),activation\n",
    "             ='softmax'))\n",
    "svm.compile(optimizer = 'adam', loss = 'squared_hinge', metrics = ['accuracy'])\n",
    "\n",
    "\n",
    "svm.summary()"
   ]
  },
  {
   "cell_type": "markdown",
   "id": "df89c194",
   "metadata": {
    "papermill": {
     "duration": 0.014894,
     "end_time": "2022-01-27T11:30:59.582099",
     "exception": false,
     "start_time": "2022-01-27T11:30:59.567205",
     "status": "completed"
    },
    "tags": []
   },
   "source": [
    "**Optimizer and Loss Function**"
   ]
  },
  {
   "cell_type": "code",
   "execution_count": 7,
   "id": "be4a71da",
   "metadata": {
    "execution": {
     "iopub.execute_input": "2022-01-27T11:30:59.621811Z",
     "iopub.status.busy": "2022-01-27T11:30:59.620992Z",
     "iopub.status.idle": "2022-01-27T11:51:32.563956Z",
     "shell.execute_reply": "2022-01-27T11:51:32.563475Z",
     "shell.execute_reply.started": "2022-01-27T11:08:16.716490Z"
    },
    "papermill": {
     "duration": 1232.966948,
     "end_time": "2022-01-27T11:51:32.564093",
     "exception": false,
     "start_time": "2022-01-27T11:30:59.597145",
     "status": "completed"
    },
    "tags": []
   },
   "outputs": [
    {
     "name": "stdout",
     "output_type": "stream",
     "text": [
      "Epoch 1/10\n",
      "313/313 [==============================] - 192s 595ms/step - loss: 1.2170 - accuracy: 0.3307 - val_loss: 1.0591 - val_accuracy: 0.6110\n",
      "Epoch 2/10\n",
      "313/313 [==============================] - 115s 367ms/step - loss: 1.0295 - accuracy: 0.7020 - val_loss: 1.0276 - val_accuracy: 0.6920\n",
      "Epoch 3/10\n",
      "313/313 [==============================] - 115s 368ms/step - loss: 1.0062 - accuracy: 0.7587 - val_loss: 1.0219 - val_accuracy: 0.6950\n",
      "Epoch 4/10\n",
      "313/313 [==============================] - 115s 368ms/step - loss: 0.9867 - accuracy: 0.8056 - val_loss: 0.9952 - val_accuracy: 0.7770\n",
      "Epoch 5/10\n",
      "313/313 [==============================] - 115s 368ms/step - loss: 0.9748 - accuracy: 0.8361 - val_loss: 0.9896 - val_accuracy: 0.7810\n",
      "Epoch 6/10\n",
      "313/313 [==============================] - 116s 369ms/step - loss: 0.9724 - accuracy: 0.8390 - val_loss: 1.0165 - val_accuracy: 0.7080\n",
      "Epoch 7/10\n",
      "313/313 [==============================] - 116s 369ms/step - loss: 0.9680 - accuracy: 0.8458 - val_loss: 0.9653 - val_accuracy: 0.8540\n",
      "Epoch 8/10\n",
      "313/313 [==============================] - 114s 366ms/step - loss: 0.9572 - accuracy: 0.8757 - val_loss: 0.9713 - val_accuracy: 0.8390\n",
      "Epoch 9/10\n",
      "313/313 [==============================] - 117s 374ms/step - loss: 0.9522 - accuracy: 0.8893 - val_loss: 0.9676 - val_accuracy: 0.8470\n",
      "Epoch 10/10\n",
      "313/313 [==============================] - 117s 372ms/step - loss: 0.9520 - accuracy: 0.8875 - val_loss: 0.9617 - val_accuracy: 0.8610\n"
     ]
    }
   ],
   "source": [
    "svm.compile(optimizer = 'adam', loss = 'squared_hinge', metrics = ['accuracy'])\n",
    "r=svm.fit(x = training_set, validation_data = test_set, epochs = 10)"
   ]
  },
  {
   "cell_type": "markdown",
   "id": "87159f00",
   "metadata": {
    "papermill": {
     "duration": 0.8167,
     "end_time": "2022-01-27T11:51:34.236569",
     "exception": false,
     "start_time": "2022-01-27T11:51:33.419869",
     "status": "completed"
    },
    "tags": []
   },
   "source": [
    "**Accuracy Graphs**"
   ]
  },
  {
   "cell_type": "code",
   "execution_count": 8,
   "id": "0022ad8d",
   "metadata": {
    "execution": {
     "iopub.execute_input": "2022-01-27T11:51:35.888781Z",
     "iopub.status.busy": "2022-01-27T11:51:35.887957Z",
     "iopub.status.idle": "2022-01-27T11:51:36.173010Z",
     "shell.execute_reply": "2022-01-27T11:51:36.173505Z",
     "shell.execute_reply.started": "2022-01-27T11:29:18.103174Z"
    },
    "papermill": {
     "duration": 1.119981,
     "end_time": "2022-01-27T11:51:36.173664",
     "exception": false,
     "start_time": "2022-01-27T11:51:35.053683",
     "status": "completed"
    },
    "tags": []
   },
   "outputs": [
    {
     "data": {
      "image/png": "[encoded data removed]",
      "text/plain": [
       "<Figure size 432x288 with 1 Axes>"
      ]
     },
     "metadata": {
      "needs_background": "light"
     },
     "output_type": "display_data"
    },
    {
     "data": {
      "image/png": "[encoded data removed]",
      "text/plain": [
       "<Figure size 432x288 with 1 Axes>"
      ]
     },
     "metadata": {
      "needs_background": "light"
     },
     "output_type": "display_data"
    },
    {
     "data": {
      "text/plain": [
       "<Figure size 432x288 with 0 Axes>"
      ]
     },
     "metadata": {},
     "output_type": "display_data"
    }
   ],
   "source": [
    "import matplotlib.pyplot as plt\n",
    "plt.plot(r.history['loss'], label='train loss')\n",
    "plt.plot(r.history['val_loss'], label='val loss')\n",
    "plt.legend()\n",
    "plt.show()\n",
    "plt.savefig('LossVal_loss')\n",
    "\n",
    "# plot the accuracy\n",
    "plt.plot(r.history['accuracy'], label='train acc')\n",
    "plt.plot(r.history['val_accuracy'], label='val acc')\n",
    "plt.legend()\n",
    "plt.show()\n",
    "plt.savefig('AccVal_acc')"
   ]
  },
  {
   "cell_type": "markdown",
   "id": "22fb84ec",
   "metadata": {
    "papermill": {
     "duration": 0.815968,
     "end_time": "2022-01-27T11:51:37.811354",
     "exception": false,
     "start_time": "2022-01-27T11:51:36.995386",
     "status": "completed"
    },
    "tags": []
   },
   "source": [
    "**Loading the model**"
   ]
  },
  {
   "cell_type": "code",
   "execution_count": 9,
   "id": "f3f1ea34",
   "metadata": {
    "execution": {
     "iopub.execute_input": "2022-01-27T11:51:39.730696Z",
     "iopub.status.busy": "2022-01-27T11:51:39.729855Z",
     "iopub.status.idle": "2022-01-27T11:51:39.805668Z",
     "shell.execute_reply": "2022-01-27T11:51:39.805177Z",
     "shell.execute_reply.started": "2022-01-27T11:29:40.971783Z"
    },
    "papermill": {
     "duration": 0.907348,
     "end_time": "2022-01-27T11:51:39.805798",
     "exception": false,
     "start_time": "2022-01-27T11:51:38.898450",
     "status": "completed"
    },
    "tags": []
   },
   "outputs": [],
   "source": [
    "from tensorflow.keras.models import load_model\n",
    "\n",
    "svm.save('SVM_Tomatoleaf.h5')"
   ]
  },
  {
   "cell_type": "code",
   "execution_count": 10,
   "id": "6c408e13",
   "metadata": {
    "execution": {
     "iopub.execute_input": "2022-01-27T11:51:41.491608Z",
     "iopub.status.busy": "2022-01-27T11:51:41.490763Z",
     "iopub.status.idle": "2022-01-27T11:51:41.800838Z",
     "shell.execute_reply": "2022-01-27T11:51:41.800332Z",
     "shell.execute_reply.started": "2022-01-27T11:29:53.682028Z"
    },
    "papermill": {
     "duration": 1.176002,
     "end_time": "2022-01-27T11:51:41.800962",
     "exception": false,
     "start_time": "2022-01-27T11:51:40.624960",
     "status": "completed"
    },
    "tags": []
   },
   "outputs": [],
   "source": [
    "from tensorflow.keras.models import load_model\n",
    "model = load_model('SVM_Tomatoleaf.h5')"
   ]
  },
  {
   "cell_type": "code",
   "execution_count": 11,
   "id": "ce9437f1",
   "metadata": {
    "execution": {
     "iopub.execute_input": "2022-01-27T11:51:43.455497Z",
     "iopub.status.busy": "2022-01-27T11:51:43.454774Z",
     "iopub.status.idle": "2022-01-27T11:51:43.457997Z",
     "shell.execute_reply": "2022-01-27T11:51:43.455963Z",
     "shell.execute_reply.started": "2022-01-27T11:29:55.724732Z"
    },
    "papermill": {
     "duration": 0.830407,
     "end_time": "2022-01-27T11:51:43.458172",
     "exception": false,
     "start_time": "2022-01-27T11:51:42.627765",
     "status": "completed"
    },
    "tags": []
   },
   "outputs": [
    {
     "name": "stdout",
     "output_type": "stream",
     "text": [
      "Model: \"sequential\"\n",
      "_________________________________________________________________\n",
      "Layer (type)                 Output Shape              Param #   \n",
      "=================================================================\n",
      "conv2d (Conv2D)              (None, 112, 112, 32)      896       \n",
      "_________________________________________________________________\n",
      "max_pooling2d (MaxPooling2D) (None, 56, 56, 32)        0         \n",
      "_________________________________________________________________\n",
      "conv2d_1 (Conv2D)            (None, 56, 56, 32)        9248      \n",
      "_________________________________________________________________\n",
      "max_pooling2d_1 (MaxPooling2 (None, 28, 28, 32)        0         \n",
      "_________________________________________________________________\n",
      "flatten (Flatten)            (None, 25088)             0         \n",
      "_________________________________________________________________\n",
      "dense (Dense)                (None, 128)               3211392   \n",
      "_________________________________________________________________\n",
      "dense_1 (Dense)              (None, 10)                1290      \n",
      "=================================================================\n",
      "Total params: 3,222,826\n",
      "Trainable params: 3,222,826\n",
      "Non-trainable params: 0\n",
      "_________________________________________________________________\n"
     ]
    }
   ],
   "source": [
    "model.summary()"
   ]
  },
  {
   "cell_type": "markdown",
   "id": "afb77a49",
   "metadata": {
    "papermill": {
     "duration": 0.822849,
     "end_time": "2022-01-27T11:51:45.106190",
     "exception": false,
     "start_time": "2022-01-27T11:51:44.283341",
     "status": "completed"
    },
    "tags": []
   },
   "source": [
    "**Testing the Model**"
   ]
  },
  {
   "cell_type": "code",
   "execution_count": 12,
   "id": "70b1edbb",
   "metadata": {
    "execution": {
     "iopub.execute_input": "2022-01-27T11:51:46.746095Z",
     "iopub.status.busy": "2022-01-27T11:51:46.745576Z",
     "iopub.status.idle": "2022-01-27T11:51:46.885707Z",
     "shell.execute_reply": "2022-01-27T11:51:46.885289Z",
     "shell.execute_reply.started": "2022-01-27T11:30:15.168706Z"
    },
    "papermill": {
     "duration": 0.960799,
     "end_time": "2022-01-27T11:51:46.885826",
     "exception": false,
     "start_time": "2022-01-27T11:51:45.925027",
     "status": "completed"
    },
    "tags": []
   },
   "outputs": [
    {
     "data": {
      "text/plain": [
       "array([[4.0120266e-02, 9.5804089e-01, 9.2027576e-06, 3.8090278e-07,\n",
       "        3.3401101e-08, 3.5831836e-04, 1.3941439e-03, 1.1173570e-05,\n",
       "        1.1742408e-09, 6.5504020e-05]], dtype=float32)"
      ]
     },
     "execution_count": 12,
     "metadata": {},
     "output_type": "execute_result"
    }
   ],
   "source": [
    "\n",
    "import numpy as np\n",
    "from tensorflow.keras.preprocessing import image\n",
    "test_image = image.load_img('../input/tomatoleaf/tomato/train/Tomato___Early_blight/0114f7b3-7f56-4bef-aa47-7a82da142d4b___RS_Erly.B 7437.JPG', target_size = (224,224))\n",
    "test_image = image.img_to_array(test_image)\n",
    "test_image=test_image/255\n",
    "test_image = np.expand_dims(test_image, axis = 0)\n",
    "result = svm.predict(test_image)\n",
    "result"
   ]
  }
 ],
 "metadata": {
  "kernelspec": {
   "display_name": "Python 3",
   "language": "python",
   "name": "python3"
  },
  "language_info": {
   "codemirror_mode": {
    "name": "ipython",
    "version": 3
   },
   "file_extension": ".py",
   "mimetype": "text/x-python",
   "name": "python",
   "nbconvert_exporter": "python",
   "pygments_lexer": "ipython3",
   "version": "3.7.10"
  },
  "papermill": {
   "default_parameters": {},
   "duration": 1276.241335,
   "end_time": "2022-01-27T11:51:50.519821",
   "environment_variables": {},
   "exception": null,
   "input_path": "__notebook__.ipynb",
   "output_path": "__notebook__.ipynb",
   "parameters": {},
   "start_time": "2022-01-27T11:30:34.278486",
   "version": "2.3.3"
  }
 },
 "nbformat": 4,
 "nbformat_minor": 5
}
