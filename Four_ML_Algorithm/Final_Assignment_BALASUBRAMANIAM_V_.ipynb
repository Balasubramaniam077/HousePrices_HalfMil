{
  "nbformat": 4,
  "nbformat_minor": 0,
  "metadata": {
    "colab": {
      "name": "Final Assignment-BALASUBRAMANIAM V .ipynb",
      "provenance": [],
      "collapsed_sections": []
    },
    "kernelspec": {
      "name": "python3",
      "display_name": "Python 3"
    },
    "language_info": {
      "name": "python"
    },
    "accelerator": "GPU"
  },
  "cells": [
    {
      "cell_type": "markdown",
      "metadata": {
        "id": "btUiCR8u74R8"
      },
      "source": [
        "**NAME : BALASUBRAMANIAM V**\n",
        "\n",
        "\n",
        "**GATEWAY AI INTERN FINAL ASSIGNMENT**\n",
        "\n",
        "**ROLL NO : 19CS020**\n",
        "\n",
        "**KPR INTITUTE OF ENGINEERING AND TECHNOLOGY AT COIMBATORE**\n",
        "\n",
        "\n",
        "\n",
        "\n",
        "---\n",
        "\n",
        "\n",
        "\n",
        "\n",
        "\n",
        "---\n",
        "\n",
        "**IMPORTING THE CSV FILES**\n"
      ]
    },
    {
      "cell_type": "code",
      "metadata": {
        "colab": {
          "resources": {
            "http://localhost:8080/nbextensions/google.colab/files.js": {
              "data": "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",
              "ok": true,
              "headers": [
                [
                  "content-type",
                  "application/javascript"
                ]
              ],
              "status": 200,
              "status_text": ""
            }
          },
          "base_uri": "https://localhost:8080/",
          "height": 72
        },
        "id": "Vqf38oqV6uXg",
        "outputId": "37aba27a-9fd6-47ae-ec4f-669d25588c7f"
      },
      "source": [
        "from google.colab import files\n",
        "\n",
        "\n",
        "uploaded = files.upload()\n"
      ],
      "execution_count": null,
      "outputs": [
        {
          "output_type": "display_data",
          "data": {
            "text/html": [
              "\n",
              "     <input type=\"file\" id=\"files-7550889f-81da-4b8d-9e92-79541500c8bc\" name=\"files[]\" multiple disabled\n",
              "        style=\"border:none\" />\n",
              "     <output id=\"result-7550889f-81da-4b8d-9e92-79541500c8bc\">\n",
              "      Upload widget is only available when the cell has been executed in the\n",
              "      current browser session. Please rerun this cell to enable.\n",
              "      </output>\n",
              "      <script src=\"/nbextensions/google.colab/files.js\"></script> "
            ],
            "text/plain": [
              "<IPython.core.display.HTML object>"
            ]
          },
          "metadata": {
            "tags": []
          }
        },
        {
          "output_type": "stream",
          "text": [
            "Saving state_crime (1).csv to state_crime (1).csv\n"
          ],
          "name": "stdout"
        }
      ]
    },
    {
      "cell_type": "markdown",
      "metadata": {
        "id": "k38q6R6f9QGG"
      },
      "source": [
        "**DATA CLEANING & DATA PROCESSING**"
      ]
    },
    {
      "cell_type": "code",
      "metadata": {
        "id": "RVfwfxxS7X5R"
      },
      "source": [
        "import pandas as pd\n",
        "import numpy as np"
      ],
      "execution_count": null,
      "outputs": []
    },
    {
      "cell_type": "code",
      "metadata": {
        "colab": {
          "base_uri": "https://localhost:8080/",
          "height": 517
        },
        "id": "ZgYw2-NN7lFv",
        "outputId": "0806a015-ed64-4684-c693-4d466eb9fda3"
      },
      "source": [
        "df=pd.read_csv(\"/content/state_crime (1).csv\")\n",
        "df"
      ],
      "execution_count": null,
      "outputs": [
        {
          "output_type": "execute_result",
          "data": {
            "text/html": [
              "<div>\n",
              "<style scoped>\n",
              "    .dataframe tbody tr th:only-of-type {\n",
              "        vertical-align: middle;\n",
              "    }\n",
              "\n",
              "    .dataframe tbody tr th {\n",
              "        vertical-align: top;\n",
              "    }\n",
              "\n",
              "    .dataframe thead th {\n",
              "        text-align: right;\n",
              "    }\n",
              "</style>\n",
              "<table border=\"1\" class=\"dataframe\">\n",
              "  <thead>\n",
              "    <tr style=\"text-align: right;\">\n",
              "      <th></th>\n",
              "      <th>State</th>\n",
              "      <th>Year</th>\n",
              "      <th>Data.Population</th>\n",
              "      <th>Data.Rates.Property.All</th>\n",
              "      <th>Data.Rates.Property.Burglary</th>\n",
              "      <th>Data.Rates.Property.Larceny</th>\n",
              "      <th>Data.Rates.Property.Motor</th>\n",
              "      <th>Data.Rates.Violent.All</th>\n",
              "      <th>Data.Rates.Violent.Assault</th>\n",
              "      <th>Data.Rates.Violent.Murder</th>\n",
              "      <th>Data.Rates.Violent.Rape</th>\n",
              "      <th>Data.Rates.Violent.Robbery</th>\n",
              "      <th>Data.Totals.Property.All</th>\n",
              "      <th>Data.Totals.Property.Burglary</th>\n",
              "      <th>Data.Totals.Property.Larceny</th>\n",
              "      <th>Data.Totals.Property.Motor</th>\n",
              "      <th>Data.Totals.Violent.All</th>\n",
              "      <th>Data.Totals.Violent.Assault</th>\n",
              "      <th>Data.Totals.Violent.Murder</th>\n",
              "      <th>Data.Totals.Violent.Rape</th>\n",
              "      <th>Data.Totals.Violent.Robbery</th>\n",
              "    </tr>\n",
              "  </thead>\n",
              "  <tbody>\n",
              "    <tr>\n",
              "      <th>0</th>\n",
              "      <td>Alabama</td>\n",
              "      <td>1960</td>\n",
              "      <td>3266740</td>\n",
              "      <td>1035.4</td>\n",
              "      <td>355.9</td>\n",
              "      <td>592.1</td>\n",
              "      <td>87.3</td>\n",
              "      <td>186.6</td>\n",
              "      <td>138.1</td>\n",
              "      <td>12.4</td>\n",
              "      <td>8.6</td>\n",
              "      <td>27.5</td>\n",
              "      <td>33823</td>\n",
              "      <td>11626</td>\n",
              "      <td>19344</td>\n",
              "      <td>2853</td>\n",
              "      <td>6097</td>\n",
              "      <td>4512</td>\n",
              "      <td>406</td>\n",
              "      <td>281</td>\n",
              "      <td>898</td>\n",
              "    </tr>\n",
              "    <tr>\n",
              "      <th>1</th>\n",
              "      <td>Alabama</td>\n",
              "      <td>1961</td>\n",
              "      <td>3302000</td>\n",
              "      <td>985.5</td>\n",
              "      <td>339.3</td>\n",
              "      <td>569.4</td>\n",
              "      <td>76.8</td>\n",
              "      <td>168.5</td>\n",
              "      <td>128.9</td>\n",
              "      <td>12.9</td>\n",
              "      <td>7.6</td>\n",
              "      <td>19.1</td>\n",
              "      <td>32541</td>\n",
              "      <td>11205</td>\n",
              "      <td>18801</td>\n",
              "      <td>2535</td>\n",
              "      <td>5564</td>\n",
              "      <td>4255</td>\n",
              "      <td>427</td>\n",
              "      <td>252</td>\n",
              "      <td>630</td>\n",
              "    </tr>\n",
              "    <tr>\n",
              "      <th>2</th>\n",
              "      <td>Alabama</td>\n",
              "      <td>1962</td>\n",
              "      <td>3358000</td>\n",
              "      <td>1067.0</td>\n",
              "      <td>349.1</td>\n",
              "      <td>634.5</td>\n",
              "      <td>83.4</td>\n",
              "      <td>157.3</td>\n",
              "      <td>119.0</td>\n",
              "      <td>9.4</td>\n",
              "      <td>6.5</td>\n",
              "      <td>22.5</td>\n",
              "      <td>35829</td>\n",
              "      <td>11722</td>\n",
              "      <td>21306</td>\n",
              "      <td>2801</td>\n",
              "      <td>5283</td>\n",
              "      <td>3995</td>\n",
              "      <td>316</td>\n",
              "      <td>218</td>\n",
              "      <td>754</td>\n",
              "    </tr>\n",
              "    <tr>\n",
              "      <th>3</th>\n",
              "      <td>Alabama</td>\n",
              "      <td>1963</td>\n",
              "      <td>3347000</td>\n",
              "      <td>1150.9</td>\n",
              "      <td>376.9</td>\n",
              "      <td>683.4</td>\n",
              "      <td>90.6</td>\n",
              "      <td>182.7</td>\n",
              "      <td>142.1</td>\n",
              "      <td>10.2</td>\n",
              "      <td>5.7</td>\n",
              "      <td>24.7</td>\n",
              "      <td>38521</td>\n",
              "      <td>12614</td>\n",
              "      <td>22874</td>\n",
              "      <td>3033</td>\n",
              "      <td>6115</td>\n",
              "      <td>4755</td>\n",
              "      <td>340</td>\n",
              "      <td>192</td>\n",
              "      <td>828</td>\n",
              "    </tr>\n",
              "    <tr>\n",
              "      <th>4</th>\n",
              "      <td>Alabama</td>\n",
              "      <td>1964</td>\n",
              "      <td>3407000</td>\n",
              "      <td>1358.7</td>\n",
              "      <td>466.6</td>\n",
              "      <td>784.1</td>\n",
              "      <td>108.0</td>\n",
              "      <td>213.1</td>\n",
              "      <td>163.0</td>\n",
              "      <td>9.3</td>\n",
              "      <td>11.7</td>\n",
              "      <td>29.1</td>\n",
              "      <td>46290</td>\n",
              "      <td>15898</td>\n",
              "      <td>26713</td>\n",
              "      <td>3679</td>\n",
              "      <td>7260</td>\n",
              "      <td>5555</td>\n",
              "      <td>316</td>\n",
              "      <td>397</td>\n",
              "      <td>992</td>\n",
              "    </tr>\n",
              "    <tr>\n",
              "      <th>...</th>\n",
              "      <td>...</td>\n",
              "      <td>...</td>\n",
              "      <td>...</td>\n",
              "      <td>...</td>\n",
              "      <td>...</td>\n",
              "      <td>...</td>\n",
              "      <td>...</td>\n",
              "      <td>...</td>\n",
              "      <td>...</td>\n",
              "      <td>...</td>\n",
              "      <td>...</td>\n",
              "      <td>...</td>\n",
              "      <td>...</td>\n",
              "      <td>...</td>\n",
              "      <td>...</td>\n",
              "      <td>...</td>\n",
              "      <td>...</td>\n",
              "      <td>...</td>\n",
              "      <td>...</td>\n",
              "      <td>...</td>\n",
              "      <td>...</td>\n",
              "    </tr>\n",
              "    <tr>\n",
              "      <th>2746</th>\n",
              "      <td>United States</td>\n",
              "      <td>2008</td>\n",
              "      <td>304059724</td>\n",
              "      <td>3214.6</td>\n",
              "      <td>733.0</td>\n",
              "      <td>2166.1</td>\n",
              "      <td>315.4</td>\n",
              "      <td>458.6</td>\n",
              "      <td>277.5</td>\n",
              "      <td>5.4</td>\n",
              "      <td>29.8</td>\n",
              "      <td>145.9</td>\n",
              "      <td>9774152</td>\n",
              "      <td>2228887</td>\n",
              "      <td>6586206</td>\n",
              "      <td>959059</td>\n",
              "      <td>1394461</td>\n",
              "      <td>843683</td>\n",
              "      <td>16465</td>\n",
              "      <td>90750</td>\n",
              "      <td>443563</td>\n",
              "    </tr>\n",
              "    <tr>\n",
              "      <th>2747</th>\n",
              "      <td>United States</td>\n",
              "      <td>2009</td>\n",
              "      <td>307006550</td>\n",
              "      <td>3041.3</td>\n",
              "      <td>717.7</td>\n",
              "      <td>2064.5</td>\n",
              "      <td>259.2</td>\n",
              "      <td>431.9</td>\n",
              "      <td>264.7</td>\n",
              "      <td>5.0</td>\n",
              "      <td>29.1</td>\n",
              "      <td>133.1</td>\n",
              "      <td>9337060</td>\n",
              "      <td>2203313</td>\n",
              "      <td>6338095</td>\n",
              "      <td>795652</td>\n",
              "      <td>1325896</td>\n",
              "      <td>812514</td>\n",
              "      <td>15399</td>\n",
              "      <td>89241</td>\n",
              "      <td>408742</td>\n",
              "    </tr>\n",
              "    <tr>\n",
              "      <th>2748</th>\n",
              "      <td>United States</td>\n",
              "      <td>2010</td>\n",
              "      <td>309330219</td>\n",
              "      <td>2945.9</td>\n",
              "      <td>701.0</td>\n",
              "      <td>2005.8</td>\n",
              "      <td>239.1</td>\n",
              "      <td>404.5</td>\n",
              "      <td>252.8</td>\n",
              "      <td>4.8</td>\n",
              "      <td>27.7</td>\n",
              "      <td>119.3</td>\n",
              "      <td>9112625</td>\n",
              "      <td>2168459</td>\n",
              "      <td>6204601</td>\n",
              "      <td>739565</td>\n",
              "      <td>1251248</td>\n",
              "      <td>781844</td>\n",
              "      <td>14722</td>\n",
              "      <td>85593</td>\n",
              "      <td>369089</td>\n",
              "    </tr>\n",
              "    <tr>\n",
              "      <th>2749</th>\n",
              "      <td>United States</td>\n",
              "      <td>2011</td>\n",
              "      <td>311587816</td>\n",
              "      <td>2905.4</td>\n",
              "      <td>701.3</td>\n",
              "      <td>1974.1</td>\n",
              "      <td>230.0</td>\n",
              "      <td>387.1</td>\n",
              "      <td>241.5</td>\n",
              "      <td>4.7</td>\n",
              "      <td>27.0</td>\n",
              "      <td>113.9</td>\n",
              "      <td>9052743</td>\n",
              "      <td>2185140</td>\n",
              "      <td>6151095</td>\n",
              "      <td>716508</td>\n",
              "      <td>1206031</td>\n",
              "      <td>752423</td>\n",
              "      <td>14661</td>\n",
              "      <td>84175</td>\n",
              "      <td>354772</td>\n",
              "    </tr>\n",
              "    <tr>\n",
              "      <th>2750</th>\n",
              "      <td>United States</td>\n",
              "      <td>2012</td>\n",
              "      <td>313914040</td>\n",
              "      <td>2859.2</td>\n",
              "      <td>670.2</td>\n",
              "      <td>1959.3</td>\n",
              "      <td>229.7</td>\n",
              "      <td>386.9</td>\n",
              "      <td>242.3</td>\n",
              "      <td>4.7</td>\n",
              "      <td>26.9</td>\n",
              "      <td>112.9</td>\n",
              "      <td>8975438</td>\n",
              "      <td>2103787</td>\n",
              "      <td>6150598</td>\n",
              "      <td>721053</td>\n",
              "      <td>1214464</td>\n",
              "      <td>760739</td>\n",
              "      <td>14827</td>\n",
              "      <td>84376</td>\n",
              "      <td>354522</td>\n",
              "    </tr>\n",
              "  </tbody>\n",
              "</table>\n",
              "<p>2751 rows × 21 columns</p>\n",
              "</div>"
            ],
            "text/plain": [
              "              State  ...  Data.Totals.Violent.Robbery\n",
              "0           Alabama  ...                          898\n",
              "1           Alabama  ...                          630\n",
              "2           Alabama  ...                          754\n",
              "3           Alabama  ...                          828\n",
              "4           Alabama  ...                          992\n",
              "...             ...  ...                          ...\n",
              "2746  United States  ...                       443563\n",
              "2747  United States  ...                       408742\n",
              "2748  United States  ...                       369089\n",
              "2749  United States  ...                       354772\n",
              "2750  United States  ...                       354522\n",
              "\n",
              "[2751 rows x 21 columns]"
            ]
          },
          "metadata": {
            "tags": []
          },
          "execution_count": 3
        }
      ]
    },
    {
      "cell_type": "code",
      "metadata": {
        "colab": {
          "base_uri": "https://localhost:8080/"
        },
        "id": "2YQ93g_Y7xnx",
        "outputId": "087bf3c6-bdba-485e-ec6f-066c48739f68"
      },
      "source": [
        "df.tail"
      ],
      "execution_count": null,
      "outputs": [
        {
          "output_type": "execute_result",
          "data": {
            "text/plain": [
              "<bound method NDFrame.tail of               State  ...  Data.Totals.Violent.Robbery\n",
              "0           Alabama  ...                          898\n",
              "1           Alabama  ...                          630\n",
              "2           Alabama  ...                          754\n",
              "3           Alabama  ...                          828\n",
              "4           Alabama  ...                          992\n",
              "...             ...  ...                          ...\n",
              "2746  United States  ...                       443563\n",
              "2747  United States  ...                       408742\n",
              "2748  United States  ...                       369089\n",
              "2749  United States  ...                       354772\n",
              "2750  United States  ...                       354522\n",
              "\n",
              "[2751 rows x 21 columns]>"
            ]
          },
          "metadata": {
            "tags": []
          },
          "execution_count": 4
        }
      ]
    },
    {
      "cell_type": "code",
      "metadata": {
        "colab": {
          "base_uri": "https://localhost:8080/",
          "height": 313
        },
        "id": "XfGq8B9o-2Vx",
        "outputId": "ced625dc-2cc5-434d-f421-181f0b41ab39"
      },
      "source": [
        "df.describe()"
      ],
      "execution_count": null,
      "outputs": [
        {
          "output_type": "execute_result",
          "data": {
            "text/html": [
              "<div>\n",
              "<style scoped>\n",
              "    .dataframe tbody tr th:only-of-type {\n",
              "        vertical-align: middle;\n",
              "    }\n",
              "\n",
              "    .dataframe tbody tr th {\n",
              "        vertical-align: top;\n",
              "    }\n",
              "\n",
              "    .dataframe thead th {\n",
              "        text-align: right;\n",
              "    }\n",
              "</style>\n",
              "<table border=\"1\" class=\"dataframe\">\n",
              "  <thead>\n",
              "    <tr style=\"text-align: right;\">\n",
              "      <th></th>\n",
              "      <th>Year</th>\n",
              "      <th>Data.Population</th>\n",
              "      <th>Data.Rates.Property.All</th>\n",
              "      <th>Data.Rates.Property.Burglary</th>\n",
              "      <th>Data.Rates.Property.Larceny</th>\n",
              "      <th>Data.Rates.Property.Motor</th>\n",
              "      <th>Data.Rates.Violent.All</th>\n",
              "      <th>Data.Rates.Violent.Assault</th>\n",
              "      <th>Data.Rates.Violent.Murder</th>\n",
              "      <th>Data.Rates.Violent.Rape</th>\n",
              "      <th>Data.Rates.Violent.Robbery</th>\n",
              "      <th>Data.Totals.Property.All</th>\n",
              "      <th>Data.Totals.Property.Burglary</th>\n",
              "      <th>Data.Totals.Property.Larceny</th>\n",
              "      <th>Data.Totals.Property.Motor</th>\n",
              "      <th>Data.Totals.Violent.All</th>\n",
              "      <th>Data.Totals.Violent.Assault</th>\n",
              "      <th>Data.Totals.Violent.Murder</th>\n",
              "      <th>Data.Totals.Violent.Rape</th>\n",
              "      <th>Data.Totals.Violent.Robbery</th>\n",
              "    </tr>\n",
              "  </thead>\n",
              "  <tbody>\n",
              "    <tr>\n",
              "      <th>count</th>\n",
              "      <td>2751.000000</td>\n",
              "      <td>2.751000e+03</td>\n",
              "      <td>2751.000000</td>\n",
              "      <td>2751.000000</td>\n",
              "      <td>2751.000000</td>\n",
              "      <td>2751.000000</td>\n",
              "      <td>2751.000000</td>\n",
              "      <td>2751.00000</td>\n",
              "      <td>2751.000000</td>\n",
              "      <td>2751.000000</td>\n",
              "      <td>2751.000000</td>\n",
              "      <td>2.751000e+03</td>\n",
              "      <td>2.751000e+03</td>\n",
              "      <td>2.751000e+03</td>\n",
              "      <td>2.751000e+03</td>\n",
              "      <td>2.751000e+03</td>\n",
              "      <td>2.751000e+03</td>\n",
              "      <td>2751.000000</td>\n",
              "      <td>2751.000000</td>\n",
              "      <td>2751.000000</td>\n",
              "    </tr>\n",
              "    <tr>\n",
              "      <th>mean</th>\n",
              "      <td>1986.043621</td>\n",
              "      <td>9.349570e+06</td>\n",
              "      <td>3686.538750</td>\n",
              "      <td>931.207270</td>\n",
              "      <td>2395.549727</td>\n",
              "      <td>359.782116</td>\n",
              "      <td>400.370265</td>\n",
              "      <td>236.29851</td>\n",
              "      <td>6.691821</td>\n",
              "      <td>28.321556</td>\n",
              "      <td>129.056634</td>\n",
              "      <td>3.633906e+05</td>\n",
              "      <td>9.402040e+04</td>\n",
              "      <td>2.293203e+05</td>\n",
              "      <td>4.005010e+04</td>\n",
              "      <td>4.571977e+04</td>\n",
              "      <td>2.613832e+04</td>\n",
              "      <td>670.831334</td>\n",
              "      <td>2785.149037</td>\n",
              "      <td>16125.468193</td>\n",
              "    </tr>\n",
              "    <tr>\n",
              "      <th>std</th>\n",
              "      <td>15.279324</td>\n",
              "      <td>3.368126e+07</td>\n",
              "      <td>1427.899631</td>\n",
              "      <td>442.475987</td>\n",
              "      <td>914.597550</td>\n",
              "      <td>227.557767</td>\n",
              "      <td>298.988227</td>\n",
              "      <td>164.18289</td>\n",
              "      <td>6.127160</td>\n",
              "      <td>15.602170</td>\n",
              "      <td>149.602475</td>\n",
              "      <td>1.351616e+06</td>\n",
              "      <td>3.510220e+05</td>\n",
              "      <td>8.565842e+05</td>\n",
              "      <td>1.519735e+05</td>\n",
              "      <td>1.768145e+05</td>\n",
              "      <td>1.027906e+05</td>\n",
              "      <td>2470.163511</td>\n",
              "      <td>10693.496872</td>\n",
              "      <td>62230.564464</td>\n",
              "    </tr>\n",
              "    <tr>\n",
              "      <th>min</th>\n",
              "      <td>1960.000000</td>\n",
              "      <td>2.261670e+05</td>\n",
              "      <td>573.100000</td>\n",
              "      <td>182.600000</td>\n",
              "      <td>293.300000</td>\n",
              "      <td>48.300000</td>\n",
              "      <td>9.500000</td>\n",
              "      <td>3.60000</td>\n",
              "      <td>0.200000</td>\n",
              "      <td>0.800000</td>\n",
              "      <td>1.900000</td>\n",
              "      <td>3.147000e+03</td>\n",
              "      <td>7.510000e+02</td>\n",
              "      <td>1.489000e+03</td>\n",
              "      <td>3.340000e+02</td>\n",
              "      <td>3.700000e+01</td>\n",
              "      <td>1.400000e+01</td>\n",
              "      <td>1.000000</td>\n",
              "      <td>6.000000</td>\n",
              "      <td>8.000000</td>\n",
              "    </tr>\n",
              "    <tr>\n",
              "      <th>25%</th>\n",
              "      <td>1973.000000</td>\n",
              "      <td>1.208000e+06</td>\n",
              "      <td>2613.400000</td>\n",
              "      <td>592.100000</td>\n",
              "      <td>1745.350000</td>\n",
              "      <td>195.100000</td>\n",
              "      <td>204.950000</td>\n",
              "      <td>116.65000</td>\n",
              "      <td>3.200000</td>\n",
              "      <td>17.100000</td>\n",
              "      <td>41.800000</td>\n",
              "      <td>3.984550e+04</td>\n",
              "      <td>9.850000e+03</td>\n",
              "      <td>2.589800e+04</td>\n",
              "      <td>3.199000e+03</td>\n",
              "      <td>3.077500e+03</td>\n",
              "      <td>1.879000e+03</td>\n",
              "      <td>47.000000</td>\n",
              "      <td>292.000000</td>\n",
              "      <td>788.500000</td>\n",
              "    </tr>\n",
              "    <tr>\n",
              "      <th>50%</th>\n",
              "      <td>1986.000000</td>\n",
              "      <td>3.282000e+06</td>\n",
              "      <td>3670.000000</td>\n",
              "      <td>870.600000</td>\n",
              "      <td>2404.100000</td>\n",
              "      <td>311.700000</td>\n",
              "      <td>338.800000</td>\n",
              "      <td>201.90000</td>\n",
              "      <td>5.600000</td>\n",
              "      <td>27.100000</td>\n",
              "      <td>98.600000</td>\n",
              "      <td>1.086770e+05</td>\n",
              "      <td>2.838900e+04</td>\n",
              "      <td>7.093100e+04</td>\n",
              "      <td>9.328000e+03</td>\n",
              "      <td>1.083500e+04</td>\n",
              "      <td>6.443000e+03</td>\n",
              "      <td>185.000000</td>\n",
              "      <td>836.000000</td>\n",
              "      <td>3224.000000</td>\n",
              "    </tr>\n",
              "    <tr>\n",
              "      <th>75%</th>\n",
              "      <td>1999.000000</td>\n",
              "      <td>5.840286e+06</td>\n",
              "      <td>4579.150000</td>\n",
              "      <td>1183.800000</td>\n",
              "      <td>2957.050000</td>\n",
              "      <td>458.050000</td>\n",
              "      <td>533.500000</td>\n",
              "      <td>323.70000</td>\n",
              "      <td>8.800000</td>\n",
              "      <td>37.600000</td>\n",
              "      <td>160.850000</td>\n",
              "      <td>2.295635e+05</td>\n",
              "      <td>5.766950e+04</td>\n",
              "      <td>1.471055e+05</td>\n",
              "      <td>2.277250e+04</td>\n",
              "      <td>2.869550e+04</td>\n",
              "      <td>1.712200e+04</td>\n",
              "      <td>461.500000</td>\n",
              "      <td>1770.500000</td>\n",
              "      <td>8513.500000</td>\n",
              "    </tr>\n",
              "    <tr>\n",
              "      <th>max</th>\n",
              "      <td>2012.000000</td>\n",
              "      <td>3.139140e+08</td>\n",
              "      <td>9512.100000</td>\n",
              "      <td>2906.700000</td>\n",
              "      <td>5833.800000</td>\n",
              "      <td>1839.900000</td>\n",
              "      <td>2921.800000</td>\n",
              "      <td>1557.60000</td>\n",
              "      <td>80.600000</td>\n",
              "      <td>102.200000</td>\n",
              "      <td>1635.100000</td>\n",
              "      <td>1.296112e+07</td>\n",
              "      <td>3.795200e+06</td>\n",
              "      <td>8.142228e+06</td>\n",
              "      <td>1.661738e+06</td>\n",
              "      <td>1.932274e+06</td>\n",
              "      <td>1.135607e+06</td>\n",
              "      <td>24703.000000</td>\n",
              "      <td>109062.000000</td>\n",
              "      <td>687732.000000</td>\n",
              "    </tr>\n",
              "  </tbody>\n",
              "</table>\n",
              "</div>"
            ],
            "text/plain": [
              "              Year  ...  Data.Totals.Violent.Robbery\n",
              "count  2751.000000  ...                  2751.000000\n",
              "mean   1986.043621  ...                 16125.468193\n",
              "std      15.279324  ...                 62230.564464\n",
              "min    1960.000000  ...                     8.000000\n",
              "25%    1973.000000  ...                   788.500000\n",
              "50%    1986.000000  ...                  3224.000000\n",
              "75%    1999.000000  ...                  8513.500000\n",
              "max    2012.000000  ...                687732.000000\n",
              "\n",
              "[8 rows x 20 columns]"
            ]
          },
          "metadata": {
            "tags": []
          },
          "execution_count": 5
        }
      ]
    },
    {
      "cell_type": "code",
      "metadata": {
        "colab": {
          "base_uri": "https://localhost:8080/",
          "height": 680
        },
        "id": "jWhjTC3m_ids",
        "outputId": "d7a25ac4-97a0-4c2d-e8ac-51d4b4b7501c"
      },
      "source": [
        "df.corr()"
      ],
      "execution_count": null,
      "outputs": [
        {
          "output_type": "execute_result",
          "data": {
            "text/html": [
              "<div>\n",
              "<style scoped>\n",
              "    .dataframe tbody tr th:only-of-type {\n",
              "        vertical-align: middle;\n",
              "    }\n",
              "\n",
              "    .dataframe tbody tr th {\n",
              "        vertical-align: top;\n",
              "    }\n",
              "\n",
              "    .dataframe thead th {\n",
              "        text-align: right;\n",
              "    }\n",
              "</style>\n",
              "<table border=\"1\" class=\"dataframe\">\n",
              "  <thead>\n",
              "    <tr style=\"text-align: right;\">\n",
              "      <th></th>\n",
              "      <th>Year</th>\n",
              "      <th>Data.Population</th>\n",
              "      <th>Data.Rates.Property.All</th>\n",
              "      <th>Data.Rates.Property.Burglary</th>\n",
              "      <th>Data.Rates.Property.Larceny</th>\n",
              "      <th>Data.Rates.Property.Motor</th>\n",
              "      <th>Data.Rates.Violent.All</th>\n",
              "      <th>Data.Rates.Violent.Assault</th>\n",
              "      <th>Data.Rates.Violent.Murder</th>\n",
              "      <th>Data.Rates.Violent.Rape</th>\n",
              "      <th>Data.Rates.Violent.Robbery</th>\n",
              "      <th>Data.Totals.Property.All</th>\n",
              "      <th>Data.Totals.Property.Burglary</th>\n",
              "      <th>Data.Totals.Property.Larceny</th>\n",
              "      <th>Data.Totals.Property.Motor</th>\n",
              "      <th>Data.Totals.Violent.All</th>\n",
              "      <th>Data.Totals.Violent.Assault</th>\n",
              "      <th>Data.Totals.Violent.Murder</th>\n",
              "      <th>Data.Totals.Violent.Rape</th>\n",
              "      <th>Data.Totals.Violent.Robbery</th>\n",
              "    </tr>\n",
              "  </thead>\n",
              "  <tbody>\n",
              "    <tr>\n",
              "      <th>Year</th>\n",
              "      <td>1.000000</td>\n",
              "      <td>0.045840</td>\n",
              "      <td>0.196759</td>\n",
              "      <td>-0.071650</td>\n",
              "      <td>0.316667</td>\n",
              "      <td>0.101218</td>\n",
              "      <td>0.293079</td>\n",
              "      <td>0.402535</td>\n",
              "      <td>-0.049522</td>\n",
              "      <td>0.514624</td>\n",
              "      <td>0.092314</td>\n",
              "      <td>0.049602</td>\n",
              "      <td>0.018302</td>\n",
              "      <td>0.062472</td>\n",
              "      <td>0.046759</td>\n",
              "      <td>0.076729</td>\n",
              "      <td>0.092915</td>\n",
              "      <td>0.021553</td>\n",
              "      <td>0.087333</td>\n",
              "      <td>0.048673</td>\n",
              "    </tr>\n",
              "    <tr>\n",
              "      <th>Data.Population</th>\n",
              "      <td>0.045840</td>\n",
              "      <td>1.000000</td>\n",
              "      <td>0.038921</td>\n",
              "      <td>0.046683</td>\n",
              "      <td>0.017355</td>\n",
              "      <td>0.083688</td>\n",
              "      <td>0.082319</td>\n",
              "      <td>0.073181</td>\n",
              "      <td>0.021857</td>\n",
              "      <td>0.026151</td>\n",
              "      <td>0.080592</td>\n",
              "      <td>0.969709</td>\n",
              "      <td>0.947986</td>\n",
              "      <td>0.972248</td>\n",
              "      <td>0.954765</td>\n",
              "      <td>0.954745</td>\n",
              "      <td>0.948259</td>\n",
              "      <td>0.963486</td>\n",
              "      <td>0.962036</td>\n",
              "      <td>0.942837</td>\n",
              "    </tr>\n",
              "    <tr>\n",
              "      <th>Data.Rates.Property.All</th>\n",
              "      <td>0.196759</td>\n",
              "      <td>0.038921</td>\n",
              "      <td>1.000000</td>\n",
              "      <td>0.877684</td>\n",
              "      <td>0.961216</td>\n",
              "      <td>0.704925</td>\n",
              "      <td>0.693501</td>\n",
              "      <td>0.646107</td>\n",
              "      <td>0.453383</td>\n",
              "      <td>0.640202</td>\n",
              "      <td>0.591581</td>\n",
              "      <td>0.105891</td>\n",
              "      <td>0.114166</td>\n",
              "      <td>0.101522</td>\n",
              "      <td>0.105853</td>\n",
              "      <td>0.106040</td>\n",
              "      <td>0.099793</td>\n",
              "      <td>0.092711</td>\n",
              "      <td>0.098304</td>\n",
              "      <td>0.115882</td>\n",
              "    </tr>\n",
              "    <tr>\n",
              "      <th>Data.Rates.Property.Burglary</th>\n",
              "      <td>-0.071650</td>\n",
              "      <td>0.046683</td>\n",
              "      <td>0.877684</td>\n",
              "      <td>1.000000</td>\n",
              "      <td>0.741666</td>\n",
              "      <td>0.581951</td>\n",
              "      <td>0.591567</td>\n",
              "      <td>0.509714</td>\n",
              "      <td>0.465853</td>\n",
              "      <td>0.481146</td>\n",
              "      <td>0.553621</td>\n",
              "      <td>0.109417</td>\n",
              "      <td>0.137044</td>\n",
              "      <td>0.098287</td>\n",
              "      <td>0.102606</td>\n",
              "      <td>0.099278</td>\n",
              "      <td>0.085673</td>\n",
              "      <td>0.110947</td>\n",
              "      <td>0.089681</td>\n",
              "      <td>0.120750</td>\n",
              "    </tr>\n",
              "    <tr>\n",
              "      <th>Data.Rates.Property.Larceny</th>\n",
              "      <td>0.316667</td>\n",
              "      <td>0.017355</td>\n",
              "      <td>0.961216</td>\n",
              "      <td>0.741666</td>\n",
              "      <td>1.000000</td>\n",
              "      <td>0.570185</td>\n",
              "      <td>0.617195</td>\n",
              "      <td>0.607928</td>\n",
              "      <td>0.346843</td>\n",
              "      <td>0.662687</td>\n",
              "      <td>0.483003</td>\n",
              "      <td>0.080120</td>\n",
              "      <td>0.079636</td>\n",
              "      <td>0.080664</td>\n",
              "      <td>0.073971</td>\n",
              "      <td>0.081311</td>\n",
              "      <td>0.080504</td>\n",
              "      <td>0.059179</td>\n",
              "      <td>0.079899</td>\n",
              "      <td>0.081973</td>\n",
              "    </tr>\n",
              "    <tr>\n",
              "      <th>Data.Rates.Property.Motor</th>\n",
              "      <td>0.101218</td>\n",
              "      <td>0.083688</td>\n",
              "      <td>0.704925</td>\n",
              "      <td>0.581951</td>\n",
              "      <td>0.570185</td>\n",
              "      <td>1.000000</td>\n",
              "      <td>0.720643</td>\n",
              "      <td>0.619633</td>\n",
              "      <td>0.545024</td>\n",
              "      <td>0.418137</td>\n",
              "      <td>0.694282</td>\n",
              "      <td>0.129668</td>\n",
              "      <td>0.129820</td>\n",
              "      <td>0.121708</td>\n",
              "      <td>0.167388</td>\n",
              "      <td>0.145531</td>\n",
              "      <td>0.136026</td>\n",
              "      <td>0.128156</td>\n",
              "      <td>0.121321</td>\n",
              "      <td>0.162875</td>\n",
              "    </tr>\n",
              "    <tr>\n",
              "      <th>Data.Rates.Violent.All</th>\n",
              "      <td>0.293079</td>\n",
              "      <td>0.082319</td>\n",
              "      <td>0.693501</td>\n",
              "      <td>0.591567</td>\n",
              "      <td>0.617195</td>\n",
              "      <td>0.720643</td>\n",
              "      <td>1.000000</td>\n",
              "      <td>0.918922</td>\n",
              "      <td>0.775219</td>\n",
              "      <td>0.630684</td>\n",
              "      <td>0.892549</td>\n",
              "      <td>0.123325</td>\n",
              "      <td>0.121021</td>\n",
              "      <td>0.120521</td>\n",
              "      <td>0.137987</td>\n",
              "      <td>0.154774</td>\n",
              "      <td>0.151077</td>\n",
              "      <td>0.131322</td>\n",
              "      <td>0.127578</td>\n",
              "      <td>0.163078</td>\n",
              "    </tr>\n",
              "    <tr>\n",
              "      <th>Data.Rates.Violent.Assault</th>\n",
              "      <td>0.402535</td>\n",
              "      <td>0.073181</td>\n",
              "      <td>0.646107</td>\n",
              "      <td>0.509714</td>\n",
              "      <td>0.607928</td>\n",
              "      <td>0.619633</td>\n",
              "      <td>0.918922</td>\n",
              "      <td>1.000000</td>\n",
              "      <td>0.646336</td>\n",
              "      <td>0.650564</td>\n",
              "      <td>0.644737</td>\n",
              "      <td>0.113298</td>\n",
              "      <td>0.104477</td>\n",
              "      <td>0.113762</td>\n",
              "      <td>0.125124</td>\n",
              "      <td>0.148276</td>\n",
              "      <td>0.156036</td>\n",
              "      <td>0.115572</td>\n",
              "      <td>0.125351</td>\n",
              "      <td>0.137431</td>\n",
              "    </tr>\n",
              "    <tr>\n",
              "      <th>Data.Rates.Violent.Murder</th>\n",
              "      <td>-0.049522</td>\n",
              "      <td>0.021857</td>\n",
              "      <td>0.453383</td>\n",
              "      <td>0.465853</td>\n",
              "      <td>0.346843</td>\n",
              "      <td>0.545024</td>\n",
              "      <td>0.775219</td>\n",
              "      <td>0.646336</td>\n",
              "      <td>1.000000</td>\n",
              "      <td>0.306151</td>\n",
              "      <td>0.767115</td>\n",
              "      <td>0.044438</td>\n",
              "      <td>0.054274</td>\n",
              "      <td>0.039242</td>\n",
              "      <td>0.048678</td>\n",
              "      <td>0.054976</td>\n",
              "      <td>0.048330</td>\n",
              "      <td>0.076690</td>\n",
              "      <td>0.039217</td>\n",
              "      <td>0.066589</td>\n",
              "    </tr>\n",
              "    <tr>\n",
              "      <th>Data.Rates.Violent.Rape</th>\n",
              "      <td>0.514624</td>\n",
              "      <td>0.026151</td>\n",
              "      <td>0.640202</td>\n",
              "      <td>0.481146</td>\n",
              "      <td>0.662687</td>\n",
              "      <td>0.418137</td>\n",
              "      <td>0.630684</td>\n",
              "      <td>0.650564</td>\n",
              "      <td>0.306151</td>\n",
              "      <td>1.000000</td>\n",
              "      <td>0.429663</td>\n",
              "      <td>0.070066</td>\n",
              "      <td>0.064876</td>\n",
              "      <td>0.071775</td>\n",
              "      <td>0.068747</td>\n",
              "      <td>0.082705</td>\n",
              "      <td>0.086014</td>\n",
              "      <td>0.057390</td>\n",
              "      <td>0.095884</td>\n",
              "      <td>0.074159</td>\n",
              "    </tr>\n",
              "    <tr>\n",
              "      <th>Data.Rates.Violent.Robbery</th>\n",
              "      <td>0.092314</td>\n",
              "      <td>0.080592</td>\n",
              "      <td>0.591581</td>\n",
              "      <td>0.553621</td>\n",
              "      <td>0.483003</td>\n",
              "      <td>0.694282</td>\n",
              "      <td>0.892549</td>\n",
              "      <td>0.644737</td>\n",
              "      <td>0.767115</td>\n",
              "      <td>0.429663</td>\n",
              "      <td>1.000000</td>\n",
              "      <td>0.113013</td>\n",
              "      <td>0.118229</td>\n",
              "      <td>0.106935</td>\n",
              "      <td>0.129301</td>\n",
              "      <td>0.135730</td>\n",
              "      <td>0.119751</td>\n",
              "      <td>0.126503</td>\n",
              "      <td>0.105808</td>\n",
              "      <td>0.164643</td>\n",
              "    </tr>\n",
              "    <tr>\n",
              "      <th>Data.Totals.Property.All</th>\n",
              "      <td>0.049602</td>\n",
              "      <td>0.969709</td>\n",
              "      <td>0.105891</td>\n",
              "      <td>0.109417</td>\n",
              "      <td>0.080120</td>\n",
              "      <td>0.129668</td>\n",
              "      <td>0.123325</td>\n",
              "      <td>0.113298</td>\n",
              "      <td>0.044438</td>\n",
              "      <td>0.070066</td>\n",
              "      <td>0.113013</td>\n",
              "      <td>1.000000</td>\n",
              "      <td>0.986919</td>\n",
              "      <td>0.998131</td>\n",
              "      <td>0.988351</td>\n",
              "      <td>0.987848</td>\n",
              "      <td>0.974554</td>\n",
              "      <td>0.989752</td>\n",
              "      <td>0.986251</td>\n",
              "      <td>0.988253</td>\n",
              "    </tr>\n",
              "    <tr>\n",
              "      <th>Data.Totals.Property.Burglary</th>\n",
              "      <td>0.018302</td>\n",
              "      <td>0.947986</td>\n",
              "      <td>0.114166</td>\n",
              "      <td>0.137044</td>\n",
              "      <td>0.079636</td>\n",
              "      <td>0.129820</td>\n",
              "      <td>0.121021</td>\n",
              "      <td>0.104477</td>\n",
              "      <td>0.054274</td>\n",
              "      <td>0.064876</td>\n",
              "      <td>0.118229</td>\n",
              "      <td>0.986919</td>\n",
              "      <td>1.000000</td>\n",
              "      <td>0.976080</td>\n",
              "      <td>0.966080</td>\n",
              "      <td>0.955990</td>\n",
              "      <td>0.929553</td>\n",
              "      <td>0.990589</td>\n",
              "      <td>0.951684</td>\n",
              "      <td>0.977976</td>\n",
              "    </tr>\n",
              "    <tr>\n",
              "      <th>Data.Totals.Property.Larceny</th>\n",
              "      <td>0.062472</td>\n",
              "      <td>0.972248</td>\n",
              "      <td>0.101522</td>\n",
              "      <td>0.098287</td>\n",
              "      <td>0.080664</td>\n",
              "      <td>0.121708</td>\n",
              "      <td>0.120521</td>\n",
              "      <td>0.113762</td>\n",
              "      <td>0.039242</td>\n",
              "      <td>0.071775</td>\n",
              "      <td>0.106935</td>\n",
              "      <td>0.998131</td>\n",
              "      <td>0.976080</td>\n",
              "      <td>1.000000</td>\n",
              "      <td>0.986222</td>\n",
              "      <td>0.991721</td>\n",
              "      <td>0.983531</td>\n",
              "      <td>0.981619</td>\n",
              "      <td>0.992933</td>\n",
              "      <td>0.983606</td>\n",
              "    </tr>\n",
              "    <tr>\n",
              "      <th>Data.Totals.Property.Motor</th>\n",
              "      <td>0.046759</td>\n",
              "      <td>0.954765</td>\n",
              "      <td>0.105853</td>\n",
              "      <td>0.102606</td>\n",
              "      <td>0.073971</td>\n",
              "      <td>0.167388</td>\n",
              "      <td>0.137987</td>\n",
              "      <td>0.125124</td>\n",
              "      <td>0.048678</td>\n",
              "      <td>0.068747</td>\n",
              "      <td>0.129301</td>\n",
              "      <td>0.988351</td>\n",
              "      <td>0.966080</td>\n",
              "      <td>0.986222</td>\n",
              "      <td>1.000000</td>\n",
              "      <td>0.987836</td>\n",
              "      <td>0.976836</td>\n",
              "      <td>0.981796</td>\n",
              "      <td>0.976750</td>\n",
              "      <td>0.986399</td>\n",
              "    </tr>\n",
              "    <tr>\n",
              "      <th>Data.Totals.Violent.All</th>\n",
              "      <td>0.076729</td>\n",
              "      <td>0.954745</td>\n",
              "      <td>0.106040</td>\n",
              "      <td>0.099278</td>\n",
              "      <td>0.081311</td>\n",
              "      <td>0.145531</td>\n",
              "      <td>0.154774</td>\n",
              "      <td>0.148276</td>\n",
              "      <td>0.054976</td>\n",
              "      <td>0.082705</td>\n",
              "      <td>0.135730</td>\n",
              "      <td>0.987848</td>\n",
              "      <td>0.955990</td>\n",
              "      <td>0.991721</td>\n",
              "      <td>0.987836</td>\n",
              "      <td>1.000000</td>\n",
              "      <td>0.995534</td>\n",
              "      <td>0.971136</td>\n",
              "      <td>0.993162</td>\n",
              "      <td>0.987679</td>\n",
              "    </tr>\n",
              "    <tr>\n",
              "      <th>Data.Totals.Violent.Assault</th>\n",
              "      <td>0.092915</td>\n",
              "      <td>0.948259</td>\n",
              "      <td>0.099793</td>\n",
              "      <td>0.085673</td>\n",
              "      <td>0.080504</td>\n",
              "      <td>0.136026</td>\n",
              "      <td>0.151077</td>\n",
              "      <td>0.156036</td>\n",
              "      <td>0.048330</td>\n",
              "      <td>0.086014</td>\n",
              "      <td>0.119751</td>\n",
              "      <td>0.974554</td>\n",
              "      <td>0.929553</td>\n",
              "      <td>0.983531</td>\n",
              "      <td>0.976836</td>\n",
              "      <td>0.995534</td>\n",
              "      <td>1.000000</td>\n",
              "      <td>0.949624</td>\n",
              "      <td>0.992192</td>\n",
              "      <td>0.968634</td>\n",
              "    </tr>\n",
              "    <tr>\n",
              "      <th>Data.Totals.Violent.Murder</th>\n",
              "      <td>0.021553</td>\n",
              "      <td>0.963486</td>\n",
              "      <td>0.092711</td>\n",
              "      <td>0.110947</td>\n",
              "      <td>0.059179</td>\n",
              "      <td>0.128156</td>\n",
              "      <td>0.131322</td>\n",
              "      <td>0.115572</td>\n",
              "      <td>0.076690</td>\n",
              "      <td>0.057390</td>\n",
              "      <td>0.126503</td>\n",
              "      <td>0.989752</td>\n",
              "      <td>0.990589</td>\n",
              "      <td>0.981619</td>\n",
              "      <td>0.981796</td>\n",
              "      <td>0.971136</td>\n",
              "      <td>0.949624</td>\n",
              "      <td>1.000000</td>\n",
              "      <td>0.962063</td>\n",
              "      <td>0.985699</td>\n",
              "    </tr>\n",
              "    <tr>\n",
              "      <th>Data.Totals.Violent.Rape</th>\n",
              "      <td>0.087333</td>\n",
              "      <td>0.962036</td>\n",
              "      <td>0.098304</td>\n",
              "      <td>0.089681</td>\n",
              "      <td>0.079899</td>\n",
              "      <td>0.121321</td>\n",
              "      <td>0.127578</td>\n",
              "      <td>0.125351</td>\n",
              "      <td>0.039217</td>\n",
              "      <td>0.095884</td>\n",
              "      <td>0.105808</td>\n",
              "      <td>0.986251</td>\n",
              "      <td>0.951684</td>\n",
              "      <td>0.992933</td>\n",
              "      <td>0.976750</td>\n",
              "      <td>0.993162</td>\n",
              "      <td>0.992192</td>\n",
              "      <td>0.962063</td>\n",
              "      <td>1.000000</td>\n",
              "      <td>0.972956</td>\n",
              "    </tr>\n",
              "    <tr>\n",
              "      <th>Data.Totals.Violent.Robbery</th>\n",
              "      <td>0.048673</td>\n",
              "      <td>0.942837</td>\n",
              "      <td>0.115882</td>\n",
              "      <td>0.120750</td>\n",
              "      <td>0.081973</td>\n",
              "      <td>0.162875</td>\n",
              "      <td>0.163078</td>\n",
              "      <td>0.137431</td>\n",
              "      <td>0.066589</td>\n",
              "      <td>0.074159</td>\n",
              "      <td>0.164643</td>\n",
              "      <td>0.988253</td>\n",
              "      <td>0.977976</td>\n",
              "      <td>0.983606</td>\n",
              "      <td>0.986399</td>\n",
              "      <td>0.987679</td>\n",
              "      <td>0.968634</td>\n",
              "      <td>0.985699</td>\n",
              "      <td>0.972956</td>\n",
              "      <td>1.000000</td>\n",
              "    </tr>\n",
              "  </tbody>\n",
              "</table>\n",
              "</div>"
            ],
            "text/plain": [
              "                                   Year  ...  Data.Totals.Violent.Robbery\n",
              "Year                           1.000000  ...                     0.048673\n",
              "Data.Population                0.045840  ...                     0.942837\n",
              "Data.Rates.Property.All        0.196759  ...                     0.115882\n",
              "Data.Rates.Property.Burglary  -0.071650  ...                     0.120750\n",
              "Data.Rates.Property.Larceny    0.316667  ...                     0.081973\n",
              "Data.Rates.Property.Motor      0.101218  ...                     0.162875\n",
              "Data.Rates.Violent.All         0.293079  ...                     0.163078\n",
              "Data.Rates.Violent.Assault     0.402535  ...                     0.137431\n",
              "Data.Rates.Violent.Murder     -0.049522  ...                     0.066589\n",
              "Data.Rates.Violent.Rape        0.514624  ...                     0.074159\n",
              "Data.Rates.Violent.Robbery     0.092314  ...                     0.164643\n",
              "Data.Totals.Property.All       0.049602  ...                     0.988253\n",
              "Data.Totals.Property.Burglary  0.018302  ...                     0.977976\n",
              "Data.Totals.Property.Larceny   0.062472  ...                     0.983606\n",
              "Data.Totals.Property.Motor     0.046759  ...                     0.986399\n",
              "Data.Totals.Violent.All        0.076729  ...                     0.987679\n",
              "Data.Totals.Violent.Assault    0.092915  ...                     0.968634\n",
              "Data.Totals.Violent.Murder     0.021553  ...                     0.985699\n",
              "Data.Totals.Violent.Rape       0.087333  ...                     0.972956\n",
              "Data.Totals.Violent.Robbery    0.048673  ...                     1.000000\n",
              "\n",
              "[20 rows x 20 columns]"
            ]
          },
          "metadata": {
            "tags": []
          },
          "execution_count": 6
        }
      ]
    },
    {
      "cell_type": "code",
      "metadata": {
        "colab": {
          "base_uri": "https://localhost:8080/"
        },
        "id": "Udpa5Ya9_nHo",
        "outputId": "e214c539-5ef8-4c11-bba5-dafff55e26b1"
      },
      "source": [
        "df.info()"
      ],
      "execution_count": null,
      "outputs": [
        {
          "output_type": "stream",
          "text": [
            "<class 'pandas.core.frame.DataFrame'>\n",
            "RangeIndex: 2751 entries, 0 to 2750\n",
            "Data columns (total 21 columns):\n",
            " #   Column                         Non-Null Count  Dtype  \n",
            "---  ------                         --------------  -----  \n",
            " 0   State                          2751 non-null   object \n",
            " 1   Year                           2751 non-null   int64  \n",
            " 2   Data.Population                2751 non-null   int64  \n",
            " 3   Data.Rates.Property.All        2751 non-null   float64\n",
            " 4   Data.Rates.Property.Burglary   2751 non-null   float64\n",
            " 5   Data.Rates.Property.Larceny    2751 non-null   float64\n",
            " 6   Data.Rates.Property.Motor      2751 non-null   float64\n",
            " 7   Data.Rates.Violent.All         2751 non-null   float64\n",
            " 8   Data.Rates.Violent.Assault     2751 non-null   float64\n",
            " 9   Data.Rates.Violent.Murder      2751 non-null   float64\n",
            " 10  Data.Rates.Violent.Rape        2751 non-null   float64\n",
            " 11  Data.Rates.Violent.Robbery     2751 non-null   float64\n",
            " 12  Data.Totals.Property.All       2751 non-null   int64  \n",
            " 13  Data.Totals.Property.Burglary  2751 non-null   int64  \n",
            " 14  Data.Totals.Property.Larceny   2751 non-null   int64  \n",
            " 15  Data.Totals.Property.Motor     2751 non-null   int64  \n",
            " 16  Data.Totals.Violent.All        2751 non-null   int64  \n",
            " 17  Data.Totals.Violent.Assault    2751 non-null   int64  \n",
            " 18  Data.Totals.Violent.Murder     2751 non-null   int64  \n",
            " 19  Data.Totals.Violent.Rape       2751 non-null   int64  \n",
            " 20  Data.Totals.Violent.Robbery    2751 non-null   int64  \n",
            "dtypes: float64(9), int64(11), object(1)\n",
            "memory usage: 451.5+ KB\n"
          ],
          "name": "stdout"
        }
      ]
    },
    {
      "cell_type": "code",
      "metadata": {
        "colab": {
          "base_uri": "https://localhost:8080/"
        },
        "id": "OrCsLSFN_1cV",
        "outputId": "48cca219-a23b-49ae-aa24-2a2e21c65c58"
      },
      "source": [
        "df.isnull().sum()"
      ],
      "execution_count": null,
      "outputs": [
        {
          "output_type": "execute_result",
          "data": {
            "text/plain": [
              "State                            0\n",
              "Year                             0\n",
              "Data.Population                  0\n",
              "Data.Rates.Property.All          0\n",
              "Data.Rates.Property.Burglary     0\n",
              "Data.Rates.Property.Larceny      0\n",
              "Data.Rates.Property.Motor        0\n",
              "Data.Rates.Violent.All           0\n",
              "Data.Rates.Violent.Assault       0\n",
              "Data.Rates.Violent.Murder        0\n",
              "Data.Rates.Violent.Rape          0\n",
              "Data.Rates.Violent.Robbery       0\n",
              "Data.Totals.Property.All         0\n",
              "Data.Totals.Property.Burglary    0\n",
              "Data.Totals.Property.Larceny     0\n",
              "Data.Totals.Property.Motor       0\n",
              "Data.Totals.Violent.All          0\n",
              "Data.Totals.Violent.Assault      0\n",
              "Data.Totals.Violent.Murder       0\n",
              "Data.Totals.Violent.Rape         0\n",
              "Data.Totals.Violent.Robbery      0\n",
              "dtype: int64"
            ]
          },
          "metadata": {
            "tags": []
          },
          "execution_count": 8
        }
      ]
    },
    {
      "cell_type": "code",
      "metadata": {
        "colab": {
          "base_uri": "https://localhost:8080/",
          "height": 68
        },
        "id": "8uBGH0Ep_44s",
        "outputId": "616f07c3-bf3f-4819-96b3-9d0c31a775d5"
      },
      "source": [
        "df[df.isnull().any(axis=1)]"
      ],
      "execution_count": null,
      "outputs": [
        {
          "output_type": "execute_result",
          "data": {
            "text/html": [
              "<div>\n",
              "<style scoped>\n",
              "    .dataframe tbody tr th:only-of-type {\n",
              "        vertical-align: middle;\n",
              "    }\n",
              "\n",
              "    .dataframe tbody tr th {\n",
              "        vertical-align: top;\n",
              "    }\n",
              "\n",
              "    .dataframe thead th {\n",
              "        text-align: right;\n",
              "    }\n",
              "</style>\n",
              "<table border=\"1\" class=\"dataframe\">\n",
              "  <thead>\n",
              "    <tr style=\"text-align: right;\">\n",
              "      <th></th>\n",
              "      <th>State</th>\n",
              "      <th>Year</th>\n",
              "      <th>Data.Population</th>\n",
              "      <th>Data.Rates.Property.All</th>\n",
              "      <th>Data.Rates.Property.Burglary</th>\n",
              "      <th>Data.Rates.Property.Larceny</th>\n",
              "      <th>Data.Rates.Property.Motor</th>\n",
              "      <th>Data.Rates.Violent.All</th>\n",
              "      <th>Data.Rates.Violent.Assault</th>\n",
              "      <th>Data.Rates.Violent.Murder</th>\n",
              "      <th>Data.Rates.Violent.Rape</th>\n",
              "      <th>Data.Rates.Violent.Robbery</th>\n",
              "      <th>Data.Totals.Property.All</th>\n",
              "      <th>Data.Totals.Property.Burglary</th>\n",
              "      <th>Data.Totals.Property.Larceny</th>\n",
              "      <th>Data.Totals.Property.Motor</th>\n",
              "      <th>Data.Totals.Violent.All</th>\n",
              "      <th>Data.Totals.Violent.Assault</th>\n",
              "      <th>Data.Totals.Violent.Murder</th>\n",
              "      <th>Data.Totals.Violent.Rape</th>\n",
              "      <th>Data.Totals.Violent.Robbery</th>\n",
              "    </tr>\n",
              "  </thead>\n",
              "  <tbody>\n",
              "  </tbody>\n",
              "</table>\n",
              "</div>"
            ],
            "text/plain": [
              "Empty DataFrame\n",
              "Columns: [State, Year, Data.Population, Data.Rates.Property.All, Data.Rates.Property.Burglary, Data.Rates.Property.Larceny, Data.Rates.Property.Motor, Data.Rates.Violent.All, Data.Rates.Violent.Assault, Data.Rates.Violent.Murder, Data.Rates.Violent.Rape, Data.Rates.Violent.Robbery, Data.Totals.Property.All, Data.Totals.Property.Burglary, Data.Totals.Property.Larceny, Data.Totals.Property.Motor, Data.Totals.Violent.All, Data.Totals.Violent.Assault, Data.Totals.Violent.Murder, Data.Totals.Violent.Rape, Data.Totals.Violent.Robbery]\n",
              "Index: []"
            ]
          },
          "metadata": {
            "tags": []
          },
          "execution_count": 9
        }
      ]
    },
    {
      "cell_type": "code",
      "metadata": {
        "colab": {
          "base_uri": "https://localhost:8080/",
          "height": 385
        },
        "id": "vw_OJ7ZS_6jY",
        "outputId": "9822bac3-33fc-4d03-aa2a-5477e5b6734d"
      },
      "source": [
        "df.plot.hist()"
      ],
      "execution_count": null,
      "outputs": [
        {
          "output_type": "execute_result",
          "data": {
            "text/plain": [
              "<matplotlib.axes._subplots.AxesSubplot at 0x7f576711cd90>"
            ]
          },
          "metadata": {
            "tags": []
          },
          "execution_count": 10
        },
        {
          "output_type": "display_data",
          "data": {
            "image/png": "[encoded data removed]",
            "text/plain": [
              "<Figure size 432x288 with 1 Axes>"
            ]
          },
          "metadata": {
            "tags": [],
            "needs_background": "light"
          }
        }
      ]
    },
    {
      "cell_type": "markdown",
      "metadata": {
        "id": "m--ITk-0AGKW"
      },
      "source": [
        "**LINEAR REGRESSION**"
      ]
    },
    {
      "cell_type": "code",
      "metadata": {
        "id": "mGKPP3HFALXf"
      },
      "source": [
        "import matplotlib.pyplot as plt\n",
        "import seaborn as seabornInstance\n",
        "from sklearn.metrics import confusion_matrix\n",
        "from sklearn.model_selection import train_test_split\n",
        "from matplotlib import pyplot as plt \n",
        "from sklearn.linear_model import LinearRegression\n",
        "from sklearn import metrics "
      ],
      "execution_count": null,
      "outputs": []
    },
    {
      "cell_type": "code",
      "metadata": {
        "colab": {
          "base_uri": "https://localhost:8080/",
          "height": 295
        },
        "id": "B8cgzsrVEjUh",
        "outputId": "d50d3919-86dc-420e-e139-71cc6c1d37ae"
      },
      "source": [
        "df.plot(x='State', y='Data.Totals.Violent.Robbery')\n",
        "plt.title('state vs total Robbery') \n",
        "plt.xlabel('State')\n",
        "plt.ylabel('Data.Totals.Violent.Robbery')\n",
        "plt.show()"
      ],
      "execution_count": null,
      "outputs": [
        {
          "output_type": "display_data",
          "data": {
            "image/png": "[encoded data removed]",
            "text/plain": [
              "<Figure size 432x288 with 1 Axes>"
            ]
          },
          "metadata": {
            "tags": [],
            "needs_background": "light"
          }
        }
      ]
    },
    {
      "cell_type": "code",
      "metadata": {
        "colab": {
          "base_uri": "https://localhost:8080/",
          "height": 295
        },
        "id": "d6hxUAdXKGIE",
        "outputId": "86f1c901-181a-4595-8412-f6d75374e5d6"
      },
      "source": [
        "df.plot(x='Year', y='Data.Totals.Violent.Robbery')\n",
        "plt.title('Year vs total Robbery') \n",
        "plt.xlabel('Year')\n",
        "plt.ylabel('Data.Totals.Violent.Robbery')\n",
        "plt.show()"
      ],
      "execution_count": null,
      "outputs": [
        {
          "output_type": "display_data",
          "data": {
            "image/png": "[encoded data removed]",
            "text/plain": [
              "<Figure size 432x288 with 1 Axes>"
            ]
          },
          "metadata": {
            "tags": [],
            "needs_background": "light"
          }
        }
      ]
    },
    {
      "cell_type": "code",
      "metadata": {
        "colab": {
          "base_uri": "https://localhost:8080/",
          "height": 686
        },
        "id": "UksA63EOHYfl",
        "outputId": "06d46ecd-1e71-4159-e87b-82d4a0de26b3"
      },
      "source": [
        "plt.figure (figsize=(15,10))\n",
        "\n",
        "plt.tight_layout()\n",
        "\n",
        "seabornInstance.distplot(df ['Data.Totals.Violent.Robbery'])"
      ],
      "execution_count": null,
      "outputs": [
        {
          "output_type": "stream",
          "text": [
            "/usr/local/lib/python3.7/dist-packages/seaborn/distributions.py:2557: FutureWarning: `distplot` is a deprecated function and will be removed in a future version. Please adapt your code to use either `displot` (a figure-level function with similar flexibility) or `histplot` (an axes-level function for histograms).\n",
            "  warnings.warn(msg, FutureWarning)\n"
          ],
          "name": "stderr"
        },
        {
          "output_type": "execute_result",
          "data": {
            "text/plain": [
              "<matplotlib.axes._subplots.AxesSubplot at 0x7f5755502e10>"
            ]
          },
          "metadata": {
            "tags": []
          },
          "execution_count": 14
        },
        {
          "output_type": "display_data",
          "data": {
            "image/png": "[encoded data removed]",
            "text/plain": [
              "<Figure size 1080x720 with 1 Axes>"
            ]
          },
          "metadata": {
            "tags": [],
            "needs_background": "light"
          }
        }
      ]
    },
    {
      "cell_type": "code",
      "metadata": {
        "colab": {
          "base_uri": "https://localhost:8080/"
        },
        "id": "R_dZjl2zIz4E",
        "outputId": "fb8e200e-50f8-47b5-a104-7a0a21beff55"
      },
      "source": [
        "df.info()"
      ],
      "execution_count": null,
      "outputs": [
        {
          "output_type": "stream",
          "text": [
            "<class 'pandas.core.frame.DataFrame'>\n",
            "RangeIndex: 2751 entries, 0 to 2750\n",
            "Data columns (total 21 columns):\n",
            " #   Column                         Non-Null Count  Dtype  \n",
            "---  ------                         --------------  -----  \n",
            " 0   State                          2751 non-null   object \n",
            " 1   Year                           2751 non-null   int64  \n",
            " 2   Data.Population                2751 non-null   int64  \n",
            " 3   Data.Rates.Property.All        2751 non-null   float64\n",
            " 4   Data.Rates.Property.Burglary   2751 non-null   float64\n",
            " 5   Data.Rates.Property.Larceny    2751 non-null   float64\n",
            " 6   Data.Rates.Property.Motor      2751 non-null   float64\n",
            " 7   Data.Rates.Violent.All         2751 non-null   float64\n",
            " 8   Data.Rates.Violent.Assault     2751 non-null   float64\n",
            " 9   Data.Rates.Violent.Murder      2751 non-null   float64\n",
            " 10  Data.Rates.Violent.Rape        2751 non-null   float64\n",
            " 11  Data.Rates.Violent.Robbery     2751 non-null   float64\n",
            " 12  Data.Totals.Property.All       2751 non-null   int64  \n",
            " 13  Data.Totals.Property.Burglary  2751 non-null   int64  \n",
            " 14  Data.Totals.Property.Larceny   2751 non-null   int64  \n",
            " 15  Data.Totals.Property.Motor     2751 non-null   int64  \n",
            " 16  Data.Totals.Violent.All        2751 non-null   int64  \n",
            " 17  Data.Totals.Violent.Assault    2751 non-null   int64  \n",
            " 18  Data.Totals.Violent.Murder     2751 non-null   int64  \n",
            " 19  Data.Totals.Violent.Rape       2751 non-null   int64  \n",
            " 20  Data.Totals.Violent.Robbery    2751 non-null   int64  \n",
            "dtypes: float64(9), int64(11), object(1)\n",
            "memory usage: 451.5+ KB\n"
          ],
          "name": "stdout"
        }
      ]
    },
    {
      "cell_type": "markdown",
      "metadata": {
        "id": "D1h7WCULH5Ko"
      },
      "source": [
        "**Exploratory Data Analysis**\n",
        "\n",
        "\n",
        "This EDA will denoted by \n",
        "\n",
        "\n",
        "x = Year\n",
        "\n",
        "y = sum fo the crime in states"
      ]
    },
    {
      "cell_type": "code",
      "metadata": {
        "id": "2Z9Hsk1hbmQQ"
      },
      "source": [
        "import seaborn as sns"
      ],
      "execution_count": null,
      "outputs": []
    },
    {
      "cell_type": "code",
      "metadata": {
        "colab": {
          "base_uri": "https://localhost:8080/",
          "height": 307
        },
        "id": "drHKHu3JHwCd",
        "outputId": "3a7a20d8-e9c1-4c81-94ff-a314e12df3f1"
      },
      "source": [
        "sns.lineplot(x = df[\"Year\"] , y = df[\"Data.Population\"])"
      ],
      "execution_count": null,
      "outputs": [
        {
          "output_type": "execute_result",
          "data": {
            "text/plain": [
              "<matplotlib.axes._subplots.AxesSubplot at 0x7f57527e0b50>"
            ]
          },
          "metadata": {
            "tags": []
          },
          "execution_count": 19
        },
        {
          "output_type": "display_data",
          "data": {
            "image/png": "[encoded data removed]",
            "text/plain": [
              "<Figure size 432x288 with 1 Axes>"
            ]
          },
          "metadata": {
            "tags": [],
            "needs_background": "light"
          }
        }
      ]
    },
    {
      "cell_type": "code",
      "metadata": {
        "colab": {
          "base_uri": "https://localhost:8080/",
          "height": 296
        },
        "id": "FrdV_wJpJZ0h",
        "outputId": "2808192f-683a-421f-a50b-2f8613b91650"
      },
      "source": [
        "sns.lineplot(x = df[\"Year\"] , y = df[\"Data.Rates.Property.All\"])"
      ],
      "execution_count": null,
      "outputs": [
        {
          "output_type": "execute_result",
          "data": {
            "text/plain": [
              "<matplotlib.axes._subplots.AxesSubplot at 0x7f575274ff90>"
            ]
          },
          "metadata": {
            "tags": []
          },
          "execution_count": 20
        },
        {
          "output_type": "display_data",
          "data": {
            "image/png": "[encoded data removed]",
            "text/plain": [
              "<Figure size 432x288 with 1 Axes>"
            ]
          },
          "metadata": {
            "tags": [],
            "needs_background": "light"
          }
        }
      ]
    },
    {
      "cell_type": "code",
      "metadata": {
        "colab": {
          "base_uri": "https://localhost:8080/",
          "height": 296
        },
        "id": "o8yPK7s9JnAB",
        "outputId": "8b810f26-506b-4805-b6ba-a21ca0038668"
      },
      "source": [
        "sns.lineplot(x = df[\"Year\"] , y = df[\"Data.Rates.Property.Burglary\"])"
      ],
      "execution_count": null,
      "outputs": [
        {
          "output_type": "execute_result",
          "data": {
            "text/plain": [
              "<matplotlib.axes._subplots.AxesSubplot at 0x7f57526bec90>"
            ]
          },
          "metadata": {
            "tags": []
          },
          "execution_count": 21
        },
        {
          "output_type": "display_data",
          "data": {
            "image/png": "[encoded data removed]",
            "text/plain": [
              "<Figure size 432x288 with 1 Axes>"
            ]
          },
          "metadata": {
            "tags": [],
            "needs_background": "light"
          }
        }
      ]
    },
    {
      "cell_type": "code",
      "metadata": {
        "colab": {
          "base_uri": "https://localhost:8080/",
          "height": 300
        },
        "id": "c_8oegPDJpGQ",
        "outputId": "b40954ce-f09d-461e-e015-495f7dbc000a"
      },
      "source": [
        "sns.lineplot(x = df[\"Year\"] , y = df[\"Data.Rates.Property.Larceny\"])"
      ],
      "execution_count": null,
      "outputs": [
        {
          "output_type": "execute_result",
          "data": {
            "text/plain": [
              "<matplotlib.axes._subplots.AxesSubplot at 0x7f38a0915550>"
            ]
          },
          "metadata": {
            "tags": []
          },
          "execution_count": 40
        },
        {
          "output_type": "display_data",
          "data": {
            "image/png": "[encoded data removed]",
            "text/plain": [
              "<Figure size 432x288 with 1 Axes>"
            ]
          },
          "metadata": {
            "tags": [],
            "needs_background": "light"
          }
        }
      ]
    },
    {
      "cell_type": "code",
      "metadata": {
        "colab": {
          "base_uri": "https://localhost:8080/",
          "height": 296
        },
        "id": "0JMCXHvRJ7NN",
        "outputId": "5b0fafc7-1554-4180-c786-afb2c778b804"
      },
      "source": [
        "sns.lineplot(x = df[\"Year\"] , y = df[\"Data.Rates.Violent.Murder\"])"
      ],
      "execution_count": null,
      "outputs": [
        {
          "output_type": "execute_result",
          "data": {
            "text/plain": [
              "<matplotlib.axes._subplots.AxesSubplot at 0x7f38a2b5cc10>"
            ]
          },
          "metadata": {
            "tags": []
          },
          "execution_count": 41
        },
        {
          "output_type": "display_data",
          "data": {
            "image/png": "[encoded data removed]",
            "text/plain": [
              "<Figure size 432x288 with 1 Axes>"
            ]
          },
          "metadata": {
            "tags": [],
            "needs_background": "light"
          }
        }
      ]
    },
    {
      "cell_type": "code",
      "metadata": {
        "colab": {
          "base_uri": "https://localhost:8080/",
          "height": 296
        },
        "id": "Lw967d5SJ8EG",
        "outputId": "e1a86677-f803-43ad-e3b7-05bd87f4a7b8"
      },
      "source": [
        "sns.lineplot(x = df[\"Year\"] , y = df[\"Data.Totals.Violent.Assault\"])"
      ],
      "execution_count": null,
      "outputs": [
        {
          "output_type": "execute_result",
          "data": {
            "text/plain": [
              "<matplotlib.axes._subplots.AxesSubplot at 0x7f38a2b98dd0>"
            ]
          },
          "metadata": {
            "tags": []
          },
          "execution_count": 42
        },
        {
          "output_type": "display_data",
          "data": {
            "image/png": "[encoded data removed]",
            "text/plain": [
              "<Figure size 432x288 with 1 Axes>"
            ]
          },
          "metadata": {
            "tags": [],
            "needs_background": "light"
          }
        }
      ]
    },
    {
      "cell_type": "code",
      "metadata": {
        "colab": {
          "base_uri": "https://localhost:8080/",
          "height": 296
        },
        "id": "cOtJXDbIJ8sh",
        "outputId": "d9ce6226-7269-4a74-bf83-97f87010a036"
      },
      "source": [
        "sns.lineplot(x = df[\"Year\"] , y = df[\"Data.Totals.Violent.Robbery\"])"
      ],
      "execution_count": null,
      "outputs": [
        {
          "output_type": "execute_result",
          "data": {
            "text/plain": [
              "<matplotlib.axes._subplots.AxesSubplot at 0x7f38a0776950>"
            ]
          },
          "metadata": {
            "tags": []
          },
          "execution_count": 43
        },
        {
          "output_type": "display_data",
          "data": {
            "image/png": "[encoded data removed]",
            "text/plain": [
              "<Figure size 432x288 with 1 Axes>"
            ]
          },
          "metadata": {
            "tags": [],
            "needs_background": "light"
          }
        }
      ]
    },
    {
      "cell_type": "markdown",
      "metadata": {
        "id": "SewK0sWSMgar"
      },
      "source": [
        "**Linear Regression**"
      ]
    },
    {
      "cell_type": "code",
      "metadata": {
        "colab": {
          "base_uri": "https://localhost:8080/"
        },
        "id": "lbxfoXXVMt4e",
        "outputId": "b3012814-92b3-4a17-e67d-87724137daad"
      },
      "source": [
        "df.info()"
      ],
      "execution_count": null,
      "outputs": [
        {
          "output_type": "stream",
          "text": [
            "<class 'pandas.core.frame.DataFrame'>\n",
            "RangeIndex: 2751 entries, 0 to 2750\n",
            "Data columns (total 21 columns):\n",
            " #   Column                         Non-Null Count  Dtype  \n",
            "---  ------                         --------------  -----  \n",
            " 0   State                          2751 non-null   object \n",
            " 1   Year                           2751 non-null   int64  \n",
            " 2   Data.Population                2751 non-null   int64  \n",
            " 3   Data.Rates.Property.All        2751 non-null   float64\n",
            " 4   Data.Rates.Property.Burglary   2751 non-null   float64\n",
            " 5   Data.Rates.Property.Larceny    2751 non-null   float64\n",
            " 6   Data.Rates.Property.Motor      2751 non-null   float64\n",
            " 7   Data.Rates.Violent.All         2751 non-null   float64\n",
            " 8   Data.Rates.Violent.Assault     2751 non-null   float64\n",
            " 9   Data.Rates.Violent.Murder      2751 non-null   float64\n",
            " 10  Data.Rates.Violent.Rape        2751 non-null   float64\n",
            " 11  Data.Rates.Violent.Robbery     2751 non-null   float64\n",
            " 12  Data.Totals.Property.All       2751 non-null   int64  \n",
            " 13  Data.Totals.Property.Burglary  2751 non-null   int64  \n",
            " 14  Data.Totals.Property.Larceny   2751 non-null   int64  \n",
            " 15  Data.Totals.Property.Motor     2751 non-null   int64  \n",
            " 16  Data.Totals.Violent.All        2751 non-null   int64  \n",
            " 17  Data.Totals.Violent.Assault    2751 non-null   int64  \n",
            " 18  Data.Totals.Violent.Murder     2751 non-null   int64  \n",
            " 19  Data.Totals.Violent.Rape       2751 non-null   int64  \n",
            " 20  Data.Totals.Violent.Robbery    2751 non-null   int64  \n",
            "dtypes: float64(9), int64(11), object(1)\n",
            "memory usage: 451.5+ KB\n"
          ],
          "name": "stdout"
        }
      ]
    },
    {
      "cell_type": "code",
      "metadata": {
        "id": "TGZPG853OfLR"
      },
      "source": [
        "x=df[[\"Data.Population\",\"Data.Rates.Property.All\",\"Data.Rates.Property.Burglary\",\"Data.Rates.Property.Larceny\",\"Data.Rates.Property.Motor\",\"Data.Rates.Violent.All\",\"Data.Rates.Violent.Robbery\",\"Data.Rates.Violent.Rape\",\"Data.Totals.Violent.Assault\",\"Data.Totals.Violent.Murder\",\"Data.Totals.Violent.Rape\",\"Data.Totals.Violent.Robbery\"]]\n",
        "y=df[[\"Year\"]]"
      ],
      "execution_count": null,
      "outputs": []
    },
    {
      "cell_type": "code",
      "metadata": {
        "colab": {
          "base_uri": "https://localhost:8080/",
          "height": 434
        },
        "id": "MoKkYxgFPkTW",
        "outputId": "c0dbd8cf-fedc-4caa-a727-e95522627634"
      },
      "source": [
        "x"
      ],
      "execution_count": null,
      "outputs": [
        {
          "output_type": "execute_result",
          "data": {
            "text/html": [
              "<div>\n",
              "<style scoped>\n",
              "    .dataframe tbody tr th:only-of-type {\n",
              "        vertical-align: middle;\n",
              "    }\n",
              "\n",
              "    .dataframe tbody tr th {\n",
              "        vertical-align: top;\n",
              "    }\n",
              "\n",
              "    .dataframe thead th {\n",
              "        text-align: right;\n",
              "    }\n",
              "</style>\n",
              "<table border=\"1\" class=\"dataframe\">\n",
              "  <thead>\n",
              "    <tr style=\"text-align: right;\">\n",
              "      <th></th>\n",
              "      <th>Data.Population</th>\n",
              "      <th>Data.Rates.Property.All</th>\n",
              "      <th>Data.Rates.Property.Burglary</th>\n",
              "      <th>Data.Rates.Property.Larceny</th>\n",
              "      <th>Data.Rates.Property.Motor</th>\n",
              "      <th>Data.Rates.Violent.All</th>\n",
              "      <th>Data.Rates.Violent.Robbery</th>\n",
              "      <th>Data.Rates.Violent.Rape</th>\n",
              "      <th>Data.Totals.Violent.Assault</th>\n",
              "      <th>Data.Totals.Violent.Murder</th>\n",
              "      <th>Data.Totals.Violent.Rape</th>\n",
              "      <th>Data.Totals.Violent.Robbery</th>\n",
              "    </tr>\n",
              "  </thead>\n",
              "  <tbody>\n",
              "    <tr>\n",
              "      <th>0</th>\n",
              "      <td>3266740</td>\n",
              "      <td>1035.4</td>\n",
              "      <td>355.9</td>\n",
              "      <td>592.1</td>\n",
              "      <td>87.3</td>\n",
              "      <td>186.6</td>\n",
              "      <td>27.5</td>\n",
              "      <td>8.6</td>\n",
              "      <td>4512</td>\n",
              "      <td>406</td>\n",
              "      <td>281</td>\n",
              "      <td>898</td>\n",
              "    </tr>\n",
              "    <tr>\n",
              "      <th>1</th>\n",
              "      <td>3302000</td>\n",
              "      <td>985.5</td>\n",
              "      <td>339.3</td>\n",
              "      <td>569.4</td>\n",
              "      <td>76.8</td>\n",
              "      <td>168.5</td>\n",
              "      <td>19.1</td>\n",
              "      <td>7.6</td>\n",
              "      <td>4255</td>\n",
              "      <td>427</td>\n",
              "      <td>252</td>\n",
              "      <td>630</td>\n",
              "    </tr>\n",
              "    <tr>\n",
              "      <th>2</th>\n",
              "      <td>3358000</td>\n",
              "      <td>1067.0</td>\n",
              "      <td>349.1</td>\n",
              "      <td>634.5</td>\n",
              "      <td>83.4</td>\n",
              "      <td>157.3</td>\n",
              "      <td>22.5</td>\n",
              "      <td>6.5</td>\n",
              "      <td>3995</td>\n",
              "      <td>316</td>\n",
              "      <td>218</td>\n",
              "      <td>754</td>\n",
              "    </tr>\n",
              "    <tr>\n",
              "      <th>3</th>\n",
              "      <td>3347000</td>\n",
              "      <td>1150.9</td>\n",
              "      <td>376.9</td>\n",
              "      <td>683.4</td>\n",
              "      <td>90.6</td>\n",
              "      <td>182.7</td>\n",
              "      <td>24.7</td>\n",
              "      <td>5.7</td>\n",
              "      <td>4755</td>\n",
              "      <td>340</td>\n",
              "      <td>192</td>\n",
              "      <td>828</td>\n",
              "    </tr>\n",
              "    <tr>\n",
              "      <th>4</th>\n",
              "      <td>3407000</td>\n",
              "      <td>1358.7</td>\n",
              "      <td>466.6</td>\n",
              "      <td>784.1</td>\n",
              "      <td>108.0</td>\n",
              "      <td>213.1</td>\n",
              "      <td>29.1</td>\n",
              "      <td>11.7</td>\n",
              "      <td>5555</td>\n",
              "      <td>316</td>\n",
              "      <td>397</td>\n",
              "      <td>992</td>\n",
              "    </tr>\n",
              "    <tr>\n",
              "      <th>...</th>\n",
              "      <td>...</td>\n",
              "      <td>...</td>\n",
              "      <td>...</td>\n",
              "      <td>...</td>\n",
              "      <td>...</td>\n",
              "      <td>...</td>\n",
              "      <td>...</td>\n",
              "      <td>...</td>\n",
              "      <td>...</td>\n",
              "      <td>...</td>\n",
              "      <td>...</td>\n",
              "      <td>...</td>\n",
              "    </tr>\n",
              "    <tr>\n",
              "      <th>2746</th>\n",
              "      <td>304059724</td>\n",
              "      <td>3214.6</td>\n",
              "      <td>733.0</td>\n",
              "      <td>2166.1</td>\n",
              "      <td>315.4</td>\n",
              "      <td>458.6</td>\n",
              "      <td>145.9</td>\n",
              "      <td>29.8</td>\n",
              "      <td>843683</td>\n",
              "      <td>16465</td>\n",
              "      <td>90750</td>\n",
              "      <td>443563</td>\n",
              "    </tr>\n",
              "    <tr>\n",
              "      <th>2747</th>\n",
              "      <td>307006550</td>\n",
              "      <td>3041.3</td>\n",
              "      <td>717.7</td>\n",
              "      <td>2064.5</td>\n",
              "      <td>259.2</td>\n",
              "      <td>431.9</td>\n",
              "      <td>133.1</td>\n",
              "      <td>29.1</td>\n",
              "      <td>812514</td>\n",
              "      <td>15399</td>\n",
              "      <td>89241</td>\n",
              "      <td>408742</td>\n",
              "    </tr>\n",
              "    <tr>\n",
              "      <th>2748</th>\n",
              "      <td>309330219</td>\n",
              "      <td>2945.9</td>\n",
              "      <td>701.0</td>\n",
              "      <td>2005.8</td>\n",
              "      <td>239.1</td>\n",
              "      <td>404.5</td>\n",
              "      <td>119.3</td>\n",
              "      <td>27.7</td>\n",
              "      <td>781844</td>\n",
              "      <td>14722</td>\n",
              "      <td>85593</td>\n",
              "      <td>369089</td>\n",
              "    </tr>\n",
              "    <tr>\n",
              "      <th>2749</th>\n",
              "      <td>311587816</td>\n",
              "      <td>2905.4</td>\n",
              "      <td>701.3</td>\n",
              "      <td>1974.1</td>\n",
              "      <td>230.0</td>\n",
              "      <td>387.1</td>\n",
              "      <td>113.9</td>\n",
              "      <td>27.0</td>\n",
              "      <td>752423</td>\n",
              "      <td>14661</td>\n",
              "      <td>84175</td>\n",
              "      <td>354772</td>\n",
              "    </tr>\n",
              "    <tr>\n",
              "      <th>2750</th>\n",
              "      <td>313914040</td>\n",
              "      <td>2859.2</td>\n",
              "      <td>670.2</td>\n",
              "      <td>1959.3</td>\n",
              "      <td>229.7</td>\n",
              "      <td>386.9</td>\n",
              "      <td>112.9</td>\n",
              "      <td>26.9</td>\n",
              "      <td>760739</td>\n",
              "      <td>14827</td>\n",
              "      <td>84376</td>\n",
              "      <td>354522</td>\n",
              "    </tr>\n",
              "  </tbody>\n",
              "</table>\n",
              "<p>2751 rows × 12 columns</p>\n",
              "</div>"
            ],
            "text/plain": [
              "      Data.Population  ...  Data.Totals.Violent.Robbery\n",
              "0             3266740  ...                          898\n",
              "1             3302000  ...                          630\n",
              "2             3358000  ...                          754\n",
              "3             3347000  ...                          828\n",
              "4             3407000  ...                          992\n",
              "...               ...  ...                          ...\n",
              "2746        304059724  ...                       443563\n",
              "2747        307006550  ...                       408742\n",
              "2748        309330219  ...                       369089\n",
              "2749        311587816  ...                       354772\n",
              "2750        313914040  ...                       354522\n",
              "\n",
              "[2751 rows x 12 columns]"
            ]
          },
          "metadata": {
            "tags": []
          },
          "execution_count": 23
        }
      ]
    },
    {
      "cell_type": "code",
      "metadata": {
        "colab": {
          "base_uri": "https://localhost:8080/",
          "height": 414
        },
        "id": "meSKliDcPl8c",
        "outputId": "8a05cff1-ebdf-4509-a302-ba9b049ea651"
      },
      "source": [
        "y"
      ],
      "execution_count": null,
      "outputs": [
        {
          "output_type": "execute_result",
          "data": {
            "text/html": [
              "<div>\n",
              "<style scoped>\n",
              "    .dataframe tbody tr th:only-of-type {\n",
              "        vertical-align: middle;\n",
              "    }\n",
              "\n",
              "    .dataframe tbody tr th {\n",
              "        vertical-align: top;\n",
              "    }\n",
              "\n",
              "    .dataframe thead th {\n",
              "        text-align: right;\n",
              "    }\n",
              "</style>\n",
              "<table border=\"1\" class=\"dataframe\">\n",
              "  <thead>\n",
              "    <tr style=\"text-align: right;\">\n",
              "      <th></th>\n",
              "      <th>Year</th>\n",
              "    </tr>\n",
              "  </thead>\n",
              "  <tbody>\n",
              "    <tr>\n",
              "      <th>0</th>\n",
              "      <td>1960</td>\n",
              "    </tr>\n",
              "    <tr>\n",
              "      <th>1</th>\n",
              "      <td>1961</td>\n",
              "    </tr>\n",
              "    <tr>\n",
              "      <th>2</th>\n",
              "      <td>1962</td>\n",
              "    </tr>\n",
              "    <tr>\n",
              "      <th>3</th>\n",
              "      <td>1963</td>\n",
              "    </tr>\n",
              "    <tr>\n",
              "      <th>4</th>\n",
              "      <td>1964</td>\n",
              "    </tr>\n",
              "    <tr>\n",
              "      <th>...</th>\n",
              "      <td>...</td>\n",
              "    </tr>\n",
              "    <tr>\n",
              "      <th>2746</th>\n",
              "      <td>2008</td>\n",
              "    </tr>\n",
              "    <tr>\n",
              "      <th>2747</th>\n",
              "      <td>2009</td>\n",
              "    </tr>\n",
              "    <tr>\n",
              "      <th>2748</th>\n",
              "      <td>2010</td>\n",
              "    </tr>\n",
              "    <tr>\n",
              "      <th>2749</th>\n",
              "      <td>2011</td>\n",
              "    </tr>\n",
              "    <tr>\n",
              "      <th>2750</th>\n",
              "      <td>2012</td>\n",
              "    </tr>\n",
              "  </tbody>\n",
              "</table>\n",
              "<p>2751 rows × 1 columns</p>\n",
              "</div>"
            ],
            "text/plain": [
              "      Year\n",
              "0     1960\n",
              "1     1961\n",
              "2     1962\n",
              "3     1963\n",
              "4     1964\n",
              "...    ...\n",
              "2746  2008\n",
              "2747  2009\n",
              "2748  2010\n",
              "2749  2011\n",
              "2750  2012\n",
              "\n",
              "[2751 rows x 1 columns]"
            ]
          },
          "metadata": {
            "tags": []
          },
          "execution_count": 24
        }
      ]
    },
    {
      "cell_type": "code",
      "metadata": {
        "colab": {
          "base_uri": "https://localhost:8080/"
        },
        "id": "AYp54rCHPnoz",
        "outputId": "12ef3744-066c-4699-9e51-ad200a7bfce0"
      },
      "source": [
        "x_train,x_test,y_train,y_test=train_test_split(x,y,test_size=0.33,random_state=1)\n",
        "print(x_train.shape, x_test.shape, y_train.shape, y_test.shape)"
      ],
      "execution_count": null,
      "outputs": [
        {
          "output_type": "stream",
          "text": [
            "(1843, 12) (908, 12) (1843, 1) (908, 1)\n"
          ],
          "name": "stdout"
        }
      ]
    },
    {
      "cell_type": "code",
      "metadata": {
        "id": "ewCklevmP5Jb"
      },
      "source": [
        "regressor=LinearRegression(normalize=True)"
      ],
      "execution_count": null,
      "outputs": []
    },
    {
      "cell_type": "code",
      "metadata": {
        "colab": {
          "base_uri": "https://localhost:8080/"
        },
        "id": "pm8ydd83QMKD",
        "outputId": "7f7b043e-7d0a-4a54-826c-445ddbdf7cd3"
      },
      "source": [
        "regressor.fit(x_train ,y_train)"
      ],
      "execution_count": null,
      "outputs": [
        {
          "output_type": "execute_result",
          "data": {
            "text/plain": [
              "LinearRegression(copy_X=True, fit_intercept=True, n_jobs=None, normalize=True)"
            ]
          },
          "metadata": {
            "tags": []
          },
          "execution_count": 27
        }
      ]
    },
    {
      "cell_type": "code",
      "metadata": {
        "colab": {
          "base_uri": "https://localhost:8080/"
        },
        "id": "Cp-ZDAYoQOOQ",
        "outputId": "a5096029-a11a-4baf-a781-0c09f15b7cee"
      },
      "source": [
        "y_pred=regressor.predict(x_test)\n",
        "y_pred"
      ],
      "execution_count": null,
      "outputs": [
        {
          "output_type": "execute_result",
          "data": {
            "text/plain": [
              "array([[1996.80706475],\n",
              "       [1980.34392621],\n",
              "       [1976.75446284],\n",
              "       [1980.80599922],\n",
              "       [1967.4262002 ],\n",
              "       [1996.27348086],\n",
              "       [1974.11585681],\n",
              "       [1976.60477565],\n",
              "       [1970.38598828],\n",
              "       [2007.2419943 ],\n",
              "       [1992.48180514],\n",
              "       [1971.88708789],\n",
              "       [1992.39124201],\n",
              "       [1971.25917303],\n",
              "       [1988.39944086],\n",
              "       [1974.92252928],\n",
              "       [1997.55481595],\n",
              "       [1981.3216753 ],\n",
              "       [1978.52632403],\n",
              "       [1996.80782292],\n",
              "       [2005.96928634],\n",
              "       [1995.41787024],\n",
              "       [1993.05721216],\n",
              "       [1984.90422633],\n",
              "       [1990.54424993],\n",
              "       [2003.97934469],\n",
              "       [1972.38750399],\n",
              "       [1997.77532472],\n",
              "       [1994.47037265],\n",
              "       [2001.99022875],\n",
              "       [1975.33112901],\n",
              "       [1981.60311285],\n",
              "       [1976.48014612],\n",
              "       [1975.62795779],\n",
              "       [2001.28952613],\n",
              "       [1977.82432902],\n",
              "       [1977.3728766 ],\n",
              "       [1979.70271207],\n",
              "       [1979.12765167],\n",
              "       [1995.59287494],\n",
              "       [1987.20059679],\n",
              "       [1994.89676634],\n",
              "       [1978.19017508],\n",
              "       [1977.01440991],\n",
              "       [1979.83964577],\n",
              "       [1974.17749056],\n",
              "       [1978.17623621],\n",
              "       [1980.59408194],\n",
              "       [1976.3703743 ],\n",
              "       [1973.35265604],\n",
              "       [1967.86553489],\n",
              "       [1999.77750805],\n",
              "       [1977.45027762],\n",
              "       [2001.38648233],\n",
              "       [1970.64009887],\n",
              "       [1972.70345281],\n",
              "       [1968.48651201],\n",
              "       [1980.78823961],\n",
              "       [1993.72378558],\n",
              "       [1972.36880821],\n",
              "       [1989.66594658],\n",
              "       [1985.3828184 ],\n",
              "       [1997.63977275],\n",
              "       [1985.17767716],\n",
              "       [1991.53653811],\n",
              "       [1970.10790475],\n",
              "       [1982.81459674],\n",
              "       [2002.79175141],\n",
              "       [1977.38978879],\n",
              "       [2010.18668644],\n",
              "       [1978.1818137 ],\n",
              "       [1981.50974814],\n",
              "       [2007.64367454],\n",
              "       [1993.90809823],\n",
              "       [1999.32523092],\n",
              "       [1970.78175156],\n",
              "       [1993.61385114],\n",
              "       [2000.47854961],\n",
              "       [1988.61858903],\n",
              "       [1989.86062579],\n",
              "       [1975.89629764],\n",
              "       [1976.35515336],\n",
              "       [1987.54036049],\n",
              "       [1978.70585642],\n",
              "       [1969.178248  ],\n",
              "       [1976.77856518],\n",
              "       [1978.60167407],\n",
              "       [1995.35625294],\n",
              "       [1974.09933125],\n",
              "       [1989.12678998],\n",
              "       [2000.64709569],\n",
              "       [1978.24549383],\n",
              "       [1996.97146126],\n",
              "       [1991.24784188],\n",
              "       [1992.21434075],\n",
              "       [1984.28257755],\n",
              "       [1995.09698907],\n",
              "       [1997.28264879],\n",
              "       [1987.49172333],\n",
              "       [1996.8545084 ],\n",
              "       [1988.14739091],\n",
              "       [1978.84391855],\n",
              "       [1985.09894763],\n",
              "       [1992.35256943],\n",
              "       [1997.2475483 ],\n",
              "       [1976.91672597],\n",
              "       [2003.05965961],\n",
              "       [1986.42723021],\n",
              "       [1972.98426057],\n",
              "       [1977.97366326],\n",
              "       [1978.00881113],\n",
              "       [1970.60646107],\n",
              "       [1971.89671761],\n",
              "       [1994.26410918],\n",
              "       [1988.73456619],\n",
              "       [1997.63381981],\n",
              "       [1963.10935625],\n",
              "       [1979.07277948],\n",
              "       [1992.00826154],\n",
              "       [1994.85557006],\n",
              "       [1969.59057644],\n",
              "       [1985.49293037],\n",
              "       [1971.45510526],\n",
              "       [1981.00169915],\n",
              "       [1970.07009593],\n",
              "       [1986.13575464],\n",
              "       [1987.3829335 ],\n",
              "       [1978.48197872],\n",
              "       [1987.87113207],\n",
              "       [1990.13890236],\n",
              "       [1982.55552231],\n",
              "       [1995.9890128 ],\n",
              "       [1998.17358385],\n",
              "       [1980.84203286],\n",
              "       [1986.94147673],\n",
              "       [1984.07227078],\n",
              "       [2013.33483296],\n",
              "       [2000.69723055],\n",
              "       [1999.60508838],\n",
              "       [1981.95245564],\n",
              "       [1992.8037183 ],\n",
              "       [1977.19361428],\n",
              "       [1973.86742365],\n",
              "       [1974.20880896],\n",
              "       [1976.37293287],\n",
              "       [1974.0132526 ],\n",
              "       [1974.69656239],\n",
              "       [1995.12760045],\n",
              "       [1997.84576302],\n",
              "       [1986.33625864],\n",
              "       [1987.71926808],\n",
              "       [1975.18029275],\n",
              "       [1965.93445765],\n",
              "       [1997.48579088],\n",
              "       [1994.18787046],\n",
              "       [1990.26626936],\n",
              "       [2018.05141981],\n",
              "       [1979.40772538],\n",
              "       [1983.12026023],\n",
              "       [1976.70654953],\n",
              "       [1991.61063637],\n",
              "       [1987.84605329],\n",
              "       [1977.35501011],\n",
              "       [1977.45709368],\n",
              "       [1948.98088912],\n",
              "       [1983.46731106],\n",
              "       [2008.82193014],\n",
              "       [1992.5957577 ],\n",
              "       [1994.89885492],\n",
              "       [1993.59789762],\n",
              "       [1994.42927831],\n",
              "       [1992.96822285],\n",
              "       [1994.85973657],\n",
              "       [1980.43680715],\n",
              "       [2000.41116033],\n",
              "       [1989.87560489],\n",
              "       [1975.00964974],\n",
              "       [1974.29331571],\n",
              "       [1983.4700657 ],\n",
              "       [1988.24370757],\n",
              "       [1979.55350848],\n",
              "       [1980.58152855],\n",
              "       [1985.29975079],\n",
              "       [1970.67616162],\n",
              "       [1996.39998848],\n",
              "       [1989.26985492],\n",
              "       [2002.57232436],\n",
              "       [1978.04942326],\n",
              "       [1983.7697256 ],\n",
              "       [1977.72215363],\n",
              "       [1979.5968029 ],\n",
              "       [1990.07487254],\n",
              "       [1973.35373817],\n",
              "       [1982.11659009],\n",
              "       [1977.44470205],\n",
              "       [1996.0571235 ],\n",
              "       [2006.02080997],\n",
              "       [1998.51336591],\n",
              "       [1978.27575934],\n",
              "       [1977.34651958],\n",
              "       [1973.29651423],\n",
              "       [1995.03093647],\n",
              "       [1995.79926092],\n",
              "       [1978.99226893],\n",
              "       [1978.04396474],\n",
              "       [1980.12136016],\n",
              "       [1970.48144657],\n",
              "       [1977.75977109],\n",
              "       [1970.93764001],\n",
              "       [1977.537511  ],\n",
              "       [1996.36933438],\n",
              "       [1990.97989097],\n",
              "       [1981.2017026 ],\n",
              "       [1977.54580911],\n",
              "       [1978.98264635],\n",
              "       [1997.07670484],\n",
              "       [1986.56566953],\n",
              "       [1975.70341984],\n",
              "       [1974.51958312],\n",
              "       [1988.80179299],\n",
              "       [1990.53593586],\n",
              "       [1991.9499591 ],\n",
              "       [1995.48538357],\n",
              "       [1981.31632526],\n",
              "       [1980.77410562],\n",
              "       [1992.81427178],\n",
              "       [1991.42438931],\n",
              "       [1990.90519805],\n",
              "       [1995.14281736],\n",
              "       [1988.32352465],\n",
              "       [1997.78081412],\n",
              "       [1996.93117443],\n",
              "       [1990.0606928 ],\n",
              "       [1981.08217127],\n",
              "       [1982.36962026],\n",
              "       [1984.12871938],\n",
              "       [1995.63318918],\n",
              "       [1998.89892857],\n",
              "       [1975.65381575],\n",
              "       [1975.687721  ],\n",
              "       [1975.8314554 ],\n",
              "       [1972.86808429],\n",
              "       [1966.44562717],\n",
              "       [1970.96126112],\n",
              "       [1977.04502631],\n",
              "       [1978.60320176],\n",
              "       [1978.13118763],\n",
              "       [1980.82739468],\n",
              "       [1996.9105389 ],\n",
              "       [1973.61806671],\n",
              "       [1992.30665318],\n",
              "       [1973.14736567],\n",
              "       [1985.91124455],\n",
              "       [1974.06239773],\n",
              "       [1982.87193948],\n",
              "       [1960.98420575],\n",
              "       [1992.67049267],\n",
              "       [1980.92112403],\n",
              "       [1981.91483145],\n",
              "       [2001.56853818],\n",
              "       [1979.50049895],\n",
              "       [1985.18605693],\n",
              "       [2019.24198371],\n",
              "       [1973.78207168],\n",
              "       [1975.91190122],\n",
              "       [1976.49821219],\n",
              "       [2009.2881181 ],\n",
              "       [1991.54656666],\n",
              "       [1986.40337421],\n",
              "       [1988.34603902],\n",
              "       [2003.3425787 ],\n",
              "       [1994.68460975],\n",
              "       [1991.48325513],\n",
              "       [1975.30846132],\n",
              "       [1981.002845  ],\n",
              "       [1976.50628935],\n",
              "       [1973.17059949],\n",
              "       [1982.62948114],\n",
              "       [1974.90163644],\n",
              "       [1997.78960968],\n",
              "       [1999.31268901],\n",
              "       [1965.75100347],\n",
              "       [1994.10921539],\n",
              "       [1974.0186908 ],\n",
              "       [1973.87562765],\n",
              "       [1980.49741981],\n",
              "       [2001.53544604],\n",
              "       [1988.10165018],\n",
              "       [1986.46836553],\n",
              "       [1992.847178  ],\n",
              "       [1995.69426917],\n",
              "       [1979.38431451],\n",
              "       [1978.59473634],\n",
              "       [1972.69945113],\n",
              "       [1997.45875551],\n",
              "       [1969.08209796],\n",
              "       [1966.8424582 ],\n",
              "       [1974.16962166],\n",
              "       [1966.90042909],\n",
              "       [1976.72764958],\n",
              "       [1989.42518118],\n",
              "       [1988.8052146 ],\n",
              "       [1989.49893042],\n",
              "       [1987.63677426],\n",
              "       [1993.80813539],\n",
              "       [1984.81179338],\n",
              "       [1975.65688545],\n",
              "       [1993.54458968],\n",
              "       [1971.52753603],\n",
              "       [1969.57792156],\n",
              "       [2001.8717381 ],\n",
              "       [1992.30866402],\n",
              "       [1975.40766244],\n",
              "       [1987.42448901],\n",
              "       [1970.05018532],\n",
              "       [1986.99029978],\n",
              "       [1988.22109728],\n",
              "       [1985.03467503],\n",
              "       [1990.52081119],\n",
              "       [1996.5820545 ],\n",
              "       [1976.91537529],\n",
              "       [1975.26467622],\n",
              "       [1972.96583113],\n",
              "       [1977.95512578],\n",
              "       [1977.46146334],\n",
              "       [1976.80803093],\n",
              "       [1987.92311543],\n",
              "       [1987.41205495],\n",
              "       [1987.00231035],\n",
              "       [1988.24532196],\n",
              "       [1990.74206686],\n",
              "       [1996.58240223],\n",
              "       [1993.84723426],\n",
              "       [2000.5651419 ],\n",
              "       [1998.94594445],\n",
              "       [1995.22509746],\n",
              "       [1977.81555463],\n",
              "       [1975.31275448],\n",
              "       [1983.30139673],\n",
              "       [1971.55679308],\n",
              "       [1976.92072879],\n",
              "       [1978.36858753],\n",
              "       [1980.17331447],\n",
              "       [1994.82693871],\n",
              "       [1957.18167762],\n",
              "       [1995.98662438],\n",
              "       [1977.60564669],\n",
              "       [1987.61749271],\n",
              "       [1993.31118701],\n",
              "       [1993.31508842],\n",
              "       [1974.37401885],\n",
              "       [1976.05298172],\n",
              "       [1980.32364202],\n",
              "       [1984.32929659],\n",
              "       [1990.21797343],\n",
              "       [1989.3538101 ],\n",
              "       [1973.52841199],\n",
              "       [1996.54843359],\n",
              "       [1964.4012434 ],\n",
              "       [1983.86252408],\n",
              "       [1990.33987286],\n",
              "       [1992.86449557],\n",
              "       [2002.48258951],\n",
              "       [1997.17830002],\n",
              "       [2003.6766084 ],\n",
              "       [1997.74826812],\n",
              "       [1973.9075053 ],\n",
              "       [1989.08782563],\n",
              "       [1983.25845986],\n",
              "       [1985.62707265],\n",
              "       [1990.89818397],\n",
              "       [1994.10045795],\n",
              "       [1968.6649261 ],\n",
              "       [1992.57320884],\n",
              "       [1999.60042049],\n",
              "       [1986.36344631],\n",
              "       [1986.04334288],\n",
              "       [1984.10761101],\n",
              "       [1976.12469865],\n",
              "       [2000.95760798],\n",
              "       [1979.50555108],\n",
              "       [1985.63066924],\n",
              "       [1972.53218246],\n",
              "       [1988.67461407],\n",
              "       [2009.01631284],\n",
              "       [1972.92149825],\n",
              "       [1973.09032129],\n",
              "       [1981.36159535],\n",
              "       [2006.20971098],\n",
              "       [1997.16023559],\n",
              "       [1975.40695385],\n",
              "       [1973.0063511 ],\n",
              "       [2016.25887595],\n",
              "       [1976.12148432],\n",
              "       [1989.01512192],\n",
              "       [1988.55383078],\n",
              "       [1987.55866745],\n",
              "       [1987.60336544],\n",
              "       [1991.14388506],\n",
              "       [1985.58022709],\n",
              "       [1978.54852055],\n",
              "       [1974.40307362],\n",
              "       [1972.83479767],\n",
              "       [1983.16763151],\n",
              "       [1979.10692257],\n",
              "       [1984.2103325 ],\n",
              "       [1984.78721805],\n",
              "       [1975.36299326],\n",
              "       [1975.95345236],\n",
              "       [1991.8463907 ],\n",
              "       [1982.95206182],\n",
              "       [1996.14786221],\n",
              "       [1975.56331602],\n",
              "       [1992.87210804],\n",
              "       [2000.26126545],\n",
              "       [1984.57432151],\n",
              "       [1994.06380522],\n",
              "       [1984.01181728],\n",
              "       [1993.08166896],\n",
              "       [1990.84326296],\n",
              "       [1993.75673013],\n",
              "       [1995.42930582],\n",
              "       [1974.23018471],\n",
              "       [1981.03578841],\n",
              "       [1976.44475018],\n",
              "       [1985.57569583],\n",
              "       [1974.08080067],\n",
              "       [1977.72222182],\n",
              "       [1976.33974586],\n",
              "       [1972.38759419],\n",
              "       [1979.96622776],\n",
              "       [1981.44137274],\n",
              "       [1990.76501586],\n",
              "       [1973.20271988],\n",
              "       [2015.31486286],\n",
              "       [1967.31708335],\n",
              "       [1988.45816532],\n",
              "       [1987.98517635],\n",
              "       [1985.67097773],\n",
              "       [1972.82995009],\n",
              "       [1984.80262547],\n",
              "       [1974.11490758],\n",
              "       [1978.38842345],\n",
              "       [1987.87667627],\n",
              "       [1984.23914409],\n",
              "       [1970.78859666],\n",
              "       [1973.11638574],\n",
              "       [1978.04667441],\n",
              "       [1980.58997265],\n",
              "       [1992.77089488],\n",
              "       [1976.91845185],\n",
              "       [1985.50385241],\n",
              "       [1972.04558084],\n",
              "       [1977.50669005],\n",
              "       [1975.19527864],\n",
              "       [1968.5713091 ],\n",
              "       [1981.37838367],\n",
              "       [1978.40292696],\n",
              "       [1974.30281225],\n",
              "       [1990.90376576],\n",
              "       [1974.99822342],\n",
              "       [1989.84698537],\n",
              "       [1984.67476105],\n",
              "       [1970.07418619],\n",
              "       [1995.49993359],\n",
              "       [1998.44237079],\n",
              "       [1971.43231395],\n",
              "       [1991.20982639],\n",
              "       [1990.27816651],\n",
              "       [1978.52256411],\n",
              "       [1976.16747457],\n",
              "       [1993.5158622 ],\n",
              "       [1992.26802417],\n",
              "       [1980.82974138],\n",
              "       [2000.28784847],\n",
              "       [1989.81926215],\n",
              "       [1999.50586045],\n",
              "       [1982.91405943],\n",
              "       [1976.69775167],\n",
              "       [1996.61327527],\n",
              "       [1991.87867969],\n",
              "       [1986.54671962],\n",
              "       [1979.16717918],\n",
              "       [1972.12528581],\n",
              "       [1979.7715556 ],\n",
              "       [1976.60407519],\n",
              "       [1986.08632093],\n",
              "       [1980.43812437],\n",
              "       [2007.51659351],\n",
              "       [1991.69743727],\n",
              "       [1976.56268408],\n",
              "       [2006.08243609],\n",
              "       [1970.62335103],\n",
              "       [1987.52721953],\n",
              "       [1976.67141484],\n",
              "       [1988.50503627],\n",
              "       [1988.22421801],\n",
              "       [1979.75572565],\n",
              "       [1997.34676258],\n",
              "       [1995.77202873],\n",
              "       [1985.57807729],\n",
              "       [1986.78792061],\n",
              "       [2001.57924251],\n",
              "       [1990.39119223],\n",
              "       [1983.3609862 ],\n",
              "       [1982.73148015],\n",
              "       [1968.99154501],\n",
              "       [1977.37139474],\n",
              "       [1994.85617418],\n",
              "       [1980.85786139],\n",
              "       [1991.41269955],\n",
              "       [1975.04115652],\n",
              "       [1975.88993501],\n",
              "       [1993.77932579],\n",
              "       [1972.76238241],\n",
              "       [1992.53576709],\n",
              "       [1990.35680762],\n",
              "       [1978.73337937],\n",
              "       [1978.61524977],\n",
              "       [1962.09205203],\n",
              "       [1970.98480269],\n",
              "       [1980.35717844],\n",
              "       [1996.97936366],\n",
              "       [1999.89136392],\n",
              "       [1988.84770136],\n",
              "       [2009.48737319],\n",
              "       [1974.51944625],\n",
              "       [1980.7348351 ],\n",
              "       [1981.17026734],\n",
              "       [1989.21900139],\n",
              "       [1974.17794571],\n",
              "       [1968.19807675],\n",
              "       [1971.58881583],\n",
              "       [1998.30446053],\n",
              "       [1994.57960152],\n",
              "       [1974.68613486],\n",
              "       [1988.23150492],\n",
              "       [1988.17206054],\n",
              "       [1991.45853626],\n",
              "       [1987.96139442],\n",
              "       [1993.18731469],\n",
              "       [1973.74059292],\n",
              "       [1975.20874978],\n",
              "       [1980.88151816],\n",
              "       [1988.02079347],\n",
              "       [1974.35552322],\n",
              "       [1987.33153981],\n",
              "       [1987.57470635],\n",
              "       [1982.19746372],\n",
              "       [1977.47846331],\n",
              "       [1983.16399541],\n",
              "       [1974.15061911],\n",
              "       [1995.69656543],\n",
              "       [1981.64433269],\n",
              "       [1982.47933838],\n",
              "       [1996.75447745],\n",
              "       [2001.31195712],\n",
              "       [1974.47225499],\n",
              "       [1987.67778552],\n",
              "       [1991.70625135],\n",
              "       [1968.43243672],\n",
              "       [1973.13056697],\n",
              "       [1983.07591552],\n",
              "       [2001.32669654],\n",
              "       [1986.99221207],\n",
              "       [1987.83347792],\n",
              "       [1987.97851062],\n",
              "       [1991.13583957],\n",
              "       [1992.99252415],\n",
              "       [1984.5172153 ],\n",
              "       [1987.24151193],\n",
              "       [1974.32711092],\n",
              "       [1983.46664597],\n",
              "       [1993.57218543],\n",
              "       [1992.36016811],\n",
              "       [1987.72978717],\n",
              "       [1973.08448891],\n",
              "       [2017.63544301],\n",
              "       [1996.87410239],\n",
              "       [1975.4349051 ],\n",
              "       [1986.56410457],\n",
              "       [1972.72716317],\n",
              "       [1974.23325451],\n",
              "       [1972.40551687],\n",
              "       [1990.25797447],\n",
              "       [1979.29843315],\n",
              "       [1988.26825843],\n",
              "       [1968.57710393],\n",
              "       [1966.15572891],\n",
              "       [1981.43136796],\n",
              "       [1975.9672927 ],\n",
              "       [1973.18446953],\n",
              "       [1978.97177959],\n",
              "       [1964.32780273],\n",
              "       [1987.31357296],\n",
              "       [1986.31748895],\n",
              "       [1974.56572758],\n",
              "       [1982.16644958],\n",
              "       [1993.42017421],\n",
              "       [1988.61906733],\n",
              "       [1996.85942124],\n",
              "       [1998.00961781],\n",
              "       [1998.51769252],\n",
              "       [1993.03977786],\n",
              "       [1994.3918552 ],\n",
              "       [1995.8192493 ],\n",
              "       [1988.40104303],\n",
              "       [1977.07372331],\n",
              "       [1994.68101745],\n",
              "       [1977.12849564],\n",
              "       [1978.28760529],\n",
              "       [1999.86313971],\n",
              "       [1970.80375161],\n",
              "       [1983.2466776 ],\n",
              "       [1999.28180254],\n",
              "       [1987.98020814],\n",
              "       [1981.0421943 ],\n",
              "       [1996.74992037],\n",
              "       [2019.55620793],\n",
              "       [2006.62490682],\n",
              "       [1979.09745159],\n",
              "       [2003.68597159],\n",
              "       [1975.38748071],\n",
              "       [1977.67804865],\n",
              "       [1996.28922001],\n",
              "       [1986.907349  ],\n",
              "       [1979.39064851],\n",
              "       [1982.32979166],\n",
              "       [1994.44703005],\n",
              "       [1973.46972267],\n",
              "       [1994.73216203],\n",
              "       [1979.07538236],\n",
              "       [1984.74630355],\n",
              "       [1998.73904416],\n",
              "       [1972.02303699],\n",
              "       [1998.24396507],\n",
              "       [1996.33496142],\n",
              "       [1982.01490493],\n",
              "       [1989.77671713],\n",
              "       [1974.30749774],\n",
              "       [1990.94819941],\n",
              "       [1979.80927598],\n",
              "       [1983.09434122],\n",
              "       [1978.12421951],\n",
              "       [1969.41932128],\n",
              "       [1987.51523665],\n",
              "       [1989.06199584],\n",
              "       [1982.72048791],\n",
              "       [1975.50742434],\n",
              "       [2020.18580126],\n",
              "       [1978.98419311],\n",
              "       [1986.22334933],\n",
              "       [1995.34823534],\n",
              "       [1997.88272072],\n",
              "       [1992.51190847],\n",
              "       [1993.40167083],\n",
              "       [1977.05778945],\n",
              "       [1979.16026769],\n",
              "       [1977.25390104],\n",
              "       [1963.92601173],\n",
              "       [1990.32685525],\n",
              "       [1980.94250627],\n",
              "       [1977.45194571],\n",
              "       [1981.68187233],\n",
              "       [1986.82445772],\n",
              "       [1979.28687917],\n",
              "       [1993.47906263],\n",
              "       [1989.33212863],\n",
              "       [2000.50932805],\n",
              "       [1988.21406462],\n",
              "       [2000.32574126],\n",
              "       [1982.01321944],\n",
              "       [2007.88783161],\n",
              "       [1992.88834184],\n",
              "       [1983.73552744],\n",
              "       [1989.61269389],\n",
              "       [1985.40584246],\n",
              "       [1974.80313135],\n",
              "       [1981.16269879],\n",
              "       [1971.9758735 ],\n",
              "       [1998.31599994],\n",
              "       [1982.23877258],\n",
              "       [1978.40858045],\n",
              "       [1974.48183566],\n",
              "       [1973.00898429],\n",
              "       [1999.10384885],\n",
              "       [1980.11039692],\n",
              "       [1988.46478207],\n",
              "       [1994.20003749],\n",
              "       [1995.12969632],\n",
              "       [1994.78883073],\n",
              "       [2011.08015784],\n",
              "       [1974.10902531],\n",
              "       [1993.72146434],\n",
              "       [2006.07243174],\n",
              "       [1991.87271714],\n",
              "       [1991.75275935],\n",
              "       [1971.67703518],\n",
              "       [1985.97224667],\n",
              "       [1978.5175859 ],\n",
              "       [1972.72963705],\n",
              "       [1984.29465148],\n",
              "       [1977.62837222],\n",
              "       [1980.87378899],\n",
              "       [1989.70238794],\n",
              "       [1992.76988688],\n",
              "       [1991.40121183],\n",
              "       [1995.66642987],\n",
              "       [1997.6619125 ],\n",
              "       [1975.17592893],\n",
              "       [1984.5250943 ],\n",
              "       [1973.9134543 ],\n",
              "       [1993.63373751],\n",
              "       [1984.7794322 ],\n",
              "       [1989.70888716],\n",
              "       [1978.70355559],\n",
              "       [1987.60319849],\n",
              "       [1993.17807685],\n",
              "       [1994.51319628],\n",
              "       [1973.13407099],\n",
              "       [1992.83737266],\n",
              "       [1988.81893884],\n",
              "       [1996.83598642],\n",
              "       [1994.27276763],\n",
              "       [1974.43048445],\n",
              "       [1992.03386349],\n",
              "       [1975.19520564],\n",
              "       [1976.58042581],\n",
              "       [1995.64318462],\n",
              "       [1982.37518322],\n",
              "       [1974.87968762],\n",
              "       [1977.01093546],\n",
              "       [1979.81989609],\n",
              "       [1995.90435387],\n",
              "       [1973.14537773],\n",
              "       [1982.20383299],\n",
              "       [1987.61837458],\n",
              "       [1973.60747623],\n",
              "       [1974.61745604],\n",
              "       [1983.22004473],\n",
              "       [1991.44940295],\n",
              "       [1994.60750579],\n",
              "       [1973.31719839],\n",
              "       [1977.33923394],\n",
              "       [1976.03843899],\n",
              "       [2004.89485682],\n",
              "       [1972.5367148 ],\n",
              "       [1996.54986319],\n",
              "       [1995.87956492],\n",
              "       [1982.05391727],\n",
              "       [1991.987056  ],\n",
              "       [1989.63015818],\n",
              "       [1986.78978622],\n",
              "       [1991.81112933],\n",
              "       [1980.21687216],\n",
              "       [1988.27854548],\n",
              "       [1984.30821413],\n",
              "       [1998.58449208],\n",
              "       [1984.60056933],\n",
              "       [1981.85860104],\n",
              "       [1995.12875768],\n",
              "       [1967.96910504],\n",
              "       [1998.72989658],\n",
              "       [1981.44418988],\n",
              "       [1978.82616467],\n",
              "       [1997.97393394],\n",
              "       [1994.37461748],\n",
              "       [1975.3381725 ],\n",
              "       [1978.87542324],\n",
              "       [1981.78038861],\n",
              "       [1979.67282428],\n",
              "       [1981.45838526],\n",
              "       [1990.11381914],\n",
              "       [1974.19978161],\n",
              "       [1976.53127175],\n",
              "       [1984.65013107],\n",
              "       [1990.44026275],\n",
              "       [1974.8062272 ],\n",
              "       [1978.09633983],\n",
              "       [2004.20891446],\n",
              "       [1995.53689397],\n",
              "       [1980.56761155],\n",
              "       [1963.36609601],\n",
              "       [1974.0790278 ],\n",
              "       [1987.56103229],\n",
              "       [1996.98548853],\n",
              "       [1975.54433555],\n",
              "       [1980.50497789],\n",
              "       [1984.18120798],\n",
              "       [1990.35752231],\n",
              "       [1993.27261621],\n",
              "       [1974.17526944],\n",
              "       [1979.02751542],\n",
              "       [1980.10572186],\n",
              "       [1995.44502859],\n",
              "       [1967.03989429],\n",
              "       [1989.81494856],\n",
              "       [2000.70210411],\n",
              "       [1973.7382891 ],\n",
              "       [1987.2587073 ],\n",
              "       [1973.28952971],\n",
              "       [1987.86580775],\n",
              "       [1975.22651651],\n",
              "       [1997.17057037],\n",
              "       [2020.49791675],\n",
              "       [1994.37810329],\n",
              "       [2008.09170522],\n",
              "       [1957.87824017],\n",
              "       [1996.24529952],\n",
              "       [1989.41257268],\n",
              "       [2008.49868888],\n",
              "       [1980.52593777],\n",
              "       [1975.38053959],\n",
              "       [1970.00807715],\n",
              "       [1967.7500303 ],\n",
              "       [1973.33013655],\n",
              "       [1979.72411625],\n",
              "       [1973.45098345],\n",
              "       [1993.78283903],\n",
              "       [1983.67736143],\n",
              "       [1995.50063304],\n",
              "       [1998.63127834],\n",
              "       [2000.65861167],\n",
              "       [1993.25236569],\n",
              "       [1974.95400931],\n",
              "       [1978.71062243],\n",
              "       [1979.25522987],\n",
              "       [1981.04345296],\n",
              "       [1992.51719439],\n",
              "       [1993.66209953],\n",
              "       [1978.86422387],\n",
              "       [2020.91899378],\n",
              "       [1994.86313467],\n",
              "       [2021.99367054],\n",
              "       [1975.2055224 ],\n",
              "       [1985.36506641],\n",
              "       [1989.30462532],\n",
              "       [1978.839792  ],\n",
              "       [1995.20044052],\n",
              "       [1977.71992849],\n",
              "       [1971.52118121],\n",
              "       [1976.67058502],\n",
              "       [1988.53917483],\n",
              "       [1986.57344217],\n",
              "       [2008.10719724],\n",
              "       [1977.43778627],\n",
              "       [1977.38398045],\n",
              "       [1979.25200682],\n",
              "       [1992.3371884 ],\n",
              "       [1975.36945315],\n",
              "       [1992.29466105],\n",
              "       [1973.61653157],\n",
              "       [1982.94155868],\n",
              "       [1996.04276775],\n",
              "       [1971.08437578],\n",
              "       [1972.06049067],\n",
              "       [1975.35830025],\n",
              "       [1974.0769761 ],\n",
              "       [1978.90559634],\n",
              "       [1973.73588343],\n",
              "       [1997.0611256 ],\n",
              "       [1980.01591999],\n",
              "       [1987.86901998],\n",
              "       [1970.08232305],\n",
              "       [1964.45538377],\n",
              "       [1974.32406112],\n",
              "       [1977.58394857],\n",
              "       [1985.35614852],\n",
              "       [1978.44570965],\n",
              "       [2007.33569628],\n",
              "       [1993.46324659],\n",
              "       [1982.14035688],\n",
              "       [2016.92686145],\n",
              "       [1980.98874083],\n",
              "       [2002.26295192],\n",
              "       [1976.4472168 ],\n",
              "       [1975.56008595],\n",
              "       [1974.67463791],\n",
              "       [1992.08298152],\n",
              "       [1997.11343138],\n",
              "       [2006.16251542],\n",
              "       [1997.99734672],\n",
              "       [2000.12417654],\n",
              "       [1976.95242322],\n",
              "       [2001.61181605],\n",
              "       [1982.70777454],\n",
              "       [1991.21900809],\n",
              "       [1976.41396157],\n",
              "       [1968.45710439],\n",
              "       [1975.6898557 ],\n",
              "       [2009.63963821],\n",
              "       [1984.08183728],\n",
              "       [1978.42867494],\n",
              "       [1984.28248803],\n",
              "       [2000.68003181],\n",
              "       [1974.35217268],\n",
              "       [1975.62285475],\n",
              "       [1981.94392321],\n",
              "       [1980.0191774 ],\n",
              "       [1974.87894052],\n",
              "       [1976.29525566],\n",
              "       [1994.68405653],\n",
              "       [1986.98607832],\n",
              "       [1996.568033  ],\n",
              "       [1975.36641441],\n",
              "       [2005.83414254],\n",
              "       [1994.81035281],\n",
              "       [1973.66416355]])"
            ]
          },
          "metadata": {
            "tags": []
          },
          "execution_count": 28
        }
      ]
    },
    {
      "cell_type": "code",
      "metadata": {
        "colab": {
          "base_uri": "https://localhost:8080/"
        },
        "id": "yNuPawm5Qsym",
        "outputId": "ec37b847-a439-4ce2-ddb3-2905a564bf1c"
      },
      "source": [
        "matches = (y_pred==y_test)\n",
        "print(matches.sum())"
      ],
      "execution_count": null,
      "outputs": [
        {
          "output_type": "stream",
          "text": [
            "Year    0\n",
            "dtype: int64\n"
          ],
          "name": "stdout"
        }
      ]
    },
    {
      "cell_type": "code",
      "metadata": {
        "colab": {
          "base_uri": "https://localhost:8080/"
        },
        "id": "sqQMoomrQyyj",
        "outputId": "3a262e4b-48d7-4d12-a56f-35df07acad8e"
      },
      "source": [
        "matches.sum() / float(len(matches))"
      ],
      "execution_count": null,
      "outputs": [
        {
          "output_type": "execute_result",
          "data": {
            "text/plain": [
              "Year    0.0\n",
              "dtype: float64"
            ]
          },
          "metadata": {
            "tags": []
          },
          "execution_count": 30
        }
      ]
    },
    {
      "cell_type": "code",
      "metadata": {
        "colab": {
          "base_uri": "https://localhost:8080/",
          "height": 282
        },
        "id": "afnwDvGtQ3AI",
        "outputId": "c1c3e2d2-1ae5-4347-ad7e-fb035b44018b"
      },
      "source": [
        "plt.scatter(y_test,y_pred)"
      ],
      "execution_count": null,
      "outputs": [
        {
          "output_type": "execute_result",
          "data": {
            "text/plain": [
              "<matplotlib.collections.PathCollection at 0x7f5749e09750>"
            ]
          },
          "metadata": {
            "tags": []
          },
          "execution_count": 31
        },
        {
          "output_type": "display_data",
          "data": {
            "image/png": "[encoded data removed]",
            "text/plain": [
              "<Figure size 432x288 with 1 Axes>"
            ]
          },
          "metadata": {
            "tags": [],
            "needs_background": "light"
          }
        }
      ]
    },
    {
      "cell_type": "markdown",
      "metadata": {
        "id": "p44eOzhPRG7W"
      },
      "source": [
        "**LOGISTIC REGRESSION CLASSIFICATION**"
      ]
    },
    {
      "cell_type": "code",
      "metadata": {
        "id": "gsHWGkr_R2WB"
      },
      "source": [
        "from sklearn.linear_model import LogisticRegression"
      ],
      "execution_count": null,
      "outputs": []
    },
    {
      "cell_type": "code",
      "metadata": {
        "id": "H-2d-lJ1TN6R"
      },
      "source": [
        "x_train,x_test,y_train,y_test=train_test_split(x,y,train_size=0.5,random_state=6)"
      ],
      "execution_count": null,
      "outputs": []
    },
    {
      "cell_type": "code",
      "metadata": {
        "id": "5aN62u4-TPWN"
      },
      "source": [
        "regressor=LogisticRegression()"
      ],
      "execution_count": null,
      "outputs": []
    },
    {
      "cell_type": "code",
      "metadata": {
        "colab": {
          "base_uri": "https://localhost:8080/"
        },
        "id": "SqjRbcvCTSTz",
        "outputId": "300772fa-dcfe-4aea-8373-7aff2fe917f7"
      },
      "source": [
        "regressor.fit(x_train,y_train)"
      ],
      "execution_count": null,
      "outputs": [
        {
          "output_type": "stream",
          "text": [
            "/usr/local/lib/python3.7/dist-packages/sklearn/utils/validation.py:760: DataConversionWarning: A column-vector y was passed when a 1d array was expected. Please change the shape of y to (n_samples, ), for example using ravel().\n",
            "  y = column_or_1d(y, warn=True)\n",
            "/usr/local/lib/python3.7/dist-packages/sklearn/linear_model/_logistic.py:940: ConvergenceWarning: lbfgs failed to converge (status=1):\n",
            "STOP: TOTAL NO. of ITERATIONS REACHED LIMIT.\n",
            "\n",
            "Increase the number of iterations (max_iter) or scale the data as shown in:\n",
            "    https://scikit-learn.org/stable/modules/preprocessing.html\n",
            "Please also refer to the documentation for alternative solver options:\n",
            "    https://scikit-learn.org/stable/modules/linear_model.html#logistic-regression\n",
            "  extra_warning_msg=_LOGISTIC_SOLVER_CONVERGENCE_MSG)\n"
          ],
          "name": "stderr"
        },
        {
          "output_type": "execute_result",
          "data": {
            "text/plain": [
              "LogisticRegression(C=1.0, class_weight=None, dual=False, fit_intercept=True,\n",
              "                   intercept_scaling=1, l1_ratio=None, max_iter=100,\n",
              "                   multi_class='auto', n_jobs=None, penalty='l2',\n",
              "                   random_state=None, solver='lbfgs', tol=0.0001, verbose=0,\n",
              "                   warm_start=False)"
            ]
          },
          "metadata": {
            "tags": []
          },
          "execution_count": 74
        }
      ]
    },
    {
      "cell_type": "code",
      "metadata": {
        "id": "03ebm0WWTWI8"
      },
      "source": [
        "y_predicts=regressor.predict(x_test)"
      ],
      "execution_count": null,
      "outputs": []
    },
    {
      "cell_type": "code",
      "metadata": {
        "colab": {
          "base_uri": "https://localhost:8080/"
        },
        "id": "hYfCkydQTaYI",
        "outputId": "d6e3d77e-8ea3-4e82-8f55-114f3ed9e2ee"
      },
      "source": [
        "print(classification_report(y_test,y_predicts))"
      ],
      "execution_count": null,
      "outputs": [
        {
          "output_type": "stream",
          "text": [
            "              precision    recall  f1-score   support\n",
            "\n",
            "        1960       0.00      0.00      0.00        24\n",
            "        1961       0.00      0.00      0.00        20\n",
            "        1962       0.00      0.00      0.00        27\n",
            "        1963       0.00      0.00      0.00        23\n",
            "        1964       0.00      0.00      0.00        24\n",
            "        1965       0.00      0.00      0.00        28\n",
            "        1966       0.00      0.00      0.00        25\n",
            "        1967       0.00      0.00      0.00        24\n",
            "        1968       0.02      0.63      0.04        19\n",
            "        1969       0.00      0.00      0.00        27\n",
            "        1970       0.00      0.00      0.00        29\n",
            "        1971       0.07      0.08      0.08        24\n",
            "        1972       0.00      0.00      0.00        30\n",
            "        1973       0.00      0.00      0.00        27\n",
            "        1974       0.04      0.14      0.06        22\n",
            "        1975       0.00      0.00      0.00        25\n",
            "        1976       0.00      0.00      0.00        28\n",
            "        1977       0.00      0.00      0.00        26\n",
            "        1978       0.00      0.00      0.00        30\n",
            "        1979       0.00      0.00      0.00        23\n",
            "        1980       0.00      0.00      0.00        32\n",
            "        1981       0.00      0.00      0.00        27\n",
            "        1982       0.05      0.07      0.06        28\n",
            "        1983       0.00      0.00      0.00        31\n",
            "        1984       0.10      0.23      0.14        22\n",
            "        1985       0.00      0.00      0.00        24\n",
            "        1986       0.00      0.00      0.00        32\n",
            "        1987       0.00      0.00      0.00        30\n",
            "        1988       0.00      0.00      0.00        28\n",
            "        1989       0.00      0.00      0.00        25\n",
            "        1990       0.29      0.08      0.12        25\n",
            "        1991       0.00      0.00      0.00        27\n",
            "        1992       0.02      0.10      0.04        20\n",
            "        1993       0.00      0.00      0.00        27\n",
            "        1994       0.05      0.14      0.08        21\n",
            "        1995       0.08      0.12      0.10        25\n",
            "        1996       0.00      0.00      0.00        25\n",
            "        1997       0.04      0.04      0.04        25\n",
            "        1998       0.02      0.04      0.03        24\n",
            "        1999       0.00      0.00      0.00        28\n",
            "        2000       0.00      0.00      0.00        27\n",
            "        2001       0.00      0.00      0.00        25\n",
            "        2002       0.00      0.00      0.00        24\n",
            "        2003       0.00      0.00      0.00        24\n",
            "        2004       0.02      0.25      0.04        24\n",
            "        2005       0.00      0.00      0.00        25\n",
            "        2006       0.00      0.00      0.00        22\n",
            "        2007       0.00      0.00      0.00        26\n",
            "        2008       0.00      0.00      0.00        31\n",
            "        2009       0.00      0.00      0.00        32\n",
            "        2010       0.00      0.00      0.00        29\n",
            "        2011       0.00      0.00      0.00        31\n",
            "        2012       0.00      0.00      0.00        25\n",
            "\n",
            "    accuracy                           0.03      1376\n",
            "   macro avg       0.02      0.04      0.02      1376\n",
            "weighted avg       0.01      0.03      0.01      1376\n",
            "\n"
          ],
          "name": "stdout"
        },
        {
          "output_type": "stream",
          "text": [
            "/usr/local/lib/python3.7/dist-packages/sklearn/metrics/_classification.py:1272: UndefinedMetricWarning: Precision and F-score are ill-defined and being set to 0.0 in labels with no predicted samples. Use `zero_division` parameter to control this behavior.\n",
            "  _warn_prf(average, modifier, msg_start, len(result))\n"
          ],
          "name": "stderr"
        }
      ]
    },
    {
      "cell_type": "code",
      "metadata": {
        "colab": {
          "base_uri": "https://localhost:8080/"
        },
        "id": "-BTQNDoQTgJq",
        "outputId": "2787400d-365b-452c-cff7-7af9f9b9643a"
      },
      "source": [
        "print(accuracy_score(y_test,y_predicts)*100)"
      ],
      "execution_count": null,
      "outputs": [
        {
          "output_type": "stream",
          "text": [
            "3.0523255813953485\n"
          ],
          "name": "stdout"
        }
      ]
    },
    {
      "cell_type": "code",
      "metadata": {
        "colab": {
          "base_uri": "https://localhost:8080/",
          "height": 286
        },
        "id": "eSE6drw9Tjfu",
        "outputId": "28240d3c-1414-48b8-bfc0-ef2ba0d6a1c9"
      },
      "source": [
        "plt.plot(y_test,y_predicts)"
      ],
      "execution_count": null,
      "outputs": [
        {
          "output_type": "execute_result",
          "data": {
            "text/plain": [
              "[<matplotlib.lines.Line2D at 0x7f388b477890>]"
            ]
          },
          "metadata": {
            "tags": []
          },
          "execution_count": 78
        },
        {
          "output_type": "display_data",
          "data": {
            "image/png": "[encoded data removed]",
            "text/plain": [
              "<Figure size 432x288 with 1 Axes>"
            ]
          },
          "metadata": {
            "tags": [],
            "needs_background": "light"
          }
        }
      ]
    },
    {
      "cell_type": "markdown",
      "metadata": {
        "id": "XDKPcqTET_NR"
      },
      "source": [
        ""
      ]
    },
    {
      "cell_type": "markdown",
      "metadata": {
        "id": "7k1OVcdJVs3r"
      },
      "source": [
        "**Decision Tree**\n",
        "\n",
        "---\n",
        "\n",
        "\n",
        "\n",
        "---\n",
        "\n"
      ]
    },
    {
      "cell_type": "code",
      "metadata": {
        "id": "P58bsnxcV20H"
      },
      "source": [
        "from sklearn.tree import DecisionTreeClassifier\n",
        "from sklearn.model_selection import train_test_split\n",
        "from sklearn.metrics import accuracy_score \n",
        "from sklearn import tree\n",
        "from sklearn.tree import export_text\n",
        "import graphviz "
      ],
      "execution_count": null,
      "outputs": []
    },
    {
      "cell_type": "code",
      "metadata": {
        "id": "Fp2y4S82V2xH"
      },
      "source": [
        "x_train, x_test, y_train, y_test = train_test_split(x, y, random_state = 10, test_size = 0.25)"
      ],
      "execution_count": null,
      "outputs": []
    },
    {
      "cell_type": "code",
      "metadata": {
        "colab": {
          "base_uri": "https://localhost:8080/"
        },
        "id": "cvyEIVJEV_Xt",
        "outputId": "a6de0d9c-97a7-4d82-e80d-24a65739a81a"
      },
      "source": [
        "clf = DecisionTreeClassifier(criterion = 'entropy',random_state=10,max_depth=2,min_samples_leaf=3)\n",
        "clf.fit(x_train, y_train)"
      ],
      "execution_count": null,
      "outputs": [
        {
          "output_type": "execute_result",
          "data": {
            "text/plain": [
              "DecisionTreeClassifier(ccp_alpha=0.0, class_weight=None, criterion='entropy',\n",
              "                       max_depth=2, max_features=None, max_leaf_nodes=None,\n",
              "                       min_impurity_decrease=0.0, min_impurity_split=None,\n",
              "                       min_samples_leaf=3, min_samples_split=2,\n",
              "                       min_weight_fraction_leaf=0.0, presort='deprecated',\n",
              "                       random_state=10, splitter='best')"
            ]
          },
          "metadata": {
            "tags": []
          },
          "execution_count": 81
        }
      ]
    },
    {
      "cell_type": "code",
      "metadata": {
        "colab": {
          "base_uri": "https://localhost:8080/"
        },
        "id": "DIeMGv1rWCPz",
        "outputId": "e46c0cd5-d00d-4d25-e549-cbef566828f1"
      },
      "source": [
        "y_pred =  clf.predict(x_test)\n",
        "y_pred"
      ],
      "execution_count": null,
      "outputs": [
        {
          "output_type": "execute_result",
          "data": {
            "text/plain": [
              "array([1960, 2009, 1981, 1960, 2009, 2009, 1970, 2009, 1960, 2009, 2009,\n",
              "       1981, 2009, 2009, 1960, 2009, 2009, 2009, 1960, 1981, 1960, 2009,\n",
              "       1970, 1981, 2009, 2009, 1960, 1970, 2009, 1981, 2009, 2009, 2009,\n",
              "       2009, 1970, 2009, 1981, 1960, 1981, 1960, 2009, 2009, 1981, 2009,\n",
              "       1981, 2009, 1970, 2009, 2009, 1960, 1981, 1981, 1960, 1970, 2009,\n",
              "       1960, 1970, 1981, 2009, 2009, 1981, 1981, 1960, 1960, 2009, 2009,\n",
              "       2009, 2009, 2009, 1981, 2009, 2009, 2009, 2009, 1981, 2009, 1970,\n",
              "       2009, 1960, 2009, 1981, 1960, 1960, 2009, 1960, 2009, 2009, 2009,\n",
              "       1981, 2009, 2009, 1960, 2009, 2009, 2009, 1981, 2009, 1960, 2009,\n",
              "       2009, 2009, 1960, 1981, 1970, 1981, 1970, 1981, 1981, 1970, 1981,\n",
              "       2009, 1981, 1981, 2009, 2009, 1960, 1960, 1981, 2009, 2009, 2009,\n",
              "       1981, 2009, 1981, 2009, 1970, 1981, 1981, 1981, 1960, 2009, 2009,\n",
              "       2009, 2009, 2009, 2009, 1981, 1970, 1970, 2009, 1981, 2009, 2009,\n",
              "       2009, 1981, 2009, 1981, 1981, 1981, 2009, 1981, 1981, 1981, 1981,\n",
              "       2009, 2009, 1960, 1981, 1960, 2009, 2009, 1981, 2009, 1970, 2009,\n",
              "       1960, 1960, 1981, 1981, 2009, 1970, 1981, 1981, 2009, 1960, 1981,\n",
              "       2009, 1970, 1981, 1970, 2009, 1981, 2009, 2009, 1981, 1981, 1981,\n",
              "       1970, 2009, 1981, 2009, 1981, 2009, 1970, 1970, 2009, 1981, 1981,\n",
              "       2009, 2009, 1970, 2009, 1981, 1960, 1970, 1970, 2009, 1970, 1960,\n",
              "       1970, 1970, 2009, 2009, 1981, 2009, 2009, 1960, 2009, 1981, 1960,\n",
              "       1981, 1960, 1960, 1970, 2009, 1960, 2009, 2009, 1981, 2009, 1981,\n",
              "       1981, 1981, 1981, 1960, 2009, 1960, 2009, 2009, 1960, 2009, 1970,\n",
              "       1960, 2009, 1960, 1960, 1981, 1981, 1981, 2009, 2009, 1981, 1970,\n",
              "       2009, 1981, 1960, 1981, 1981, 2009, 1981, 1960, 2009, 2009, 1960,\n",
              "       2009, 2009, 1981, 1981, 1981, 1970, 2009, 2009, 1981, 1960, 2009,\n",
              "       1981, 1981, 2009, 1970, 1981, 2009, 1970, 1981, 1960, 1960, 2009,\n",
              "       1960, 2009, 1981, 1970, 1981, 2009, 1960, 2009, 1970, 1960, 1960,\n",
              "       1960, 1960, 2009, 1981, 1970, 2009, 2009, 2009, 1970, 1981, 1981,\n",
              "       2009, 1981, 1981, 2009, 1981, 1960, 2009, 2009, 1981, 1981, 2009,\n",
              "       2009, 2009, 1981, 2009, 1981, 1960, 2009, 2009, 2009, 1981, 1960,\n",
              "       1981, 1981, 2009, 2009, 1981, 2009, 1981, 1970, 2009, 2009, 1981,\n",
              "       2009, 2009, 2009, 2009, 2009, 1981, 1960, 1960, 2009, 1960, 1960,\n",
              "       1970, 1981, 2009, 1981, 1960, 2009, 1981, 1960, 1981, 2009, 1960,\n",
              "       2009, 1970, 2009, 1970, 1960, 1981, 2009, 2009, 1970, 2009, 2009,\n",
              "       1970, 1960, 1981, 2009, 1960, 1960, 1970, 2009, 2009, 2009, 1981,\n",
              "       2009, 2009, 1981, 2009, 1970, 1970, 1970, 1960, 2009, 1981, 2009,\n",
              "       2009, 1960, 1981, 1960, 2009, 2009, 2009, 2009, 1981, 2009, 2009,\n",
              "       2009, 1981, 1981, 1970, 1960, 2009, 2009, 1981, 2009, 2009, 2009,\n",
              "       1981, 2009, 2009, 1981, 2009, 2009, 2009, 1981, 2009, 1981, 2009,\n",
              "       1960, 1981, 1981, 2009, 1981, 1981, 1970, 2009, 1981, 2009, 2009,\n",
              "       2009, 1970, 2009, 1981, 2009, 2009, 2009, 1981, 1981, 1981, 2009,\n",
              "       1981, 1960, 1981, 2009, 1970, 1970, 2009, 2009, 2009, 1981, 1981,\n",
              "       2009, 2009, 1981, 1981, 1981, 2009, 2009, 1981, 1970, 2009, 1960,\n",
              "       2009, 1960, 1981, 2009, 2009, 2009, 2009, 2009, 1970, 1981, 2009,\n",
              "       1960, 2009, 1960, 1981, 2009, 2009, 1981, 1960, 1981, 2009, 1981,\n",
              "       2009, 2009, 1981, 2009, 2009, 2009, 2009, 1960, 1970, 1970, 1981,\n",
              "       2009, 2009, 2009, 1960, 1981, 1981, 2009, 1970, 1960, 1981, 1981,\n",
              "       2009, 1970, 2009, 2009, 1960, 2009, 1981, 2009, 2009, 1970, 2009,\n",
              "       2009, 1970, 2009, 1981, 1981, 1981, 1960, 2009, 1981, 1981, 2009,\n",
              "       1981, 2009, 1960, 2009, 2009, 1981, 2009, 1960, 1981, 1970, 1981,\n",
              "       1981, 2009, 2009, 2009, 1960, 2009, 1960, 1960, 2009, 1981, 1960,\n",
              "       2009, 2009, 1960, 2009, 2009, 1981, 1960, 1960, 2009, 2009, 1981,\n",
              "       2009, 2009, 1981, 1981, 2009, 1960, 2009, 1960, 2009, 1981, 1981,\n",
              "       2009, 1981, 1970, 2009, 1970, 1970, 2009, 1970, 1981, 1970, 1960,\n",
              "       2009, 2009, 2009, 1960, 2009, 2009, 1981, 2009, 2009, 1981, 1970,\n",
              "       1970, 1981, 1960, 2009, 1981, 2009, 1960, 1970, 2009, 1970, 1981,\n",
              "       2009, 2009, 2009, 1960, 1970, 2009, 1981, 1960, 2009, 1981, 1960,\n",
              "       2009, 1981, 2009, 1981, 2009, 2009, 2009, 2009, 2009, 2009, 2009,\n",
              "       1960, 1981, 2009, 1981, 1970, 1970, 1970, 2009, 1981, 2009, 2009,\n",
              "       1981, 1981, 1960, 2009, 1981, 2009, 1970, 2009, 1981, 1981, 1970,\n",
              "       1960, 2009, 2009, 1981, 2009, 1981, 1981, 1981, 1960, 2009, 1981,\n",
              "       1981, 1981, 1981, 1970, 2009, 2009, 1960, 1960, 1960, 1970, 1981,\n",
              "       2009, 2009, 2009, 2009, 2009, 1981])"
            ]
          },
          "metadata": {
            "tags": []
          },
          "execution_count": 82
        }
      ]
    },
    {
      "cell_type": "code",
      "metadata": {
        "colab": {
          "base_uri": "https://localhost:8080/"
        },
        "id": "NRZ1W-wrWGe9",
        "outputId": "90d48aa7-b3f0-4c35-d73a-ebcb84fd329d"
      },
      "source": [
        "accuracy_score(y_test,y_pred)*100"
      ],
      "execution_count": null,
      "outputs": [
        {
          "output_type": "execute_result",
          "data": {
            "text/plain": [
              "3.1976744186046515"
            ]
          },
          "metadata": {
            "tags": []
          },
          "execution_count": 83
        }
      ]
    },
    {
      "cell_type": "code",
      "metadata": {
        "colab": {
          "base_uri": "https://localhost:8080/",
          "height": 385
        },
        "id": "T_TBWnwpWKXv",
        "outputId": "a56870f8-4ad5-427c-f691-612d3469a7dd"
      },
      "source": [
        "tree.plot_tree(clf)"
      ],
      "execution_count": null,
      "outputs": [
        {
          "output_type": "execute_result",
          "data": {
            "text/plain": [
              "[Text(167.4, 181.2, 'X[7] <= 18.05\\nentropy = 5.723\\nsamples = 2063\\nvalue = [43, 38, 39, 38, 38, 41, 41, 41, 40, 37, 40, 39\\n36, 36, 37, 38, 38, 35, 42, 38, 33, 40, 36, 37\\n37, 41, 36, 42, 36, 43, 38, 40, 43, 36, 41, 33\\n41, 43, 43, 39, 41, 44, 32, 40, 42, 42, 35, 37\\n35, 46, 42, 38, 36]'),\n",
              " Text(83.7, 108.72, 'X[3] <= 1646.95\\nentropy = 4.575\\nsamples = 555\\nvalue = [42, 38, 37, 38, 37, 39, 38, 37, 31, 23, 27, 21\\n15, 18, 15, 12, 13, 7, 10, 6, 4, 6, 6, 3, 4\\n3, 4, 2, 2, 2, 0, 0, 0, 0, 0, 0, 0, 0, 0\\n0, 0, 3, 0, 2, 1, 1, 1, 1, 0, 1, 2, 2, 1]'),\n",
              " Text(41.85, 36.23999999999998, 'entropy = 4.037\\nsamples = 373\\nvalue = [39, 37, 35, 35, 34, 34, 29, 31, 20, 11, 12, 9\\n11, 9, 5, 2, 1, 0, 1, 1, 1, 1, 1, 0, 1, 0\\n0, 0, 0, 0, 0, 0, 0, 0, 0, 0, 0, 0, 0, 0\\n0, 1, 0, 2, 1, 1, 1, 1, 0, 1, 2, 2, 1]'),\n",
              " Text(125.55000000000001, 36.23999999999998, 'entropy = 4.658\\nsamples = 182\\nvalue = [3, 1, 2, 3, 3, 5, 9, 6, 11, 12, 15, 12, 4, 9\\n10, 10, 12, 7, 9, 5, 3, 5, 5, 3, 3, 3, 4, 2\\n2, 2, 0, 0, 0, 0, 0, 0, 0, 0, 0, 0, 0, 2\\n0, 0, 0, 0, 0, 0, 0, 0, 0, 0, 0]'),\n",
              " Text(251.10000000000002, 108.72, 'X[2] <= 1096.6\\nentropy = 5.48\\nsamples = 1508\\nvalue = [1, 0, 2, 0, 1, 2, 3, 4, 9, 14, 13, 18, 21\\n18, 22, 26, 25, 28, 32, 32, 29, 34, 30, 34, 33\\n38, 32, 40, 34, 41, 38, 40, 43, 36, 41, 33, 41\\n43, 43, 39, 41, 41, 32, 38, 41, 41, 34, 36, 35\\n45, 40, 36, 35]'),\n",
              " Text(209.25, 36.23999999999998, 'entropy = 5.188\\nsamples = 932\\nvalue = [1, 0, 2, 0, 1, 1, 2, 2, 4, 5, 6, 7, 8, 6\\n3, 1, 5, 7, 6, 7, 4, 3, 4, 12, 14, 18, 12\\n15, 12, 17, 17, 17, 23, 22, 27, 24, 30, 33, 35\\n36, 39, 40, 32, 38, 40, 40, 33, 35, 33, 43, 39\\n36, 35]'),\n",
              " Text(292.95, 36.23999999999998, 'entropy = 5.009\\nsamples = 576\\nvalue = [0, 0, 0, 0, 0, 1, 1, 2, 5, 9, 7, 11, 13, 12\\n19, 25, 20, 21, 26, 25, 25, 31, 26, 22, 19, 20\\n20, 25, 22, 24, 21, 23, 20, 14, 14, 9, 11, 10\\n8, 3, 2, 1, 0, 0, 1, 1, 1, 1, 2, 2, 1, 0\\n0]')]"
            ]
          },
          "metadata": {
            "tags": []
          },
          "execution_count": 84
        },
        {
          "output_type": "display_data",
          "data": {
            "image/png": "[encoded data removed]",
            "text/plain": [
              "<Figure size 432x288 with 1 Axes>"
            ]
          },
          "metadata": {
            "tags": [],
            "needs_background": "light"
          }
        }
      ]
    },
    {
      "cell_type": "markdown",
      "metadata": {
        "id": "oKVEPwh_XCbJ"
      },
      "source": [
        "**RANDOM FOREST**\n",
        "\n",
        "\n",
        "\n",
        "---\n",
        "\n",
        "\n",
        "\n",
        "---\n",
        "\n"
      ]
    },
    {
      "cell_type": "code",
      "metadata": {
        "id": "Nl6uvFCFXLG_"
      },
      "source": [
        "from sklearn.ensemble import RandomForestClassifier\n",
        "from sklearn.model_selection import train_test_split"
      ],
      "execution_count": null,
      "outputs": []
    },
    {
      "cell_type": "code",
      "metadata": {
        "id": "K9CxN8bjXVmf"
      },
      "source": [
        "x_train, x_test, y_train, y_test = train_test_split(x, y, test_size=0.3)"
      ],
      "execution_count": null,
      "outputs": []
    },
    {
      "cell_type": "code",
      "metadata": {
        "colab": {
          "base_uri": "https://localhost:8080/"
        },
        "id": "ASOK37VlXgs1",
        "outputId": "743bd380-73b4-439f-fa07-97456ee6e750"
      },
      "source": [
        "clf=RandomForestClassifier(n_estimators=100)\n",
        "clf.fit(x_train,y_train)\n",
        "\n",
        "y_pred=clf.predict(x_test)"
      ],
      "execution_count": null,
      "outputs": [
        {
          "output_type": "stream",
          "text": [
            "/usr/local/lib/python3.7/dist-packages/ipykernel_launcher.py:2: DataConversionWarning: A column-vector y was passed when a 1d array was expected. Please change the shape of y to (n_samples,), for example using ravel().\n",
            "  \n"
          ],
          "name": "stderr"
        }
      ]
    },
    {
      "cell_type": "code",
      "metadata": {
        "colab": {
          "base_uri": "https://localhost:8080/"
        },
        "id": "NxsQNnSgXoBp",
        "outputId": "2c8b2621-5f7f-4661-b07a-505db9be4848"
      },
      "source": [
        "from sklearn import metrics\n",
        "print(\"Accuracy:\",metrics.accuracy_score(y_test, y_pred))"
      ],
      "execution_count": null,
      "outputs": [
        {
          "output_type": "stream",
          "text": [
            "Accuracy: 0.00847457627118644\n"
          ],
          "name": "stdout"
        }
      ]
    },
    {
      "cell_type": "markdown",
      "metadata": {
        "id": "MfLnFP3HsZmK"
      },
      "source": [
        "**ACCURACY COMPARISSION**\n",
        "\n",
        "Linear Regression:    1.30760\n",
        "\n",
        "\n",
        "\n",
        "Logitic regression:    3.0523255813953485\n",
        "\n",
        "\n",
        "Desicion Tree:   3.1976744186046515\n",
        "\n",
        "\n",
        "Random Forest :   0.009685230024213076\n",
        "\n",
        "\n",
        "Random forest is the best regression model for this Dataset"
      ]
    }
  ]
}